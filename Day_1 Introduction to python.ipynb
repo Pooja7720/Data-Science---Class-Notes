{
 "cells": [
  {
   "cell_type": "markdown",
   "metadata": {},
   "source": [
    "# Day_1 Introduction to Python\n"
   ]
  },
  {
   "cell_type": "markdown",
   "metadata": {},
   "source": [
    "## Notes :"
   ]
  },
  {
   "cell_type": "markdown",
   "metadata": {},
   "source": [
    "### Python Introduction :\n",
    "Python is popular programming language. It was created by Guido van Rossum, and released in 1991"
   ]
  },
  {
   "cell_type": "markdown",
   "metadata": {},
   "source": [
    "#### It is used for : \n",
    "- Web development (Server side),\n",
    "- Software Dvelopment,\n",
    "- Mathematics,\n",
    "- System Scripting"
   ]
  },
  {
   "cell_type": "markdown",
   "metadata": {},
   "source": [
    "### What can python do?\n",
    "- Used to create web applications.\n",
    "- Used alongside software to create workflows.\n",
    "- Python can connect to database systems.\n",
    "- It can also read and modify files.\n",
    "- Used to handle big data and perform complex mathematics.\n",
    "- Used for rapid prototyping, or for production-ready software development."
   ]
  },
  {
   "cell_type": "markdown",
   "metadata": {},
   "source": [
    "### Why Python?\n",
    "- Easy to Learn and Use\n",
    "- Works on different platforms (Windows, Mac, Linux, Raspberry Pi, etc).\n",
    "- Has a simple syntax similar to the English Language\n",
    "- Has syntax that allows developers to write programs with fewer lines\n",
    "- Extensively used in Data Science\n",
    "- Has multiple Libraries and Frameworks\n",
    "- Python can be treated in a procedural way, an object-oriented way or a functional way."
   ]
  },
  {
   "cell_type": "markdown",
   "metadata": {},
   "source": [
    "### Good to know\n",
    "- The most recent major version of Python is Python 3, which we shall be using in this course.\n",
    "- The name Python was selected from the TV Show \"The Complete Monty Python's Circus\", which was broadcasted in BBC from 1969 to 1974\n",
    "- Guido developed Python language by taking almost all programming features from different languages.\n",
    "    1. Functional programming Features from C\n",
    "    2. Object Oriented Programming Features from C++\n",
    "    3. Scripting language features from Perl and Shell Script\n",
    "    4. Modular Programming Features from Modula-3"
   ]
  },
  {
   "cell_type": "markdown",
   "metadata": {},
   "source": [
    "### Python Syntax compared to other programming languages\n",
    "- Python was designed for redability, and has some similarities to the English language with influence from mathematics.\n",
    "- Python uses new lines to complete a command, as opposed to other programming languages which often use semicolons or parentheses.\n",
    "- Python relies on indentation, using white space, to define scope; such as the scope of loops, functions and classes. Other programming languages often use curly-brackets for this purpose.\n",
    "\n",
    "#### Example 1 : To print HelloWorld\n",
    "\n",
    "##### Java :                                                          \n",
    "                                                                                  \n",
    "public class HelloWorld  \n",
    "\n",
    "p s v main(String[] args)                \n",
    "{                                           \n",
    "    SOP(\"Hello World\");                  \n",
    "}\n",
    "\n",
    "##### C :\n",
    "\n",
    "#include<stdio.h>\n",
    "\n",
    "void main()\n",
    "{\n",
    "    print(\"Hello World\");\n",
    "}\n",
    "\n",
    "##### Python : \n",
    "\n",
    "print(\"Hello World\")"
   ]
  },
  {
   "cell_type": "markdown",
   "metadata": {},
   "source": [
    "### Python Indentation :\n",
    "\n",
    "- Indentation refers to the spaces at the beginning of a code line.\n",
    "- Python uses indentation to indicate a block of code.\n",
    "- Python will give you an error if you skip the indentation.\n",
    "- The number of spaces is up to you as a programmer, the most common use is four, but it has to be at least one.\n",
    "- You have to use the same number of spaces in the same block of code, otherwise Python will give you an error."
   ]
  },
  {
   "cell_type": "markdown",
   "metadata": {},
   "source": [
    "### Comments\n",
    "\n",
    "- Comments in Python is the inclusion of short descriptions along with the code to increase its readability.\n",
    "- A developer uses them to write his or her thought process while writing the code.\n",
    "- It explains the basic logic behind why a particular line of code was written.\n",
    "- There are multiple uses of writing comments in Python. Some significant uses include : \n",
    "    1. Increasing readability\n",
    "    2. Explaining the code to others\n",
    "    3. Understanding the code easily after a long-term\n",
    "    4. Including resources\n",
    "    5. Re-using the existing code.\n",
    "    "
   ]
  },
  {
   "cell_type": "markdown",
   "metadata": {},
   "source": [
    "#### 1. Writing Single-Line Block Comments"
   ]
  },
  {
   "cell_type": "code",
   "execution_count": 1,
   "metadata": {},
   "outputs": [
    {
     "name": "stdout",
     "output_type": "stream",
     "text": [
      "Hello World\n"
     ]
    }
   ],
   "source": [
    "# printinng a string\n",
    "print(\"Hello World\")"
   ]
  },
  {
   "cell_type": "markdown",
   "metadata": {},
   "source": [
    "#### 2. Writing a In-line Block Comments"
   ]
  },
  {
   "cell_type": "code",
   "execution_count": 2,
   "metadata": {},
   "outputs": [
    {
     "name": "stdout",
     "output_type": "stream",
     "text": [
      "Hello World\n"
     ]
    }
   ],
   "source": [
    "print(\"Hello World\")  # printing a string"
   ]
  },
  {
   "cell_type": "markdown",
   "metadata": {},
   "source": [
    "#### 3. Multi-line comments '# symbol'"
   ]
  },
  {
   "cell_type": "code",
   "execution_count": 3,
   "metadata": {},
   "outputs": [
    {
     "name": "stdout",
     "output_type": "stream",
     "text": [
      "Hello World\n"
     ]
    }
   ],
   "source": [
    "# It is a \n",
    "# multiline\n",
    "# comment\n",
    "print(\"Hello World\")"
   ]
  },
  {
   "cell_type": "markdown",
   "metadata": {},
   "source": [
    "#### 4. Multi-line comments with triple '''single''' or \"\"\"double\"\"\" quotes"
   ]
  },
  {
   "cell_type": "code",
   "execution_count": 4,
   "metadata": {},
   "outputs": [
    {
     "name": "stdout",
     "output_type": "stream",
     "text": [
      "Hello World!\n"
     ]
    }
   ],
   "source": [
    "'''\n",
    "I am a\n",
    "multiline S\n",
    "comment!\n",
    "'''\n",
    "print(\"Hello World!\")"
   ]
  },
  {
   "cell_type": "code",
   "execution_count": 5,
   "metadata": {},
   "outputs": [
    {
     "name": "stdout",
     "output_type": "stream",
     "text": [
      "Hello World!\n"
     ]
    }
   ],
   "source": [
    "\"\"\"\n",
    "I am a\n",
    "multiline \n",
    "comment!\n",
    "\"\"\"\n",
    "print(\"Hello World!\")"
   ]
  },
  {
   "cell_type": "markdown",
   "metadata": {},
   "source": [
    "## Code Section :"
   ]
  },
  {
   "cell_type": "code",
   "execution_count": 1,
   "metadata": {},
   "outputs": [
    {
     "name": "stdout",
     "output_type": "stream",
     "text": [
      "Hello World\n"
     ]
    }
   ],
   "source": [
    "print(\"Hello World\")"
   ]
  },
  {
   "cell_type": "code",
   "execution_count": 2,
   "metadata": {},
   "outputs": [],
   "source": [
    "list1 = [1,2,3,4,5,6]"
   ]
  },
  {
   "cell_type": "code",
   "execution_count": 3,
   "metadata": {},
   "outputs": [
    {
     "name": "stdout",
     "output_type": "stream",
     "text": [
      "1\n",
      "2\n",
      "3\n",
      "4\n",
      "5\n",
      "6\n"
     ]
    }
   ],
   "source": [
    "for i in list1:\n",
    "    print(i)"
   ]
  },
  {
   "cell_type": "code",
   "execution_count": 10,
   "metadata": {},
   "outputs": [
    {
     "name": "stdout",
     "output_type": "stream",
     "text": [
      "Square of 1 : 1\n",
      "Cube of 1:1\n",
      "-----------------------------\n",
      "Square of 2 : 4\n",
      "Cube of 2:8\n",
      "-----------------------------\n",
      "Square of 3 : 9\n",
      "Cube of 3:27\n",
      "-----------------------------\n",
      "Square of 4 : 16\n",
      "Cube of 4:64\n",
      "-----------------------------\n",
      "Square of 5 : 25\n",
      "Cube of 5:125\n",
      "-----------------------------\n",
      "Square of 6 : 36\n",
      "Cube of 6:216\n",
      "-----------------------------\n",
      "Block Ended!\n"
     ]
    }
   ],
   "source": [
    "# This code finds the square of number in a list  -> This is called as block comment\n",
    "for i in list1:\n",
    "    print(\"Square of \" + str(i) + \" : \" + str(i*i))  # Finds square of numbers  ->  Inline comment\n",
    "    print(\"Cube of \" + str(i) + \":\" + str(i**3))\n",
    "    print(\"-----------------------------\")\n",
    "\n",
    "print(\"Block Ended!\")"
   ]
  },
  {
   "cell_type": "code",
   "execution_count": 9,
   "metadata": {},
   "outputs": [
    {
     "name": "stdout",
     "output_type": "stream",
     "text": [
      "\n"
     ]
    }
   ],
   "source": []
  },
  {
   "cell_type": "code",
   "execution_count": null,
   "metadata": {},
   "outputs": [],
   "source": []
  }
 ],
 "metadata": {
  "kernelspec": {
   "display_name": "Python 3",
   "language": "python",
   "name": "python3"
  },
  "language_info": {
   "codemirror_mode": {
    "name": "ipython",
    "version": 3
   },
   "file_extension": ".py",
   "mimetype": "text/x-python",
   "name": "python",
   "nbconvert_exporter": "python",
   "pygments_lexer": "ipython3",
   "version": "3.7.6"
  }
 },
 "nbformat": 4,
 "nbformat_minor": 4
}
