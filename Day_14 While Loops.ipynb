{
 "cells": [
  {
   "cell_type": "markdown",
   "metadata": {},
   "source": [
    "# The While Loop\n",
    "- Executes a block of code repeatedly\n",
    "- While-loop repeatedly executes an indented block of statements as long as a certain condition is True\n",
    "- **Syntax:**\n",
    "\n",
    "    `while condition:`\n",
    "         #indented block of statements\n",
    "    `else:`\n",
    "        #final code statements\n",
    "- `else block` is printed when all the conditions of `while block` are done.\n",
    "- Continuation condition is a boolean expression\n",
    "- Loops are used for automation of code.\n",
    "- The disadvantage of this loop is that, if e don not specify the condition, then it will go into an infinite loop.\n",
    "- `while loop` is used when we do not know how many times to run the particular block of code."
   ]
  },
  {
   "cell_type": "code",
   "execution_count": 1,
   "metadata": {
    "scrolled": false
   },
   "outputs": [
    {
     "name": "stdout",
     "output_type": "stream",
     "text": [
      "1\n",
      "2\n",
      "3\n",
      "4\n",
      "5\n"
     ]
    }
   ],
   "source": [
    "# Program displays 1-5, after loop terminates, num will be 6\n",
    "num = 1\n",
    "while num<6:\n",
    "    print(num)\n",
    "    num+=1 # increase the value of num by 1"
   ]
  },
  {
   "cell_type": "code",
   "execution_count": 1,
   "metadata": {
    "scrolled": true
   },
   "outputs": [
    {
     "name": "stdout",
     "output_type": "stream",
     "text": [
      "1\n",
      "2\n",
      "3\n",
      "4\n",
      "5\n",
      "All Done!\n"
     ]
    }
   ],
   "source": [
    "# Program displays 1-5, after loop terminates, num will be 6\n",
    "num = 1\n",
    "while num<6:\n",
    "    print(num)\n",
    "    num+=1 # increase the value of num by 1\n",
    "else:\n",
    "    print(\"All Done!\")"
   ]
  },
  {
   "cell_type": "code",
   "execution_count": 2,
   "metadata": {
    "scrolled": true
   },
   "outputs": [
    {
     "name": "stdout",
     "output_type": "stream",
     "text": [
      "Enter Password: pooja\n",
      "Enter Password: Pooja*123\n",
      "Enter Password: pooja@123\n",
      "Enter Password: Pooja@123\n",
      "Thanks for conformation!\n"
     ]
    }
   ],
   "source": [
    "# Here we can't use for loop\n",
    "login_pwd = \"\"\n",
    "while login_pwd != \"Pooja@123\":\n",
    "    login_pwd = input(\"Enter Password: \")\n",
    "print(\"Thanks for conformation!\")"
   ]
  },
  {
   "cell_type": "code",
   "execution_count": null,
   "metadata": {},
   "outputs": [],
   "source": [
    "# infinite loop\n",
    "x = 0\n",
    "while x < 10:\n",
    "    print(x)"
   ]
  },
  {
   "cell_type": "code",
   "execution_count": 2,
   "metadata": {},
   "outputs": [
    {
     "name": "stdout",
     "output_type": "stream",
     "text": [
      "Enter the value: 43\n",
      "Expression value is less than 100\n",
      "Entered value is in between 31-50\n",
      "Wan't to guess again(y/n):y\n",
      "Enter the value: 70\n",
      "Expression value is less than 100\n",
      "Entered value is in between 51-70\n",
      "Wan't to guess again(y/n):y\n",
      "Enter the value: 94\n",
      "Expression value is less than 100\n",
      "Entered value is in between 71-100\n",
      "Wan't to guess again(y/n):y\n",
      "Enter the value: 107\n",
      "Expression value is greater than 100\n",
      "Wan't to guess again(y/n):n\n",
      "Good bye!\n"
     ]
    }
   ],
   "source": [
    "# Code for calculating range of given number\n",
    "user_input = 'y'\n",
    "while user_input=='y':\n",
    "    val = int(input(\"Enter the value: \"))\n",
    "    if val<101:\n",
    "        print(\"Expression value is less than 100\")\n",
    "        if val in range(0,31):\n",
    "            print(\"Entered value is in between 0-30\")\n",
    "        elif val in range(31,51):\n",
    "            print(\"Entered value is in between 31-50\")\n",
    "        elif val in range(51,71):\n",
    "            print(\"Entered value is in between 51-70\")\n",
    "        elif val in range(71,101):\n",
    "            print(\"Entered value is in between 71-100\")\n",
    "    else:\n",
    "        print(\"Expression value is greater than 100\")\n",
    "    user_input = input(\"Wan't to guess again(y/n):\")\n",
    "print('Good bye!')"
   ]
  },
  {
   "cell_type": "code",
   "execution_count": 3,
   "metadata": {},
   "outputs": [
    {
     "name": "stdout",
     "output_type": "stream",
     "text": [
      "Enter the number: 4\n",
      "Positive Number\n",
      "Wan't to guess again(y/n):y\n",
      "Enter the number: 0\n",
      "Zero\n",
      "Wan't to guess again(y/n):y\n",
      "Enter the number: -10\n",
      "Negative Number...\n",
      "Wan't to guess again(y/n):n\n"
     ]
    }
   ],
   "source": [
    "'''Write a program to check if the number is positive or negative\n",
    "or zero and display an appropriate message using nested if statement'''\n",
    "\n",
    "user_input = 'y'\n",
    "while user_input == 'y':\n",
    "    num = int(input(\"Enter the number: \"))\n",
    "    if num >= 0:\n",
    "        if num == 0:\n",
    "            print(\"Zero\")\n",
    "        else:\n",
    "            print(\"Positive Number\")\n",
    "    else:\n",
    "        print(\"Negative Number...\")\n",
    "    user_input = input(\"Wan't to guess again(y/n):\")"
   ]
  },
  {
   "cell_type": "code",
   "execution_count": 4,
   "metadata": {
    "scrolled": true
   },
   "outputs": [
    {
     "name": "stdout",
     "output_type": "stream",
     "text": [
      "Got an order for 4 items In stock 32\n"
     ]
    }
   ],
   "source": [
    "# use of conditional statements\n",
    "itemsOrdered = 4\n",
    "itemsInStock = 32\n",
    "\n",
    "print(f\"Got an order for {itemsOrdered} items In stock {itemsInStock}\")\n",
    "\n",
    "# Compare order size against inventory\n",
    "if itemsOrdered > itemsInStock:\n",
    "    print(\"Resupply the inventory. We are running out!\")\n",
    "else:\n",
    "    packageCount = round(itemsOrdered/8)\n",
    "    if packageCount > 1:\n",
    "        print(\"We need\",packageCount,\"packages to fulfill this order!\")"
   ]
  },
  {
   "cell_type": "code",
   "execution_count": 1,
   "metadata": {},
   "outputs": [
    {
     "name": "stdout",
     "output_type": "stream",
     "text": [
      "x is currently:  0\n",
      "x is still less than 5, adding 1 to x\n",
      "x is currently:  1\n",
      "x is still less than 5, adding 1 to x\n",
      "x is currently:  2\n",
      "x is still less than 5, adding 1 to x\n",
      "x is currently:  3\n",
      "x is still less than 5, adding 1 to x\n",
      "x is currently:  4\n",
      "x is still less than 5, adding 1 to x\n"
     ]
    }
   ],
   "source": [
    "x = 0\n",
    "while x < 5:\n",
    "    print('x is currently: ',x)\n",
    "    print('x is still less than 5, adding 1 to x')\n",
    "    x+=1"
   ]
  },
  {
   "cell_type": "code",
   "execution_count": 2,
   "metadata": {},
   "outputs": [
    {
     "name": "stdout",
     "output_type": "stream",
     "text": [
      "x is currently:  0\n",
      "x is still less than 5, adding 1 to x\n",
      "x is currently:  1\n",
      "x is still less than 5, adding 1 to x\n",
      "x is currently:  2\n",
      "x is still less than 5, adding 1 to x\n",
      "x is currently:  3\n",
      "x is still less than 5, adding 1 to x\n",
      "x is currently:  4\n",
      "x is still less than 5, adding 1 to x\n",
      "All done\n"
     ]
    }
   ],
   "source": [
    "x = 0\n",
    "while x < 5:\n",
    "    print('x is currently: ',x)\n",
    "    print('x is still less than 5, adding 1 to x')\n",
    "    x+=1\n",
    "else:\n",
    "    print(\"All done\")"
   ]
  },
  {
   "cell_type": "code",
   "execution_count": 3,
   "metadata": {},
   "outputs": [
    {
     "name": "stdout",
     "output_type": "stream",
     "text": [
      "Enter login password: 1234\n",
      "Enter login password: Pooja*123\n",
      "Enter login password: Pooja@1234\n",
      "Thanks for conformation\n"
     ]
    }
   ],
   "source": [
    "login_pwd = \"\"\n",
    "while login_pwd != \"Pooja@1234\":\n",
    "    login_pwd = input(\"Enter login password: \")\n",
    "print(\"Thanks for conformation\")"
   ]
  },
  {
   "cell_type": "markdown",
   "metadata": {},
   "source": [
    "### The break statement\n",
    "- Causes an exit from anywhere in the body of a loop\n",
    "- When break is executed\n",
    "    - loop immediately terminates\n",
    "- Break statements usually occur in for and while loops only when some condition occurs.\n",
    "\n",
    "### The continue statement\n",
    "- When continue executed in a while loop\n",
    "    - Current iteration of the loop terminates\n",
    "    - Execution returns to the loop's header\n",
    "- Usually appear inside if statements."
   ]
  },
  {
   "cell_type": "code",
   "execution_count": 5,
   "metadata": {
    "scrolled": true
   },
   "outputs": [
    {
     "name": "stdout",
     "output_type": "stream",
     "text": [
      "Enter item to process: 8\n",
      "7\n",
      "2\n",
      "3\n",
      "1\n",
      "5\n",
      "6\n",
      "End\n"
     ]
    }
   ],
   "source": [
    "# Break statement\n",
    "item = int(input(\"Enter item to process: \"))\n",
    "nums = [7,2,3,1,5,6,8,9,4]\n",
    "index = 0\n",
    "while index < len(nums):\n",
    "    print(nums[index])\n",
    "    index+=1\n",
    "    if nums[index] == item:\n",
    "        break;\n",
    "print(\"End\")"
   ]
  },
  {
   "cell_type": "markdown",
   "metadata": {},
   "source": [
    "#### Program to add natural numbers upto n"
   ]
  },
  {
   "cell_type": "code",
   "execution_count": 4,
   "metadata": {},
   "outputs": [
    {
     "name": "stdout",
     "output_type": "stream",
     "text": [
      "Enter number : 4\n",
      "The sum is :  10\n"
     ]
    }
   ],
   "source": [
    "n = int(input(\"Enter number : \"))\n",
    "sum = 0\n",
    "i = 1\n",
    "\n",
    "while i<=n:\n",
    "    sum+=i\n",
    "    i+=1    # Update counter, otherwise it will go in infinite loop\n",
    "print(\"The sum is : \",sum)"
   ]
  },
  {
   "cell_type": "markdown",
   "metadata": {},
   "source": [
    "#### Program to print table of a given number"
   ]
  },
  {
   "cell_type": "code",
   "execution_count": 5,
   "metadata": {},
   "outputs": [
    {
     "name": "stdout",
     "output_type": "stream",
     "text": [
      "Enter the number : 60\n",
      "The Multiplication Table of :  60\n",
      "60 X 1 = 60\n",
      "60 X 2 = 120\n",
      "60 X 3 = 180\n",
      "60 X 4 = 240\n",
      "60 X 5 = 300\n",
      "60 X 6 = 360\n",
      "60 X 7 = 420\n",
      "60 X 8 = 480\n",
      "60 X 9 = 540\n",
      "60 X 10 = 600\n"
     ]
    }
   ],
   "source": [
    "num = int(input(\"Enter the number : \"))\n",
    "i = 1\n",
    "print(\"The Multiplication Table of : \",num)\n",
    "while i<=10:\n",
    "    print(num,\"X\",i,\"=\",num*i)\n",
    "    i+=1"
   ]
  },
  {
   "cell_type": "markdown",
   "metadata": {},
   "source": [
    "#### Program to square every number of a list"
   ]
  },
  {
   "cell_type": "code",
   "execution_count": 3,
   "metadata": {},
   "outputs": [
    {
     "name": "stdout",
     "output_type": "stream",
     "text": [
      "Squares list :  [9, 25, 1, 16, 36]\n"
     ]
    }
   ],
   "source": [
    "list_ = [3,5,1,4,6]\n",
    "squares =[]\n",
    "\n",
    "# Programming a while loop\n",
    "while list_:\n",
    "    # Until the list is not empty this expression will give boolean True\n",
    "    squares.append(list_.pop()**2)\n",
    "\n",
    "print(\"Squares list : \",squares[::-1])"
   ]
  },
  {
   "cell_type": "code",
   "execution_count": 1,
   "metadata": {},
   "outputs": [
    {
     "ename": "TypeError",
     "evalue": "unsupported operand type(s) for ** or pow(): 'list' and 'int'",
     "output_type": "error",
     "traceback": [
      "\u001b[1;31m---------------------------------------------------------------------------\u001b[0m",
      "\u001b[1;31mTypeError\u001b[0m                                 Traceback (most recent call last)",
      "\u001b[1;32m<ipython-input-1-2b443e8c9983>\u001b[0m in \u001b[0;36m<module>\u001b[1;34m\u001b[0m\n\u001b[0;32m      1\u001b[0m \u001b[0mlist_\u001b[0m \u001b[1;33m=\u001b[0m \u001b[1;33m[\u001b[0m\u001b[1;36m3\u001b[0m\u001b[1;33m,\u001b[0m\u001b[1;36m5\u001b[0m\u001b[1;33m,\u001b[0m\u001b[1;36m1\u001b[0m\u001b[1;33m,\u001b[0m\u001b[1;36m4\u001b[0m\u001b[1;33m,\u001b[0m\u001b[1;36m6\u001b[0m\u001b[1;33m]\u001b[0m\u001b[1;33m\u001b[0m\u001b[1;33m\u001b[0m\u001b[0m\n\u001b[1;32m----> 2\u001b[1;33m \u001b[0ma\u001b[0m \u001b[1;33m=\u001b[0m \u001b[0mlist_\u001b[0m\u001b[1;33m**\u001b[0m\u001b[1;36m2\u001b[0m\u001b[1;33m\u001b[0m\u001b[1;33m\u001b[0m\u001b[0m\n\u001b[0m\u001b[0;32m      3\u001b[0m \u001b[0mprint\u001b[0m\u001b[1;33m(\u001b[0m\u001b[0ma\u001b[0m\u001b[1;33m)\u001b[0m\u001b[1;33m\u001b[0m\u001b[1;33m\u001b[0m\u001b[0m\n",
      "\u001b[1;31mTypeError\u001b[0m: unsupported operand type(s) for ** or pow(): 'list' and 'int'"
     ]
    }
   ],
   "source": [
    "# We can not take squares like this, we have to use loops\n",
    "list_ = [3,5,1,4,6]\n",
    "a = list_**2\n",
    "print(a)"
   ]
  },
  {
   "cell_type": "markdown",
   "metadata": {},
   "source": [
    "#### Why the below code is not working?\n",
    "- There is no comparison operator in this case so we can not take indexing in this below case\n",
    "- Indexing is not going to work using this \"while\" loop and hence we have to use pop() method\n",
    "- Reverse() method is not going to work on the below list because, this method is only used for strings."
   ]
  },
  {
   "cell_type": "code",
   "execution_count": 4,
   "metadata": {},
   "outputs": [
    {
     "ename": "IndexError",
     "evalue": "list index out of range",
     "output_type": "error",
     "traceback": [
      "\u001b[1;31m---------------------------------------------------------------------------\u001b[0m",
      "\u001b[1;31mIndexError\u001b[0m                                Traceback (most recent call last)",
      "\u001b[1;32m<ipython-input-4-73c46fc1d41b>\u001b[0m in \u001b[0;36m<module>\u001b[1;34m\u001b[0m\n\u001b[0;32m      4\u001b[0m \u001b[0mi\u001b[0m\u001b[1;33m=\u001b[0m\u001b[1;36m0\u001b[0m\u001b[1;33m\u001b[0m\u001b[1;33m\u001b[0m\u001b[0m\n\u001b[0;32m      5\u001b[0m \u001b[1;32mwhile\u001b[0m \u001b[0mlist_\u001b[0m\u001b[1;33m:\u001b[0m\u001b[1;33m\u001b[0m\u001b[1;33m\u001b[0m\u001b[0m\n\u001b[1;32m----> 6\u001b[1;33m     \u001b[0msquares\u001b[0m\u001b[1;33m.\u001b[0m\u001b[0mappend\u001b[0m\u001b[1;33m(\u001b[0m\u001b[0mlist_\u001b[0m\u001b[1;33m[\u001b[0m\u001b[0mi\u001b[0m\u001b[1;33m]\u001b[0m\u001b[1;33m)\u001b[0m\u001b[1;33m\u001b[0m\u001b[1;33m\u001b[0m\u001b[0m\n\u001b[0m\u001b[0;32m      7\u001b[0m     \u001b[0mi\u001b[0m\u001b[1;33m+=\u001b[0m\u001b[1;36m1\u001b[0m\u001b[1;33m\u001b[0m\u001b[1;33m\u001b[0m\u001b[0m\n\u001b[0;32m      8\u001b[0m \u001b[0mprint\u001b[0m\u001b[1;33m(\u001b[0m\u001b[0msquares\u001b[0m\u001b[1;33m)\u001b[0m\u001b[1;33m\u001b[0m\u001b[1;33m\u001b[0m\u001b[0m\n",
      "\u001b[1;31mIndexError\u001b[0m: list index out of range"
     ]
    }
   ],
   "source": [
    "# We can not do the below code for accessing the items in a list \n",
    "list_ = [3,5,1,4,6]\n",
    "squares = []\n",
    "i=0\n",
    "while list_:\n",
    "    squares.append(list_[i])\n",
    "    i+=1\n",
    "print(squares) # It will give index out of range"
   ]
  },
  {
   "cell_type": "markdown",
   "metadata": {},
   "source": [
    "### Break statement\n",
    "- Break statement is used to stop the execution.\n",
    "\n",
    "#### Q. Python program with while loop to print numbers from 1 to 100. But break the loop, after 7 is printed to the console."
   ]
  },
  {
   "cell_type": "code",
   "execution_count": 6,
   "metadata": {},
   "outputs": [
    {
     "name": "stdout",
     "output_type": "stream",
     "text": [
      "1\n",
      "2\n",
      "3\n",
      "4\n",
      "5\n",
      "6\n",
      "7\n"
     ]
    }
   ],
   "source": [
    "n = 1\n",
    "while n <= 100:\n",
    "    print(n)\n",
    "    if n == 7:\n",
    "        break\n",
    "    n+=1"
   ]
  },
  {
   "cell_type": "markdown",
   "metadata": {},
   "source": [
    "#### Q. Write a Python program with an infinite while loop to print all natural numbers. But break after some eight iterations."
   ]
  },
  {
   "cell_type": "code",
   "execution_count": 7,
   "metadata": {},
   "outputs": [
    {
     "name": "stdout",
     "output_type": "stream",
     "text": [
      "1\n",
      "2\n",
      "3\n",
      "4\n",
      "5\n",
      "6\n",
      "7\n",
      "8\n"
     ]
    }
   ],
   "source": [
    "n = 1\n",
    "while True:\n",
    "    print(n)\n",
    "    if n == 8:\n",
    "        break\n",
    "    n+=1"
   ]
  },
  {
   "cell_type": "markdown",
   "metadata": {},
   "source": [
    "#### Print the variables in reverse order after a number"
   ]
  },
  {
   "cell_type": "code",
   "execution_count": 8,
   "metadata": {},
   "outputs": [
    {
     "name": "stdout",
     "output_type": "stream",
     "text": [
      "Enter the number : 10\n",
      "10\n",
      "9\n",
      "8\n",
      "7\n",
      "6\n",
      "5\n",
      "4\n",
      "3\n",
      "2\n",
      "1\n",
      "Good Bye!\n"
     ]
    }
   ],
   "source": [
    "num = int(input(\"Enter the number : \"))\n",
    "while num > 0:\n",
    "    print(num)\n",
    "    num-=1\n",
    "print(\"Good Bye!\")"
   ]
  },
  {
   "cell_type": "markdown",
   "metadata": {},
   "source": [
    "### Continue Statement\n",
    "- Continue is ignore that specific condition."
   ]
  },
  {
   "cell_type": "code",
   "execution_count": 2,
   "metadata": {},
   "outputs": [
    {
     "name": "stdout",
     "output_type": "stream",
     "text": [
      "Enter the number : 10\n",
      "Enter the number which you want to skip : 5\n",
      "10\n",
      "9\n",
      "8\n",
      "7\n",
      "6\n",
      "4\n",
      "3\n",
      "2\n",
      "1\n"
     ]
    }
   ],
   "source": [
    "num = int(input(\"Enter the number : \"))\n",
    "skipped_num = int(input(\"Enter the number which you want to skip : \"))\n",
    "\n",
    "while num>0:\n",
    "    if num == skipped_num:\n",
    "        num-=1\n",
    "        continue\n",
    "    print(num)\n",
    "    num-=1\n",
    "    "
   ]
  },
  {
   "cell_type": "code",
   "execution_count": 4,
   "metadata": {},
   "outputs": [
    {
     "name": "stdout",
     "output_type": "stream",
     "text": [
      "Current variable value :  9\n",
      "Current variable value :  8\n",
      "Current variable value :  7\n",
      "Current variable value :  6\n",
      "Current variable value :  4\n",
      "Current variable value :  3\n",
      "Current variable value :  2\n",
      "Current variable value :  1\n",
      "Current variable value :  0\n",
      "Good Bye!\n"
     ]
    }
   ],
   "source": [
    "var = 10\n",
    "while var > 0:\n",
    "    var = var-1\n",
    "    if var == 5:\n",
    "        continue\n",
    "    print(\"Current variable value : \",var)\n",
    "print(\"Good Bye!\")"
   ]
  },
  {
   "cell_type": "markdown",
   "metadata": {},
   "source": [
    "## Nested While Loop:\n",
    "**Syntax:**\n",
    "- `while condition_1:`\n",
    "    - #Outer While loop\n",
    "    - #Statements\n",
    "    \n",
    "    - `while condition_2:`\n",
    "        - #Inner while loop\n",
    "        - #statements\n",
    "    - #Statements"
   ]
  },
  {
   "cell_type": "code",
   "execution_count": 6,
   "metadata": {},
   "outputs": [
    {
     "name": "stdout",
     "output_type": "stream",
     "text": [
      "i =  0 j =  0\n",
      "i =  0 j =  1\n",
      "i =  0 j =  2\n",
      "i =  0 j =  3\n",
      "i =  1 j =  0\n",
      "i =  1 j =  1\n",
      "i =  1 j =  2\n",
      "i =  1 j =  3\n",
      "i =  2 j =  0\n",
      "i =  2 j =  1\n",
      "i =  2 j =  2\n",
      "i =  2 j =  3\n",
      "i =  3 j =  0\n",
      "i =  3 j =  1\n",
      "i =  3 j =  2\n",
      "i =  3 j =  3\n"
     ]
    }
   ],
   "source": [
    "i = 0\n",
    "while i<4:\n",
    "    j = 0\n",
    "    while j<4:\n",
    "        print('i = ',i,'j = ',j)\n",
    "        j+=1\n",
    "    i+=1"
   ]
  },
  {
   "cell_type": "markdown",
   "metadata": {},
   "source": [
    "### Practice codes\n",
    "#### Q. Write a program for converting numbers from decimal to binary using while loop"
   ]
  },
  {
   "cell_type": "code",
   "execution_count": 25,
   "metadata": {},
   "outputs": [
    {
     "name": "stdout",
     "output_type": "stream",
     "text": [
      "Enter a number which you want to convert in binary : 2\n",
      "The binary of 2 is : 10\n"
     ]
    }
   ],
   "source": [
    "num = int(input(\"Enter a number which you want to convert in binary : \"))\n",
    "Result =[]\n",
    "temp = num\n",
    "while temp>0:\n",
    "    rem = temp%2\n",
    "    Result.append(str(rem))\n",
    "    temp=int(temp/2)\n",
    "print(\"The binary of\",num,\"is :\",''.join(Result[::-1]))"
   ]
  },
  {
   "cell_type": "code",
   "execution_count": 26,
   "metadata": {},
   "outputs": [
    {
     "name": "stdout",
     "output_type": "stream",
     "text": [
      "Enter the number to convert it to binary :2\n",
      "The binary of number is : 0b10\n"
     ]
    }
   ],
   "source": [
    "# We can also use direct functions for it also (Without using while loop)\n",
    "num = int(input(\"Enter the number to convert it to binary :\"))\n",
    "print(\"The binary of number is :\",bin(num))"
   ]
  },
  {
   "cell_type": "markdown",
   "metadata": {},
   "source": [
    "#### Q. Finding the factorial of a given number using while loop"
   ]
  },
  {
   "cell_type": "code",
   "execution_count": 28,
   "metadata": {},
   "outputs": [
    {
     "name": "stdout",
     "output_type": "stream",
     "text": [
      "Enter the number to find factorial : 5\n",
      "The factorial of 5 is : 120\n"
     ]
    }
   ],
   "source": [
    "num = int(input(\"Enter the number to find factorial : \"))\n",
    "Result = 1\n",
    "temp = num\n",
    "while temp > 0 :\n",
    "    Result = Result * temp\n",
    "    temp-=1\n",
    "print(\"The factorial of\",num,\"is :\",Result)"
   ]
  },
  {
   "cell_type": "markdown",
   "metadata": {},
   "source": [
    "#### Q. Printing the items in a tuple using while loop"
   ]
  },
  {
   "cell_type": "code",
   "execution_count": 30,
   "metadata": {},
   "outputs": [
    {
     "name": "stdout",
     "output_type": "stream",
     "text": [
      "1\n",
      "Hi\n",
      "2\n",
      "3\n",
      "4\n",
      "6\n",
      "17\n",
      "78.9\n"
     ]
    }
   ],
   "source": [
    "tup = (1,\"Hi\",2,3,4,6,17,78.90)\n",
    "length = len(tup)\n",
    "i=0\n",
    "while length > 0:\n",
    "    print(tup[i])\n",
    "    length-=1\n",
    "    i+=1"
   ]
  },
  {
   "cell_type": "markdown",
   "metadata": {},
   "source": [
    "#### Q. Printing all letters except some using python while loop"
   ]
  },
  {
   "cell_type": "code",
   "execution_count": 31,
   "metadata": {},
   "outputs": [
    {
     "name": "stdout",
     "output_type": "stream",
     "text": [
      "Enter the word : hello\n",
      "Enter the letter which you want to skip : e\n",
      "h\n",
      "l\n",
      "l\n",
      "o\n"
     ]
    }
   ],
   "source": [
    "word = input(\"Enter the word : \")\n",
    "letter = input(\"Enter the letter which you want to skip : \")\n",
    "i=0\n",
    "while i < len(word):\n",
    "    if letter == word[i]:\n",
    "        i+=1\n",
    "        continue\n",
    "    print(word[i])\n",
    "    i+=1"
   ]
  },
  {
   "cell_type": "code",
   "execution_count": null,
   "metadata": {},
   "outputs": [],
   "source": []
  }
 ],
 "metadata": {
  "kernelspec": {
   "display_name": "Python 3",
   "language": "python",
   "name": "python3"
  },
  "language_info": {
   "codemirror_mode": {
    "name": "ipython",
    "version": 3
   },
   "file_extension": ".py",
   "mimetype": "text/x-python",
   "name": "python",
   "nbconvert_exporter": "python",
   "pygments_lexer": "ipython3",
   "version": "3.7.16"
  }
 },
 "nbformat": 4,
 "nbformat_minor": 4
}
