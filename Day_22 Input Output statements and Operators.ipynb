{
 "cells": [
  {
   "cell_type": "markdown",
   "id": "91b71138",
   "metadata": {},
   "source": [
    "## Input - Output Statements\n",
    "\n",
    "### 1. input():\n",
    "- Input function can be used to input data from user to directly in our required format.\n",
    "- By default, it returns the user input in form of a string."
   ]
  },
  {
   "cell_type": "code",
   "execution_count": 1,
   "id": "fd200855",
   "metadata": {},
   "outputs": [
    {
     "name": "stdout",
     "output_type": "stream",
     "text": [
      "Enter value:10.5\n"
     ]
    },
    {
     "data": {
      "text/plain": [
       "str"
      ]
     },
     "execution_count": 1,
     "metadata": {},
     "output_type": "execute_result"
    }
   ],
   "source": [
    "x = input(\"Enter value:\")\n",
    "type(x)"
   ]
  },
  {
   "cell_type": "markdown",
   "id": "3ca0ac47",
   "metadata": {},
   "source": [
    "#### Write a program to read 2 numbers from the keyboard and print sum"
   ]
  },
  {
   "cell_type": "code",
   "execution_count": 2,
   "id": "f922562b",
   "metadata": {},
   "outputs": [
    {
     "name": "stdout",
     "output_type": "stream",
     "text": [
      "Enter the first number: 10\n",
      "Enter the second number: 5\n",
      "Sum:  105\n"
     ]
    }
   ],
   "source": [
    "# By default it takes the input in string format\n",
    "# So concatination takes place\n",
    "# As we know that + operator concatinates two strings\n",
    "# So it will treat these numbers as string\n",
    "a = input(\"Enter the first number: \")\n",
    "b = input(\"Enter the second number: \")\n",
    "print(\"Sum: \",a+b)"
   ]
  },
  {
   "cell_type": "markdown",
   "id": "00bac9f1",
   "metadata": {},
   "source": [
    "**Method 1**"
   ]
  },
  {
   "cell_type": "code",
   "execution_count": 9,
   "id": "a008a412",
   "metadata": {
    "scrolled": false
   },
   "outputs": [
    {
     "name": "stdout",
     "output_type": "stream",
     "text": [
      "Enter the first number: 10\n",
      "Enter the second number: 15\n",
      "Sum:  25\n"
     ]
    }
   ],
   "source": [
    "# If we want input in other data type then we have to use type casting\n",
    "# Here it will add two numbers \n",
    "# Because after taking input in string, we typecasted it in int\n",
    "a = int(input(\"Enter the first number: \"))\n",
    "b = int(input(\"Enter the second number: \"))\n",
    "print(\"Sum: \",a+b)"
   ]
  },
  {
   "cell_type": "markdown",
   "id": "3cf52378",
   "metadata": {},
   "source": [
    "**Method 2**\n",
    "- Generally we do not prefer this method, as the readability of this method is less as compared to Method 1"
   ]
  },
  {
   "cell_type": "code",
   "execution_count": 5,
   "id": "70630ee4",
   "metadata": {},
   "outputs": [
    {
     "name": "stdout",
     "output_type": "stream",
     "text": [
      "Enter the first number: 10\n",
      "Enter the second number: 15\n",
      "Sum:  25\n"
     ]
    }
   ],
   "source": [
    "print(\"Sum: \",int(input(\"Enter the first number: \")) + \n",
    "      int(input(\"Enter the second number: \")))"
   ]
  },
  {
   "cell_type": "markdown",
   "id": "a03ec008",
   "metadata": {},
   "source": [
    "- instead of int(), we use float() as well\n",
    "- The drawback of this is that if we specified int() then we have to enter integer value only. For other types of values it will throw an error."
   ]
  },
  {
   "cell_type": "markdown",
   "id": "a693ce71",
   "metadata": {},
   "source": [
    "### 2. eval():\n",
    "- eval function take a String and evaluate the Result.\n",
    "- eval function takes int() and float() both the values as input.\n",
    "- The main advantage of eval function is that, we can not give expression as a input to int() or float() function, but we can give it to eval() function.\n",
    "- This function evaluates data type of data, whichever data we enter."
   ]
  },
  {
   "cell_type": "code",
   "execution_count": 6,
   "id": "649c7e3c",
   "metadata": {},
   "outputs": [
    {
     "name": "stdout",
     "output_type": "stream",
     "text": [
      "60\n"
     ]
    }
   ],
   "source": [
    "x = eval(\"10+20+30\")\n",
    "print(x)"
   ]
  },
  {
   "cell_type": "code",
   "execution_count": 7,
   "id": "70fdcd54",
   "metadata": {},
   "outputs": [
    {
     "name": "stdout",
     "output_type": "stream",
     "text": [
      "Enter expression10+20+30/30**3\n",
      "30.00111111111111\n"
     ]
    }
   ],
   "source": [
    "x = eval(input(\"Enter expression\"))\n",
    "print(x)"
   ]
  },
  {
   "cell_type": "markdown",
   "id": "4a666929",
   "metadata": {},
   "source": [
    "**Expression input to int() function**"
   ]
  },
  {
   "cell_type": "code",
   "execution_count": 10,
   "id": "1ca12ec6",
   "metadata": {},
   "outputs": [
    {
     "name": "stdout",
     "output_type": "stream",
     "text": [
      "Enter the first number: 10+5\n"
     ]
    },
    {
     "ename": "ValueError",
     "evalue": "invalid literal for int() with base 10: '10+5'",
     "output_type": "error",
     "traceback": [
      "\u001b[1;31m---------------------------------------------------------------------------\u001b[0m",
      "\u001b[1;31mValueError\u001b[0m                                Traceback (most recent call last)",
      "\u001b[1;32m<ipython-input-10-10fc7e7d44de>\u001b[0m in \u001b[0;36m<module>\u001b[1;34m\u001b[0m\n\u001b[1;32m----> 1\u001b[1;33m \u001b[0ma\u001b[0m \u001b[1;33m=\u001b[0m \u001b[0mint\u001b[0m\u001b[1;33m(\u001b[0m\u001b[0minput\u001b[0m\u001b[1;33m(\u001b[0m\u001b[1;34m\"Enter the first number: \"\u001b[0m\u001b[1;33m)\u001b[0m\u001b[1;33m)\u001b[0m\u001b[1;33m\u001b[0m\u001b[1;33m\u001b[0m\u001b[0m\n\u001b[0m\u001b[0;32m      2\u001b[0m \u001b[0mb\u001b[0m \u001b[1;33m=\u001b[0m \u001b[0mint\u001b[0m\u001b[1;33m(\u001b[0m\u001b[0minput\u001b[0m\u001b[1;33m(\u001b[0m\u001b[1;34m\"Enter the second number: \"\u001b[0m\u001b[1;33m)\u001b[0m\u001b[1;33m)\u001b[0m\u001b[1;33m\u001b[0m\u001b[1;33m\u001b[0m\u001b[0m\n\u001b[0;32m      3\u001b[0m \u001b[0mprint\u001b[0m\u001b[1;33m(\u001b[0m\u001b[1;34m\"Sum: \"\u001b[0m\u001b[1;33m,\u001b[0m\u001b[0ma\u001b[0m\u001b[1;33m+\u001b[0m\u001b[0mb\u001b[0m\u001b[1;33m)\u001b[0m\u001b[1;33m\u001b[0m\u001b[1;33m\u001b[0m\u001b[0m\n",
      "\u001b[1;31mValueError\u001b[0m: invalid literal for int() with base 10: '10+5'"
     ]
    }
   ],
   "source": [
    "a = int(input(\"Enter the first number: \"))\n",
    "b = int(input(\"Enter the second number: \"))\n",
    "print(\"Sum: \",a+b)"
   ]
  },
  {
   "cell_type": "markdown",
   "id": "22a0c7e8",
   "metadata": {},
   "source": [
    "**Expression input to eval() function**"
   ]
  },
  {
   "cell_type": "code",
   "execution_count": 11,
   "id": "e53f012e",
   "metadata": {},
   "outputs": [
    {
     "name": "stdout",
     "output_type": "stream",
     "text": [
      "Enter the first number: 10+5\n",
      "Enter the second number: 15\n",
      "Sum:  30\n"
     ]
    }
   ],
   "source": [
    "a = eval(input(\"Enter the first number: \"))\n",
    "b = eval(input(\"Enter the second number: \"))\n",
    "print(\"Sum: \",a+b)"
   ]
  },
  {
   "cell_type": "markdown",
   "id": "e70e444b",
   "metadata": {},
   "source": [
    "**Note:** eval() can evaluate the input to list, tuple, set, etc based the provided input."
   ]
  },
  {
   "cell_type": "code",
   "execution_count": 12,
   "id": "b0a88461",
   "metadata": {},
   "outputs": [
    {
     "name": "stdout",
     "output_type": "stream",
     "text": [
      "Enter tuple: (10,20,30,40)\n",
      "<class 'tuple'>\n",
      "(10, 20, 30, 40)\n"
     ]
    }
   ],
   "source": [
    "l = eval(input(\"Enter tuple: \"))\n",
    "print(type(l))\n",
    "print(l)"
   ]
  },
  {
   "cell_type": "code",
   "execution_count": 13,
   "id": "d68ec8f3",
   "metadata": {},
   "outputs": [
    {
     "name": "stdout",
     "output_type": "stream",
     "text": [
      "Enter list: [1,2,3,4]\n",
      "<class 'list'>\n",
      "[1, 2, 3, 4]\n"
     ]
    }
   ],
   "source": [
    "l = eval(input(\"Enter list: \"))\n",
    "print(type(l))\n",
    "print(l)"
   ]
  },
  {
   "cell_type": "markdown",
   "id": "5e6698f3",
   "metadata": {},
   "source": [
    "### 3. Print()\n",
    "- We can use print() function to display output.\n",
    "\n",
    "#### 3.1 print() without any argument prints new line character"
   ]
  },
  {
   "cell_type": "code",
   "execution_count": 14,
   "id": "94a240b4",
   "metadata": {},
   "outputs": [
    {
     "name": "stdout",
     "output_type": "stream",
     "text": [
      "Hello World\n",
      "\n",
      "I love data science\n"
     ]
    }
   ],
   "source": [
    "print(\"Hello World\")\n",
    "print() # Blank line\n",
    "print(\"I love data science\")"
   ]
  },
  {
   "cell_type": "markdown",
   "id": "15277e27",
   "metadata": {},
   "source": [
    "#### 3.2 Can print strings in different ways"
   ]
  },
  {
   "cell_type": "code",
   "execution_count": 15,
   "id": "cac6bbc5",
   "metadata": {},
   "outputs": [
    {
     "name": "stdout",
     "output_type": "stream",
     "text": [
      "Hello World\n",
      "Hello World\n"
     ]
    }
   ],
   "source": [
    "string = \"Hello World\"\n",
    "print(string)\n",
    "print(\"Hello World\")"
   ]
  },
  {
   "cell_type": "code",
   "execution_count": 16,
   "id": "ecf485b5",
   "metadata": {},
   "outputs": [
    {
     "name": "stdout",
     "output_type": "stream",
     "text": [
      "Dear Sir,\n",
      "\tI am writting this to you regarding....\n"
     ]
    }
   ],
   "source": [
    "# We can use escape characters also\n",
    "print(\"Dear Sir,\\n\\tI am writting this to you regarding....\")"
   ]
  },
  {
   "cell_type": "code",
   "execution_count": 17,
   "id": "ed85062a",
   "metadata": {},
   "outputs": [
    {
     "name": "stdout",
     "output_type": "stream",
     "text": [
      "Hello Hello Hello Hello Hello Hello Hello Hello Hello Hello \n"
     ]
    }
   ],
   "source": [
    "# We can use repetetion operator (*) in the string\n",
    "print(\"Hello \"*10)"
   ]
  },
  {
   "cell_type": "code",
   "execution_count": 18,
   "id": "7de1c42f",
   "metadata": {
    "scrolled": true
   },
   "outputs": [
    {
     "name": "stdout",
     "output_type": "stream",
     "text": [
      "Hello World \n"
     ]
    }
   ],
   "source": [
    "# We can use + operator for concatination\n",
    "print(\"Hello \" + \"World \")"
   ]
  },
  {
   "cell_type": "markdown",
   "id": "e48de1ae",
   "metadata": {},
   "source": [
    "#### 3.3 print() with end and sep attribute:\n",
    "\n",
    "**3.3.1 print() with `end=' '` attribute:**\n",
    "- The default value for end attribute is `\\n`, which is nothing but new line character."
   ]
  },
  {
   "cell_type": "code",
   "execution_count": 20,
   "id": "717c43b1",
   "metadata": {},
   "outputs": [
    {
     "name": "stdout",
     "output_type": "stream",
     "text": [
      "Hello\tWorld\n",
      "\n",
      "Hello#World\n"
     ]
    }
   ],
   "source": [
    "print(\"Hello\",end='\\t')\n",
    "print(\"World\")\n",
    "print()  # Blank line\n",
    "print(\"Hello\",end='#')\n",
    "print(\"World\")"
   ]
  },
  {
   "cell_type": "markdown",
   "id": "f9673283",
   "metadata": {},
   "source": [
    "**3.3.2 print() with `sep=' '` attribute:**\n",
    "- By default output values are separated by space, we can specify separator by using `sep=' ' ` attribute"
   ]
  },
  {
   "cell_type": "code",
   "execution_count": 21,
   "id": "72389474",
   "metadata": {},
   "outputs": [
    {
     "name": "stdout",
     "output_type": "stream",
     "text": [
      "10 20 30\n",
      "10,20,30\n",
      "10:20:30\n"
     ]
    }
   ],
   "source": [
    "a, b, c = 10, 20, 30\n",
    "print(a,b,c)\n",
    "print(a,b,c,sep=',')\n",
    "print(a,b,c,sep=':')"
   ]
  },
  {
   "cell_type": "markdown",
   "id": "2ef6d20e",
   "metadata": {},
   "source": [
    "#### 3.4 print(object) statement:\n",
    "- We can pass any object (like list, tuple, set, etc) as argument to the print() statement."
   ]
  },
  {
   "cell_type": "code",
   "execution_count": 22,
   "id": "1e83d86e",
   "metadata": {},
   "outputs": [
    {
     "name": "stdout",
     "output_type": "stream",
     "text": [
      "[10, 20, 30, 40]\n",
      "(10, 20, 30, 40)\n"
     ]
    }
   ],
   "source": [
    "my_list = [10,20,30,40]\n",
    "my_tuple = (10,20,30,40)\n",
    "print(my_list)\n",
    "print(my_tuple)"
   ]
  },
  {
   "cell_type": "markdown",
   "id": "f044b054",
   "metadata": {},
   "source": [
    "#### 3.5 print(String, variable list):\n",
    "- We can use print() statement with string and any number of variables."
   ]
  },
  {
   "cell_type": "code",
   "execution_count": 23,
   "id": "d6a78add",
   "metadata": {},
   "outputs": [
    {
     "name": "stdout",
     "output_type": "stream",
     "text": [
      "Hi Karla you have got 78 marks outoff 100 in Python\n"
     ]
    }
   ],
   "source": [
    "name = \"Karla\"\n",
    "marks = 78\n",
    "total = 100\n",
    "print(\"Hi\",name,\"you have got\",marks,\"marks outoff\",total,\"in Python\")"
   ]
  },
  {
   "cell_type": "markdown",
   "id": "bf78787c",
   "metadata": {},
   "source": [
    "### 4. Formatting the Strings - Print Formatting\n",
    "- We can format the output strings with variable values by using various methods.\n",
    "- The main objective of Print Formatting method is to format string in meaningful output form.\n",
    "\n",
    "#### 4.1 Formating with placeholders\n",
    "- You can use `%s` to inject strings into your print statements.\n",
    "- The modulo `%` is referred to as a **string formatting operator**"
   ]
  },
  {
   "cell_type": "code",
   "execution_count": 26,
   "id": "1c813f08",
   "metadata": {},
   "outputs": [
    {
     "name": "stdout",
     "output_type": "stream",
     "text": [
      "I'm going to place something here\n"
     ]
    }
   ],
   "source": [
    "print(\"I'm going to place %s here\" %\"something\")"
   ]
  },
  {
   "cell_type": "markdown",
   "id": "df64c978",
   "metadata": {},
   "source": [
    "- You can pass multiple items by placing them inside a tuple after the `%` operator."
   ]
  },
  {
   "cell_type": "code",
   "execution_count": 27,
   "id": "2d63ea75",
   "metadata": {},
   "outputs": [
    {
     "name": "stdout",
     "output_type": "stream",
     "text": [
      "I'm going to place some text here and some more text here\n"
     ]
    }
   ],
   "source": [
    "print(\"I'm going to place %s text here and %s text here\" %('some','some more'))"
   ]
  },
  {
   "cell_type": "markdown",
   "id": "2687fe35",
   "metadata": {},
   "source": [
    "- We can also pass variable names"
   ]
  },
  {
   "cell_type": "code",
   "execution_count": 29,
   "id": "e9ebb5d1",
   "metadata": {},
   "outputs": [
    {
     "name": "stdout",
     "output_type": "stream",
     "text": [
      "I'm going to place some text here and some more text here\n"
     ]
    }
   ],
   "source": [
    "x,y = 'some', 'some more'\n",
    "print(\"I'm going to place %s text here and %s text here\" %(x,y))"
   ]
  },
  {
   "cell_type": "markdown",
   "id": "b126d504",
   "metadata": {},
   "source": [
    "**Format conversion methods.**\n",
    "- Note that `%r` deliver the **string representation** of the object, including quotation marks and any space characters"
   ]
  },
  {
   "cell_type": "code",
   "execution_count": 30,
   "id": "d6ff2ef0",
   "metadata": {},
   "outputs": [
    {
     "name": "stdout",
     "output_type": "stream",
     "text": [
      "He said his name was fred\n",
      "He said his name was 'fred'\n"
     ]
    }
   ],
   "source": [
    "print('He said his name was %s'%'fred')\n",
    "print('He said his name was %r'%'fred')"
   ]
  },
  {
   "cell_type": "markdown",
   "id": "72aecaef",
   "metadata": {},
   "source": [
    "- As another example, `\\t` inserts a tab into a string."
   ]
  },
  {
   "cell_type": "code",
   "execution_count": 31,
   "id": "55b52b74",
   "metadata": {},
   "outputs": [
    {
     "name": "stdout",
     "output_type": "stream",
     "text": [
      "I once caught a fish this \t big\n"
     ]
    }
   ],
   "source": [
    "print(\"I once caught a fish this \\t big\")"
   ]
  },
  {
   "cell_type": "markdown",
   "id": "11a938ba",
   "metadata": {},
   "source": [
    "- The `%s` operator converts whatever it sees into a string, including integers and floats.\n",
    "- The `%d` operator converts numbers to integers first, without rounding. Note the difference below:"
   ]
  },
  {
   "cell_type": "code",
   "execution_count": 32,
   "id": "b941bd00",
   "metadata": {},
   "outputs": [
    {
     "name": "stdout",
     "output_type": "stream",
     "text": [
      "I wrote 3.7546 programs today.\n",
      "I wrote 3 programs today.\n",
      "I wrote 3.75 programs today.\n"
     ]
    }
   ],
   "source": [
    "print('I wrote %s programs today.'%3.7546)\n",
    "print('I wrote %d programs today.'%3.7546)\n",
    "print('I wrote %.2f programs today.'%3.7546)"
   ]
  },
  {
   "cell_type": "markdown",
   "id": "9f98b4db",
   "metadata": {},
   "source": [
    "**4.1.2 Padding and Precision of Floating Point Numbers**\n",
    "- Floating point numbers format example: `%5.2f`.\n",
    "- Here, 5 would be the `minimum` number of characters the string should contain; these may be padded with whitespace if the entire number does not have this many digits.\n",
    "- Next to this, `.2f` stands for how many numbers to show past the decimal point. Let's see some examples:"
   ]
  },
  {
   "cell_type": "code",
   "execution_count": 34,
   "id": "9fb7ce0d",
   "metadata": {},
   "outputs": [
    {
     "name": "stdout",
     "output_type": "stream",
     "text": [
      "Floating point numbers: 123.12\n"
     ]
    }
   ],
   "source": [
    "print('Floating point numbers: %5.2f'%(123.123))"
   ]
  },
  {
   "cell_type": "code",
   "execution_count": 36,
   "id": "c29af708",
   "metadata": {},
   "outputs": [
    {
     "name": "stdout",
     "output_type": "stream",
     "text": [
      "Floating point numbers: 123\n"
     ]
    }
   ],
   "source": [
    "print('Floating point numbers: %1.0f'%(123.123))"
   ]
  },
  {
   "cell_type": "code",
   "execution_count": 37,
   "id": "555581ce",
   "metadata": {},
   "outputs": [
    {
     "name": "stdout",
     "output_type": "stream",
     "text": [
      "Floating point numbers: 123.12300\n"
     ]
    }
   ],
   "source": [
    "print('Floating point numbers: %1.5f'%(123.123))"
   ]
  },
  {
   "cell_type": "code",
   "execution_count": 38,
   "id": "9fbaeae9",
   "metadata": {},
   "outputs": [
    {
     "name": "stdout",
     "output_type": "stream",
     "text": [
      "Floating point numbers: 123.12\n"
     ]
    }
   ],
   "source": [
    "print('Floating point numbers: %.2f'%(123.123))"
   ]
  },
  {
   "cell_type": "code",
   "execution_count": 39,
   "id": "9ec27127",
   "metadata": {},
   "outputs": [
    {
     "name": "stdout",
     "output_type": "stream",
     "text": [
      "Floating point numbers:                     123.1\n"
     ]
    }
   ],
   "source": [
    "print('Floating point numbers: %25.1f'%(123.123))"
   ]
  },
  {
   "cell_type": "markdown",
   "id": "360b0b0a",
   "metadata": {},
   "source": [
    "#### 4.1.3 Multiple Formatting\n",
    "- Nothing prohibits using more than one conversion tool in the same print statement:"
   ]
  },
  {
   "cell_type": "code",
   "execution_count": 40,
   "id": "61ca6f1d",
   "metadata": {},
   "outputs": [
    {
     "name": "stdout",
     "output_type": "stream",
     "text": [
      "First: hi, Second:  3.14, Third: 'bye'\n"
     ]
    }
   ],
   "source": [
    "print('First: %s, Second: %5.2f, Third: %r' %('hi',3.14,'bye'))"
   ]
  },
  {
   "cell_type": "markdown",
   "id": "b6245b88",
   "metadata": {},
   "source": [
    "#### 4.2 Formatting with the `.format()` method"
   ]
  },
  {
   "cell_type": "code",
   "execution_count": 41,
   "id": "f4cd0b6b",
   "metadata": {},
   "outputs": [
    {
     "name": "stdout",
     "output_type": "stream",
     "text": [
      "This is a string with an print formatting method\n"
     ]
    }
   ],
   "source": [
    "print('This is a string with an {}'.format('print formatting method'))"
   ]
  },
  {
   "cell_type": "code",
   "execution_count": 42,
   "id": "bce64560",
   "metadata": {},
   "outputs": [
    {
     "name": "stdout",
     "output_type": "stream",
     "text": [
      "This is a string with an print formatting method\n"
     ]
    }
   ],
   "source": [
    "insertion = 'print formatting method'\n",
    "print('This is a string with an {}'.format(insertion))"
   ]
  },
  {
   "cell_type": "code",
   "execution_count": 43,
   "id": "ad6d4c85",
   "metadata": {},
   "outputs": [
    {
     "name": "stdout",
     "output_type": "stream",
     "text": [
      "I'm going to inject some text here, and some more text here.\n"
     ]
    }
   ],
   "source": [
    "x,y = 'some', 'some more'\n",
    "print(\"I'm going to inject {} text here, and {} text here.\".format(x,y))"
   ]
  },
  {
   "cell_type": "markdown",
   "id": "a2232ea5",
   "metadata": {},
   "source": [
    "**The `.format()` method has several advantages over the `%s placeholder` method:**\n",
    "\n",
    "1. Inserted objects can be called by index position:"
   ]
  },
  {
   "cell_type": "code",
   "execution_count": 44,
   "id": "9453e3ab",
   "metadata": {},
   "outputs": [
    {
     "name": "stdout",
     "output_type": "stream",
     "text": [
      "My Introduction: Hi there! I am Pooja\n"
     ]
    }
   ],
   "source": [
    "print('My Introduction: {0} {1} {2} {3}'.format('Hi','there!','I am','Pooja'))"
   ]
  },
  {
   "cell_type": "code",
   "execution_count": 45,
   "id": "b923010d",
   "metadata": {},
   "outputs": [
    {
     "name": "stdout",
     "output_type": "stream",
     "text": [
      "My Introduction: I am Pooja Hi there!\n"
     ]
    }
   ],
   "source": [
    "print('My Introduction: {2} {3} {0} {1}'.format('Hi','there!','I am','Pooja'))"
   ]
  },
  {
   "cell_type": "markdown",
   "id": "31741da3",
   "metadata": {},
   "source": [
    "#### 4.4 Formatted String Literals (f-strings)\n",
    "- Introduced in Python 3.6, f-strings offer several benifits over the older .format() string method described above.\n",
    "- You can bring outside variables immidiately into the string rather than pass them as arguments through .format(var)\n",
    "- f string is advanced and have several benifits over .format method."
   ]
  },
  {
   "cell_type": "code",
   "execution_count": 46,
   "id": "126c4095",
   "metadata": {},
   "outputs": [
    {
     "name": "stdout",
     "output_type": "stream",
     "text": [
      "He said his name is \n",
      "Fred\n",
      "He said his name is 10.56\n",
      "He said his name is \n",
      "Fred\n"
     ]
    }
   ],
   "source": [
    "x = 10.55555\n",
    "name = '\\nFred'\n",
    "print(\"He said his name is\",name)\n",
    "print(\"He said his name is\",round(x,2))\n",
    "print(f\"He said his n ame is {name}\")"
   ]
  },
  {
   "cell_type": "markdown",
   "id": "4f1c440a",
   "metadata": {},
   "source": [
    "**Pass `!r` to get the string representation:**"
   ]
  },
  {
   "cell_type": "code",
   "execution_count": 47,
   "id": "42f1ba4d",
   "metadata": {},
   "outputs": [
    {
     "name": "stdout",
     "output_type": "stream",
     "text": [
      "He said his name is '\\nFred'\n"
     ]
    }
   ],
   "source": [
    "print(f\"He said his name is {name!r}\")"
   ]
  },
  {
   "cell_type": "code",
   "execution_count": 48,
   "id": "9b767414",
   "metadata": {},
   "outputs": [
    {
     "name": "stdout",
     "output_type": "stream",
     "text": [
      "My 15 character, four decimal number is:25453.4540\n",
      "My 10 character, two decimal number is:25453.45\n"
     ]
    }
   ],
   "source": [
    "num = 25453.454\n",
    "print(f\"My 15 character, four decimal number is:{num:.4f}\")\n",
    "print(f\"My 10 character, two decimal number is:{num:.2f}\")"
   ]
  },
  {
   "cell_type": "code",
   "execution_count": 49,
   "id": "3dda7890",
   "metadata": {
    "scrolled": true
   },
   "outputs": [
    {
     "name": "stdout",
     "output_type": "stream",
     "text": [
      "My 15 character, four decimal number is:002545315236\n",
      "My 10 character, two decimal number is:2545315236.26\n"
     ]
    }
   ],
   "source": [
    "num = 2545315236.2555\n",
    "print(f\"My 15 character, four decimal number is:{num:012.0f}\")\n",
    "print(f\"My 10 character, two decimal number is:{num:12.2f}\")"
   ]
  },
  {
   "cell_type": "code",
   "execution_count": 50,
   "id": "b53deaf0",
   "metadata": {},
   "outputs": [
    {
     "name": "stdout",
     "output_type": "stream",
     "text": [
      "I'm going to inject some text here, and some more text here.\n"
     ]
    }
   ],
   "source": [
    "x, y = 'some','some more'\n",
    "print(f\"I'm going to inject {x} text here, and {y} text here.\")"
   ]
  },
  {
   "cell_type": "code",
   "execution_count": 51,
   "id": "35e788ac",
   "metadata": {},
   "outputs": [
    {
     "name": "stdout",
     "output_type": "stream",
     "text": [
      "I'm going to inject {x} text here, and {y} text here.\n"
     ]
    }
   ],
   "source": [
    "x, y = 'so\\tme', 'some more'\n",
    "print(r\"I'm going to inject {x} text here, and {y} text here.\")"
   ]
  },
  {
   "cell_type": "code",
   "execution_count": 52,
   "id": "7fa272fb",
   "metadata": {},
   "outputs": [
    {
     "name": "stdout",
     "output_type": "stream",
     "text": [
      "C:\\Program Files\\nitro\n"
     ]
    }
   ],
   "source": [
    "print(r\"C:\\Program Files\\nitro\")"
   ]
  },
  {
   "cell_type": "markdown",
   "id": "ab8dcc94",
   "metadata": {},
   "source": [
    "That is the basics of string formatting!"
   ]
  },
  {
   "cell_type": "markdown",
   "id": "dee5727e",
   "metadata": {},
   "source": [
    "### 5. Escape Characters in Python\n",
    "- The programmers refer to the **backslash()** character as an escape character.\n",
    "- To insert characters that are illigal in a string, use an escape character.\n",
    "- As the name suggests, the escape character escapes the characters in a string for a brief moment to introduce unique inclusion.\n",
    "- If we are using string in single quotes and we have to mention single quotes in it, then we can't do that without escape characters.\n",
    "- It will not print slash but it will print the element after it like single, double quotes, etc.\n",
    "\n",
    "**The following are various important escape characters in Python**\n",
    "1. \\' --> Single quote\n",
    "2. \\\" --> Double quote\n",
    "3. \\n --> New Line\n",
    "4. \\t --> Horizontal tab\n",
    "5. \\b --> Back space\n",
    "6. \\\\ --> Back slash symbol\n",
    "\n",
    "**Let's see what escape characters are and how to use them in Python.**"
   ]
  },
  {
   "cell_type": "code",
   "execution_count": 55,
   "id": "907db1d1",
   "metadata": {},
   "outputs": [
    {
     "name": "stdout",
     "output_type": "stream",
     "text": [
      "I'm enjoying 'data science' course\n",
      "I'm enjoying \"data science\" course\n"
     ]
    }
   ],
   "source": [
    "# Ex:1 (\\' or \\\" ---> This represents a single or double quote in string)\n",
    "string1 = 'I\\'m enjoying \\'data science\\' course'\n",
    "print(string1)\n",
    "string2 = 'I\\'m enjoying \"data science\" course'\n",
    "print(string2)"
   ]
  },
  {
   "cell_type": "code",
   "execution_count": 56,
   "id": "c09ed310",
   "metadata": {},
   "outputs": [
    {
     "name": "stdout",
     "output_type": "stream",
     "text": [
      "Hello\n",
      "World\n"
     ]
    }
   ],
   "source": [
    "# Ex:2 (\\n ---> This represents new line)\n",
    "# If we are not using \\n then we have to store it in separate variable\n",
    "\n",
    "string = \"Hello\\nWorld\"\n",
    "print(string)"
   ]
  },
  {
   "cell_type": "code",
   "execution_count": 57,
   "id": "bca25303",
   "metadata": {},
   "outputs": [
    {
     "name": "stdout",
     "output_type": "stream",
     "text": [
      "I'm enjoying\t 'Data Science'\t that includes\t 'python'\t and\t 'machine learning'\n"
     ]
    }
   ],
   "source": [
    "# Ex:3 (\\t ---> This represents a tab)\n",
    "print(\"I'm enjoying\\t 'Data Science'\\t that includes\\t 'python'\\t and\\t \n",
    "      'machine learning'\")"
   ]
  },
  {
   "cell_type": "code",
   "execution_count": 58,
   "id": "ae78a500",
   "metadata": {},
   "outputs": [
    {
     "name": "stdout",
     "output_type": "stream",
     "text": [
      "Hi theree\b\b, here \\b just deleted the extra e in theree\n"
     ]
    }
   ],
   "source": [
    "# Ex:4 (\\b ---> This represents a backspace)\n",
    "string = \"Hi theree\\b\\b, here \\\\b just deleted the extra e in theree\"\n",
    "print(string)"
   ]
  },
  {
   "cell_type": "code",
   "execution_count": 59,
   "id": "c26dadc6",
   "metadata": {},
   "outputs": [
    {
     "name": "stdout",
     "output_type": "stream",
     "text": [
      "Velocity = Distance \\ Time\n"
     ]
    }
   ],
   "source": [
    "# Ex:5 (\\\\ ---> This represents a backslash(\\))\n",
    "string = \"Velocity = Distance \\\\ Time\"\n",
    "print(string)"
   ]
  },
  {
   "cell_type": "code",
   "execution_count": null,
   "id": "8bd823b2",
   "metadata": {},
   "outputs": [],
   "source": []
  }
 ],
 "metadata": {
  "kernelspec": {
   "display_name": "Python 3",
   "language": "python",
   "name": "python3"
  },
  "language_info": {
   "codemirror_mode": {
    "name": "ipython",
    "version": 3
   },
   "file_extension": ".py",
   "mimetype": "text/x-python",
   "name": "python",
   "nbconvert_exporter": "python",
   "pygments_lexer": "ipython3",
   "version": "3.7.16"
  }
 },
 "nbformat": 4,
 "nbformat_minor": 5
}
