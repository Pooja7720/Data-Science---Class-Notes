{
 "cells": [
  {
   "cell_type": "markdown",
   "metadata": {},
   "source": [
    "# For Loops\n",
    "- A for-loop steps through each of the items in a collection type, or any other type of object which is \"iterable\"\n",
    "    - for '<'item'>' in '<'collection'>':\n",
    "          '<'statements'>'\n",
    "- If '<'collection'>' is a list or tuple, then the loop steps through each element of the sequence\n",
    "- If '<'collection'>' is a string, then the loop steps through each character of the string\n",
    "    - for someChar in \"Hello World\":\n",
    "              print someChar\n",
    "- for '<'item'>' in '<'collection'>':\n",
    "          '<'statements'>'\n",
    "- '<'item'>' can be more than a single variable name\n",
    "- When the '<'collection'>' elements are themselves sequences, then '<'item'>' can match the structure of the elements.\n",
    "- This multiple assignment can make it easier to access the individual parts of each element\n",
    "- for (x,y) in [(a,1),(b,2),(c,3),(d,4)]:\n",
    "        print x\n",
    "- A `for` loop acts as an iterator in Python;\n",
    "- It goes through items that are in a **sequence** or any other iterable item.\n",
    "- Objects we can iterate over include strings, lists, tuples, set, dictionaries, etc.\n",
    "- If we want to print data `n` number of times then we use `for loop`\n",
    "- **Typical Syntax:**\n",
    "\n",
    "    `for item in object:`\n",
    "         Statements to do stuff"
   ]
  },
  {
   "cell_type": "markdown",
   "metadata": {},
   "source": [
    "### Simple for loop"
   ]
  },
  {
   "cell_type": "code",
   "execution_count": 1,
   "metadata": {},
   "outputs": [
    {
     "name": "stdout",
     "output_type": "stream",
     "text": [
      "0\n",
      "1\n",
      "5\n"
     ]
    }
   ],
   "source": [
    "digits = [0,1,5]\n",
    "for i in digits: # Here i is iterable\n",
    "    print(i)"
   ]
  },
  {
   "cell_type": "markdown",
   "metadata": {},
   "source": [
    "### For loop with else"
   ]
  },
  {
   "cell_type": "code",
   "execution_count": 2,
   "metadata": {},
   "outputs": [
    {
     "name": "stdout",
     "output_type": "stream",
     "text": [
      "0\n",
      "1\n",
      "5\n",
      "No items left!\n"
     ]
    }
   ],
   "source": [
    "# To indicate loop is terminated, we can use else\n",
    "digits = [0,1,5]\n",
    "for i in digits:\n",
    "    print(i)\n",
    "else:\n",
    "    print(\"No items left!\")"
   ]
  },
  {
   "cell_type": "markdown",
   "metadata": {},
   "source": [
    "### Using for-loop for a string"
   ]
  },
  {
   "cell_type": "code",
   "execution_count": 4,
   "metadata": {},
   "outputs": [
    {
     "name": "stdout",
     "output_type": "stream",
     "text": [
      "The word is :  anaconda\n",
      "a n a c o n d a "
     ]
    }
   ],
   "source": [
    "word = \"anaconda\"\n",
    "print(\"The word is : \",word)\n",
    "for letter in word:\n",
    "    print(letter,end=\" \")"
   ]
  },
  {
   "cell_type": "code",
   "execution_count": 1,
   "metadata": {},
   "outputs": [
    {
     "name": "stdout",
     "output_type": "stream",
     "text": [
      "1 * 1  =  1\n",
      "2 * 2  =  4\n",
      "3 * 3  =  9\n",
      "4 * 4  =  16\n",
      "5 * 5  =  25\n"
     ]
    }
   ],
   "source": [
    "# Print square of values in list\n",
    "l1 = [1,2,3,4,5]\n",
    "for num in l1:\n",
    "    print(num,\"*\",num,\" = \",num*num)"
   ]
  },
  {
   "cell_type": "code",
   "execution_count": 2,
   "metadata": {},
   "outputs": [
    {
     "name": "stdout",
     "output_type": "stream",
     "text": [
      "2\n",
      "4\n",
      "6\n",
      "8\n",
      "10\n"
     ]
    }
   ],
   "source": [
    "# Print only even numbers from the list\n",
    "l1 = [1,2,3,4,5,6,7,8,9,10]\n",
    "for num in l1:\n",
    "    if num%2 == 0:\n",
    "        print(num)"
   ]
  },
  {
   "cell_type": "code",
   "execution_count": 3,
   "metadata": {},
   "outputs": [
    {
     "name": "stdout",
     "output_type": "stream",
     "text": [
      "1 is an odd number!\n",
      "2 is an even number!\n",
      "3 is an odd number!\n",
      "4 is an even number!\n",
      "5 is an odd number!\n",
      "6 is an even number!\n",
      "7 is an odd number!\n",
      "8 is an even number!\n",
      "9 is an odd number!\n",
      "10 is an even number!\n"
     ]
    }
   ],
   "source": [
    "# Print number is even or odd\n",
    "l1 = [1,2,3,4,5,6,7,8,9,10]\n",
    "for num in l1:\n",
    "    if num%2 == 0:\n",
    "        print(num,\"is an even number!\")\n",
    "    else:\n",
    "        print(num,\"is an odd number!\")"
   ]
  },
  {
   "cell_type": "code",
   "execution_count": 3,
   "metadata": {},
   "outputs": [
    {
     "name": "stdout",
     "output_type": "stream",
     "text": [
      "P : 80\n",
      "y : 121\n",
      "t : 116\n",
      "h : 104\n",
      "o : 111\n",
      "n : 110\n",
      "  : 32\n",
      "L : 76\n",
      "a : 97\n",
      "n : 110\n",
      "g : 103\n",
      "u : 117\n",
      "a : 97\n",
      "g : 103\n",
      "e : 101\n"
     ]
    }
   ],
   "source": [
    "str1 = \"Python Language\"\n",
    "\n",
    "for ch in str1:\n",
    "    print(ch,\":\",ord(ch))"
   ]
  },
  {
   "cell_type": "code",
   "execution_count": 4,
   "metadata": {
    "scrolled": true
   },
   "outputs": [
    {
     "name": "stdout",
     "output_type": "stream",
     "text": [
      "Index String\n",
      "0 : P\n",
      "1 : y\n",
      "2 : t\n",
      "3 : h\n",
      "4 : o\n",
      "5 : n\n",
      "6 :  \n",
      "7 : L\n",
      "8 : a\n",
      "9 : n\n",
      "10 : g\n",
      "11 : u\n",
      "12 : a\n",
      "13 : g\n",
      "14 : e\n"
     ]
    }
   ],
   "source": [
    "str1 = \"Python Language\"\n",
    "\n",
    "print(\"Index\",\"String\")\n",
    "for i in range(0,len(str1)):\n",
    "    print(i,\":\",str1[i])"
   ]
  },
  {
   "cell_type": "code",
   "execution_count": 5,
   "metadata": {},
   "outputs": [
    {
     "name": "stdout",
     "output_type": "stream",
     "text": [
      "Index String\n",
      "0 : P\n",
      "1 : y\n",
      "2 : t\n",
      "3 : h\n",
      "4 : o\n",
      "5 : n\n",
      "6 :  \n",
      "7 : L\n",
      "8 : a\n",
      "5 : n\n",
      "10 : g\n",
      "11 : u\n",
      "8 : a\n",
      "10 : g\n",
      "14 : e\n"
     ]
    }
   ],
   "source": [
    "# Using index function\n",
    "str1 = \"Python Language\"\n",
    "\n",
    "print(\"Index\",\"String\")\n",
    "for ch in str1:\n",
    "    print(str1.index(ch),\":\",ch)"
   ]
  },
  {
   "cell_type": "markdown",
   "metadata": {},
   "source": [
    "### Using for loop for list of tuples"
   ]
  },
  {
   "cell_type": "code",
   "execution_count": 4,
   "metadata": {},
   "outputs": [
    {
     "name": "stdout",
     "output_type": "stream",
     "text": [
      "1\n",
      "(2, 4)\n",
      "5\n",
      "(6, 8)\n",
      "9\n",
      "(10, 12)\n"
     ]
    }
   ],
   "source": [
    "tup = (1,(2,4),5,(6,8),9,(10,12))\n",
    "for t in tup:\n",
    "    print(t)"
   ]
  },
  {
   "cell_type": "code",
   "execution_count": 6,
   "metadata": {},
   "outputs": [
    {
     "name": "stdout",
     "output_type": "stream",
     "text": [
      "2\n",
      "6\n",
      "10\n"
     ]
    }
   ],
   "source": [
    "tup = ((2,4),(6,8),(10,12))\n",
    "for (t1,t2) in tup:\n",
    "    print(t1)"
   ]
  },
  {
   "cell_type": "markdown",
   "metadata": {},
   "source": [
    "###  For loops & the range() function\n",
    "- Since a variable often ranges over some sequence of numbers, the range() function returns a list of numbers from 0 upto but not including the number we pass to it.\n",
    "- range(5) returns [0,1,2,3,4]\n",
    "- so we could say:\n",
    "        for x in range(5):\n",
    "            print(x)\n",
    "- There are more complex forms of range() that provide richer functionality"
   ]
  },
  {
   "cell_type": "code",
   "execution_count": 5,
   "metadata": {},
   "outputs": [
    {
     "name": "stdout",
     "output_type": "stream",
     "text": [
      "Printing :  0\n",
      "Printing :  1\n",
      "Printing :  2\n"
     ]
    }
   ],
   "source": [
    "# It will start from 0 and ends at 2\n",
    "for i in range(3):\n",
    "    print(\"Printing : \",i)"
   ]
  },
  {
   "cell_type": "code",
   "execution_count": 7,
   "metadata": {},
   "outputs": [
    {
     "name": "stdout",
     "output_type": "stream",
     "text": [
      "Printing with steps :  1\n",
      "Printing with steps :  4\n",
      "Printing with steps :  7\n"
     ]
    }
   ],
   "source": [
    "# Using steps in range\n",
    "for i in range(1,10,3): # range(starting point, end point + 1, step size)\n",
    "    print(\"Printing with steps : \",i)"
   ]
  },
  {
   "cell_type": "code",
   "execution_count": 8,
   "metadata": {},
   "outputs": [
    {
     "name": "stdout",
     "output_type": "stream",
     "text": [
      "Printing with step :  8\n",
      "Printing with step :  13\n",
      "Printing with step :  18\n",
      "Printing with step :  23\n",
      "Printing with step :  28\n"
     ]
    }
   ],
   "source": [
    "# range(starting point, end point + 1, step size)\n",
    "for n in range(8,30,5):\n",
    "    print(\"Printing with step : \",n)"
   ]
  },
  {
   "cell_type": "markdown",
   "metadata": {},
   "source": [
    "### Nested for loop\n",
    "- It means one for inside the other\n",
    "- Sometimes, we take a loop inside another loop, which are also known as nested loops.\n",
    "- In nested loops, internal loop executes first.\n",
    "- Nested loops are mainly used for permutation and combination.\n",
    "\n",
    "**Occurrence of code in nested loop:**\n",
    "\n",
    "`for i in l1:`\n",
    "    \n",
    "`    for j in l2:`\n",
    "     \n",
    "`        Execute code`\n",
    "- The code inside this above nested for loop will be executed i*j times."
   ]
  },
  {
   "cell_type": "code",
   "execution_count": 2,
   "metadata": {},
   "outputs": [
    {
     "name": "stdout",
     "output_type": "stream",
     "text": [
      "The following lines will print each letters of  Apple\n",
      "A\n",
      "p\n",
      "p\n",
      "l\n",
      "e\n",
      " \n",
      "The following lines will print each letters of  Banana\n",
      "B\n",
      "a\n",
      "n\n",
      "a\n",
      "n\n",
      "a\n",
      " \n",
      "The following lines will print each letters of  Car\n",
      "C\n",
      "a\n",
      "r\n",
      " \n",
      "The following lines will print each letters of  Dolphin\n",
      "D\n",
      "o\n",
      "l\n",
      "p\n",
      "h\n",
      "i\n",
      "n\n",
      " \n"
     ]
    }
   ],
   "source": [
    "words = [\"Apple\",\"Banana\",\"Car\",\"Dolphin\"]\n",
    "for element in words:\n",
    "    print(\"The following lines will print each letters of \",element)\n",
    "    for letter in element:\n",
    "        print(letter)\n",
    "    print(\" \") # This is used to print blank line"
   ]
  },
  {
   "cell_type": "code",
   "execution_count": 4,
   "metadata": {
    "scrolled": true
   },
   "outputs": [
    {
     "name": "stdout",
     "output_type": "stream",
     "text": [
      "The following lines will print each letters of  Apple\n",
      "The following lines will print each letters of  Banana\n",
      "The following lines will print each letters of  Car\n",
      "The following lines will print each letters of  Dolphin\n",
      "D\n",
      "o\n",
      "l\n",
      "p\n",
      "h\n",
      "i\n",
      "n\n",
      " \n"
     ]
    }
   ],
   "source": [
    "words = [\"Apple\",\"Banana\",\"Car\",\"Dolphin\"]\n",
    "for element in words:\n",
    "    print(\"The following lines will print each letters of \",element)\n",
    "for letter in element: # This is independent for loop, not nested\n",
    "    print(letter)\n",
    "print(\" \") # This is used to print blank line"
   ]
  },
  {
   "cell_type": "code",
   "execution_count": 1,
   "metadata": {},
   "outputs": [
    {
     "name": "stdout",
     "output_type": "stream",
     "text": [
      "red apple\n",
      "red banana\n",
      "red cherry\n",
      "big apple\n",
      "big banana\n",
      "big cherry\n",
      "tasty apple\n",
      "tasty banana\n",
      "tasty cherry\n"
     ]
    }
   ],
   "source": [
    "adj = ['red','big','tasty']\n",
    "fruits = ['apple','banana','cherry']\n",
    "\n",
    "for x in adj:\n",
    "    for y in fruits:\n",
    "        print(x,y)"
   ]
  },
  {
   "cell_type": "code",
   "execution_count": 2,
   "metadata": {},
   "outputs": [
    {
     "name": "stdout",
     "output_type": "stream",
     "text": [
      "1 2 3 4 5 6 7 8 9 10 \n",
      "2 4 6 8 10 12 14 16 18 20 \n",
      "3 6 9 12 15 18 21 24 27 30 \n",
      "4 8 12 16 20 24 28 32 36 40 \n",
      "5 10 15 20 25 30 35 40 45 50 \n",
      "6 12 18 24 30 36 42 48 54 60 \n",
      "7 14 21 28 35 42 49 56 63 70 \n",
      "8 16 24 32 40 48 56 64 72 80 \n",
      "9 18 27 36 45 54 63 72 81 90 \n",
      "10 20 30 40 50 60 70 80 90 100 \n"
     ]
    }
   ],
   "source": [
    "# Print table of 1 to 10 and each table have one line\n",
    "for i in range(1,11):\n",
    "    for j in range(1,11):\n",
    "        print(i*j,end=\" \")\n",
    "    print()"
   ]
  },
  {
   "cell_type": "markdown",
   "metadata": {},
   "source": [
    "### Using Break\n",
    "- To break the loop when a condition occurs, then we uses break keyword\n",
    "- We can use break statement inside loops to break  loop execution based on some condition.\n",
    "- It is used to stop the execution\n",
    "- The break statement can only be used within the for and while loops.\n",
    "- The break statement will cause the loop to end even if the while loop condition evaluates to True.\n",
    "- It will cause the control of the program to jump out of the loop even if it satisfies the condition."
   ]
  },
  {
   "cell_type": "code",
   "execution_count": 6,
   "metadata": {},
   "outputs": [
    {
     "name": "stdout",
     "output_type": "stream",
     "text": [
      "List contains 2 : True\n"
     ]
    }
   ],
   "source": [
    "nums = [1,2,3,4,5,6]\n",
    "n = 2\n",
    "found = False\n",
    "for x in nums:\n",
    "    if n == x:\n",
    "        found = True\n",
    "        break\n",
    "print(\"List contains\",n,\":\",found)"
   ]
  },
  {
   "cell_type": "code",
   "execution_count": 2,
   "metadata": {
    "scrolled": true
   },
   "outputs": [
    {
     "name": "stdout",
     "output_type": "stream",
     "text": [
      "Enter item to process: 6\n",
      "7\n",
      "2\n",
      "3\n",
      "1\n",
      "5\n",
      "6\n",
      "End\n"
     ]
    }
   ],
   "source": [
    "item = int(input(\"Enter item to process: \"))\n",
    "nums = [7,2,3,1,5,6,8,9,4]\n",
    "for i in nums:\n",
    "    print(i)\n",
    "    if i == item:\n",
    "        break;\n",
    "print(\"End\")"
   ]
  },
  {
   "cell_type": "code",
   "execution_count": 3,
   "metadata": {},
   "outputs": [
    {
     "name": "stdout",
     "output_type": "stream",
     "text": [
      "1 a\n",
      "1 b\n",
      "1 c\n",
      "1 d\n",
      "1 e\n",
      "2 a\n",
      "BREAK\n",
      "3 a\n",
      "3 b\n",
      "3 c\n",
      "3 d\n",
      "3 e\n"
     ]
    }
   ],
   "source": [
    "l1 = [1,2,3]\n",
    "l2 = ['a','b','c','d','e']\n",
    "for num in l1:\n",
    "    for ch in l2:\n",
    "        if num == 2 and ch == 'b':\n",
    "            print('BREAK')\n",
    "            break\n",
    "        print(num,ch)"
   ]
  },
  {
   "cell_type": "code",
   "execution_count": 1,
   "metadata": {},
   "outputs": [
    {
     "name": "stdout",
     "output_type": "stream",
     "text": [
      "Grapes found in fruits list!\n"
     ]
    }
   ],
   "source": [
    "# If grapes found in the list, it will break loop there and no more checking takes place\n",
    "fruits = [\"mango\",\"papaya\",\"grapes\",\"banana\"]\n",
    "id_grapes = False\n",
    "for i in fruits:\n",
    "    if i == \"grapes\":\n",
    "        is_grapes = True\n",
    "        print(\"Grapes found in fruits list!\")\n",
    "        break\n",
    "    \n",
    "if is_grapes == False:\n",
    "    print(\"No grapes found in the list!\")"
   ]
  },
  {
   "cell_type": "markdown",
   "metadata": {},
   "source": [
    "### Using Continue\n",
    "- Continue keyword is ignoring the perticular condition only and continue with the rest of the conditions.\n",
    "\n",
    "#### Program to print sum of positive numbers"
   ]
  },
  {
   "cell_type": "code",
   "execution_count": 7,
   "metadata": {},
   "outputs": [
    {
     "name": "stdout",
     "output_type": "stream",
     "text": [
      "The sum of positive numbers is :  13\n"
     ]
    }
   ],
   "source": [
    "nums = [1,2,-3,4,-5,6]\n",
    "sum_positive = 0 # Sum of positive numbers is stored in it\n",
    "\n",
    "for num in nums:\n",
    "    if num < 0:\n",
    "        continue\n",
    "    else:\n",
    "        sum_positive+=num\n",
    "print(\"The sum of positive numbers is : \",sum_positive)"
   ]
  },
  {
   "cell_type": "code",
   "execution_count": 4,
   "metadata": {
    "scrolled": true
   },
   "outputs": [
    {
     "name": "stdout",
     "output_type": "stream",
     "text": [
      "10\n",
      "20\n",
      "We can not process this item:  500\n",
      "We can not process this item:  700\n",
      "50\n",
      "60\n"
     ]
    }
   ],
   "source": [
    "cart = [10,20,500,700,50,60]\n",
    "for item in cart:\n",
    "    if item >= 500:\n",
    "        print(\"We can not process this item: \",item)\n",
    "        continue\n",
    "    print(item)"
   ]
  },
  {
   "cell_type": "code",
   "execution_count": 3,
   "metadata": {},
   "outputs": [
    {
     "name": "stdout",
     "output_type": "stream",
     "text": [
      "P\n",
      "y\n",
      "t\n",
      "h\n",
      "n\n"
     ]
    }
   ],
   "source": [
    "for letter in 'Python':\n",
    "    if letter == 'o':\n",
    "        continue\n",
    "    print(letter)"
   ]
  },
  {
   "cell_type": "code",
   "execution_count": 4,
   "metadata": {},
   "outputs": [
    {
     "name": "stdout",
     "output_type": "stream",
     "text": [
      "100/10 = 10.0\n",
      "100/20 = 5.0\n",
      "Hey how we can divide with zero. Just skipping!\n",
      "100/5 = 20.0\n",
      "Hey how we can divide with zero. Just skipping!\n",
      "100/25 = 4.0\n"
     ]
    }
   ],
   "source": [
    "numbers = [10,20,0,5,0,25]\n",
    "for n in numbers:\n",
    "    if n == 0:\n",
    "        print(\"Hey how we can divide with zero. Just skipping!\")\n",
    "        continue\n",
    "    print(\"100/{} = {}\".format(n,100/n))"
   ]
  },
  {
   "cell_type": "markdown",
   "metadata": {},
   "source": [
    "### Pass Statement:\n",
    "- To do nothing inside a block of code, you can use the pass statement.\n",
    "- It is an empty statement\n",
    "- It is null statement\n",
    "- It won't do anything\n",
    "- In is mainly used when we don't want an error but want to define a empty function or anything else.\n",
    "- It is used when we haven't done the complete code but we have to run it for some reason."
   ]
  },
  {
   "cell_type": "code",
   "execution_count": 5,
   "metadata": {},
   "outputs": [
    {
     "ename": "IndentationError",
     "evalue": "expected an indented block (<ipython-input-5-976bdfb6fc69>, line 4)",
     "output_type": "error",
     "traceback": [
      "\u001b[1;36m  File \u001b[1;32m\"<ipython-input-5-976bdfb6fc69>\"\u001b[1;36m, line \u001b[1;32m4\u001b[0m\n\u001b[1;33m    print(\"square function is empty\")\u001b[0m\n\u001b[1;37m        ^\u001b[0m\n\u001b[1;31mIndentationError\u001b[0m\u001b[1;31m:\u001b[0m expected an indented block\n"
     ]
    }
   ],
   "source": [
    "# Empty function without pass -> It will give an error\n",
    "def square():\n",
    "    \n",
    "print(\"square function is empty\")"
   ]
  },
  {
   "cell_type": "code",
   "execution_count": 6,
   "metadata": {},
   "outputs": [
    {
     "name": "stdout",
     "output_type": "stream",
     "text": [
      "square function is empty\n"
     ]
    }
   ],
   "source": [
    "# Empty function with pass -> It will execute the code\n",
    "def square():\n",
    "    pass\n",
    "print(\"square function is empty\")"
   ]
  },
  {
   "cell_type": "code",
   "execution_count": 8,
   "metadata": {},
   "outputs": [
    {
     "name": "stdout",
     "output_type": "stream",
     "text": [
      "0 Divisible by 2\n",
      "1\n",
      "2 Divisible by 2\n",
      "3\n",
      "4 Divisible by 2\n",
      "6 Divisible by 2\n",
      "8 Divisible by 2\n",
      "9\n",
      "10 Divisible by 2\n"
     ]
    }
   ],
   "source": [
    "# Pass in if else\n",
    "for num in range(11):\n",
    "    if num%2 == 0:\n",
    "        print(num,\"Divisible by 2\")\n",
    "    elif num%5 == 0:\n",
    "        pass\n",
    "    elif num%7 == 0:\n",
    "        pass\n",
    "    else:\n",
    "        print(num)"
   ]
  },
  {
   "cell_type": "markdown",
   "metadata": {},
   "source": [
    "### for loop for dictionaries\n",
    "- If we use for loop on dictionaries, then it will print keys by default.\n",
    "- To get values, we have to use two variables in for loop, while accessing elements."
   ]
  },
  {
   "cell_type": "code",
   "execution_count": 7,
   "metadata": {},
   "outputs": [
    {
     "name": "stdout",
     "output_type": "stream",
     "text": [
      "k1\n",
      "k2\n",
      "k3\n"
     ]
    }
   ],
   "source": [
    "# It will print keys\n",
    "d = {'k1':1,'k2':[2,2,4],'k3':3}\n",
    "for k in d:\n",
    "    print(k)"
   ]
  },
  {
   "cell_type": "code",
   "execution_count": 8,
   "metadata": {},
   "outputs": [
    {
     "name": "stdout",
     "output_type": "stream",
     "text": [
      "1\n",
      "2\n",
      "3\n"
     ]
    }
   ],
   "source": [
    "d = {'k1':1,'k2':[2,2,4],'k3':3}\n",
    "for k,val in d:\n",
    "    print(val)"
   ]
  },
  {
   "cell_type": "markdown",
   "metadata": {},
   "source": [
    "Notice how this produces only the keys, so how can we get the values? or both the keys and the values?\n",
    "We are going to introduce three new dictionary methods: **.keys(), .values(), .items()**"
   ]
  },
  {
   "cell_type": "code",
   "execution_count": 9,
   "metadata": {},
   "outputs": [
    {
     "data": {
      "text/plain": [
       "dict_items([('k1', 1), ('k2', [2, 2, 4]), ('k3', 3)])"
      ]
     },
     "execution_count": 9,
     "metadata": {},
     "output_type": "execute_result"
    }
   ],
   "source": [
    "# Dictionary unpacking\n",
    "d.items()"
   ]
  },
  {
   "cell_type": "markdown",
   "metadata": {},
   "source": [
    "Since the .items() method supports iteration, we can perform dictionary unpacking to separate keys and values."
   ]
  },
  {
   "cell_type": "code",
   "execution_count": 10,
   "metadata": {},
   "outputs": [
    {
     "name": "stdout",
     "output_type": "stream",
     "text": [
      "('k1', 1)\n",
      "('k2', [2, 2, 4])\n",
      "('k3', 3)\n"
     ]
    }
   ],
   "source": [
    "for i in d.items():\n",
    "    print(i)"
   ]
  },
  {
   "cell_type": "code",
   "execution_count": 11,
   "metadata": {},
   "outputs": [
    {
     "name": "stdout",
     "output_type": "stream",
     "text": [
      "1\n",
      "[2, 2, 4]\n",
      "3\n"
     ]
    }
   ],
   "source": [
    "for k,v in d.items():\n",
    "    print(v)"
   ]
  },
  {
   "cell_type": "code",
   "execution_count": 12,
   "metadata": {},
   "outputs": [
    {
     "data": {
      "text/plain": [
       "dict_keys(['k1', 'k2', 'k3'])"
      ]
     },
     "execution_count": 12,
     "metadata": {},
     "output_type": "execute_result"
    }
   ],
   "source": [
    "d.keys()"
   ]
  },
  {
   "cell_type": "code",
   "execution_count": 13,
   "metadata": {},
   "outputs": [
    {
     "name": "stdout",
     "output_type": "stream",
     "text": [
      "345\n",
      "[4]\n",
      "789\n"
     ]
    }
   ],
   "source": [
    "d = {'k1':'123456','k2':[2,2,4],'k3':'36789'}\n",
    "for v in d.values():\n",
    "    print(v[2:5])"
   ]
  },
  {
   "cell_type": "code",
   "execution_count": 14,
   "metadata": {},
   "outputs": [
    {
     "name": "stdout",
     "output_type": "stream",
     "text": [
      "345\n",
      "[4]\n"
     ]
    },
    {
     "ename": "TypeError",
     "evalue": "'int' object is not subscriptable",
     "output_type": "error",
     "traceback": [
      "\u001b[1;31m---------------------------------------------------------------------------\u001b[0m",
      "\u001b[1;31mTypeError\u001b[0m                                 Traceback (most recent call last)",
      "\u001b[1;32m<ipython-input-14-64c6d3f34633>\u001b[0m in \u001b[0;36m<module>\u001b[1;34m\u001b[0m\n\u001b[0;32m      3\u001b[0m \u001b[0md\u001b[0m \u001b[1;33m=\u001b[0m \u001b[1;33m{\u001b[0m\u001b[1;34m'k1'\u001b[0m\u001b[1;33m:\u001b[0m\u001b[1;34m'123456'\u001b[0m\u001b[1;33m,\u001b[0m\u001b[1;34m'k2'\u001b[0m\u001b[1;33m:\u001b[0m\u001b[1;33m[\u001b[0m\u001b[1;36m2\u001b[0m\u001b[1;33m,\u001b[0m\u001b[1;36m2\u001b[0m\u001b[1;33m,\u001b[0m\u001b[1;36m4\u001b[0m\u001b[1;33m]\u001b[0m\u001b[1;33m,\u001b[0m\u001b[1;34m'k3'\u001b[0m\u001b[1;33m:\u001b[0m\u001b[1;36m36789\u001b[0m\u001b[1;33m}\u001b[0m\u001b[1;33m\u001b[0m\u001b[1;33m\u001b[0m\u001b[0m\n\u001b[0;32m      4\u001b[0m \u001b[1;32mfor\u001b[0m \u001b[0mv\u001b[0m \u001b[1;32min\u001b[0m \u001b[0md\u001b[0m\u001b[1;33m.\u001b[0m\u001b[0mvalues\u001b[0m\u001b[1;33m(\u001b[0m\u001b[1;33m)\u001b[0m\u001b[1;33m:\u001b[0m\u001b[1;33m\u001b[0m\u001b[1;33m\u001b[0m\u001b[0m\n\u001b[1;32m----> 5\u001b[1;33m     \u001b[0mprint\u001b[0m\u001b[1;33m(\u001b[0m\u001b[0mv\u001b[0m\u001b[1;33m[\u001b[0m\u001b[1;36m2\u001b[0m\u001b[1;33m:\u001b[0m\u001b[1;36m5\u001b[0m\u001b[1;33m]\u001b[0m\u001b[1;33m)\u001b[0m\u001b[1;33m\u001b[0m\u001b[1;33m\u001b[0m\u001b[0m\n\u001b[0m",
      "\u001b[1;31mTypeError\u001b[0m: 'int' object is not subscriptable"
     ]
    }
   ],
   "source": [
    "# If it's integer, then it will throw an error\n",
    "# Because we can not apply slicing on int number\n",
    "d = {'k1':'123456','k2':[2,2,4],'k3':36789}\n",
    "for v in d.values():\n",
    "    print(v[2:5])"
   ]
  },
  {
   "cell_type": "markdown",
   "metadata": {},
   "source": [
    "**Printing elements using for loop is optional, we use can also use for loop in case when we want to loop the total number of times the item is present in list**"
   ]
  },
  {
   "cell_type": "code",
   "execution_count": 15,
   "metadata": {},
   "outputs": [
    {
     "name": "stdout",
     "output_type": "stream",
     "text": [
      "Hi\n",
      "Hi\n",
      "Hi\n",
      "Hi\n",
      "Hi\n",
      "Hi\n",
      "Hi\n",
      "Hi\n",
      "Hi\n",
      "Hi\n"
     ]
    }
   ],
   "source": [
    "# We have not used the element of list\n",
    "# But we printed Hi that number of times\n",
    "for i in l1:\n",
    "    print(\"Hi\")"
   ]
  },
  {
   "cell_type": "code",
   "execution_count": 6,
   "metadata": {},
   "outputs": [
    {
     "name": "stdout",
     "output_type": "stream",
     "text": [
      "Three Five Eight "
     ]
    }
   ],
   "source": [
    "# We can also use conditional statements in loops\n",
    "l1 = [1,2,\"Three\",4,\"Five\",6,7,\"Eight\",9,10]\n",
    "for i in l1:\n",
    "    if type(i) == str:\n",
    "        print(i,end=\" \")"
   ]
  },
  {
   "cell_type": "code",
   "execution_count": 7,
   "metadata": {},
   "outputs": [
    {
     "name": "stdout",
     "output_type": "stream",
     "text": [
      "['Three', 'Five', 'Eight']\n",
      "[1, 2, 4, 6, 7, 9, 10]\n"
     ]
    }
   ],
   "source": [
    "# We can also use conditional statements in loops\n",
    "l1 = [1,2,\"Three\",4,\"Five\",6,7,\"Eight\",9,10]\n",
    "int_list = []\n",
    "str_list = []\n",
    "for i in l1:\n",
    "    if type(i) == str:\n",
    "        str_list.append(i)\n",
    "    else:\n",
    "        int_list.append(i)\n",
    "        \n",
    "print(str_list)\n",
    "print(int_list)"
   ]
  },
  {
   "cell_type": "markdown",
   "metadata": {},
   "source": [
    "### For Else and While Else in Python\n",
    "- Else block will be executed only if the loop isn't terminated by a break statement.\n",
    "- Or we can say if a loop is executed successfully without termination then the else block will be executed."
   ]
  },
  {
   "cell_type": "markdown",
   "metadata": {},
   "source": [
    "**For-else Syntax in Python**"
   ]
  },
  {
   "cell_type": "code",
   "execution_count": null,
   "metadata": {},
   "outputs": [],
   "source": [
    "for i in range(n):\n",
    "    #code\n",
    "else:\n",
    "    #code"
   ]
  },
  {
   "cell_type": "markdown",
   "metadata": {},
   "source": [
    "**While-else Syntax in Python**"
   ]
  },
  {
   "cell_type": "code",
   "execution_count": null,
   "metadata": {},
   "outputs": [],
   "source": [
    "while condition:\n",
    "    #code\n",
    "else:\n",
    "    #code"
   ]
  },
  {
   "cell_type": "markdown",
   "metadata": {},
   "source": [
    "#### Example:"
   ]
  },
  {
   "cell_type": "code",
   "execution_count": 9,
   "metadata": {},
   "outputs": [
    {
     "name": "stdout",
     "output_type": "stream",
     "text": [
      "mango found! at index 1\n"
     ]
    }
   ],
   "source": [
    "# Here break statement is used so it will not print the else block\n",
    "#list of fruits \n",
    "my_list = ['papaya','mango','banana','pineapple','grapes']\n",
    "for i in my_list:\n",
    "    if i == \"mango\":\n",
    "        print(\"mango found! at index\",my_list.index(\"mango\"))\n",
    "        break\n",
    "else:\n",
    "    print(\"mango not found!\")"
   ]
  },
  {
   "cell_type": "code",
   "execution_count": 10,
   "metadata": {},
   "outputs": [
    {
     "name": "stdout",
     "output_type": "stream",
     "text": [
      "cherry not found!\n"
     ]
    }
   ],
   "source": [
    "# Here it will not meet the condition\n",
    "# So while loop executed till end so it will print else block\n",
    "#list of fruits \n",
    "my_list = ['papaya','mango','banana','pineapple','grapes']\n",
    "for i in my_list:\n",
    "    if i == \"cherry\":\n",
    "        print(\"mango found! at index\",my_list.index(\"mango\"))\n",
    "        break\n",
    "else:\n",
    "    print(\"cherry not found!\")"
   ]
  },
  {
   "cell_type": "code",
   "execution_count": 12,
   "metadata": {
    "scrolled": true
   },
   "outputs": [
    {
     "name": "stdout",
     "output_type": "stream",
     "text": [
      "mango found! at index 1\n"
     ]
    }
   ],
   "source": [
    "my_list = ['papaya','mango','banana','pineapple','grapes']\n",
    "size = len(my_list)\n",
    "i = 0\n",
    "while i<size:\n",
    "    if my_list[i] == \"mango\":\n",
    "        print(\"mango found! at index\",i)\n",
    "        break\n",
    "    i+=1\n",
    "else:\n",
    "    print(\"mango not found!\")"
   ]
  },
  {
   "cell_type": "code",
   "execution_count": 5,
   "metadata": {},
   "outputs": [
    {
     "name": "stdout",
     "output_type": "stream",
     "text": [
      "All the elements in the list are in the limit\n"
     ]
    }
   ],
   "source": [
    "# Random list of numbers\n",
    "my_list1 = [14,10,12,17]\n",
    "\n",
    "# Defining limit from 10 to 20\n",
    "lower_bound = 10\n",
    "upper_bound = 20\n",
    "for i in my_list1:\n",
    "    if i<lower_bound or i>upper_bound:\n",
    "        print(\"All elements are not in the limit!\")\n",
    "        break\n",
    "else:\n",
    "    print(\"All the elements in the list are in the limit\")\n",
    "# Here it will execute else block\n",
    "# As the loop is not terminated by break statement"
   ]
  },
  {
   "cell_type": "code",
   "execution_count": 1,
   "metadata": {},
   "outputs": [],
   "source": [
    "# Defining a list\n",
    "list1 = [1,2,3,4,5,6,7,8,9,10]"
   ]
  },
  {
   "cell_type": "markdown",
   "metadata": {},
   "source": [
    "### Example 1\n",
    "- Printing items of iterative object (list)"
   ]
  },
  {
   "cell_type": "code",
   "execution_count": 2,
   "metadata": {},
   "outputs": [
    {
     "name": "stdout",
     "output_type": "stream",
     "text": [
      "1\n",
      "Hi\n",
      "2\n",
      "Hi\n",
      "3\n",
      "Hi\n",
      "4\n",
      "Hi\n",
      "5\n",
      "Hi\n",
      "6\n",
      "Hi\n",
      "7\n",
      "Hi\n",
      "8\n",
      "Hi\n",
      "9\n",
      "Hi\n",
      "10\n",
      "Hi\n"
     ]
    }
   ],
   "source": [
    "for i in list1:\n",
    "    print(i)\n",
    "    print(\"Hi\")"
   ]
  },
  {
   "cell_type": "code",
   "execution_count": 3,
   "metadata": {},
   "outputs": [
    {
     "name": "stdout",
     "output_type": "stream",
     "text": [
      "1\n",
      "4\n",
      "9\n",
      "16\n",
      "25\n",
      "36\n",
      "49\n",
      "64\n",
      "81\n",
      "100\n"
     ]
    }
   ],
   "source": [
    "for num in list1:\n",
    "    print(num*num)"
   ]
  },
  {
   "cell_type": "markdown",
   "metadata": {},
   "source": [
    "### Example 2\n",
    "- Lets' print only the even numbers from that list!"
   ]
  },
  {
   "cell_type": "code",
   "execution_count": 4,
   "metadata": {},
   "outputs": [
    {
     "name": "stdout",
     "output_type": "stream",
     "text": [
      "2\n",
      "4\n",
      "6\n",
      "8\n",
      "10\n"
     ]
    }
   ],
   "source": [
    "for num in list1:\n",
    "    if num%2 == 0:\n",
    "        print(num)"
   ]
  },
  {
   "cell_type": "markdown",
   "metadata": {},
   "source": [
    "#### We could have put an `else` statement in there"
   ]
  },
  {
   "cell_type": "code",
   "execution_count": 5,
   "metadata": {},
   "outputs": [
    {
     "name": "stdout",
     "output_type": "stream",
     "text": [
      "It is an odd number!\n",
      "2\n",
      "It is an odd number!\n",
      "4\n",
      "It is an odd number!\n",
      "6\n",
      "It is an odd number!\n",
      "8\n",
      "It is an odd number!\n",
      "10\n"
     ]
    }
   ],
   "source": [
    "for num in list1:\n",
    "    if num%2 == 0:\n",
    "        print(num)\n",
    "    else:\n",
    "        print(\"It is an odd number!\")"
   ]
  },
  {
   "cell_type": "markdown",
   "metadata": {},
   "source": [
    "### Example 3\n",
    "- Let's create a `for` loop that sums up the list"
   ]
  },
  {
   "cell_type": "code",
   "execution_count": 6,
   "metadata": {},
   "outputs": [
    {
     "name": "stdout",
     "output_type": "stream",
     "text": [
      "1\n",
      "3\n",
      "6\n",
      "10\n",
      "15\n",
      "21\n",
      "28\n",
      "36\n",
      "45\n",
      "55\n"
     ]
    }
   ],
   "source": [
    "# Start sum at zero\n",
    "list_sum = 0\n",
    "for num in list1:\n",
    "    list_sum = list_sum + num\n",
    "    print(list_sum)"
   ]
  },
  {
   "cell_type": "markdown",
   "metadata": {},
   "source": [
    "#### Great! Read over the above cell and make sure you understand fully what is going on. Also we could have implemented a `+=`  to perform the addition towards the sum. For Example:"
   ]
  },
  {
   "cell_type": "code",
   "execution_count": 7,
   "metadata": {},
   "outputs": [
    {
     "name": "stdout",
     "output_type": "stream",
     "text": [
      "55\n"
     ]
    }
   ],
   "source": [
    "# Start sum at zero\n",
    "list_sum = 0\n",
    "for num in list1:\n",
    "    list_sum += num\n",
    "    \n",
    "print(list_sum)"
   ]
  },
  {
   "cell_type": "markdown",
   "metadata": {},
   "source": [
    "### Example 4\n",
    "- We have used `for` loops with lists, how about with strings? Remember strings are a sequence so when we iterate through them we will be accessing each item in that string"
   ]
  },
  {
   "cell_type": "code",
   "execution_count": 8,
   "metadata": {},
   "outputs": [
    {
     "name": "stdout",
     "output_type": "stream",
     "text": [
      "T\n",
      "h\n",
      "i\n",
      "s\n",
      " \n",
      "i\n",
      "s\n",
      " \n",
      "a\n",
      " \n",
      "s\n",
      "t\n",
      "r\n",
      "i\n",
      "n\n",
      "g\n",
      ".\n"
     ]
    }
   ],
   "source": [
    "for letter in 'This is a string.':\n",
    "    print(letter)"
   ]
  },
  {
   "cell_type": "markdown",
   "metadata": {},
   "source": [
    "### Example 5\n",
    "- Let's now look at how `for` loops can be used with tuple"
   ]
  },
  {
   "cell_type": "code",
   "execution_count": 9,
   "metadata": {},
   "outputs": [
    {
     "name": "stdout",
     "output_type": "stream",
     "text": [
      "1\n",
      "2\n",
      "3\n",
      "Data science\n",
      "5\n"
     ]
    }
   ],
   "source": [
    "tup = (1,'2',3,'Data science',5)\n",
    "for t in tup:\n",
    "    print(t)"
   ]
  },
  {
   "cell_type": "markdown",
   "metadata": {},
   "source": [
    "### Example 6\n",
    "- During `for` loop we can access the individual items inside a tuple!"
   ]
  },
  {
   "cell_type": "code",
   "execution_count": 10,
   "metadata": {},
   "outputs": [],
   "source": [
    "list2 = [(2,4),(6,8),(10,12)]"
   ]
  },
  {
   "cell_type": "code",
   "execution_count": 11,
   "metadata": {},
   "outputs": [
    {
     "name": "stdout",
     "output_type": "stream",
     "text": [
      "(2, 4)\n",
      "(6, 8)\n",
      "(10, 12)\n"
     ]
    }
   ],
   "source": [
    "for tup in list2:\n",
    "    print(tup)"
   ]
  },
  {
   "cell_type": "code",
   "execution_count": 12,
   "metadata": {},
   "outputs": [
    {
     "name": "stdout",
     "output_type": "stream",
     "text": [
      "2\n",
      "4\n",
      "6\n",
      "8\n",
      "10\n",
      "12\n"
     ]
    }
   ],
   "source": [
    "for tup_val in list2:\n",
    "    for val in tup_val:\n",
    "        print(val)"
   ]
  },
  {
   "cell_type": "code",
   "execution_count": 13,
   "metadata": {},
   "outputs": [
    {
     "name": "stdout",
     "output_type": "stream",
     "text": [
      "2\n",
      "6\n",
      "10\n"
     ]
    }
   ],
   "source": [
    "# Now with unpacking\n",
    "for (t1,t2) in list2:\n",
    "    print(t1)"
   ]
  },
  {
   "cell_type": "markdown",
   "metadata": {},
   "source": [
    "### Example 7"
   ]
  },
  {
   "cell_type": "code",
   "execution_count": 14,
   "metadata": {},
   "outputs": [
    {
     "name": "stdout",
     "output_type": "stream",
     "text": [
      "k1\n",
      "k2\n",
      "k3\n"
     ]
    }
   ],
   "source": [
    "d = {'k1':1,'k2':[2,2,4],'k3':3}\n",
    "for k in d:\n",
    "    print(k)"
   ]
  },
  {
   "cell_type": "markdown",
   "metadata": {},
   "source": [
    "#### Notice how this produces only the keys. So how can we get the values? or both the keys and the values?\n",
    "#### We are going to introduce the new dictionary methods: .keys( ), .values( ), .items( )"
   ]
  },
  {
   "cell_type": "code",
   "execution_count": 15,
   "metadata": {},
   "outputs": [
    {
     "data": {
      "text/plain": [
       "dict_items([('k1', 1), ('k2', [2, 2, 4]), ('k3', 3)])"
      ]
     },
     "execution_count": 15,
     "metadata": {},
     "output_type": "execute_result"
    }
   ],
   "source": [
    "# View objects in dictionary\n",
    "d.items()"
   ]
  },
  {
   "cell_type": "markdown",
   "metadata": {},
   "source": [
    "#### Since the .items( ) method supports iteration, we can perform dictionary unpackingto separate keys and values"
   ]
  },
  {
   "cell_type": "code",
   "execution_count": 17,
   "metadata": {},
   "outputs": [
    {
     "name": "stdout",
     "output_type": "stream",
     "text": [
      "('k1', 1)\n",
      "('k2', [2, 2, 4])\n",
      "('k3', 3)\n"
     ]
    }
   ],
   "source": [
    "# Dictionary Unpacking\n",
    "for i in d.items():\n",
    "    print(i)"
   ]
  },
  {
   "cell_type": "code",
   "execution_count": 18,
   "metadata": {},
   "outputs": [
    {
     "name": "stdout",
     "output_type": "stream",
     "text": [
      "k1\n",
      "1\n",
      "k2\n",
      "[2, 2, 4]\n",
      "k3\n",
      "3\n"
     ]
    }
   ],
   "source": [
    "# Dictionary Unpacking\n",
    "for k,v in d.items():\n",
    "    print(k)\n",
    "    print(v)"
   ]
  },
  {
   "cell_type": "markdown",
   "metadata": {},
   "source": [
    "#### If you want to obtain a true list of keys, values, or key/value tuples, you can cast the view as list"
   ]
  },
  {
   "cell_type": "code",
   "execution_count": 19,
   "metadata": {},
   "outputs": [
    {
     "data": {
      "text/plain": [
       "['k1', 'k2', 'k3']"
      ]
     },
     "execution_count": 19,
     "metadata": {},
     "output_type": "execute_result"
    }
   ],
   "source": [
    "list(d.keys())"
   ]
  },
  {
   "cell_type": "markdown",
   "metadata": {},
   "source": [
    "#### Remember that dictionaries are unordered, and that keys and values come back in arbitrary order. You can obtain a sorted list using sorted( )"
   ]
  },
  {
   "cell_type": "code",
   "execution_count": 20,
   "metadata": {},
   "outputs": [
    {
     "data": {
      "text/plain": [
       "[1, [2, 2, 4], 3]"
      ]
     },
     "execution_count": 20,
     "metadata": {},
     "output_type": "execute_result"
    }
   ],
   "source": [
    "list(d.values())"
   ]
  },
  {
   "cell_type": "code",
   "execution_count": 21,
   "metadata": {},
   "outputs": [
    {
     "name": "stdout",
     "output_type": "stream",
     "text": [
      "k1\n",
      "k2\n",
      "k3\n"
     ]
    }
   ],
   "source": [
    "# Dictionary Unpacking\n",
    "for k in d.keys():\n",
    "    print(k)"
   ]
  },
  {
   "cell_type": "code",
   "execution_count": 22,
   "metadata": {},
   "outputs": [
    {
     "name": "stdout",
     "output_type": "stream",
     "text": [
      "1\n",
      "[2, 2, 4]\n",
      "3\n"
     ]
    }
   ],
   "source": [
    "# Dictionary Unpacking\n",
    "for v in d.values():\n",
    "    print(v)"
   ]
  },
  {
   "cell_type": "code",
   "execution_count": 23,
   "metadata": {},
   "outputs": [],
   "source": [
    "d = {'k1':'123456','k2':[2,2,4],'k3':'36789'}"
   ]
  },
  {
   "cell_type": "code",
   "execution_count": 24,
   "metadata": {},
   "outputs": [
    {
     "name": "stdout",
     "output_type": "stream",
     "text": [
      "345\n",
      "[4]\n",
      "789\n"
     ]
    }
   ],
   "source": [
    "# Dictionary Unpacking\n",
    "for v in d.values():\n",
    "    print(v[2:5])"
   ]
  },
  {
   "cell_type": "code",
   "execution_count": null,
   "metadata": {},
   "outputs": [],
   "source": []
  }
 ],
 "metadata": {
  "kernelspec": {
   "display_name": "Python 3",
   "language": "python",
   "name": "python3"
  },
  "language_info": {
   "codemirror_mode": {
    "name": "ipython",
    "version": 3
   },
   "file_extension": ".py",
   "mimetype": "text/x-python",
   "name": "python",
   "nbconvert_exporter": "python",
   "pygments_lexer": "ipython3",
   "version": "3.7.16"
  }
 },
 "nbformat": 4,
 "nbformat_minor": 4
}
