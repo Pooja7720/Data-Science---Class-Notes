{
 "cells": [
  {
   "cell_type": "markdown",
   "metadata": {},
   "source": [
    "# Tuple\n",
    "- Tuple is exactly same as List except that it is immutable, i.e once we creates Tuple object, we cannot perform any changes in that object.\n",
    "- Hence Tuple is Read Only version of List.\n",
    "- Tuples are used to store multiple items in a single variable.\n",
    "- A tuple is a collection which is **ordered** and **unchangable**\n",
    "- Tuples are written with round brackets.\n",
    "- Tuple items are **ordered**, **indexed**, **unchangable** and **allow duplicate values**.\n",
    "- Lists were **heterogeneous**, likewise tuples are also **heterogeneous**.\n",
    "- If our data is fixed and never changes then we should go for Tuple.\n",
    "- You would tuples to present things such as days of the week, or dates on a calender.\n",
    "- Insertion order is preserved.\n",
    "- Example is as follows:\n",
    "\n",
    "### Ordered  : \n",
    "- When we say that tuples are ordered, it means that the items have a defined order, and that order will not change.\n",
    "- We can access tuple by indexing because tuples are ordered\n",
    "\n",
    "### Unchangeable : \n",
    "- Tuples are unchangeable, meaning that we cannot change, add or remove items after the tuple has been created.\n",
    "\n",
    "### Allow Duplicates : \n",
    "- Since tuples are indexed, they can have items with the same value.\n",
    "- Similar items can be present in tuple.\n",
    "\n",
    "### Heterogeneous:\n",
    "- Allow items of different data types in a single tuple\n",
    "\n",
    "\n",
    "##### The only difference between list and tuple is, lists are mutable(we can change items in list) and tuples are immutable(We can not update items in tuple)\n",
    "\n",
    "##### Ordered ∝ Indexed ∝ Allow duplicates\n",
    "- If any collectional data type is ordered then it is indexed and if it is indexed then it will allow duplicate values\n",
    "\n",
    "#### Constructing Tuples\n",
    "- We can represent Tuple elements within Parenthesis and with comma seperator.\n",
    "- Parenthesis are optional but recommended to use."
   ]
  },
  {
   "cell_type": "code",
   "execution_count": 1,
   "metadata": {},
   "outputs": [
    {
     "name": "stdout",
     "output_type": "stream",
     "text": [
      "()\n",
      "<class 'tuple'>\n"
     ]
    }
   ],
   "source": [
    "# Creating empty tuple\n",
    "t = tuple()\n",
    "print(t)\n",
    "print(type(t))"
   ]
  },
  {
   "cell_type": "code",
   "execution_count": 1,
   "metadata": {},
   "outputs": [
    {
     "name": "stdout",
     "output_type": "stream",
     "text": [
      "<class 'tuple'>\n"
     ]
    }
   ],
   "source": [
    "# Tuple without ()\n",
    "tuple_ = 10,20,30,40\n",
    "print(type(tuple_))"
   ]
  },
  {
   "cell_type": "code",
   "execution_count": 2,
   "metadata": {},
   "outputs": [
    {
     "name": "stdout",
     "output_type": "stream",
     "text": [
      "<class 'tuple'>\n",
      "<class 'int'>\n"
     ]
    }
   ],
   "source": [
    "# If we want to represent single element in tuple then use ,\n",
    "num1 = 10,\n",
    "num2 = 10\n",
    "print(type(num1))\n",
    "print(type(num2))"
   ]
  },
  {
   "cell_type": "code",
   "execution_count": 1,
   "metadata": {},
   "outputs": [
    {
     "name": "stdout",
     "output_type": "stream",
     "text": [
      "('Jan', 'Feb', 'March', 'April', 'May', 'June', 'July')\n"
     ]
    }
   ],
   "source": [
    "Months = (\"Jan\",\"Feb\",\"March\",\"April\",\"May\",\"June\",\"July\")\n",
    "print(Months)"
   ]
  },
  {
   "cell_type": "code",
   "execution_count": 2,
   "metadata": {},
   "outputs": [
    {
     "name": "stdout",
     "output_type": "stream",
     "text": [
      "7\n"
     ]
    }
   ],
   "source": [
    "Months = (\"Jan\",\"Feb\",\"March\",\"April\",\"May\",\"June\",\"July\")\n",
    "print(len(Months))"
   ]
  },
  {
   "cell_type": "code",
   "execution_count": 3,
   "metadata": {},
   "outputs": [
    {
     "name": "stdout",
     "output_type": "stream",
     "text": [
      "<class 'tuple'>\n"
     ]
    }
   ],
   "source": [
    "Months = (\"Jan\",\"Feb\",\"March\",\"April\",\"May\",\"June\",\"July\")\n",
    "print(type(Months))"
   ]
  },
  {
   "cell_type": "code",
   "execution_count": 4,
   "metadata": {},
   "outputs": [
    {
     "name": "stdout",
     "output_type": "stream",
     "text": [
      "(1, 2, 3, 4, 5, 6, 7)\n"
     ]
    }
   ],
   "source": [
    "# Tuple not only work for string, but will work for any other data type as well\n",
    "Weekdays = (1,2,3,4,5,6,7)\n",
    "print(Weekdays)"
   ]
  },
  {
   "cell_type": "code",
   "execution_count": 3,
   "metadata": {
    "scrolled": true
   },
   "outputs": [
    {
     "name": "stdout",
     "output_type": "stream",
     "text": [
      "(1, 'Jan', 2, 'Feb', 3, 'March', 4, 'April', 5, 'may', 6, 'June', 7, 'July', 78.9, 12, True, 90.0)\n"
     ]
    }
   ],
   "source": [
    "# We can have a combination of numbers, strings, floats, bool in a single tuple\n",
    "Weekdays = (1,\"Jan\",2,\"Feb\",3,\"March\",4,\"April\",5,\"may\",6,\"June\",7,\"July\",\n",
    "            78.90,12,True,90.0)\n",
    "print(Weekdays)"
   ]
  },
  {
   "cell_type": "markdown",
   "metadata": {},
   "source": [
    "#### Data type of elements in tuple:\n",
    "- We can get the data type of single element in a tuple as shown in the below example"
   ]
  },
  {
   "cell_type": "code",
   "execution_count": 4,
   "metadata": {},
   "outputs": [
    {
     "name": "stdout",
     "output_type": "stream",
     "text": [
      "<class 'int'>\n",
      "<class 'str'>\n",
      "<class 'float'>\n",
      "<class 'bool'>\n"
     ]
    }
   ],
   "source": [
    "Weekdays = (1,\"Jan\",2,\"Feb\",3,\"March\",4,\"April\",5,\"may\",6,\"June\",7,\"July\",\n",
    "            78.90,12,True,90.0)\n",
    "print(type(Weekdays[0]))\n",
    "print(type(Weekdays[1]))\n",
    "print(type(Weekdays[14]))\n",
    "print(type(Weekdays[16]))\n"
   ]
  },
  {
   "cell_type": "markdown",
   "metadata": {},
   "source": [
    "#### By using tuple() function\n"
   ]
  },
  {
   "cell_type": "code",
   "execution_count": 2,
   "metadata": {},
   "outputs": [
    {
     "name": "stdout",
     "output_type": "stream",
     "text": [
      "(10, 20, 30, 40)\n",
      "<class 'tuple'>\n",
      "(10, 12, 14, 16, 18)\n",
      "<class 'tuple'>\n"
     ]
    }
   ],
   "source": [
    "l1 = [10,20,30,40]\n",
    "t1 = tuple(l1)\n",
    "print(t1)\n",
    "print(type(t1))\n",
    "\n",
    "t2 = tuple(range(10,20,2))\n",
    "print(t2)\n",
    "print(type(t2))"
   ]
  },
  {
   "cell_type": "markdown",
   "metadata": {},
   "source": [
    "### Accessing tuple items:\n",
    "- You can access tuple items by referring to the index number, inside square brackets\n",
    "- You can specify a range of indexes by specifying where to start and where to end the range.\n",
    "- When specifying a range, the return value will be a new tuple with the specified items."
   ]
  },
  {
   "cell_type": "code",
   "execution_count": 7,
   "metadata": {},
   "outputs": [
    {
     "name": "stdout",
     "output_type": "stream",
     "text": [
      "('March', 'April', 'May')\n"
     ]
    }
   ],
   "source": [
    "# You can access a range from tuple\n",
    "Months = (\"Jan\",\"Feb\",\"March\",\"April\",\"May\",\"June\",\"July\")\n",
    "print(Months[2:5])"
   ]
  },
  {
   "cell_type": "code",
   "execution_count": 8,
   "metadata": {},
   "outputs": [
    {
     "name": "stdout",
     "output_type": "stream",
     "text": [
      "March\n"
     ]
    }
   ],
   "source": [
    "# You can access a single element from tuple\n",
    "Months = (\"Jan\",\"Feb\",\"March\",\"April\",\"May\",\"June\",\"July\")\n",
    "print(Months[2])"
   ]
  },
  {
   "cell_type": "code",
   "execution_count": 9,
   "metadata": {},
   "outputs": [
    {
     "name": "stdout",
     "output_type": "stream",
     "text": [
      "('June', 'July')\n"
     ]
    }
   ],
   "source": [
    "# You can also use negative indexing on tuple.\n",
    "Months = (\"Jan\",\"Feb\",\"March\",\"April\",\"May\",\"June\",\"July\")\n",
    "print(Months[-2:])"
   ]
  },
  {
   "cell_type": "markdown",
   "metadata": {},
   "source": [
    "### Check whether the item is present in tuple or not?"
   ]
  },
  {
   "cell_type": "code",
   "execution_count": 10,
   "metadata": {},
   "outputs": [
    {
     "name": "stdout",
     "output_type": "stream",
     "text": [
      "PRESENT!\n"
     ]
    }
   ],
   "source": [
    "Months = (\"Jan\",\"Feb\",\"March\",\"April\",\"May\",\"June\",\"July\")\n",
    "if \"March\" in Months:\n",
    "    print(\"PRESENT!\")\n",
    "else:\n",
    "    print(\"NOT PRESENT!\")"
   ]
  },
  {
   "cell_type": "code",
   "execution_count": 11,
   "metadata": {},
   "outputs": [
    {
     "name": "stdout",
     "output_type": "stream",
     "text": [
      "NOT PRESENT!\n"
     ]
    }
   ],
   "source": [
    "Months = (\"Jan\",\"Feb\",\"March\",\"April\",\"May\",\"June\",\"July\")\n",
    "if \"December\" in Months:\n",
    "    print(\"PRESENT!\")\n",
    "else:\n",
    "    print(\"NOT PRESENT!\")"
   ]
  },
  {
   "cell_type": "markdown",
   "metadata": {},
   "source": [
    "## Change tuple values (Immutability)\n",
    "- Once a tuple is created, you can not change it's values. Tuples are **unchangable**, or **immutable** as it also is called.\n",
    "- But there is work around. You can convert a tuple into a list, and convert the list back into tuple.\n",
    "- Since tuples are immutable, they do not have built in methods like append(), extend(), insert(), remove(), etc. So if we are going to apply these methods directly on tuples then it will throw an error\n",
    "- But there are other ways to apply these functions on tuples, by directly converting tuples to lists and after updating values again convert that list to tuples."
   ]
  },
  {
   "cell_type": "code",
   "execution_count": 13,
   "metadata": {},
   "outputs": [
    {
     "ename": "TypeError",
     "evalue": "'tuple' object does not support item assignment",
     "output_type": "error",
     "traceback": [
      "\u001b[1;31m---------------------------------------------------------------------------\u001b[0m",
      "\u001b[1;31mTypeError\u001b[0m                                 Traceback (most recent call last)",
      "\u001b[1;32m<ipython-input-13-0820d8b223d3>\u001b[0m in \u001b[0;36m<module>\u001b[1;34m\u001b[0m\n\u001b[0;32m      1\u001b[0m \u001b[1;31m# Trying to change values in the tuple directly\u001b[0m\u001b[1;33m\u001b[0m\u001b[1;33m\u001b[0m\u001b[1;33m\u001b[0m\u001b[0m\n\u001b[0;32m      2\u001b[0m \u001b[0mMonths\u001b[0m \u001b[1;33m=\u001b[0m \u001b[1;33m(\u001b[0m\u001b[1;34m\"Jan\"\u001b[0m\u001b[1;33m,\u001b[0m\u001b[1;34m\"Feb\"\u001b[0m\u001b[1;33m,\u001b[0m\u001b[1;34m\"March\"\u001b[0m\u001b[1;33m,\u001b[0m\u001b[1;34m\"April\"\u001b[0m\u001b[1;33m,\u001b[0m\u001b[1;34m\"May\"\u001b[0m\u001b[1;33m,\u001b[0m\u001b[1;34m\"June\"\u001b[0m\u001b[1;33m,\u001b[0m\u001b[1;34m\"July\"\u001b[0m\u001b[1;33m)\u001b[0m\u001b[1;33m\u001b[0m\u001b[1;33m\u001b[0m\u001b[0m\n\u001b[1;32m----> 3\u001b[1;33m \u001b[0mMonths\u001b[0m\u001b[1;33m[\u001b[0m\u001b[1;36m2\u001b[0m\u001b[1;33m]\u001b[0m \u001b[1;33m=\u001b[0m \u001b[1;34m\"December\"\u001b[0m\u001b[1;33m\u001b[0m\u001b[1;33m\u001b[0m\u001b[0m\n\u001b[0m",
      "\u001b[1;31mTypeError\u001b[0m: 'tuple' object does not support item assignment"
     ]
    }
   ],
   "source": [
    "# Trying to change values in the tuple directly\n",
    "Months = (\"Jan\",\"Feb\",\"March\",\"April\",\"May\",\"June\",\"July\")\n",
    "Months[2] = \"December\""
   ]
  },
  {
   "cell_type": "code",
   "execution_count": 1,
   "metadata": {},
   "outputs": [
    {
     "name": "stdout",
     "output_type": "stream",
     "text": [
      "List without changes :  ['Jan', 'Feb', 'March', 'April', 'May', 'June', 'July']\n",
      "List with changes :  ['Jan', 'Feb', 'Dec', 'April', 'May', 'June', 'July']\n",
      "<class 'list'>\n",
      "('Jan', 'Feb', 'Dec', 'April', 'May', 'June', 'July')\n",
      "<class 'tuple'>\n"
     ]
    }
   ],
   "source": [
    "# Changing values of tuple by converting it into a list\n",
    "Months = (\"Jan\",\"Feb\",\"March\",\"April\",\"May\",\"June\",\"July\")\n",
    "Months_List = list(Months) # Converting tuple to a list\n",
    "print(\"List without changes : \", Months_List)\n",
    "\n",
    "Months_List[2] = \"Dec\" # Updating value\n",
    "print(\"List with changes : \",Months_List)\n",
    "print(type(Months_List))\n",
    "\n",
    "Months = tuple(Months_List) # Converting list to tuple\n",
    "print(Months) \n",
    "print(type(Months))"
   ]
  },
  {
   "cell_type": "code",
   "execution_count": 14,
   "metadata": {},
   "outputs": [
    {
     "ename": "AttributeError",
     "evalue": "'tuple' object has no attribute 'append'",
     "output_type": "error",
     "traceback": [
      "\u001b[1;31m---------------------------------------------------------------------------\u001b[0m",
      "\u001b[1;31mAttributeError\u001b[0m                            Traceback (most recent call last)",
      "\u001b[1;32m<ipython-input-14-06a05f431221>\u001b[0m in \u001b[0;36m<module>\u001b[1;34m\u001b[0m\n\u001b[0;32m      1\u001b[0m \u001b[1;31m# Trying append and extend functions on tuple\u001b[0m\u001b[1;33m\u001b[0m\u001b[1;33m\u001b[0m\u001b[1;33m\u001b[0m\u001b[0m\n\u001b[0;32m      2\u001b[0m \u001b[0mMonths\u001b[0m \u001b[1;33m=\u001b[0m \u001b[1;33m(\u001b[0m\u001b[1;34m\"Jan\"\u001b[0m\u001b[1;33m,\u001b[0m\u001b[1;34m\"Feb\"\u001b[0m\u001b[1;33m,\u001b[0m\u001b[1;34m\"March\"\u001b[0m\u001b[1;33m,\u001b[0m\u001b[1;34m\"April\"\u001b[0m\u001b[1;33m,\u001b[0m\u001b[1;34m\"May\"\u001b[0m\u001b[1;33m,\u001b[0m\u001b[1;34m\"June\"\u001b[0m\u001b[1;33m,\u001b[0m\u001b[1;34m\"July\"\u001b[0m\u001b[1;33m)\u001b[0m\u001b[1;33m\u001b[0m\u001b[1;33m\u001b[0m\u001b[0m\n\u001b[1;32m----> 3\u001b[1;33m \u001b[0mMonths\u001b[0m\u001b[1;33m.\u001b[0m\u001b[0mappend\u001b[0m\u001b[1;33m(\u001b[0m\u001b[1;34m\"December\"\u001b[0m\u001b[1;33m)\u001b[0m\u001b[1;33m\u001b[0m\u001b[1;33m\u001b[0m\u001b[0m\n\u001b[0m",
      "\u001b[1;31mAttributeError\u001b[0m: 'tuple' object has no attribute 'append'"
     ]
    }
   ],
   "source": [
    "# Trying append function on tuple\n",
    "Months = (\"Jan\",\"Feb\",\"March\",\"April\",\"May\",\"June\",\"July\")\n",
    "Months.append(\"December\")"
   ]
  },
  {
   "cell_type": "code",
   "execution_count": 25,
   "metadata": {},
   "outputs": [
    {
     "name": "stdout",
     "output_type": "stream",
     "text": [
      "List :  ['Jan', 'Feb', 'March', 'April', 'May', 'June', 'July', 'Dec']\n",
      "Tuple :  ('Jan', 'Feb', 'March', 'April', 'May', 'June', 'July', 'Dec')\n"
     ]
    }
   ],
   "source": [
    "# appending values in tuple by converting it into a list\n",
    "Months = (\"Jan\",\"Feb\",\"March\",\"April\",\"May\",\"June\",\"July\")\n",
    "Months_List = list(Months) # Converting tuple to a list\n",
    "\n",
    "Months_List.append(\"Dec\")\n",
    "print(\"List : \",Months_List)\n",
    "\n",
    "Months = tuple(Months_List) # Converting list to a tuple\n",
    "print(\"Tuple : \",Months)"
   ]
  },
  {
   "cell_type": "code",
   "execution_count": 27,
   "metadata": {
    "scrolled": true
   },
   "outputs": [
    {
     "ename": "AttributeError",
     "evalue": "'tuple' object has no attribute 'extend'",
     "output_type": "error",
     "traceback": [
      "\u001b[1;31m---------------------------------------------------------------------------\u001b[0m",
      "\u001b[1;31mAttributeError\u001b[0m                            Traceback (most recent call last)",
      "\u001b[1;32m<ipython-input-27-b68520d89143>\u001b[0m in \u001b[0;36m<module>\u001b[1;34m\u001b[0m\n\u001b[0;32m      2\u001b[0m \u001b[0mMonths\u001b[0m \u001b[1;33m=\u001b[0m \u001b[1;33m(\u001b[0m\u001b[1;34m\"Jan\"\u001b[0m\u001b[1;33m,\u001b[0m\u001b[1;34m\"Feb\"\u001b[0m\u001b[1;33m,\u001b[0m\u001b[1;34m\"March\"\u001b[0m\u001b[1;33m,\u001b[0m\u001b[1;34m\"April\"\u001b[0m\u001b[1;33m,\u001b[0m\u001b[1;34m\"May\"\u001b[0m\u001b[1;33m,\u001b[0m\u001b[1;34m\"June\"\u001b[0m\u001b[1;33m,\u001b[0m\u001b[1;34m\"July\"\u001b[0m\u001b[1;33m)\u001b[0m\u001b[1;33m\u001b[0m\u001b[1;33m\u001b[0m\u001b[0m\n\u001b[0;32m      3\u001b[0m \u001b[0mlist1\u001b[0m \u001b[1;33m=\u001b[0m \u001b[1;33m[\u001b[0m\u001b[1;34m\"Nov\"\u001b[0m\u001b[1;33m,\u001b[0m\u001b[1;34m\"Dec\"\u001b[0m\u001b[1;33m]\u001b[0m\u001b[1;33m\u001b[0m\u001b[1;33m\u001b[0m\u001b[0m\n\u001b[1;32m----> 4\u001b[1;33m \u001b[0mMonths\u001b[0m\u001b[1;33m.\u001b[0m\u001b[0mextend\u001b[0m\u001b[1;33m(\u001b[0m\u001b[0mlist1\u001b[0m\u001b[1;33m)\u001b[0m\u001b[1;33m\u001b[0m\u001b[1;33m\u001b[0m\u001b[0m\n\u001b[0m",
      "\u001b[1;31mAttributeError\u001b[0m: 'tuple' object has no attribute 'extend'"
     ]
    }
   ],
   "source": [
    "# Trying extend function on tuple\n",
    "Months = (\"Jan\",\"Feb\",\"March\",\"April\",\"May\",\"June\",\"July\")\n",
    "list1 = [\"Nov\",\"Dec\"]\n",
    "Months.extend(list1)"
   ]
  },
  {
   "cell_type": "code",
   "execution_count": 28,
   "metadata": {},
   "outputs": [
    {
     "name": "stdout",
     "output_type": "stream",
     "text": [
      "List :  ['Jan', 'Feb', 'March', 'April', 'May', 'June', 'July', 'Nov', 'Dec']\n",
      "Tuple :  ('Jan', 'Feb', 'March', 'April', 'May', 'June', 'July', 'Nov', 'Dec')\n"
     ]
    }
   ],
   "source": [
    "# extending values in tuple by converting it into a list\n",
    "Months = (\"Jan\",\"Feb\",\"March\",\"April\",\"May\",\"June\",\"July\")\n",
    "Months_List = list(Months) # Converting tuple to a list\n",
    "\n",
    "list1 = [\"Nov\",\"Dec\"]\n",
    "Months_List.extend(list1)\n",
    "print(\"List : \",Months_List)\n",
    "\n",
    "Months = tuple(Months_List) # Converting list to a tuple\n",
    "print(\"Tuple : \",Months)"
   ]
  },
  {
   "cell_type": "code",
   "execution_count": 16,
   "metadata": {
    "scrolled": true
   },
   "outputs": [
    {
     "ename": "AttributeError",
     "evalue": "'tuple' object has no attribute 'insert'",
     "output_type": "error",
     "traceback": [
      "\u001b[1;31m---------------------------------------------------------------------------\u001b[0m",
      "\u001b[1;31mAttributeError\u001b[0m                            Traceback (most recent call last)",
      "\u001b[1;32m<ipython-input-16-fe637d21c387>\u001b[0m in \u001b[0;36m<module>\u001b[1;34m\u001b[0m\n\u001b[1;32m----> 1\u001b[1;33m \u001b[0mMonths\u001b[0m\u001b[1;33m.\u001b[0m\u001b[0minsert\u001b[0m\u001b[1;33m(\u001b[0m\u001b[1;36m2\u001b[0m\u001b[1;33m,\u001b[0m\u001b[1;34m\"Dec\"\u001b[0m\u001b[1;33m)\u001b[0m\u001b[1;33m\u001b[0m\u001b[1;33m\u001b[0m\u001b[0m\n\u001b[0m",
      "\u001b[1;31mAttributeError\u001b[0m: 'tuple' object has no attribute 'insert'"
     ]
    }
   ],
   "source": [
    "# Inserting item into a tuple directly\n",
    "Months.insert(2,\"Dec\")"
   ]
  },
  {
   "cell_type": "code",
   "execution_count": 29,
   "metadata": {},
   "outputs": [
    {
     "name": "stdout",
     "output_type": "stream",
     "text": [
      "List :  ['Jan', 'Feb', 'Nov', 'March', 'April', 'May', 'June', 'July']\n",
      "Tuple :  ('Jan', 'Feb', 'Nov', 'March', 'April', 'May', 'June', 'July')\n"
     ]
    }
   ],
   "source": [
    "# Converting tuple to a list and then inserting item into it\n",
    "Months = (\"Jan\",\"Feb\",\"March\",\"April\",\"May\",\"June\",\"July\")\n",
    "Months_List = list(Months) # Converting tuple to a list\n",
    "\n",
    "Months_List.insert(2,\"Nov\")\n",
    "print(\"List : \",Months_List)\n",
    "\n",
    "Months = tuple(Months_List) # Converting list to a tuple\n",
    "print(\"Tuple : \",Months)"
   ]
  },
  {
   "cell_type": "code",
   "execution_count": 17,
   "metadata": {},
   "outputs": [
    {
     "ename": "AttributeError",
     "evalue": "'tuple' object has no attribute 'remove'",
     "output_type": "error",
     "traceback": [
      "\u001b[1;31m---------------------------------------------------------------------------\u001b[0m",
      "\u001b[1;31mAttributeError\u001b[0m                            Traceback (most recent call last)",
      "\u001b[1;32m<ipython-input-17-d9c05beb9a72>\u001b[0m in \u001b[0;36m<module>\u001b[1;34m\u001b[0m\n\u001b[1;32m----> 1\u001b[1;33m \u001b[0mMonths\u001b[0m\u001b[1;33m.\u001b[0m\u001b[0mremove\u001b[0m\u001b[1;33m(\u001b[0m\u001b[1;34m\"Feb\"\u001b[0m\u001b[1;33m)\u001b[0m\u001b[1;33m\u001b[0m\u001b[1;33m\u001b[0m\u001b[0m\n\u001b[0m",
      "\u001b[1;31mAttributeError\u001b[0m: 'tuple' object has no attribute 'remove'"
     ]
    }
   ],
   "source": [
    "# Removing item from a tuple directly\n",
    "Months.remove(\"Feb\")"
   ]
  },
  {
   "cell_type": "code",
   "execution_count": 31,
   "metadata": {},
   "outputs": [
    {
     "name": "stdout",
     "output_type": "stream",
     "text": [
      "List :  ['Jan', 'March', 'April', 'May', 'June', 'July']\n",
      "Tuple :  ('Jan', 'March', 'April', 'May', 'June', 'July')\n"
     ]
    }
   ],
   "source": [
    "# Converting tuple to a list and then removing item\n",
    "Months = (\"Jan\",\"Feb\",\"March\",\"April\",\"May\",\"June\",\"July\")\n",
    "Months_List = list(Months) # Converting tuple to a list\n",
    "\n",
    "Months_List.remove(\"Feb\")\n",
    "print(\"List : \",Months_List)\n",
    "\n",
    "Months = tuple(Months_List) # Converting list to a tuple\n",
    "print(\"Tuple : \",Months)"
   ]
  },
  {
   "cell_type": "markdown",
   "metadata": {},
   "source": [
    "#### So from the above examples we can say that we can not insert, update or delete the values of tuple once it is created. We can do it only by converting tuple to a list."
   ]
  },
  {
   "cell_type": "markdown",
   "metadata": {},
   "source": [
    "### Adding tuple to a tuple\n",
    "- We are allowed to add tuples to a tuples. Addition of two tuples means we are doing concatination of that two tuples.\n",
    "- **When creating a tuple with only one item, remember to include a comma after the item, otherwise it will not be identified as a tuple.**\n",
    "- If we are taking Months = (\"Dec\") then kernel will treat it as a string and not as a tuple. And we can not do concatination of string and tuple so it will throw an error"
   ]
  },
  {
   "cell_type": "code",
   "execution_count": 32,
   "metadata": {},
   "outputs": [
    {
     "name": "stdout",
     "output_type": "stream",
     "text": [
      "('Jan', 'Feb', 'March', 'April', 'May', 'June', 'July', 'Aug', 12, 'Sept', 45, 'Oct', 78, 'Nov', 89.56, 'Dec')\n"
     ]
    }
   ],
   "source": [
    "Months = (\"Jan\",\"Feb\",\"March\",\"April\",\"May\",\"June\",\"July\")\n",
    "Months_Nums = (\"Aug\",12,\"Sept\",45,\"Oct\",78,\"Nov\",89.56,\"Dec\")\n",
    "Months += Months_Nums\n",
    "print(Months)"
   ]
  },
  {
   "cell_type": "code",
   "execution_count": 40,
   "metadata": {},
   "outputs": [
    {
     "name": "stdout",
     "output_type": "stream",
     "text": [
      "Type of Months :  <class 'tuple'>\n",
      "Type of Months_Nums :  <class 'str'>\n"
     ]
    },
    {
     "ename": "TypeError",
     "evalue": "can only concatenate tuple (not \"str\") to tuple",
     "output_type": "error",
     "traceback": [
      "\u001b[1;31m---------------------------------------------------------------------------\u001b[0m",
      "\u001b[1;31mTypeError\u001b[0m                                 Traceback (most recent call last)",
      "\u001b[1;32m<ipython-input-40-304c63db8a59>\u001b[0m in \u001b[0;36m<module>\u001b[1;34m\u001b[0m\n\u001b[0;32m      7\u001b[0m \u001b[0mprint\u001b[0m\u001b[1;33m(\u001b[0m\u001b[1;34m\"Type of Months_Nums : \"\u001b[0m\u001b[1;33m,\u001b[0m\u001b[0mtype\u001b[0m\u001b[1;33m(\u001b[0m\u001b[0mMonths_Nums\u001b[0m\u001b[1;33m)\u001b[0m\u001b[1;33m)\u001b[0m \u001b[1;31m# It is not a tuple it is str\u001b[0m\u001b[1;33m\u001b[0m\u001b[1;33m\u001b[0m\u001b[0m\n\u001b[0;32m      8\u001b[0m \u001b[1;33m\u001b[0m\u001b[0m\n\u001b[1;32m----> 9\u001b[1;33m \u001b[0mMonths\u001b[0m \u001b[1;33m+=\u001b[0m \u001b[0mMonths_Nums\u001b[0m\u001b[1;33m\u001b[0m\u001b[1;33m\u001b[0m\u001b[0m\n\u001b[0m\u001b[0;32m     10\u001b[0m \u001b[0mprint\u001b[0m\u001b[1;33m(\u001b[0m\u001b[0mMonths\u001b[0m\u001b[1;33m)\u001b[0m\u001b[1;33m\u001b[0m\u001b[1;33m\u001b[0m\u001b[0m\n",
      "\u001b[1;31mTypeError\u001b[0m: can only concatenate tuple (not \"str\") to tuple"
     ]
    }
   ],
   "source": [
    "# Here it will give an error, as it will treat Months_Nums as a string\n",
    "Months = (\"Jan\",\"Feb\",\"March\",\"April\",\"May\",\"June\",\"July\")\n",
    "Months_Nums = (\"Dec\")\n",
    "\n",
    "# Here if we check type of Months_Nums then it will show string\n",
    "print(\"Type of Months : \",type(Months))\n",
    "print(\"Type of Months_Nums : \",type(Months_Nums)) # It is not a tuple it is str\n",
    "\n",
    "Months += Months_Nums\n",
    "print(Months)"
   ]
  },
  {
   "cell_type": "code",
   "execution_count": 39,
   "metadata": {
    "scrolled": false
   },
   "outputs": [
    {
     "name": "stdout",
     "output_type": "stream",
     "text": [
      "Type of Months :  <class 'tuple'>\n",
      "Type of Months_Nums :  <class 'tuple'>\n",
      "\n",
      "Months tuple after concatination : \n",
      "('Jan', 'Feb', 'March', 'April', 'May', 'June', 'July', 'Dec')\n"
     ]
    }
   ],
   "source": [
    "# To overcome the above error, we have to put comma(,) in Months_Num tuple\n",
    "Months = (\"Jan\",\"Feb\",\"March\",\"April\",\"May\",\"June\",\"July\")\n",
    "Months_Nums = (\"Dec\",) # Here we have to put comma(,)\n",
    "\n",
    "# Otherwise it will treat it as a string, \n",
    "# and we can not do concatination of string and tuple\n",
    "\n",
    "Months += Months_Nums\n",
    "print(\"Type of Months : \",type(Months))\n",
    "print(\"Type of Months_Nums : \",type(Months_Nums))\n",
    "print(\"\")\n",
    "print(\"Months tuple after concatination : \")\n",
    "print(Months)\n"
   ]
  },
  {
   "cell_type": "markdown",
   "metadata": {},
   "source": [
    "### Multiplication operator or repetition operator (*)"
   ]
  },
  {
   "cell_type": "code",
   "execution_count": 8,
   "metadata": {},
   "outputs": [
    {
     "name": "stdout",
     "output_type": "stream",
     "text": [
      "(10, 20, 30, 10, 20, 30, 10, 20, 30)\n"
     ]
    }
   ],
   "source": [
    "t1 = (10,20,30)\n",
    "t2 = t1 * 3\n",
    "print(t2)"
   ]
  },
  {
   "cell_type": "markdown",
   "metadata": {},
   "source": [
    "### Unpacking a Tuple\n",
    "- When we create a tuple, we normally assign values to it. This is called **\"Packing\"** a tuple.\n",
    "    - EX : fruits = (\"Apple\",\"Banana\",\"Cherry\")\n",
    "- But in Python, we are also allowed to extract the values back into variables. This is called **\"Unpacking\"**\n",
    "- Unpacking tuple means, we are extracting the values from tuple and storing it in variables.\n",
    "- Example of unpacking is as follows:"
   ]
  },
  {
   "cell_type": "code",
   "execution_count": 41,
   "metadata": {},
   "outputs": [
    {
     "name": "stdout",
     "output_type": "stream",
     "text": [
      "Apple\n",
      "Banana\n",
      "Cherry\n"
     ]
    }
   ],
   "source": [
    "fruits = (\"Apple\",\"Banana\",\"Cherry\")\n",
    "(fruit1,fruit2,fruit3) = fruits\n",
    "print(fruit1)\n",
    "print(fruit2)\n",
    "print(fruit3)"
   ]
  },
  {
   "cell_type": "markdown",
   "metadata": {},
   "source": [
    "### Using Asterisk * for unpacking a Tuple\n",
    "- If the number of variables is less than the number of values, you can add an * to the variable name and the values will be assigned to the variable as a list."
   ]
  },
  {
   "cell_type": "code",
   "execution_count": 46,
   "metadata": {},
   "outputs": [
    {
     "ename": "ValueError",
     "evalue": "too many values to unpack (expected 3)",
     "output_type": "error",
     "traceback": [
      "\u001b[1;31m---------------------------------------------------------------------------\u001b[0m",
      "\u001b[1;31mValueError\u001b[0m                                Traceback (most recent call last)",
      "\u001b[1;32m<ipython-input-46-a9b54467c558>\u001b[0m in \u001b[0;36m<module>\u001b[1;34m\u001b[0m\n\u001b[0;32m      1\u001b[0m \u001b[1;31m# Values are more than variables\u001b[0m\u001b[1;33m\u001b[0m\u001b[1;33m\u001b[0m\u001b[1;33m\u001b[0m\u001b[0m\n\u001b[0;32m      2\u001b[0m \u001b[0mfruits\u001b[0m \u001b[1;33m=\u001b[0m \u001b[1;33m(\u001b[0m\u001b[1;34m\"apple\"\u001b[0m\u001b[1;33m,\u001b[0m\u001b[1;34m\"banana\"\u001b[0m\u001b[1;33m,\u001b[0m\u001b[1;34m\"cherry\"\u001b[0m\u001b[1;33m,\u001b[0m\u001b[1;34m\"strawberry\"\u001b[0m\u001b[1;33m,\u001b[0m\u001b[1;34m\"raspberry\"\u001b[0m\u001b[1;33m)\u001b[0m\u001b[1;33m\u001b[0m\u001b[1;33m\u001b[0m\u001b[0m\n\u001b[1;32m----> 3\u001b[1;33m \u001b[1;33m(\u001b[0m\u001b[0mfruit1\u001b[0m\u001b[1;33m,\u001b[0m\u001b[0mfruit2\u001b[0m\u001b[1;33m,\u001b[0m\u001b[0mfruit3\u001b[0m\u001b[1;33m)\u001b[0m \u001b[1;33m=\u001b[0m \u001b[0mfruits\u001b[0m\u001b[1;33m\u001b[0m\u001b[1;33m\u001b[0m\u001b[0m\n\u001b[0m\u001b[0;32m      4\u001b[0m \u001b[0mprint\u001b[0m\u001b[1;33m(\u001b[0m\u001b[0mfruit1\u001b[0m\u001b[1;33m)\u001b[0m\u001b[1;33m\u001b[0m\u001b[1;33m\u001b[0m\u001b[0m\n\u001b[0;32m      5\u001b[0m \u001b[0mprint\u001b[0m\u001b[1;33m(\u001b[0m\u001b[0mfruit2\u001b[0m\u001b[1;33m)\u001b[0m\u001b[1;33m\u001b[0m\u001b[1;33m\u001b[0m\u001b[0m\n",
      "\u001b[1;31mValueError\u001b[0m: too many values to unpack (expected 3)"
     ]
    }
   ],
   "source": [
    "# Values are more than variables\n",
    "fruits = (\"apple\",\"banana\",\"cherry\",\"strawberry\",\"raspberry\")\n",
    "(fruit1,fruit2,fruit3) = fruits\n",
    "print(fruit1)\n",
    "print(fruit2)\n",
    "print(fruit3)"
   ]
  },
  {
   "cell_type": "code",
   "execution_count": 47,
   "metadata": {},
   "outputs": [
    {
     "name": "stdout",
     "output_type": "stream",
     "text": [
      "apple\n",
      "banana\n",
      "['cherry', 'strawberry', 'raspberry']\n"
     ]
    }
   ],
   "source": [
    "# Values are more than variables\n",
    "fruits = (\"apple\",\"banana\",\"cherry\",\"strawberry\",\"raspberry\")\n",
    "(fruit1,fruit2,*fruit3) = fruits # Here fruit3 is treated as list\n",
    "print(fruit1)\n",
    "print(fruit2)\n",
    "print(fruit3)"
   ]
  },
  {
   "cell_type": "markdown",
   "metadata": {},
   "source": [
    "- If the asterisk is added to another variable name than the last, Python will assign values to the variable until the number of values left matches the number of variables left.\n",
    "- In the variable where we want to push more number of items, We use * sign for that variable.\n",
    "- We can also do all the list operations on the list which is created by using *\n",
    "- We can use only on asterisk (*) at a time, otherwise it will give an syntax error of : two starred expressions in assignment\n",
    "- Example of this is as follows :"
   ]
  },
  {
   "cell_type": "code",
   "execution_count": 50,
   "metadata": {},
   "outputs": [
    {
     "name": "stdout",
     "output_type": "stream",
     "text": [
      "apple\n",
      "['banana', 'cherry', 'strawberry']\n",
      "raspberry\n",
      "<class 'str'>\n",
      "<class 'list'>\n",
      "<class 'str'>\n"
     ]
    }
   ],
   "source": [
    "fruits = (\"apple\",\"banana\",\"cherry\",\"strawberry\",\"raspberry\")\n",
    "(fruit1,*fruit2,fruit3) = fruits\n",
    "print(fruit1)\n",
    "print(fruit2)\n",
    "print(fruit3)\n",
    "# Here fruits2 is list and other are variables\n",
    "\n",
    "# Types of variables\n",
    "print(type(fruit1))\n",
    "print(type(fruit2))\n",
    "print(type(fruit3))"
   ]
  },
  {
   "cell_type": "code",
   "execution_count": 56,
   "metadata": {},
   "outputs": [
    {
     "name": "stdout",
     "output_type": "stream",
     "text": [
      "['apple', 'banana', 'cherry']\n",
      "strawberry\n",
      "raspberry\n",
      "['apple', 'banana', 'cherry', 'Kivi']\n"
     ]
    }
   ],
   "source": [
    "fruits = (\"apple\",\"banana\",\"cherry\",\"strawberry\",\"raspberry\")\n",
    "(*fruit1,fruit2,fruit3) = fruits\n",
    "print(fruit1)\n",
    "print(fruit2)\n",
    "print(fruit3)\n",
    "# Here fruits3 is list and other are variables so we can do all list operations\n",
    "# on fruit3\n",
    "# Ex:\n",
    "fruit1.append(\"Kivi\")\n",
    "print(fruit1)\n"
   ]
  },
  {
   "cell_type": "code",
   "execution_count": 52,
   "metadata": {},
   "outputs": [
    {
     "ename": "SyntaxError",
     "evalue": "two starred expressions in assignment (<ipython-input-52-cc64942dcd5b>, line 5)",
     "output_type": "error",
     "traceback": [
      "\u001b[1;36m  File \u001b[1;32m\"<ipython-input-52-cc64942dcd5b>\"\u001b[1;36m, line \u001b[1;32m5\u001b[0m\n\u001b[1;33m    print(fruit3)\u001b[0m\n\u001b[1;37m            ^\u001b[0m\n\u001b[1;31mSyntaxError\u001b[0m\u001b[1;31m:\u001b[0m two starred expressions in assignment\n"
     ]
    }
   ],
   "source": [
    "fruits = (\"apple\",\"banana\",\"cherry\",\"strawberry\",\"raspberry\")\n",
    "(fruit1,*fruit2,*fruit3) = fruits\n",
    "print(fruit1)\n",
    "print(fruit2)\n",
    "print(fruit3)"
   ]
  },
  {
   "cell_type": "markdown",
   "metadata": {},
   "source": [
    "### Loop through a tuple\n",
    "- You can loop through a tuple items by using loops\n",
    "- You can access tuple items one by one using loops\n",
    "- Example is as follows : "
   ]
  },
  {
   "cell_type": "code",
   "execution_count": 58,
   "metadata": {},
   "outputs": [
    {
     "name": "stdout",
     "output_type": "stream",
     "text": [
      "Jan\n",
      "Feb\n",
      "March\n",
      "April\n",
      "May\n",
      "June\n",
      "('Jan', 'Feb', 'March', 'April', 'May', 'June')\n"
     ]
    }
   ],
   "source": [
    "Months = (\"Jan\",\"Feb\",\"March\",\"April\",\"May\",\"June\")\n",
    "for val in Months :\n",
    "    print(val) # Prints the iterated value of the month tuple\n",
    "print(Months) # Prints the month tuple"
   ]
  },
  {
   "cell_type": "markdown",
   "metadata": {},
   "source": [
    "### Loop through the index number\n",
    "- You can loop through the tuple items by referring to their index number.\n",
    "- Use the range() and len() functions to create a suitable iterable.\n",
    "- In range function, we specify the total number of values to be printed are specified.\n",
    "- Ex: range(6) -> It will print values from 0 to 5. Means total 6 values.\n",
    "- If you put range(0,4) -> It will print values from index 0 to index 3, end index is excluded.\n",
    "- If you put range(0,4,2) -> It will print values by skipping one value inside\n",
    "- Example is as follows :"
   ]
  },
  {
   "cell_type": "code",
   "execution_count": 60,
   "metadata": {},
   "outputs": [
    {
     "name": "stdout",
     "output_type": "stream",
     "text": [
      "0\n",
      "1\n",
      "2\n",
      "3\n",
      "4\n",
      "5\n"
     ]
    }
   ],
   "source": [
    "# Iterating the indexes and not values\n",
    "Months = (\"Jan\",\"Feb\",\"March\",\"April\",\"May\",\"June\")\n",
    "for i in range(len(Months)) :\n",
    "    print(i)"
   ]
  },
  {
   "cell_type": "code",
   "execution_count": 59,
   "metadata": {},
   "outputs": [
    {
     "name": "stdout",
     "output_type": "stream",
     "text": [
      "Jan\n",
      "Feb\n",
      "March\n",
      "April\n",
      "May\n",
      "June\n"
     ]
    }
   ],
   "source": [
    "# Iterating the values using indexes\n",
    "Months = (\"Jan\",\"Feb\",\"March\",\"April\",\"May\",\"June\")\n",
    "for i in range(len(Months)) : \n",
    "    # We are iterating i which takes values in the form of range\n",
    "    print(Months[i])"
   ]
  },
  {
   "cell_type": "code",
   "execution_count": 62,
   "metadata": {},
   "outputs": [
    {
     "name": "stdout",
     "output_type": "stream",
     "text": [
      "Jan\n",
      "Feb\n",
      "March\n",
      "April\n"
     ]
    }
   ],
   "source": [
    "# If I want to print only 4 values then\n",
    "Months = (\"Jan\",\"Feb\",\"March\",\"April\",\"May\",\"June\")\n",
    "for i in range(4) :\n",
    "    print(Months[i])"
   ]
  },
  {
   "cell_type": "code",
   "execution_count": 63,
   "metadata": {},
   "outputs": [
    {
     "name": "stdout",
     "output_type": "stream",
     "text": [
      "March\n",
      "April\n",
      "May\n"
     ]
    }
   ],
   "source": [
    "# Printing elements from start index and end index\n",
    "Months = (\"Jan\",\"Feb\",\"March\",\"April\",\"May\",\"June\")\n",
    "for i in range(2,5) :\n",
    "    print(Months[i])"
   ]
  },
  {
   "cell_type": "code",
   "execution_count": 64,
   "metadata": {},
   "outputs": [
    {
     "name": "stdout",
     "output_type": "stream",
     "text": [
      "Jan\n",
      "March\n",
      "May\n"
     ]
    }
   ],
   "source": [
    "# Printing elements from start index and end index \n",
    "# by skipping one value everytime\n",
    "Months = (\"Jan\",\"Feb\",\"March\",\"April\",\"May\",\"June\")\n",
    "for i in range(0,5,2) :\n",
    "    print(Months[i])"
   ]
  },
  {
   "cell_type": "markdown",
   "metadata": {},
   "source": [
    "### Using a while loop\n",
    "- You can loop through the list items by using a while loop.\n",
    "- Use the len() function to determine the length of the tuple, then start at 0 and loop your way through the tuple items by referring to their indexes.\n",
    "- Remember to increase the index by 1 after each iteration otherwise it will go in infinite loop.\n",
    "- We have to initialize the variable which we are taking in condition of while loop and must have to update it inside the while loop otherwise it will print unexpected outputs or may be it will go in infinite loop.\n",
    "- But in case of for loop and while loop, syntax of for loop is smaller than the syntax of while loop."
   ]
  },
  {
   "cell_type": "code",
   "execution_count": 69,
   "metadata": {},
   "outputs": [
    {
     "name": "stdout",
     "output_type": "stream",
     "text": [
      "Jan\n",
      "Feb\n",
      "March\n",
      "April\n",
      "May\n",
      "June\n"
     ]
    }
   ],
   "source": [
    "# printing values in Months tuple using while loop\n",
    "Months = (\"Jan\",\"Feb\",\"March\",\"April\",\"May\",\"June\")\n",
    "i = 0 # Initializing the variable which we are taking in a condition\n",
    "while i < len(Months) :\n",
    "    print(Months[i])\n",
    "    i += 1  # if we are not doing this, it will go in infinite loop"
   ]
  },
  {
   "cell_type": "code",
   "execution_count": 8,
   "metadata": {
    "scrolled": false
   },
   "outputs": [],
   "source": [
    "# What if we are not incrementing the variable in while condition\n",
    "Months = (\"Jan\",\"Feb\",\"March\",\"April\",\"May\",\"June\")\n",
    "i = 0\n",
    "while i < len(Months) :\n",
    "    print(Months[i]) # It will print Jan in infinite loop"
   ]
  },
  {
   "attachments": {
    "Screenshot%20%28885%29.png": {
     "image/png": "[encoded data removed]"
    }
   },
   "cell_type": "markdown",
   "metadata": {},
   "source": [
    "##### OUTPUT :\n",
    "- It will go in infinite loop\n",
    "![Screenshot%20%28885%29.png](attachment:Screenshot%20%28885%29.png)"
   ]
  },
  {
   "cell_type": "code",
   "execution_count": 70,
   "metadata": {},
   "outputs": [
    {
     "name": "stdout",
     "output_type": "stream",
     "text": [
      "March\n",
      "April\n",
      "May\n",
      "June\n"
     ]
    }
   ],
   "source": [
    "Months = (\"Jan\",\"Feb\",\"March\",\"April\",\"May\",\"June\")\n",
    "i = 2\n",
    "while i < len(Months) :\n",
    "    print(Months[i])\n",
    "    i += 1"
   ]
  },
  {
   "cell_type": "markdown",
   "metadata": {},
   "source": [
    "**i++ or i-- for incrementing or decrementing values is not supported by python, we can only use the format of i = i + 1 and i += 1**"
   ]
  },
  {
   "cell_type": "code",
   "execution_count": 71,
   "metadata": {
    "scrolled": true
   },
   "outputs": [
    {
     "ename": "SyntaxError",
     "evalue": "invalid syntax (<ipython-input-71-29798cb37715>, line 5)",
     "output_type": "error",
     "traceback": [
      "\u001b[1;36m  File \u001b[1;32m\"<ipython-input-71-29798cb37715>\"\u001b[1;36m, line \u001b[1;32m5\u001b[0m\n\u001b[1;33m    i++\u001b[0m\n\u001b[1;37m       ^\u001b[0m\n\u001b[1;31mSyntaxError\u001b[0m\u001b[1;31m:\u001b[0m invalid syntax\n"
     ]
    }
   ],
   "source": [
    "Months = (\"Jan\",\"Feb\",\"March\",\"April\",\"May\",\"June\")\n",
    "i = 2\n",
    "while i < len(Months) :\n",
    "    print(Months[i])\n",
    "    i++"
   ]
  },
  {
   "cell_type": "code",
   "execution_count": 73,
   "metadata": {},
   "outputs": [
    {
     "name": "stdout",
     "output_type": "stream",
     "text": [
      "June\n",
      "May\n",
      "April\n",
      "March\n",
      "Feb\n",
      "Jan\n"
     ]
    }
   ],
   "source": [
    "# Use negative indexing to print values\n",
    "Months = (\"Jan\",\"Feb\",\"March\",\"April\",\"May\",\"June\")\n",
    "i = -1\n",
    "while i >= -6:\n",
    "    print(Months[i])\n",
    "    i -= 1"
   ]
  },
  {
   "cell_type": "markdown",
   "metadata": {},
   "source": [
    "#### Why use loops instead of using only print() function\n",
    "- Print is not an effective way of coding\n",
    "- Time complexity of only using print() function is more as compared to loops.\n",
    "- By using loops means reuse of code\n",
    "- A good programmer is someone who will be able to execute the given logic in minimum number of statements. Because more the number of lines, more will be the interpretation time, more is become execution time, and more efforts for doing it. And it is possible by using loops instead of directly printing it using print()\n",
    "- Use of loops means doing smartwork.\n",
    "- For more values like if there are 100 values then in case of print() function, we have to print every value to get output but if we use loops, this code will reduce to only 2 lines.\n",
    "- In case of print statement we have to give command manually, but in case of loops automation is there."
   ]
  },
  {
   "cell_type": "code",
   "execution_count": 74,
   "metadata": {},
   "outputs": [
    {
     "name": "stdout",
     "output_type": "stream",
     "text": [
      "Jan\n",
      "Feb\n",
      "March\n",
      "April\n",
      "May\n"
     ]
    }
   ],
   "source": [
    "# This is a donkey work\n",
    "print(\"Jan\")\n",
    "print(\"Feb\")\n",
    "print(\"March\")\n",
    "print(\"April\")\n",
    "print(\"May\")"
   ]
  },
  {
   "cell_type": "markdown",
   "metadata": {},
   "source": [
    "### Join two tuples\n",
    "- To join two or more tuples you can use the + operator.\n",
    "- Joining of two tuples is nothing but concationation of tuples and for concatination, we use + operator.\n",
    "- Example is as follows :"
   ]
  },
  {
   "cell_type": "code",
   "execution_count": 75,
   "metadata": {},
   "outputs": [
    {
     "name": "stdout",
     "output_type": "stream",
     "text": [
      "('Jan', 'Feb', 'March', 'April', 'May', 'June', 'July', 'Aug', 'Sept', 'Oct', 'Nov', 'Dec')\n"
     ]
    }
   ],
   "source": [
    "# Joining two tuples\n",
    "Summer = (\"Jan\",\"Feb\",\"March\",\"April\",\"May\")\n",
    "Rainy = (\"June\",\"July\",\"Aug\")\n",
    "Winter = (\"Sept\",\"Oct\",\"Nov\",\"Dec\")\n",
    "Result = Summer + Rainy + Winter\n",
    "print(Result)"
   ]
  },
  {
   "cell_type": "markdown",
   "metadata": {},
   "source": [
    "### Multiply Tuples\n",
    "- If you want to multiply the content of a tuple a given number of times, you can use the * operator.\n",
    "- The multiplication factor what we are giving for that tuple, that number of times that tuple will be printed.\n",
    "- Multiplication is not happening here, the duplication is happening here.\n",
    "- We can not do multiplication of two tuples, there must be a multiplication factor present."
   ]
  },
  {
   "cell_type": "code",
   "execution_count": 76,
   "metadata": {},
   "outputs": [
    {
     "name": "stdout",
     "output_type": "stream",
     "text": [
      "('Jan', 'Feb', 'March', 'April', 'May', 'June', 'Jan', 'Feb', 'March', 'April', 'May', 'June')\n"
     ]
    }
   ],
   "source": [
    "Months = (\"Jan\",\"Feb\",\"March\",\"April\",\"May\",\"June\")\n",
    "print(Months*2)"
   ]
  },
  {
   "cell_type": "code",
   "execution_count": 78,
   "metadata": {},
   "outputs": [
    {
     "name": "stdout",
     "output_type": "stream",
     "text": [
      "('Jan', 'Feb', 'March', 'April', 'May', 'June', 'Jan', 'Feb', 'March', 'April', 'May', 'June', 'Jan', 'Feb', 'March', 'April', 'May', 'June', 'Jan', 'Feb', 'March', 'April', 'May', 'June', 'Jan', 'Feb', 'March', 'April', 'May', 'June', 'Jan', 'Feb', 'March', 'April', 'May', 'June', 'Jan', 'Feb', 'March', 'April', 'May', 'June', 'Jan', 'Feb', 'March', 'April', 'May', 'June')\n"
     ]
    }
   ],
   "source": [
    "# We can also store that value in a variable\n",
    "Months = (\"Jan\",\"Feb\",\"March\",\"April\",\"May\",\"June\")\n",
    "Double_Months = Months * 4 * 2 # It will print 8 times\n",
    "print(Double_Months)"
   ]
  },
  {
   "cell_type": "code",
   "execution_count": 79,
   "metadata": {},
   "outputs": [
    {
     "ename": "TypeError",
     "evalue": "can't multiply sequence by non-int of type 'tuple'",
     "output_type": "error",
     "traceback": [
      "\u001b[1;31m---------------------------------------------------------------------------\u001b[0m",
      "\u001b[1;31mTypeError\u001b[0m                                 Traceback (most recent call last)",
      "\u001b[1;32m<ipython-input-79-c1dd3bacd6e6>\u001b[0m in \u001b[0;36m<module>\u001b[1;34m\u001b[0m\n\u001b[0;32m      1\u001b[0m \u001b[0mMonths\u001b[0m \u001b[1;33m=\u001b[0m \u001b[1;33m(\u001b[0m\u001b[1;34m\"Jan\"\u001b[0m\u001b[1;33m,\u001b[0m\u001b[1;34m\"Feb\"\u001b[0m\u001b[1;33m,\u001b[0m\u001b[1;34m\"March\"\u001b[0m\u001b[1;33m,\u001b[0m\u001b[1;34m\"April\"\u001b[0m\u001b[1;33m,\u001b[0m\u001b[1;34m\"May\"\u001b[0m\u001b[1;33m,\u001b[0m\u001b[1;34m\"June\"\u001b[0m\u001b[1;33m)\u001b[0m\u001b[1;33m\u001b[0m\u001b[1;33m\u001b[0m\u001b[0m\n\u001b[0;32m      2\u001b[0m \u001b[0mDouble_Months\u001b[0m \u001b[1;33m=\u001b[0m \u001b[0mMonths\u001b[0m \u001b[1;33m*\u001b[0m \u001b[1;36m2\u001b[0m\u001b[1;33m\u001b[0m\u001b[1;33m\u001b[0m\u001b[0m\n\u001b[1;32m----> 3\u001b[1;33m \u001b[0mMultiply\u001b[0m \u001b[1;33m=\u001b[0m \u001b[0mMonths\u001b[0m \u001b[1;33m*\u001b[0m \u001b[0mDouble_Months\u001b[0m\u001b[1;33m\u001b[0m\u001b[1;33m\u001b[0m\u001b[0m\n\u001b[0m\u001b[0;32m      4\u001b[0m \u001b[0mprint\u001b[0m\u001b[1;33m(\u001b[0m\u001b[0mMultiply\u001b[0m\u001b[1;33m)\u001b[0m\u001b[1;33m\u001b[0m\u001b[1;33m\u001b[0m\u001b[0m\n",
      "\u001b[1;31mTypeError\u001b[0m: can't multiply sequence by non-int of type 'tuple'"
     ]
    }
   ],
   "source": [
    "Months = (\"Jan\",\"Feb\",\"March\",\"April\",\"May\",\"June\")\n",
    "Double_Months = Months * 2\n",
    "Multiply = Months * Double_Months\n",
    "print(Multiply)"
   ]
  },
  {
   "cell_type": "code",
   "execution_count": 80,
   "metadata": {},
   "outputs": [
    {
     "name": "stdout",
     "output_type": "stream",
     "text": [
      "(1, 2, 3, 4, 5, 6, 1, 2, 3, 4, 5, 6)\n"
     ]
    }
   ],
   "source": [
    "# If we have int values in a tuple, then also it will print in same manner\n",
    "Months = (1,2,3,4,5,6)\n",
    "print(Months*2)"
   ]
  },
  {
   "cell_type": "markdown",
   "metadata": {},
   "source": [
    "### Tuple Methods\n",
    "- Python has built-in methods that you can use on tuples.\n",
    "    - count() : Returns the number of times a specified value occurs in a tuple.\n",
    "    - index() : Searches the tuple for a specified value and returns the position of where it was found.\n",
    "    - sorted() : Used to sort the items in tuple\n",
    "    - len() : To return number of elements present in the tuple.\n",
    "    - min() and max() functions : Returns the minimum and maximum values according to default natural sorting order.\n",
    "- count() and index() methods are applicable for all data types.\n",
    "- Tuple built in methods are not as many as lists."
   ]
  },
  {
   "cell_type": "markdown",
   "metadata": {},
   "source": [
    "#### Count Method\n",
    "- Returns how many number of times the value occurs in a given tuple"
   ]
  },
  {
   "cell_type": "code",
   "execution_count": 82,
   "metadata": {},
   "outputs": [
    {
     "name": "stdout",
     "output_type": "stream",
     "text": [
      "3\n"
     ]
    }
   ],
   "source": [
    "Months = (\"Jan\",\"July\",\"Feb\",\"March\",\"July\",\"April\",\"May\",\"June\",\"July\")\n",
    "c = Months.count(\"July\")\n",
    "print(c)"
   ]
  },
  {
   "cell_type": "code",
   "execution_count": 83,
   "metadata": {},
   "outputs": [
    {
     "name": "stdout",
     "output_type": "stream",
     "text": [
      "5\n"
     ]
    }
   ],
   "source": [
    "Dates = (1,3,2,5,2,6,2,7,2,8,2,9)\n",
    "print(Dates.count(2)) # Counts how many times 2 occurs in a tuple"
   ]
  },
  {
   "cell_type": "markdown",
   "metadata": {},
   "source": [
    "#### Index Method\n",
    "- Returns the index of specified value.\n",
    "- Returns index of first occurrence of the given element.\n",
    "- If the specified element is not available then we will get ValueError."
   ]
  },
  {
   "cell_type": "code",
   "execution_count": 81,
   "metadata": {},
   "outputs": [
    {
     "name": "stdout",
     "output_type": "stream",
     "text": [
      "2\n"
     ]
    }
   ],
   "source": [
    "Months = (\"Jan\",\"Feb\",\"March\",\"April\",\"May\",\"June\")\n",
    "x = Months.index(\"March\")\n",
    "print(x)"
   ]
  },
  {
   "cell_type": "code",
   "execution_count": 84,
   "metadata": {
    "scrolled": false
   },
   "outputs": [
    {
     "name": "stdout",
     "output_type": "stream",
     "text": [
      "2\n"
     ]
    }
   ],
   "source": [
    "Dates = (1,3,2,5,2,6,2,7,2,8,2,9)\n",
    "print(Dates.index(2)) # It will return the first index which we are getting"
   ]
  },
  {
   "cell_type": "markdown",
   "metadata": {},
   "source": [
    "#### sorted()\n",
    "- Returns sorted list as output.\n",
    "- If we do not want list as output then we can convert again in tuple using `tuple()` method."
   ]
  },
  {
   "cell_type": "code",
   "execution_count": 5,
   "metadata": {
    "scrolled": true
   },
   "outputs": [
    {
     "name": "stdout",
     "output_type": "stream",
     "text": [
      "(40, 10, 30, 20)\n",
      "[10, 20, 30, 40]\n",
      "(10, 20, 30, 40)\n"
     ]
    }
   ],
   "source": [
    "t = (40,10,30,20)\n",
    "print(t)\n",
    "t1 = sorted(t)\n",
    "print(t1)\n",
    "\n",
    "t1 = tuple(t1)\n",
    "print(t1)"
   ]
  },
  {
   "cell_type": "markdown",
   "metadata": {},
   "source": [
    "#### len() Method:\n",
    "- To return number of elements present in the tuple."
   ]
  },
  {
   "cell_type": "code",
   "execution_count": 6,
   "metadata": {},
   "outputs": [
    {
     "name": "stdout",
     "output_type": "stream",
     "text": [
      "6\n"
     ]
    }
   ],
   "source": [
    "t = (10,20,30,40,50,60)\n",
    "print(len(t))"
   ]
  },
  {
   "cell_type": "markdown",
   "metadata": {},
   "source": [
    "#### min() and max() functions:\n",
    "- These functions return the minimum and maximum values according to default natural sorting order."
   ]
  },
  {
   "cell_type": "code",
   "execution_count": 7,
   "metadata": {
    "scrolled": true
   },
   "outputs": [
    {
     "name": "stdout",
     "output_type": "stream",
     "text": [
      "10\n",
      "60\n"
     ]
    }
   ],
   "source": [
    "t = (10,20,30,40,50,60)\n",
    "print(min(t))\n",
    "print(max(t))"
   ]
  },
  {
   "cell_type": "markdown",
   "metadata": {},
   "source": [
    "### Tuple Comprehension:\n",
    "- Tuple comprehension is `not supported` in Python."
   ]
  },
  {
   "cell_type": "code",
   "execution_count": 9,
   "metadata": {
    "scrolled": true
   },
   "outputs": [
    {
     "name": "stdout",
     "output_type": "stream",
     "text": [
      "<generator object <genexpr> at 0x000002728AA014C8>\n"
     ]
    }
   ],
   "source": [
    "t1 = (10,20,30,40,50,60)\n",
    "t2 = (val**2 for val in t1)\n",
    "print(t2)"
   ]
  },
  {
   "cell_type": "markdown",
   "metadata": {},
   "source": [
    "**Hence we are not getting tuple object but we are getting generator object.**"
   ]
  },
  {
   "cell_type": "code",
   "execution_count": 10,
   "metadata": {},
   "outputs": [
    {
     "name": "stdout",
     "output_type": "stream",
     "text": [
      "<class 'generator'>\n"
     ]
    }
   ],
   "source": [
    "print(type(t2))"
   ]
  },
  {
   "cell_type": "markdown",
   "metadata": {},
   "source": [
    "**You can iterate over generator object to access it's items**"
   ]
  },
  {
   "cell_type": "code",
   "execution_count": 11,
   "metadata": {
    "scrolled": true
   },
   "outputs": [
    {
     "name": "stdout",
     "output_type": "stream",
     "text": [
      "100\n",
      "400\n",
      "900\n",
      "1600\n",
      "2500\n",
      "3600\n"
     ]
    }
   ],
   "source": [
    "for x in t2:\n",
    "    print(x)"
   ]
  },
  {
   "cell_type": "markdown",
   "metadata": {},
   "source": [
    "**Converting tuple generator object to tuple using tuple function**"
   ]
  },
  {
   "cell_type": "code",
   "execution_count": 12,
   "metadata": {},
   "outputs": [
    {
     "name": "stdout",
     "output_type": "stream",
     "text": [
      "(100, 400, 900, 1600, 2500, 3600)\n"
     ]
    }
   ],
   "source": [
    "t = tuple(x**2 for x in t1)\n",
    "print(t)"
   ]
  },
  {
   "cell_type": "markdown",
   "metadata": {},
   "source": [
    "### Take input from user for a tuple\n",
    "- Since we know tuples are immutable, we can not have permission to change any elements off tuple.\n",
    "- So for taking input for tuple, firstly we have to take input in the form of list and then convert it in the form of tuple.\n",
    "- We are taking space separated values from the user and converting it in the form of list using split() method and after converting it in the form of list, we are converting that list in the form of tuple."
   ]
  },
  {
   "cell_type": "code",
   "execution_count": 86,
   "metadata": {
    "scrolled": true
   },
   "outputs": [
    {
     "name": "stdout",
     "output_type": "stream",
     "text": [
      "Please enter name, email and number : John pooja@gmail.com 3751\n",
      "['John', 'pooja@gmail.com', '3751']\n",
      "---------\n",
      "('John', 'pooja@gmail.com', '3751')\n"
     ]
    }
   ],
   "source": [
    "user_input = input(\"Please enter name, email and number : \")\n",
    "user_input_list = user_input.split() # Converting user input to the list\n",
    "print(user_input_list)     # Printing list\n",
    "print(\"---------\")\n",
    "user_input_tuple = tuple(user_input_list)  # Converting list to tuple\n",
    "print(user_input_tuple)     # Printing tuple"
   ]
  },
  {
   "cell_type": "markdown",
   "metadata": {},
   "source": [
    "### Programs\n",
    "\n",
    "#### 1. Write a Python program to create a tuple."
   ]
  },
  {
   "cell_type": "code",
   "execution_count": 88,
   "metadata": {},
   "outputs": [
    {
     "name": "stdout",
     "output_type": "stream",
     "text": [
      "('Jan', 'Feb', 'March', 'April', 'May', 'June', 'July')\n"
     ]
    }
   ],
   "source": [
    "Months = (\"Jan\",\"Feb\",\"March\",\"April\",\"May\",\"June\",\"July\")\n",
    "print(Months)"
   ]
  },
  {
   "cell_type": "markdown",
   "metadata": {},
   "source": [
    "#### 2. Write a Python program to create a tuple with different data types."
   ]
  },
  {
   "cell_type": "code",
   "execution_count": 89,
   "metadata": {},
   "outputs": [
    {
     "name": "stdout",
     "output_type": "stream",
     "text": [
      "('Jan', 'Feb', 10, 'Mar', 0.5, 'April', 'May', 7, 'June', 12.5, 'July')\n"
     ]
    }
   ],
   "source": [
    "# Mixed tuple\n",
    "Months_Nums = (\"Jan\",\"Feb\",10,\"Mar\",0.5,\"April\",\"May\",7,\"June\",12.50,\"July\") \n",
    "print(Months_Nums)"
   ]
  },
  {
   "cell_type": "markdown",
   "metadata": {},
   "source": [
    "#### 3. Write a Python program to unpack a tuple in several variables."
   ]
  },
  {
   "cell_type": "code",
   "execution_count": 2,
   "metadata": {},
   "outputs": [
    {
     "name": "stdout",
     "output_type": "stream",
     "text": [
      "India\n",
      "Brazil\n",
      "Maldives\n"
     ]
    }
   ],
   "source": [
    "\"\"\"\n",
    "Program having exact name number of variables and same number of values \n",
    "to unpack\n",
    "\"\"\"\n",
    "\n",
    "Countries = (\"India\",\"Brazil\",\"Maldives\")\n",
    "(Country1, Country2, Country3) = Countries\n",
    "print(Country1)\n",
    "print(Country2)\n",
    "print(Country3)"
   ]
  },
  {
   "cell_type": "code",
   "execution_count": 91,
   "metadata": {},
   "outputs": [
    {
     "name": "stdout",
     "output_type": "stream",
     "text": [
      "India\n",
      "['Australia', 'Brazil', 'Oman', 'Germany']\n",
      "Maldives\n",
      "Malysia\n"
     ]
    }
   ],
   "source": [
    "# Program having more variable, but less values to unpack\n",
    "Countries = (\"India\",\"Australia\",\"Brazil\",\"Oman\",\"Germany\",\"Maldives\",\"Malysia\")\n",
    "(Country1, *Country2, Country3, Country4) = Countries\n",
    "print(Country1)\n",
    "print(Country2)\n",
    "print(Country3)\n",
    "print(Country4)"
   ]
  },
  {
   "cell_type": "markdown",
   "metadata": {},
   "source": [
    "#### 4. Write a Python program to find the index of an item of a tuple."
   ]
  },
  {
   "cell_type": "code",
   "execution_count": 93,
   "metadata": {},
   "outputs": [
    {
     "name": "stdout",
     "output_type": "stream",
     "text": [
      "Index of Germany is 4\n"
     ]
    }
   ],
   "source": [
    "Countries = (\"India\",\"Australia\",\"Brazil\",\"Oman\",\"Germany\",\"Maldives\",\"Malysia\")\n",
    "I1 = Countries.index(\"Germany\")\n",
    "print(\"Index of Germany is\",I1)"
   ]
  },
  {
   "cell_type": "markdown",
   "metadata": {},
   "source": [
    "#### 5. Write a Python program to add an item in a tuple.\n",
    "- We can not add an item in a tuple directly, we have to convert tuple to list."
   ]
  },
  {
   "cell_type": "code",
   "execution_count": 95,
   "metadata": {},
   "outputs": [
    {
     "name": "stdout",
     "output_type": "stream",
     "text": [
      "('India', 'Australia', 'Brazil', 'Oman', 'Germany', 'Maldives', 'Malysia', 'Belgium')\n"
     ]
    }
   ],
   "source": [
    "# Adding element by using append function\n",
    "Countries = (\"India\",\"Australia\",\"Brazil\",\"Oman\",\"Germany\",\"Maldives\",\"Malysia\")\n",
    "Countries_List = list(Countries)   # Converting tuple to list\n",
    "Countries_List.append(\"Belgium\")\n",
    "\n",
    "Countries_Tuple = tuple(Countries_List)  # Converting list to tuple\n",
    "print(Countries_Tuple)"
   ]
  },
  {
   "cell_type": "code",
   "execution_count": 96,
   "metadata": {},
   "outputs": [
    {
     "name": "stdout",
     "output_type": "stream",
     "text": [
      "('India', 'Australia', 'Belgium', 'Brazil', 'Oman', 'Germany', 'Maldives', 'Malysia')\n"
     ]
    }
   ],
   "source": [
    "# Adding element by using insert function\n",
    "Countries = (\"India\",\"Australia\",\"Brazil\",\"Oman\",\"Germany\",\"Maldives\",\"Malysia\")\n",
    "Countries_List = list(Countries)   # Converting tuple to list\n",
    "Countries_List.insert(2,\"Belgium\")\n",
    "\n",
    "Countries_Tuple = tuple(Countries_List)  # Converting list to tuple\n",
    "print(Countries_Tuple)"
   ]
  },
  {
   "cell_type": "code",
   "execution_count": 97,
   "metadata": {},
   "outputs": [
    {
     "name": "stdout",
     "output_type": "stream",
     "text": [
      "('India', 'Australia', 'Brazil', 'Oman', 'Germany', 'Maldives', 'Malysia', 'Belgium')\n"
     ]
    }
   ],
   "source": [
    "# We can also append item in a tuple by using only tuple\n",
    "Countries = (\"India\",\"Australia\",\"Brazil\",\"Oman\",\"Germany\",\"Maldives\",\"Malysia\")\n",
    "Country = (\"Belgium\",)\n",
    "Result = Countries + Country\n",
    "print(Result)"
   ]
  },
  {
   "cell_type": "markdown",
   "metadata": {},
   "source": [
    "#### 6. Write a Python program to convert a tuple to a string."
   ]
  },
  {
   "cell_type": "code",
   "execution_count": 99,
   "metadata": {},
   "outputs": [
    {
     "name": "stdout",
     "output_type": "stream",
     "text": [
      "Hello\n"
     ]
    }
   ],
   "source": [
    "# We can directly use join function for converting tuple to a string\n",
    "String = ('H','e','l','l','o')\n",
    "String = ''.join(String)\n",
    "print(String)"
   ]
  },
  {
   "cell_type": "code",
   "execution_count": 101,
   "metadata": {},
   "outputs": [
    {
     "name": "stdout",
     "output_type": "stream",
     "text": [
      "H\n",
      "He\n",
      "Hel\n",
      "Hell\n",
      "Hello\n",
      "Final Output :  Hello\n"
     ]
    }
   ],
   "source": [
    "# We can also use loops for converting tuple to a string\n",
    "String = ('H','e','l','l','o')\n",
    "Result = ''\n",
    "for i in String:\n",
    "    Result += i\n",
    "    print(Result)\n",
    "print(\"Final Output : \",Result)"
   ]
  },
  {
   "cell_type": "markdown",
   "metadata": {},
   "source": [
    "#### 7. Write a Python program to get the 4th element and 5th element from last of a tuple.  "
   ]
  },
  {
   "cell_type": "code",
   "execution_count": 104,
   "metadata": {},
   "outputs": [
    {
     "name": "stdout",
     "output_type": "stream",
     "text": [
      "('Germany', 'Maldives')\n"
     ]
    }
   ],
   "source": [
    "#  0   1   2   3   4   5   6   Positive Indexing\n",
    "# -7  -6  -5  -4  -3  -2  -1   Negative Indexing                                \n",
    "Countries = (\"India\",\"Australia\",\"Brazil\",\"Oman\",\"Germany\",\"Maldives\",\"Malysia\")\n",
    "print(Countries[-3:-1])"
   ]
  },
  {
   "cell_type": "markdown",
   "metadata": {},
   "source": [
    "#### 8. Write a Python program to check whether an element exists within a tuple."
   ]
  },
  {
   "cell_type": "code",
   "execution_count": 105,
   "metadata": {},
   "outputs": [
    {
     "name": "stdout",
     "output_type": "stream",
     "text": [
      "Enter the element to check : Oman\n",
      "Oman is present in a Countries!\n"
     ]
    }
   ],
   "source": [
    "# Check element exist in tuple or not using conditional statements\n",
    "Countries = (\"India\",\"Australia\",\"Brazil\",\"Oman\",\"Germany\",\"Maldives\",\"Malysia\")\n",
    "Element = input(\"Enter the element to check : \")\n",
    "if Element in Countries:\n",
    "    print(Element + \" is present in a Countries!\")\n",
    "else:\n",
    "    print(Element + \" is not present in Countries!\")"
   ]
  },
  {
   "cell_type": "code",
   "execution_count": 107,
   "metadata": {},
   "outputs": [
    {
     "name": "stdout",
     "output_type": "stream",
     "text": [
      "Enter the element to check : Iran\n",
      "Iran is not present in Countries!\n"
     ]
    }
   ],
   "source": [
    "# Check element exists in tuple or not using count\n",
    "Countries = (\"India\",\"Australia\",\"Brazil\",\"Oman\",\"Germany\",\"Maldives\",\"Malysia\")\n",
    "Element = input(\"Enter the element to check : \")\n",
    "if Countries.count(Element) == 0:\n",
    "    print(Element + \" is not present in Countries!\")\n",
    "else:\n",
    "    print(Element + \" is present in a Countries!\")\n"
   ]
  },
  {
   "cell_type": "markdown",
   "metadata": {},
   "source": [
    "#### 9. Write a Python program to test if a variable is a list or tuple"
   ]
  },
  {
   "cell_type": "code",
   "execution_count": 108,
   "metadata": {},
   "outputs": [
    {
     "name": "stdout",
     "output_type": "stream",
     "text": [
      "Type is tuple\n"
     ]
    }
   ],
   "source": [
    "Countries = (\"India\",\"Australia\",\"Brazil\",\"Oman\",\"Germany\",\"Maldives\",\"Malysia\")\n",
    "if type(Countries) is list:\n",
    "    print(\"Type is list\")\n",
    "elif type(Countries) is tuple:\n",
    "    print(\"Type is tuple\")\n",
    "else :\n",
    "    print(\"Not Applicable\")"
   ]
  },
  {
   "cell_type": "markdown",
   "metadata": {},
   "source": [
    "#### 10. Write a Python program which accepts a sequence numbers from user and generate a list and a tuple with those numbers."
   ]
  },
  {
   "cell_type": "code",
   "execution_count": 109,
   "metadata": {},
   "outputs": [
    {
     "name": "stdout",
     "output_type": "stream",
     "text": [
      "please enter numbers : 12 34 45 67 78 90\n",
      "List :  ['12', '34', '45', '67', '78', '90']\n",
      "Tuple :  ('12', '34', '45', '67', '78', '90')\n"
     ]
    }
   ],
   "source": [
    "Numbers = input(\"please enter numbers : \")\n",
    "Numbers_List = Numbers.split()            # Converting Input string to List\n",
    "print(\"List : \",Numbers_List)\n",
    "\n",
    "Numbers_Tuple = tuple(Numbers_List)      # Converting list to tuple\n",
    "print(\"Tuple : \",Numbers_Tuple)"
   ]
  },
  {
   "cell_type": "code",
   "execution_count": null,
   "metadata": {},
   "outputs": [],
   "source": []
  }
 ],
 "metadata": {
  "kernelspec": {
   "display_name": "Python 3",
   "language": "python",
   "name": "python3"
  },
  "language_info": {
   "codemirror_mode": {
    "name": "ipython",
    "version": 3
   },
   "file_extension": ".py",
   "mimetype": "text/x-python",
   "name": "python",
   "nbconvert_exporter": "python",
   "pygments_lexer": "ipython3",
   "version": "3.7.16"
  }
 },
 "nbformat": 4,
 "nbformat_minor": 4
}
