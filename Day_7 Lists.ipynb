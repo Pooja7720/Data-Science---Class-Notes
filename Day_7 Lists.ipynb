{
 "cells": [
  {
   "cell_type": "markdown",
   "metadata": {},
   "source": [
    "# List\n",
    "- Being a data scientist and a data analyst, our focus is mainly on collectional data.\n",
    "- Collectional data means having multiple values.\n",
    "- A variable consists of only one value but in case of collectional data there are multiple values stored in a variable.\n",
    "- In basic data types there are int, float, string and bool.\n",
    "- List, tuple, dictionaries are the examples of collectional data type.\n",
    "- If you want to represent a group of values as a single entity where insertion order is required to preserve and duplicates are allowed then we should go for list data type.\n",
    "1. Insertion order is preserved.\n",
    "2. Duplicates are allowed.\n",
    "3. Heterogeneous objects are allowed.\n",
    "4. Growable in nature\n",
    "5. Lists are constructed with brackets [ ] with comma separating every element."
   ]
  },
  {
   "cell_type": "markdown",
   "metadata": {},
   "source": [
    "# Python Collections (Arrays)\n",
    "\n",
    "There are four collection data types in the Python programming language:\n",
    "\n",
    "### 1. List:\n",
    "- List is a collection which is ordered and changable. Allows duplicate members.\n",
    "\n",
    "### 2. Tuple:\n",
    "- Tuple is a collection which is ordered and unchangable. Allows duplicate members.\n",
    "\n",
    "### 3. Set:\n",
    "- Set is a collection which is unordered, unchangable and unindexed. No duplicate members.\n",
    "\n",
    "### 4. Dictionary:\n",
    "- Dictionary is a collection which is ordered and changable. No duplicate members.\n",
    "\n",
    "#### These above properties are highly useful in the case of selecting the right collection for a given dataset\n",
    "\n",
    "- Set items are unchangable, but you can remove and/or add items whenever you like.\n",
    "- As of Python version 3.7, dictionaries are ordered. In Python 3.6 and earlier, dictionaries are unordered.\n",
    "- When choosing a collection type, it is useful to understand the properties of that type. Choosing the right type for perticular dataset could mean retention of meaning, and it could mean an increase in efficiency and security."
   ]
  },
  {
   "cell_type": "markdown",
   "metadata": {},
   "source": [
    "## List:\n",
    "- Lists are used to store multiple items in a single variable.\n",
    "- Lists are created using square brackets.\n",
    "- Different kinds of data types are acceptable in a list.\n",
    "- List is going to support all kinds of data types.\n",
    "- We can differentiate list from other collections by square brackets, because they are only used to create list.\n",
    "- EX: fruits = [\"Apple\",\"Banana\",\"Cherry\"]\n",
    "- print(fruits)"
   ]
  },
  {
   "cell_type": "code",
   "execution_count": 2,
   "metadata": {},
   "outputs": [
    {
     "name": "stdout",
     "output_type": "stream",
     "text": [
      "['Apple', 'Banana', 'Cherry']\n"
     ]
    }
   ],
   "source": [
    "fruits = [\"Apple\",\"Banana\",\"Cherry\"] \n",
    "# Apple, Banana and Cherry are elements of list fruits\n",
    "print(fruits)"
   ]
  },
  {
   "cell_type": "markdown",
   "metadata": {},
   "source": [
    "### List Items:\n",
    "- List items are ordered, changable and allows duplicate values.\n",
    "- List items are indexed, the first item has index[0], the second item has index[1], etc.\n",
    "\n",
    "#### Ordered: \n",
    "- When we say that lists are ordered, it means that the items have a defined order, and that order will not change. If you add new items to a list, the new items will be placed at the end of the list.\n",
    "- Ordered means, the order in which we are giving values to the list, the same sequence will be followed while doing any operation on that list, and index also considered according the sequence which we have given. But in case of sets it's unordered.\n",
    "- EX: \n",
    "    - Input: In case of list\n",
    "            - animals = [\"Dog\",\"Cat\",\"Cow\"]\n",
    "            - print(animals)\n",
    "    - Output: ['Dog','Cat','Cow']\n",
    "        - **# Non changable and ordered so can apply indexing on list**\n",
    "    \n",
    "    - Input: In case of Set\n",
    "            - animals = {\"Dog\",\"Cat\",\"Cow\"}\n",
    "            - print(animals)\n",
    "    - Output: {'Cat','Dog','Cow'}  \n",
    "        - **# Changable, so can not apply indexing**\n",
    "    \n",
    "#### Changeable / Mutable: \n",
    "- The list is changeable, meaning that we can change, add, and remove items in a list after it has been created.\n",
    "\n",
    "#### Allow Duplicates: \n",
    "- Since lists are indexed, lists can have items with the same value.\n",
    "\n",
    "#### Heterogeneous:\n",
    "- Allows items of different data types\n",
    "\n",
    "#### List Length:\n",
    "- To determine how many items a list has, use the len() function.\n",
    "- Length starts with 1 and index starts with 0.\n",
    "- This function is not only applicable to list, but it is applicable to every other data types as well.\n",
    "\n",
    "#### Data types:\n",
    "- A list can contain different data types\n",
    "\n",
    "**List items are indexed and you can access them by referring to the index number.**\n",
    "\n",
    "**How we are going to access the items of the lists  ->  using the index of the list.**"
   ]
  },
  {
   "cell_type": "code",
   "execution_count": 1,
   "metadata": {},
   "outputs": [
    {
     "name": "stdout",
     "output_type": "stream",
     "text": [
      "['A string', 23, 100.232, True]\n"
     ]
    }
   ],
   "source": [
    "# List can hold different data types\n",
    "# It is heterogeneous\n",
    "my_list = ['A string',23,100.232,True]\n",
    "print(my_list)"
   ]
  },
  {
   "cell_type": "code",
   "execution_count": null,
   "metadata": {},
   "outputs": [],
   "source": [
    "# List can allow duplicates so this is example of it.\n",
    "animals = [\"Dog\",\"Cat\",\"Cow\",\"Dog\"] \n",
    "# Duplicates are allowed, as it have different indexes\n",
    "print(animals)"
   ]
  },
  {
   "cell_type": "markdown",
   "metadata": {},
   "source": [
    "### Indexing and Slicing\n",
    "- Indexing and slicing work `just like in strings.` Let's make a new list to remind ourselves of how this works."
   ]
  },
  {
   "cell_type": "markdown",
   "metadata": {},
   "source": [
    "- When we are separating values by colon(:), it means we are giving a range so it will return list.\n",
    "- But if we use by index like Months[3], it means we are giving only value."
   ]
  },
  {
   "cell_type": "code",
   "execution_count": 2,
   "metadata": {},
   "outputs": [],
   "source": [
    "my_list = ['One','Two','Three',400,12.45,True]"
   ]
  },
  {
   "cell_type": "code",
   "execution_count": 3,
   "metadata": {
    "scrolled": true
   },
   "outputs": [
    {
     "data": {
      "text/plain": [
       "400"
      ]
     },
     "execution_count": 3,
     "metadata": {},
     "output_type": "execute_result"
    }
   ],
   "source": [
    "# Grab element at index 3\n",
    "my_list[3]"
   ]
  },
  {
   "cell_type": "code",
   "execution_count": 4,
   "metadata": {},
   "outputs": [
    {
     "data": {
      "text/plain": [
       "['Two', 'Three', 400, 12.45, True]"
      ]
     },
     "execution_count": 4,
     "metadata": {},
     "output_type": "execute_result"
    }
   ],
   "source": [
    "# Grab index 1 and everything past it\n",
    "my_list[1:]"
   ]
  },
  {
   "cell_type": "code",
   "execution_count": 5,
   "metadata": {},
   "outputs": [
    {
     "data": {
      "text/plain": [
       "['One', 'Two', 'Three']"
      ]
     },
     "execution_count": 5,
     "metadata": {},
     "output_type": "execute_result"
    }
   ],
   "source": [
    "# Grab everything upto index 3\n",
    "my_list[:3]"
   ]
  },
  {
   "cell_type": "code",
   "execution_count": 22,
   "metadata": {
    "scrolled": true
   },
   "outputs": [
    {
     "name": "stdout",
     "output_type": "stream",
     "text": [
      "['March']\n",
      "March\n"
     ]
    },
    {
     "data": {
      "text/plain": [
       "'\\nDifference between EXAMPLE 1 and EXAMPLE 2:\\n- In case of example 1, it will return List, but in case of example 2 it will return a variable.\\n'"
      ]
     },
     "execution_count": 22,
     "metadata": {},
     "output_type": "execute_result"
    }
   ],
   "source": [
    "# EXAMPLE 1:\n",
    "Months = [\"January\",\"February\",\"March\",\"April\",\"May\",\"June\",\"July\"]\n",
    "print(Months[2:3])\n",
    "\n",
    "#EXAMPLE 2:\n",
    "Months = [\"January\",\"February\",\"March\",\"April\",\"May\",\"June\",\"July\"]\n",
    "print(Months[2])\n",
    "\n",
    "'''\n",
    "Difference between EXAMPLE 1 and EXAMPLE 2:\n",
    "- In case of example 1, it will return List, \n",
    "but in case of example 2 it will return a variable.\n",
    "'''"
   ]
  },
  {
   "cell_type": "code",
   "execution_count": 19,
   "metadata": {},
   "outputs": [
    {
     "name": "stdout",
     "output_type": "stream",
     "text": [
      "May\n"
     ]
    },
    {
     "data": {
      "text/plain": [
       "'February'"
      ]
     },
     "execution_count": 19,
     "metadata": {},
     "output_type": "execute_result"
    }
   ],
   "source": [
    "print(Months[4]) # Printing output without quotes\n",
    "Months[1] # Printing output with quotes"
   ]
  },
  {
   "cell_type": "code",
   "execution_count": 16,
   "metadata": {},
   "outputs": [
    {
     "name": "stdout",
     "output_type": "stream",
     "text": [
      "['March', 'April', 'May']\n"
     ]
    }
   ],
   "source": [
    "# Print only March, April, May\n",
    "print(Months[2:5])"
   ]
  },
  {
   "cell_type": "code",
   "execution_count": 13,
   "metadata": {},
   "outputs": [
    {
     "data": {
      "text/plain": [
       "7"
      ]
     },
     "execution_count": 13,
     "metadata": {},
     "output_type": "execute_result"
    }
   ],
   "source": [
    "# Example of calculating length of a list\n",
    "len(Months)"
   ]
  },
  {
   "cell_type": "code",
   "execution_count": 15,
   "metadata": {
    "scrolled": true
   },
   "outputs": [
    {
     "name": "stdout",
     "output_type": "stream",
     "text": [
      "<class 'list'>\n"
     ]
    }
   ],
   "source": [
    "# When we are going to check the type of a list, \n",
    "# then it will give the following output\n",
    "print(type(Months))"
   ]
  },
  {
   "cell_type": "markdown",
   "metadata": {},
   "source": [
    "### Code to check weather an item is present in list or not\n",
    "- We are using indexes to access the value in list. It is applicable, when we know the index of the values in list.\n",
    "- But if the list is very large then in that case it is very difficult to find out weather any perticular element is present in the list or not so we can use the below method."
   ]
  },
  {
   "cell_type": "code",
   "execution_count": 11,
   "metadata": {},
   "outputs": [
    {
     "name": "stdout",
     "output_type": "stream",
     "text": [
      "\"July\" is present in list\n"
     ]
    }
   ],
   "source": [
    "if \"July\" in Months:\n",
    "    print(\"\\\"July\\\" is present in list\")\n",
    "else:\n",
    "    print(\"There is no month present named \\\"July\\\"\")"
   ]
  },
  {
   "cell_type": "code",
   "execution_count": 24,
   "metadata": {},
   "outputs": [
    {
     "name": "stdout",
     "output_type": "stream",
     "text": [
      "Item present in list!\n"
     ]
    }
   ],
   "source": [
    "Mixed_List = [\"Jan\",2.5,\"March\",\"April\",568,\"June\"]\n",
    "if 568 in Mixed_List:\n",
    "    print(\"Item present in list!\")\n",
    "else:\n",
    "    print(\"Item is not present in list\")"
   ]
  },
  {
   "cell_type": "markdown",
   "metadata": {},
   "source": [
    "### Operations on List:\n",
    "- We can use + to concatinate lists, `just like we did for strings.`"
   ]
  },
  {
   "cell_type": "code",
   "execution_count": 12,
   "metadata": {},
   "outputs": [
    {
     "data": {
      "text/plain": [
       "['One', 'Two', 'Three', 400, 12.45, True, 'new item', 2]"
      ]
     },
     "execution_count": 12,
     "metadata": {},
     "output_type": "execute_result"
    }
   ],
   "source": [
    "my_list = ['One','Two','Three',400,12.45,True]\n",
    "my_list + ['new item',2]"
   ]
  },
  {
   "cell_type": "markdown",
   "metadata": {},
   "source": [
    "**Note:** This doesn't actually change the original list!"
   ]
  },
  {
   "cell_type": "code",
   "execution_count": 13,
   "metadata": {
    "scrolled": true
   },
   "outputs": [
    {
     "data": {
      "text/plain": [
       "['One', 'Two', 'Three', 400, 12.45, True]"
      ]
     },
     "execution_count": 13,
     "metadata": {},
     "output_type": "execute_result"
    }
   ],
   "source": [
    "my_list"
   ]
  },
  {
   "cell_type": "markdown",
   "metadata": {},
   "source": [
    "- You have to reassign the list to make the change permanent."
   ]
  },
  {
   "cell_type": "code",
   "execution_count": 14,
   "metadata": {
    "scrolled": true
   },
   "outputs": [
    {
     "name": "stdout",
     "output_type": "stream",
     "text": [
      "['One', 'Two', 'Three', 400, 12.45, True, 'new item', 2]\n"
     ]
    }
   ],
   "source": [
    "my_list = my_list + ['new item',2]\n",
    "print(my_list)"
   ]
  },
  {
   "cell_type": "markdown",
   "metadata": {},
   "source": [
    "- We can also use the * for a duplication method `similar to strings:`"
   ]
  },
  {
   "cell_type": "code",
   "execution_count": 15,
   "metadata": {},
   "outputs": [
    {
     "data": {
      "text/plain": [
       "['One',\n",
       " 'Two',\n",
       " 'Three',\n",
       " 400,\n",
       " 12.45,\n",
       " True,\n",
       " 'new item',\n",
       " 2,\n",
       " 'One',\n",
       " 'Two',\n",
       " 'Three',\n",
       " 400,\n",
       " 12.45,\n",
       " True,\n",
       " 'new item',\n",
       " 2]"
      ]
     },
     "execution_count": 15,
     "metadata": {},
     "output_type": "execute_result"
    }
   ],
   "source": [
    "# Make a list double\n",
    "my_list * 2"
   ]
  },
  {
   "cell_type": "code",
   "execution_count": 16,
   "metadata": {
    "scrolled": true
   },
   "outputs": [
    {
     "data": {
      "text/plain": [
       "['One', 'Two', 'Three', 400, 12.45, True, 'new item', 2]"
      ]
     },
     "execution_count": 16,
     "metadata": {},
     "output_type": "execute_result"
    }
   ],
   "source": [
    "# Again doubling is not permanent\n",
    "my_list"
   ]
  },
  {
   "cell_type": "markdown",
   "metadata": {},
   "source": [
    "### List Functions\n",
    "#### `len()`\n",
    "- `len()` function returns the length of the list"
   ]
  },
  {
   "cell_type": "code",
   "execution_count": 20,
   "metadata": {},
   "outputs": [
    {
     "name": "stdout",
     "output_type": "stream",
     "text": [
      "[[1, 2, 3], [4, 5, 6], [7, 8, 9]]\n"
     ]
    },
    {
     "data": {
      "text/plain": [
       "3"
      ]
     },
     "execution_count": 20,
     "metadata": {},
     "output_type": "execute_result"
    }
   ],
   "source": [
    "print(matrix)\n",
    "len(matrix)"
   ]
  },
  {
   "cell_type": "markdown",
   "metadata": {},
   "source": [
    "#### `min()`\n",
    "- `min()` function returns the minimum element of the list\n",
    "- `min()` function only works with the list of similar data types"
   ]
  },
  {
   "cell_type": "code",
   "execution_count": 21,
   "metadata": {},
   "outputs": [
    {
     "data": {
      "text/plain": [
       "[1, 2, 3]"
      ]
     },
     "execution_count": 21,
     "metadata": {},
     "output_type": "execute_result"
    }
   ],
   "source": [
    "min(matrix)"
   ]
  },
  {
   "cell_type": "code",
   "execution_count": 22,
   "metadata": {
    "scrolled": true
   },
   "outputs": [
    {
     "data": {
      "text/plain": [
       "1"
      ]
     },
     "execution_count": 22,
     "metadata": {},
     "output_type": "execute_result"
    }
   ],
   "source": [
    "l = [6,9,1,3,5.5]\n",
    "min(l)"
   ]
  },
  {
   "cell_type": "code",
   "execution_count": null,
   "metadata": {},
   "outputs": [],
   "source": [
    "# It will calculate according to ASCII number\n",
    "vowels = ['a','e','i','o','u']\n",
    "min(vowels)"
   ]
  },
  {
   "cell_type": "code",
   "execution_count": 24,
   "metadata": {},
   "outputs": [
    {
     "ename": "TypeError",
     "evalue": "'<' not supported between instances of 'int' and 'str'",
     "output_type": "error",
     "traceback": [
      "\u001b[1;31m---------------------------------------------------------------------------\u001b[0m",
      "\u001b[1;31mTypeError\u001b[0m                                 Traceback (most recent call last)",
      "\u001b[1;32m<ipython-input-24-df311ec95dbd>\u001b[0m in \u001b[0;36m<module>\u001b[1;34m\u001b[0m\n\u001b[0;32m      1\u001b[0m \u001b[1;31m# It will throw an error\u001b[0m\u001b[1;33m\u001b[0m\u001b[1;33m\u001b[0m\u001b[1;33m\u001b[0m\u001b[0m\n\u001b[0;32m      2\u001b[0m \u001b[0mvowels\u001b[0m \u001b[1;33m=\u001b[0m \u001b[1;33m[\u001b[0m\u001b[1;34m'a'\u001b[0m\u001b[1;33m,\u001b[0m\u001b[1;36m10\u001b[0m\u001b[1;33m,\u001b[0m\u001b[1;34m'i'\u001b[0m\u001b[1;33m,\u001b[0m\u001b[1;34m'o'\u001b[0m\u001b[1;33m,\u001b[0m\u001b[1;34m'u'\u001b[0m\u001b[1;33m]\u001b[0m\u001b[1;33m\u001b[0m\u001b[1;33m\u001b[0m\u001b[0m\n\u001b[1;32m----> 3\u001b[1;33m \u001b[0mmin\u001b[0m\u001b[1;33m(\u001b[0m\u001b[0mvowels\u001b[0m\u001b[1;33m)\u001b[0m\u001b[1;33m\u001b[0m\u001b[1;33m\u001b[0m\u001b[0m\n\u001b[0m",
      "\u001b[1;31mTypeError\u001b[0m: '<' not supported between instances of 'int' and 'str'"
     ]
    }
   ],
   "source": [
    "# It will throw an error\n",
    "vowels = ['a',10,'i','o','u']\n",
    "min(vowels)"
   ]
  },
  {
   "cell_type": "markdown",
   "metadata": {},
   "source": [
    "#### `max()`\n",
    "- `max()` function returns the maximum element of the list.\n",
    "- `max()` function only works with lists of similar data types"
   ]
  },
  {
   "cell_type": "code",
   "execution_count": 25,
   "metadata": {},
   "outputs": [
    {
     "data": {
      "text/plain": [
       "'Shape'"
      ]
     },
     "execution_count": 25,
     "metadata": {},
     "output_type": "execute_result"
    }
   ],
   "source": [
    "# It will display output according to ASCII number\n",
    "new_list = ['Argue','Burglar','Parent','Linear','Shape']\n",
    "max(new_list)"
   ]
  },
  {
   "cell_type": "code",
   "execution_count": 26,
   "metadata": {
    "scrolled": true
   },
   "outputs": [
    {
     "data": {
      "text/plain": [
       "9"
      ]
     },
     "execution_count": 26,
     "metadata": {},
     "output_type": "execute_result"
    }
   ],
   "source": [
    "l = [6,9,1,3,5.5]\n",
    "max(l)"
   ]
  },
  {
   "cell_type": "markdown",
   "metadata": {},
   "source": [
    "**These `min()`, `max()` functions are not applicable for nested lists**"
   ]
  },
  {
   "cell_type": "markdown",
   "metadata": {},
   "source": [
    "#### `sum()`\n",
    "- `sum()` function returns the sum of the elements of the list.\n",
    "- `sum()` function only works with lists of numeric data types."
   ]
  },
  {
   "cell_type": "code",
   "execution_count": 27,
   "metadata": {},
   "outputs": [
    {
     "data": {
      "text/plain": [
       "24.5"
      ]
     },
     "execution_count": 27,
     "metadata": {},
     "output_type": "execute_result"
    }
   ],
   "source": [
    "l = [6,9,1,3,5.5]\n",
    "sum(l)"
   ]
  },
  {
   "cell_type": "markdown",
   "metadata": {},
   "source": [
    "#### `sorted()`\n",
    "- `sorted()` function returns the sorted list.\n",
    "- `sorted()` function takes reverse boolean as an argument.\n",
    "- `sorted()` function only works on a list with similar data types.\n",
    "- by default, the value of reverse is False, to sort elements in decending order, we make reverse = True."
   ]
  },
  {
   "cell_type": "code",
   "execution_count": 28,
   "metadata": {},
   "outputs": [
    {
     "data": {
      "text/plain": [
       "[1, 3, 5.5, 6, 9]"
      ]
     },
     "execution_count": 28,
     "metadata": {},
     "output_type": "execute_result"
    }
   ],
   "source": [
    "l = [6,9,1,3,5.5]\n",
    "sorted(l)"
   ]
  },
  {
   "cell_type": "code",
   "execution_count": 29,
   "metadata": {},
   "outputs": [
    {
     "data": {
      "text/plain": [
       "[9, 6, 5.5, 3, 1]"
      ]
     },
     "execution_count": 29,
     "metadata": {},
     "output_type": "execute_result"
    }
   ],
   "source": [
    "# reverse = True is used for decending order\n",
    "sorted(l,reverse=True)"
   ]
  },
  {
   "cell_type": "markdown",
   "metadata": {},
   "source": [
    "- `sorted()` function does not change our list\n",
    "- If we want to change the list then we have to reassign it.\n",
    "- The difference between `sort()` and `sorted()` function is that, `sorted()` function does not change the original list and `sort()` function changes the original list."
   ]
  },
  {
   "cell_type": "code",
   "execution_count": 30,
   "metadata": {},
   "outputs": [
    {
     "data": {
      "text/plain": [
       "[6, 9, 1, 3, 5.5]"
      ]
     },
     "execution_count": 30,
     "metadata": {},
     "output_type": "execute_result"
    }
   ],
   "source": [
    "l"
   ]
  },
  {
   "cell_type": "code",
   "execution_count": 31,
   "metadata": {},
   "outputs": [
    {
     "name": "stdout",
     "output_type": "stream",
     "text": [
      "[1, 3, 5.5, 6, 9]\n"
     ]
    }
   ],
   "source": [
    "l = sorted(l)\n",
    "print(l)"
   ]
  },
  {
   "cell_type": "markdown",
   "metadata": {},
   "source": [
    "#### `sort()`\n",
    "- Use `sort()` to sort the list in either ascending/descending order.\n",
    "- The sorting is done in ascending order by default.\n",
    "- `sort()` method takes the reverse boolean as an argument.\n",
    "- `sort()` method only works on a list with elements of same data type.\n",
    "- String values are sorted by using their ASCII number."
   ]
  },
  {
   "cell_type": "code",
   "execution_count": 54,
   "metadata": {},
   "outputs": [
    {
     "data": {
      "text/plain": [
       "[1, 3, 5, 6, 9]"
      ]
     },
     "execution_count": 54,
     "metadata": {},
     "output_type": "execute_result"
    }
   ],
   "source": [
    "new_list = [6,9,1,3,5]\n",
    "# Use sort to sort the list (this is permanent!)\n",
    "new_list.sort()\n",
    "new_list"
   ]
  },
  {
   "cell_type": "code",
   "execution_count": 55,
   "metadata": {
    "scrolled": true
   },
   "outputs": [
    {
     "data": {
      "text/plain": [
       "[9, 6, 5, 3, 1]"
      ]
     },
     "execution_count": 55,
     "metadata": {},
     "output_type": "execute_result"
    }
   ],
   "source": [
    "new_list.sort(reverse=True)\n",
    "new_list"
   ]
  },
  {
   "cell_type": "code",
   "execution_count": 58,
   "metadata": {},
   "outputs": [
    {
     "name": "stdout",
     "output_type": "stream",
     "text": [
      "List before sorting:  [True, False]\n",
      "List after sorting:  [False, True]\n"
     ]
    }
   ],
   "source": [
    "# sorting of boolean values\n",
    "# It will treat True = 1 and False = 0\n",
    "bool_list = [True, False]\n",
    "print(\"List before sorting: \",bool_list)\n",
    "bool_list.sort()\n",
    "print(\"List after sorting: \",bool_list)"
   ]
  },
  {
   "cell_type": "markdown",
   "metadata": {},
   "source": [
    "#### `reverse()`\n",
    "- `reverse()` method reverses the list"
   ]
  },
  {
   "cell_type": "code",
   "execution_count": 56,
   "metadata": {},
   "outputs": [
    {
     "name": "stdout",
     "output_type": "stream",
     "text": [
      "List before reverse:  [1, 2, 3, 1, 3, 5, 8, 'Dub Dub', 10]\n",
      "List after reverse:  [10, 'Dub Dub', 8, 5, 3, 1, 3, 2, 1]\n"
     ]
    }
   ],
   "source": [
    "print(\"List before reverse: \",my_list)\n",
    "my_list.reverse()\n",
    "print(\"List after reverse: \",my_list)"
   ]
  },
  {
   "cell_type": "markdown",
   "metadata": {},
   "source": [
    "### List Methods\n",
    "- Let's go ahead and expplore some more special methods for lists:"
   ]
  },
  {
   "cell_type": "markdown",
   "metadata": {},
   "source": [
    "#### `append()`\n",
    "- Use the `append()` method to permanently add an item to the end of a list.\n",
    "- `append()` method takes the element which you want to add to the list as an argument.\n",
    "- We can only pass one item at a time in `append()` method, otherwise it will throw an error."
   ]
  },
  {
   "cell_type": "code",
   "execution_count": 34,
   "metadata": {
    "scrolled": true
   },
   "outputs": [
    {
     "name": "stdout",
     "output_type": "stream",
     "text": [
      "[1, 2, 3, 1, 3, 10, 5, 8, 'Append Me!']\n"
     ]
    }
   ],
   "source": [
    "# Append to the end of the list\n",
    "my_list = [1,2,3,1,3,10,5,8]\n",
    "my_list.append(\"Append Me!\")\n",
    "print(my_list)"
   ]
  },
  {
   "cell_type": "code",
   "execution_count": 35,
   "metadata": {
    "scrolled": true
   },
   "outputs": [
    {
     "ename": "TypeError",
     "evalue": "append() takes exactly one argument (2 given)",
     "output_type": "error",
     "traceback": [
      "\u001b[1;31m---------------------------------------------------------------------------\u001b[0m",
      "\u001b[1;31mTypeError\u001b[0m                                 Traceback (most recent call last)",
      "\u001b[1;32m<ipython-input-35-eefca329eb81>\u001b[0m in \u001b[0;36m<module>\u001b[1;34m\u001b[0m\n\u001b[0;32m      1\u001b[0m \u001b[0mmy_list\u001b[0m \u001b[1;33m=\u001b[0m \u001b[1;33m[\u001b[0m\u001b[1;36m1\u001b[0m\u001b[1;33m,\u001b[0m\u001b[1;36m2\u001b[0m\u001b[1;33m,\u001b[0m\u001b[1;36m3\u001b[0m\u001b[1;33m,\u001b[0m\u001b[1;36m1\u001b[0m\u001b[1;33m,\u001b[0m\u001b[1;36m3\u001b[0m\u001b[1;33m,\u001b[0m\u001b[1;36m10\u001b[0m\u001b[1;33m,\u001b[0m\u001b[1;36m5\u001b[0m\u001b[1;33m,\u001b[0m\u001b[1;36m8\u001b[0m\u001b[1;33m]\u001b[0m\u001b[1;33m\u001b[0m\u001b[1;33m\u001b[0m\u001b[0m\n\u001b[1;32m----> 2\u001b[1;33m \u001b[0mmy_list\u001b[0m\u001b[1;33m.\u001b[0m\u001b[0mappend\u001b[0m\u001b[1;33m(\u001b[0m\u001b[1;34m\"Data\"\u001b[0m\u001b[1;33m,\u001b[0m\u001b[1;36m20\u001b[0m\u001b[1;33m)\u001b[0m\u001b[1;33m\u001b[0m\u001b[1;33m\u001b[0m\u001b[0m\n\u001b[0m\u001b[0;32m      3\u001b[0m \u001b[0mprint\u001b[0m\u001b[1;33m(\u001b[0m\u001b[0mmy_list\u001b[0m\u001b[1;33m)\u001b[0m\u001b[1;33m\u001b[0m\u001b[1;33m\u001b[0m\u001b[0m\n",
      "\u001b[1;31mTypeError\u001b[0m: append() takes exactly one argument (2 given)"
     ]
    }
   ],
   "source": [
    "my_list = [1,2,3,1,3,10,5,8]\n",
    "my_list.append(\"Data\",20)\n",
    "print(my_list)"
   ]
  },
  {
   "cell_type": "markdown",
   "metadata": {},
   "source": [
    "- In fact, we can add any object to the list using `append()` function, it may be list, tuple or dictionary."
   ]
  },
  {
   "cell_type": "code",
   "execution_count": 40,
   "metadata": {},
   "outputs": [
    {
     "name": "stdout",
     "output_type": "stream",
     "text": [
      "[1, 2, 3, 1, 3, 10, 5, 8, 'Append Me!', (1, 2, 3)]\n"
     ]
    }
   ],
   "source": [
    "my_list = [1,2,3,1,3,10,5,8,\"Append Me!\"]\n",
    "my_list.append((1,2,3))\n",
    "print(my_list)"
   ]
  },
  {
   "cell_type": "code",
   "execution_count": 41,
   "metadata": {},
   "outputs": [
    {
     "name": "stdout",
     "output_type": "stream",
     "text": [
      "[1, 2, 3, 1, 3, 10, 5, 8, 'Append Me!', (1, 2, 3), [10, [20, 30], 40]]\n"
     ]
    }
   ],
   "source": [
    "my_list.append([10,[20,30],40])\n",
    "print(my_list)"
   ]
  },
  {
   "cell_type": "markdown",
   "metadata": {},
   "source": [
    "#### `insert()` function:\n",
    "- To insert item at `specified index position`\n",
    "- **Syntax:** .insert(index,value)"
   ]
  },
  {
   "cell_type": "code",
   "execution_count": 43,
   "metadata": {},
   "outputs": [
    {
     "name": "stdout",
     "output_type": "stream",
     "text": [
      "[1, 888, 2, 3, 1, 3, 10, 5, 8]\n"
     ]
    }
   ],
   "source": [
    "my_list = [1,2,3,1,3,10,5,8]\n",
    "my_list.insert(1,888)\n",
    "print(my_list)"
   ]
  },
  {
   "cell_type": "code",
   "execution_count": 44,
   "metadata": {},
   "outputs": [
    {
     "name": "stdout",
     "output_type": "stream",
     "text": [
      "[1, 888, 2, 3, 1, 3, 10, 5, 999, 8]\n"
     ]
    }
   ],
   "source": [
    "# It will add before the specified index, if we use -ve indexing.\n",
    "my_list.insert(-1,999)\n",
    "print(my_list)"
   ]
  },
  {
   "cell_type": "markdown",
   "metadata": {},
   "source": [
    "#### `extend( )`\n",
    "- Use the `extend()` method to merge a list to an existing list.\n",
    "- `extend()` method takes a list or any iterable as an argument.\n",
    "- Quite helpful when you have two or more lists and you want to merge them together"
   ]
  },
  {
   "cell_type": "code",
   "execution_count": 45,
   "metadata": {},
   "outputs": [
    {
     "name": "stdout",
     "output_type": "stream",
     "text": [
      "[1, 2, 3, 1, 3, 10, 5, 8, 'Ching', 'Chang', 'Chong']\n"
     ]
    }
   ],
   "source": [
    "my_list = [1,2,3,1,3,10,5,8]\n",
    "my_list.extend(['Ching','Chang','Chong'])\n",
    "print(my_list)"
   ]
  },
  {
   "cell_type": "code",
   "execution_count": 46,
   "metadata": {},
   "outputs": [
    {
     "name": "stdout",
     "output_type": "stream",
     "text": [
      "[1, 2, 3, 1, 3, 10, 5, 8, 'Ching', 'Chang', 'Chong', 10, [20, 30], 40]\n"
     ]
    }
   ],
   "source": [
    "# It will add items as single items and not as list inside list\n",
    "my_list.extend([10,[20,30],40])\n",
    "print(my_list)"
   ]
  },
  {
   "cell_type": "markdown",
   "metadata": {},
   "source": [
    "#### `pop()`\n",
    "- Use `pop()` to \"pop off\" an item from the list.\n",
    "- By default `pop()` takes off the element at the last index, but you can also specify which index to pop off.\n",
    "- `pop()` takes the index as an argument and returns the element which was popped off.\n",
    "- `pop()` method changes the list by popping off the element at the specified index."
   ]
  },
  {
   "cell_type": "code",
   "execution_count": 47,
   "metadata": {},
   "outputs": [
    {
     "name": "stdout",
     "output_type": "stream",
     "text": [
      "List before using pop function: [1, 2, 3, 1, 3, 10, 5, 8]\n",
      "List after using pop function: [1, 2, 3, 1, 3, 10, 5]\n"
     ]
    }
   ],
   "source": [
    "my_list = [1,2,3,1,3,10,5,8]\n",
    "print(\"List before using pop function:\",my_list)\n",
    "my_list.pop()\n",
    "print(\"List after using pop function:\",my_list)"
   ]
  },
  {
   "cell_type": "markdown",
   "metadata": {},
   "source": [
    "#### `remove()`\n",
    "- Use `remove()` to remove an item/element from the list.\n",
    "- By default `remove()` removes the specified element from the list.\n",
    "- `remove()` takes the element as an argument.\n",
    "- In `pop()` function, we pass index but in `remove()` function, we pass value.\n",
    "- We can pass only 1 element to `remove()` function."
   ]
  },
  {
   "cell_type": "code",
   "execution_count": 48,
   "metadata": {},
   "outputs": [
    {
     "name": "stdout",
     "output_type": "stream",
     "text": [
      "[1, 2, 3, 1, 3, 10, 5, 8, 'Ching', 'Chong']\n"
     ]
    }
   ],
   "source": [
    "my_list = [1,2,3,1,3,10,5,8,'Ching','Chang','Chong']\n",
    "my_list.remove('Chang')\n",
    "print(my_list)"
   ]
  },
  {
   "cell_type": "markdown",
   "metadata": {},
   "source": [
    "#### `clear()`\n",
    "- Use `clear()` to remove all item\\element from the list. (to empty the list)"
   ]
  },
  {
   "cell_type": "code",
   "execution_count": 50,
   "metadata": {},
   "outputs": [
    {
     "name": "stdout",
     "output_type": "stream",
     "text": [
      "[1, 2, 3, 1, 3, 5, 8, 'Dub Dub', 10]\n",
      "[]\n"
     ]
    }
   ],
   "source": [
    "my_list = [1,2,3,1,3,5,8,'Dub Dub',10]\n",
    "print(my_list)\n",
    "my_list.clear()\n",
    "print(my_list)"
   ]
  },
  {
   "cell_type": "markdown",
   "metadata": {},
   "source": [
    "#### `count()`\n",
    "- The `count()` method returns the total occurrence of a specified element in the list."
   ]
  },
  {
   "cell_type": "code",
   "execution_count": 51,
   "metadata": {},
   "outputs": [
    {
     "data": {
      "text/plain": [
       "2"
      ]
     },
     "execution_count": 51,
     "metadata": {},
     "output_type": "execute_result"
    }
   ],
   "source": [
    "my_list = [1,2,3,1,3,5,8,'Dub Dub',10]\n",
    "my_list.count(3) # counts occurrence of 3"
   ]
  },
  {
   "cell_type": "markdown",
   "metadata": {},
   "source": [
    "#### `index()`\n",
    "- The `index()` method returns the index of a specified element at first occurrance."
   ]
  },
  {
   "cell_type": "code",
   "execution_count": 52,
   "metadata": {},
   "outputs": [
    {
     "name": "stdout",
     "output_type": "stream",
     "text": [
      "[1, 2, 3, 1, 3, 5, 8, 'Dub Dub', 10]\n"
     ]
    }
   ],
   "source": [
    "print(my_list)"
   ]
  },
  {
   "cell_type": "code",
   "execution_count": 53,
   "metadata": {},
   "outputs": [
    {
     "data": {
      "text/plain": [
       "7"
      ]
     },
     "execution_count": 53,
     "metadata": {},
     "output_type": "execute_result"
    }
   ],
   "source": [
    "my_list.index('Dub Dub')"
   ]
  },
  {
   "cell_type": "markdown",
   "metadata": {},
   "source": [
    "### Changing list item:\n",
    "- It is not necessary to replace a string value at the place of string, you can add int, float, bool as well.\n",
    "- Means it is not compalsory to have similar data type while changing the item."
   ]
  },
  {
   "cell_type": "code",
   "execution_count": 25,
   "metadata": {},
   "outputs": [
    {
     "name": "stdout",
     "output_type": "stream",
     "text": [
      "['January', 'February', 'March', 'December', 'May', 'June', 'July']\n"
     ]
    }
   ],
   "source": [
    "Months = [\"January\",\"February\",\"March\",\"April\",\"May\",\"June\",\"July\"]\n",
    "Months[3] = \"December\"\n",
    "print(Months)"
   ]
  },
  {
   "cell_type": "code",
   "execution_count": 26,
   "metadata": {},
   "outputs": [
    {
     "name": "stdout",
     "output_type": "stream",
     "text": [
      "['January', 'February', 'March', 12.45, 'May', 'June', 'July']\n"
     ]
    }
   ],
   "source": [
    "# You can replace string by any other data type as well\n",
    "Months[3] = 12.45\n",
    "print(Months)"
   ]
  },
  {
   "cell_type": "markdown",
   "metadata": {},
   "source": [
    "### Changing range of items\n",
    "- To change the value of items within a specific range, define a list with the new values, and refer to the range of index numbers, where you want to insert the new values.\n",
    "- Examples are as follows :"
   ]
  },
  {
   "cell_type": "code",
   "execution_count": 28,
   "metadata": {
    "scrolled": true
   },
   "outputs": [
    {
     "name": "stdout",
     "output_type": "stream",
     "text": [
      "['January', 'December', 'November', 'October', 'May', 'June', 'July']\n"
     ]
    }
   ],
   "source": [
    "Months = [\"January\",\"February\",\"March\",\"April\",\"May\",\"June\",\"July\"]\n",
    "Months[1:4] = [\"December\",\"November\",\"October\"]\n",
    "print(Months)"
   ]
  },
  {
   "cell_type": "markdown",
   "metadata": {},
   "source": [
    "### The difference between below two cells is as follows:\n",
    "\n",
    "**- The fist cell replaces the range of values so if we put more than one value in it, it will add it in list as usual.**\n",
    "\n",
    "**- The second cell replaces only value so it will consider the replaced values in a nested list or if you have not mentioned it in a list then it will consider it as a tuple.**\n",
    "\n",
    "**- So in the second case it will add nested list or tuple in a list.**\n",
    "\n",
    "**- Inshort in fisrt case, we are replacing range by a range so it will add simply values in it.**\n",
    "\n",
    "**- But in second case we are replacing a value by a range, so i will add nested list or a tuple in a list.**\n"
   ]
  },
  {
   "cell_type": "code",
   "execution_count": 31,
   "metadata": {
    "scrolled": true
   },
   "outputs": [
    {
     "name": "stdout",
     "output_type": "stream",
     "text": [
      "['January', 'February', 'Pooja', 'Pedgaonkar', 'May', 'June', 'July']\n",
      "['January', 'February', 'Pooja', 'Pedgaonkar', 'May', 'June', 'July']\n"
     ]
    }
   ],
   "source": [
    "# Range is replaced by range, so it will not consider a sublist\n",
    "Months = [\"January\",\"February\",\"March\",\"April\",\"May\",\"June\",\"July\"]\n",
    "Months[2:4] = [\"Pooja\",\"Pedgaonkar\"]\n",
    "print(Months)\n",
    "Months = [\"January\",\"February\",\"March\",\"April\",\"May\",\"June\",\"July\"]\n",
    "Months[2:4] = \"Pooja\",\"Pedgaonkar\"\n",
    "print(Months)"
   ]
  },
  {
   "cell_type": "code",
   "execution_count": 32,
   "metadata": {},
   "outputs": [
    {
     "name": "stdout",
     "output_type": "stream",
     "text": [
      "['January', 'February', ['Pooja', 'Pedgaonkar'], 'April', 'May', 'June', 'July']\n",
      "['January', 'February', ('Pooja', 'Pedgaonkar'), 'April', 'May', 'June', 'July']\n"
     ]
    }
   ],
   "source": [
    "# Value is replaced by range, so it will consider a sublist\n",
    "Months = [\"January\",\"February\",\"March\",\"April\",\"May\",\"June\",\"July\"]\n",
    "Months[2] = [\"Pooja\",\"Pedgaonkar\"]\n",
    "print(Months)\n",
    "Months = [\"January\",\"February\",\"March\",\"April\",\"May\",\"June\",\"July\"]\n",
    "Months[2] = \"Pooja\",\"Pedgaonkar\"\n",
    "print(Months)"
   ]
  },
  {
   "cell_type": "code",
   "execution_count": 35,
   "metadata": {},
   "outputs": [
    {
     "name": "stdout",
     "output_type": "stream",
     "text": [
      "['January', 'February', 'Pooja', 7720]\n"
     ]
    }
   ],
   "source": [
    "# Range is replaced by tuple -> only values are added\n",
    "Months = [\"January\",\"February\",\"March\",\"April\",\"May\",\"June\",\"July\"]\n",
    "Months[2:] = (\"Pooja\",7720)\n",
    "print(Months)"
   ]
  },
  {
   "cell_type": "code",
   "execution_count": 36,
   "metadata": {},
   "outputs": [
    {
     "name": "stdout",
     "output_type": "stream",
     "text": [
      "['January', 'February', 7720, 'Pooja']\n"
     ]
    }
   ],
   "source": [
    "# Range is replaced by set -> only values are added\n",
    "Months = [\"January\",\"February\",\"March\",\"April\",\"May\",\"June\",\"July\"]\n",
    "Months[2:] = {\"Pooja\",7720}\n",
    "print(Months)"
   ]
  },
  {
   "cell_type": "code",
   "execution_count": 37,
   "metadata": {},
   "outputs": [
    {
     "name": "stdout",
     "output_type": "stream",
     "text": [
      "['January', 'February', 'Pooja', 7720]\n"
     ]
    }
   ],
   "source": [
    "# Range is replaced by direct values -> only values are added\n",
    "Months = [\"January\",\"February\",\"March\",\"April\",\"May\",\"June\",\"July\"]\n",
    "Months[2:] = \"Pooja\",7720\n",
    "print(Months)"
   ]
  },
  {
   "cell_type": "code",
   "execution_count": 38,
   "metadata": {},
   "outputs": [
    {
     "name": "stdout",
     "output_type": "stream",
     "text": [
      "['January', 'February', ('Pooja', 7720), 'April', 'May', 'June', 'July']\n"
     ]
    }
   ],
   "source": [
    "# Value is replaced by tuple -> Tuple is added in a list\n",
    "Months = [\"January\",\"February\",\"March\",\"April\",\"May\",\"June\",\"July\"]\n",
    "Months[2] = (\"Pooja\",7720)\n",
    "print(Months)"
   ]
  },
  {
   "cell_type": "code",
   "execution_count": 39,
   "metadata": {},
   "outputs": [
    {
     "name": "stdout",
     "output_type": "stream",
     "text": [
      "['January', 'February', {7720, 'Pooja'}, 'April', 'May', 'June', 'July']\n"
     ]
    }
   ],
   "source": [
    "# Value is replaced by set -> Set is added in a list\n",
    "Months = [\"January\",\"February\",\"March\",\"April\",\"May\",\"June\",\"July\"]\n",
    "Months[2] = {\"Pooja\",7720}\n",
    "print(Months)"
   ]
  },
  {
   "cell_type": "code",
   "execution_count": 40,
   "metadata": {},
   "outputs": [
    {
     "name": "stdout",
     "output_type": "stream",
     "text": [
      "['January', 'February', ('Pooja', 7720), 'April', 'May', 'June', 'July']\n"
     ]
    }
   ],
   "source": [
    "# Value is replaced by direct values -> Tuple is added to a list \n",
    "# -> why tuple? Because we have not specified the type of item.\n",
    "Months = [\"January\",\"February\",\"March\",\"April\",\"May\",\"June\",\"July\"]\n",
    "Months[2] = \"Pooja\",7720\n",
    "print(Months)"
   ]
  },
  {
   "cell_type": "markdown",
   "metadata": {},
   "source": [
    "- If range is replaced by anything, like tuple, list, or comma separated values, it will directly replace it as values are replaced. So in this case it will not consider the data type of variable\n",
    "- If value like Months[4] is replaced by anything, like tuple,list, or comma separated values, it will treat it as sublist.\n"
   ]
  },
  {
   "cell_type": "markdown",
   "metadata": {},
   "source": [
    "### If you want to replace a single item by a list of items without sublists then use the following"
   ]
  },
  {
   "cell_type": "code",
   "execution_count": 2,
   "metadata": {},
   "outputs": [
    {
     "name": "stdout",
     "output_type": "stream",
     "text": [
      "['January', 'February', 'Pooja', 7720, 'April', 'May', 'June', 'July']\n"
     ]
    }
   ],
   "source": [
    "Months = [\"January\",\"February\",\"March\",\"April\",\"May\",\"June\",\"July\"]\n",
    "Months[2:3] = [\"Pooja\",7720]\n",
    "print(Months)"
   ]
  },
  {
   "cell_type": "markdown",
   "metadata": {},
   "source": [
    "### Index out of range Error\n",
    "- Why this error occurs?\n",
    "    - Because we are assigning values to the indexes which are greater than the length of list\n",
    "    - This tells us that do not assign values to the indexes which are greater than the size of list\n",
    "    - Let suppose size of list is 5 then we can not add values to the list directly like Months[6] = \"Something\"\n",
    "    - Example of this is as follows."
   ]
  },
  {
   "cell_type": "code",
   "execution_count": 3,
   "metadata": {},
   "outputs": [
    {
     "ename": "IndexError",
     "evalue": "list assignment index out of range",
     "output_type": "error",
     "traceback": [
      "\u001b[1;31m---------------------------------------------------------------------------\u001b[0m",
      "\u001b[1;31mIndexError\u001b[0m                                Traceback (most recent call last)",
      "\u001b[1;32m<ipython-input-3-8d2cd8d70f51>\u001b[0m in \u001b[0;36m<module>\u001b[1;34m\u001b[0m\n\u001b[0;32m      1\u001b[0m \u001b[0mMonths\u001b[0m \u001b[1;33m=\u001b[0m \u001b[1;33m[\u001b[0m\u001b[1;34m\"January\"\u001b[0m\u001b[1;33m,\u001b[0m\u001b[1;34m\"February\"\u001b[0m\u001b[1;33m,\u001b[0m\u001b[1;34m\"March\"\u001b[0m\u001b[1;33m,\u001b[0m\u001b[1;34m\"April\"\u001b[0m\u001b[1;33m,\u001b[0m\u001b[1;34m\"May\"\u001b[0m\u001b[1;33m,\u001b[0m\u001b[1;34m\"June\"\u001b[0m\u001b[1;33m,\u001b[0m\u001b[1;34m\"July\"\u001b[0m\u001b[1;33m]\u001b[0m\u001b[1;33m\u001b[0m\u001b[1;33m\u001b[0m\u001b[0m\n\u001b[1;32m----> 2\u001b[1;33m \u001b[0mMonths\u001b[0m\u001b[1;33m[\u001b[0m\u001b[1;36m7\u001b[0m\u001b[1;33m]\u001b[0m \u001b[1;33m=\u001b[0m \u001b[1;34m\"August\"\u001b[0m\u001b[1;33m\u001b[0m\u001b[1;33m\u001b[0m\u001b[0m\n\u001b[0m\u001b[0;32m      3\u001b[0m \u001b[0mprint\u001b[0m\u001b[1;33m(\u001b[0m\u001b[0mMonths\u001b[0m\u001b[1;33m)\u001b[0m\u001b[1;33m\u001b[0m\u001b[1;33m\u001b[0m\u001b[0m\n",
      "\u001b[1;31mIndexError\u001b[0m: list assignment index out of range"
     ]
    }
   ],
   "source": [
    "Months = [\"January\",\"February\",\"March\",\"April\",\"May\",\"June\",\"July\"]\n",
    "Months[7] = \"August\" \n",
    "# Size of list is 6 so you can not add element directly in the list, \n",
    "# you have to use append method here\n",
    "print(Months)"
   ]
  },
  {
   "cell_type": "markdown",
   "metadata": {},
   "source": [
    "### Insert Items in the list\n",
    "- To insert a new list item, without replacing any of the existing values, we can use the insert() method.\n",
    "- The insert() method inserts the item at the specified index.\n",
    "- At a time we can insert only one value.\n",
    "- Syntax of insert function is: insert(index, value)\n",
    "- We can also insert for negative index as well.\n",
    "- The example is as follows:"
   ]
  },
  {
   "cell_type": "code",
   "execution_count": 4,
   "metadata": {},
   "outputs": [
    {
     "name": "stdout",
     "output_type": "stream",
     "text": [
      "['January', 'February', 'December', 'March', 'April', 'May', 'June', 'July']\n"
     ]
    }
   ],
   "source": [
    "Months = [\"January\",\"February\",\"March\",\"April\",\"May\",\"June\",\"July\"]\n",
    "Months.insert(2,\"December\")\n",
    "print(Months)"
   ]
  },
  {
   "cell_type": "markdown",
   "metadata": {},
   "source": [
    "#### Inserting values using negative index:\n",
    "- We can also use negative indexes in insert() function.\n",
    "- But only the difference is, it will insert at the index before to the index which we have specified.\n",
    "- For EX: If I specified index -2 then it will insert at the index -3"
   ]
  },
  {
   "cell_type": "code",
   "execution_count": 7,
   "metadata": {},
   "outputs": [
    {
     "name": "stdout",
     "output_type": "stream",
     "text": [
      "['January', 'February', 'March', 'April', 'May', 'August', 'June', 'July']\n"
     ]
    }
   ],
   "source": [
    "Months = [\"January\",\"February\",\"March\",\"April\",\"May\",\"June\",\"July\"]\n",
    "Months.insert(-2,\"August\") # Here it will insert value at the index -3\n",
    "print(Months)"
   ]
  },
  {
   "cell_type": "markdown",
   "metadata": {},
   "source": [
    "### Append Items\n",
    "- If we want to add elements at the end of the list then we are using append() function because we can't add it directly\n",
    "- The difference between insert() and append() function is that insert() function is used to insert value at any index inside or at the end of list but append() function is only used to add element at the end of the list.\n",
    "- Syntax of append function: append(Value) -> because it will only add value at last, so no need to add index\n",
    "- The drawback of append method is we can add only one value at a time.\n",
    "- The example is as follows:"
   ]
  },
  {
   "cell_type": "code",
   "execution_count": 5,
   "metadata": {},
   "outputs": [
    {
     "name": "stdout",
     "output_type": "stream",
     "text": [
      "['January', 'February', 'March', 'April', 'May', 'June', 'July', 'August']\n"
     ]
    }
   ],
   "source": [
    "Months = [\"January\",\"February\",\"March\",\"April\",\"May\",\"June\",\"July\"]\n",
    "Months.append(\"August\")\n",
    "print(Months)"
   ]
  },
  {
   "cell_type": "code",
   "execution_count": 8,
   "metadata": {},
   "outputs": [
    {
     "ename": "TypeError",
     "evalue": "append() takes exactly one argument (3 given)",
     "output_type": "error",
     "traceback": [
      "\u001b[1;31m---------------------------------------------------------------------------\u001b[0m",
      "\u001b[1;31mTypeError\u001b[0m                                 Traceback (most recent call last)",
      "\u001b[1;32m<ipython-input-8-bfad565cb45a>\u001b[0m in \u001b[0;36m<module>\u001b[1;34m\u001b[0m\n\u001b[0;32m      1\u001b[0m \u001b[1;31m# We can not pass more than one value to the append function, if so then it will give an error\u001b[0m\u001b[1;33m\u001b[0m\u001b[1;33m\u001b[0m\u001b[1;33m\u001b[0m\u001b[0m\n\u001b[0;32m      2\u001b[0m \u001b[0mMonths\u001b[0m \u001b[1;33m=\u001b[0m \u001b[1;33m[\u001b[0m\u001b[1;34m\"January\"\u001b[0m\u001b[1;33m,\u001b[0m\u001b[1;34m\"February\"\u001b[0m\u001b[1;33m,\u001b[0m\u001b[1;34m\"March\"\u001b[0m\u001b[1;33m,\u001b[0m\u001b[1;34m\"April\"\u001b[0m\u001b[1;33m,\u001b[0m\u001b[1;34m\"May\"\u001b[0m\u001b[1;33m,\u001b[0m\u001b[1;34m\"June\"\u001b[0m\u001b[1;33m,\u001b[0m\u001b[1;34m\"July\"\u001b[0m\u001b[1;33m]\u001b[0m\u001b[1;33m\u001b[0m\u001b[1;33m\u001b[0m\u001b[0m\n\u001b[1;32m----> 3\u001b[1;33m \u001b[0mMonths\u001b[0m\u001b[1;33m.\u001b[0m\u001b[0mappend\u001b[0m\u001b[1;33m(\u001b[0m\u001b[1;34m\"August\"\u001b[0m\u001b[1;33m,\u001b[0m\u001b[1;34m\"September\"\u001b[0m\u001b[1;33m,\u001b[0m\u001b[1;34m\"Octomber\"\u001b[0m\u001b[1;33m)\u001b[0m\u001b[1;33m\u001b[0m\u001b[1;33m\u001b[0m\u001b[0m\n\u001b[0m",
      "\u001b[1;31mTypeError\u001b[0m: append() takes exactly one argument (3 given)"
     ]
    }
   ],
   "source": [
    "# We can not pass more than one value to the append function, \n",
    "# if so then it will give an error\n",
    "Months = [\"January\",\"February\",\"March\",\"April\",\"May\",\"June\",\"July\"]\n",
    "Months.append(\"August\",\"September\",\"Octomber\")"
   ]
  },
  {
   "cell_type": "markdown",
   "metadata": {},
   "source": [
    "### Append list at the end of another list:\n",
    "- It is possible to append a list at the end of another list, but it will be added as a sublist not as a separate elements.\n",
    "- If you want to add separate elements then you have to use extend() method\n",
    "- The example is as follows:"
   ]
  },
  {
   "cell_type": "code",
   "execution_count": 10,
   "metadata": {},
   "outputs": [
    {
     "name": "stdout",
     "output_type": "stream",
     "text": [
      "['January', 'February', 'March', 'April', 'May', 'June', 'July', ['August', 'September', 'Octomber']]\n"
     ]
    }
   ],
   "source": [
    "Months = [\"January\",\"February\",\"March\",\"April\",\"May\",\"June\",\"July\"]\n",
    "Append_Months = [\"August\",\"September\",\"Octomber\"]\n",
    "Months.append(Append_Months) \n",
    "# List is appended at the end of Months but not separate elements, \n",
    "# to do so, use extend() function.\n",
    "print(Months)"
   ]
  },
  {
   "cell_type": "markdown",
   "metadata": {},
   "source": [
    "### Append more than one item or append one list to another using extend() function\n",
    "- The drawback of append() function is that you can add only one value at a time, but if you want to add more than one value then we can use extend() method.\n",
    "- It is possible to append entire list to the another list using extend() function, which is not possible by using append method.\n",
    "- Syntax of extend function: \n",
    "- The example is as follows: extend(list or tuple or dictionary or set)\n"
   ]
  },
  {
   "cell_type": "code",
   "execution_count": 6,
   "metadata": {},
   "outputs": [
    {
     "name": "stdout",
     "output_type": "stream",
     "text": [
      "['January', 'February', 'March', 'April', 'May', 'June', 'July', 'August', 'September', 'Octomber', 'November', 'December']\n"
     ]
    }
   ],
   "source": [
    "Months = [\"January\",\"February\",\"March\",\"April\",\"May\",\"June\",\"July\"]\n",
    "Add_Months = [\"August\",\"September\",\"Octomber\",\"November\",\"December\"]\n",
    "Months.extend(Add_Months)\n",
    "print(Months)"
   ]
  },
  {
   "cell_type": "markdown",
   "metadata": {},
   "source": [
    "#### If you want to add more than one item in a list but don't want to create sublist, then you must use extend() function but if you want to add items in list and want to create sublist of that items then you can use append method by simply passing list to it."
   ]
  },
  {
   "cell_type": "code",
   "execution_count": 12,
   "metadata": {},
   "outputs": [
    {
     "name": "stdout",
     "output_type": "stream",
     "text": [
      "['January', 'February', ['August', 'September', 'Octomber'], 'March', 'April', 'May', 'June', 'July']\n"
     ]
    }
   ],
   "source": [
    "# Like appending a list, you can insert a list at a perticular index.\n",
    "Months = [\"January\",\"February\",\"March\",\"April\",\"May\",\"June\",\"July\"]\n",
    "Insert_Months = [\"August\",\"September\",\"Octomber\"]\n",
    "Months.insert(2,Insert_Months)\n",
    "print(Months)"
   ]
  },
  {
   "cell_type": "markdown",
   "metadata": {},
   "source": [
    "### Remove specified item:\n",
    "- The remove() method removes the specified item.\n",
    "- At a time only one item can be removed using remove() method.\n",
    "- If you remove more than one value at a time, then it will give an error."
   ]
  },
  {
   "cell_type": "code",
   "execution_count": 13,
   "metadata": {},
   "outputs": [
    {
     "name": "stdout",
     "output_type": "stream",
     "text": [
      "['January', 'March', 'April', 'May', 'June', 'July']\n"
     ]
    }
   ],
   "source": [
    "Months = [\"January\",\"February\",\"March\",\"April\",\"May\",\"June\",\"July\"]\n",
    "Months.remove(\"February\")\n",
    "print(Months)"
   ]
  },
  {
   "cell_type": "code",
   "execution_count": 19,
   "metadata": {},
   "outputs": [
    {
     "ename": "TypeError",
     "evalue": "remove() takes exactly one argument (2 given)",
     "output_type": "error",
     "traceback": [
      "\u001b[1;31m---------------------------------------------------------------------------\u001b[0m",
      "\u001b[1;31mTypeError\u001b[0m                                 Traceback (most recent call last)",
      "\u001b[1;32m<ipython-input-19-bb02d6942c15>\u001b[0m in \u001b[0;36m<module>\u001b[1;34m\u001b[0m\n\u001b[0;32m      1\u001b[0m \u001b[0mMonths\u001b[0m \u001b[1;33m=\u001b[0m \u001b[1;33m[\u001b[0m\u001b[1;34m\"January\"\u001b[0m\u001b[1;33m,\u001b[0m\u001b[1;34m\"February\"\u001b[0m\u001b[1;33m,\u001b[0m\u001b[1;34m\"March\"\u001b[0m\u001b[1;33m,\u001b[0m\u001b[1;34m\"April\"\u001b[0m\u001b[1;33m,\u001b[0m\u001b[1;34m\"May\"\u001b[0m\u001b[1;33m,\u001b[0m\u001b[1;34m\"June\"\u001b[0m\u001b[1;33m,\u001b[0m\u001b[1;34m\"July\"\u001b[0m\u001b[1;33m]\u001b[0m\u001b[1;33m\u001b[0m\u001b[1;33m\u001b[0m\u001b[0m\n\u001b[1;32m----> 2\u001b[1;33m \u001b[0mMonths\u001b[0m\u001b[1;33m.\u001b[0m\u001b[0mremove\u001b[0m\u001b[1;33m(\u001b[0m\u001b[1;34m\"February\"\u001b[0m\u001b[1;33m,\u001b[0m\u001b[1;34m\"May\"\u001b[0m\u001b[1;33m)\u001b[0m\u001b[1;33m\u001b[0m\u001b[1;33m\u001b[0m\u001b[0m\n\u001b[0m",
      "\u001b[1;31mTypeError\u001b[0m: remove() takes exactly one argument (2 given)"
     ]
    }
   ],
   "source": [
    "Months = [\"January\",\"February\",\"March\",\"April\",\"May\",\"June\",\"July\"]\n",
    "Months.remove(\"February\",\"May\")"
   ]
  },
  {
   "cell_type": "markdown",
   "metadata": {},
   "source": [
    "### Remove specified index value:\n",
    "- The pop() method removes the specified index value.\n",
    "- If you do not specify the index, the pop() method will remove the last item.\n",
    "- If you speified more than one index at a time in pop() method then it will give an error."
   ]
  },
  {
   "cell_type": "code",
   "execution_count": 14,
   "metadata": {},
   "outputs": [
    {
     "name": "stdout",
     "output_type": "stream",
     "text": [
      "['January', 'March', 'April', 'May', 'June', 'July']\n"
     ]
    }
   ],
   "source": [
    "# Remove item at a perticular index\n",
    "Months = [\"January\",\"February\",\"March\",\"April\",\"May\",\"June\",\"July\"]\n",
    "Months.pop(1) # Will remove the item at the index 1\n",
    "print(Months)"
   ]
  },
  {
   "cell_type": "code",
   "execution_count": 15,
   "metadata": {},
   "outputs": [
    {
     "name": "stdout",
     "output_type": "stream",
     "text": [
      "['January', 'February', 'March', 'April', 'May', 'June']\n"
     ]
    }
   ],
   "source": [
    "# Remove the last item, as we have not mentioned the index to remove the value\n",
    "Months = [\"January\",\"February\",\"March\",\"April\",\"May\",\"June\",\"July\"]\n",
    "Months.pop()\n",
    "print(Months)"
   ]
  },
  {
   "cell_type": "code",
   "execution_count": 20,
   "metadata": {},
   "outputs": [
    {
     "ename": "TypeError",
     "evalue": "pop() takes at most 1 argument (2 given)",
     "output_type": "error",
     "traceback": [
      "\u001b[1;31m---------------------------------------------------------------------------\u001b[0m",
      "\u001b[1;31mTypeError\u001b[0m                                 Traceback (most recent call last)",
      "\u001b[1;32m<ipython-input-20-2fe87be9561c>\u001b[0m in \u001b[0;36m<module>\u001b[1;34m\u001b[0m\n\u001b[0;32m      1\u001b[0m \u001b[1;31m# It will give an error because you can pop only one element at a time\u001b[0m\u001b[1;33m\u001b[0m\u001b[1;33m\u001b[0m\u001b[1;33m\u001b[0m\u001b[0m\n\u001b[0;32m      2\u001b[0m \u001b[0mMonths\u001b[0m \u001b[1;33m=\u001b[0m \u001b[1;33m[\u001b[0m\u001b[1;34m\"January\"\u001b[0m\u001b[1;33m,\u001b[0m\u001b[1;34m\"February\"\u001b[0m\u001b[1;33m,\u001b[0m\u001b[1;34m\"March\"\u001b[0m\u001b[1;33m,\u001b[0m\u001b[1;34m\"April\"\u001b[0m\u001b[1;33m,\u001b[0m\u001b[1;34m\"May\"\u001b[0m\u001b[1;33m,\u001b[0m\u001b[1;34m\"June\"\u001b[0m\u001b[1;33m,\u001b[0m\u001b[1;34m\"July\"\u001b[0m\u001b[1;33m]\u001b[0m\u001b[1;33m\u001b[0m\u001b[1;33m\u001b[0m\u001b[0m\n\u001b[1;32m----> 3\u001b[1;33m \u001b[0mMonths\u001b[0m\u001b[1;33m.\u001b[0m\u001b[0mpop\u001b[0m\u001b[1;33m(\u001b[0m\u001b[1;36m1\u001b[0m\u001b[1;33m,\u001b[0m\u001b[1;36m4\u001b[0m\u001b[1;33m)\u001b[0m\u001b[1;33m\u001b[0m\u001b[1;33m\u001b[0m\u001b[0m\n\u001b[0m\u001b[0;32m      4\u001b[0m \u001b[0mprint\u001b[0m\u001b[1;33m(\u001b[0m\u001b[0mMonths\u001b[0m\u001b[1;33m)\u001b[0m\u001b[1;33m\u001b[0m\u001b[1;33m\u001b[0m\u001b[0m\n",
      "\u001b[1;31mTypeError\u001b[0m: pop() takes at most 1 argument (2 given)"
     ]
    }
   ],
   "source": [
    "# It will give an error because you can pop only one element at a time\n",
    "Months = [\"January\",\"February\",\"March\",\"April\",\"May\",\"June\",\"July\"]\n",
    "Months.pop(1,4)\n",
    "print(Months)"
   ]
  },
  {
   "cell_type": "markdown",
   "metadata": {},
   "source": [
    "### Del keyword:\n",
    "- del keyword also removes the specified index.\n",
    "- The del keyword can also delete the list completely.\n",
    "- You can use index only for deleting a perticular item from the list otherwise it will give an error"
   ]
  },
  {
   "cell_type": "code",
   "execution_count": 16,
   "metadata": {},
   "outputs": [
    {
     "name": "stdout",
     "output_type": "stream",
     "text": [
      "['January', 'February', 'April', 'May', 'June', 'July']\n"
     ]
    }
   ],
   "source": [
    "# delete a perticular element in a list\n",
    "Months = [\"January\",\"February\",\"March\",\"April\",\"May\",\"June\",\"July\"]\n",
    "del Months[2] # deletes the perticular value in a list\n",
    "print(Months)"
   ]
  },
  {
   "cell_type": "code",
   "execution_count": 17,
   "metadata": {
    "scrolled": true
   },
   "outputs": [
    {
     "ename": "NameError",
     "evalue": "name 'Months' is not defined",
     "output_type": "error",
     "traceback": [
      "\u001b[1;31m---------------------------------------------------------------------------\u001b[0m",
      "\u001b[1;31mNameError\u001b[0m                                 Traceback (most recent call last)",
      "\u001b[1;32m<ipython-input-17-79996a382dd4>\u001b[0m in \u001b[0;36m<module>\u001b[1;34m\u001b[0m\n\u001b[0;32m      2\u001b[0m \u001b[0mMonths\u001b[0m \u001b[1;33m=\u001b[0m \u001b[1;33m[\u001b[0m\u001b[1;34m\"January\"\u001b[0m\u001b[1;33m,\u001b[0m\u001b[1;34m\"February\"\u001b[0m\u001b[1;33m,\u001b[0m\u001b[1;34m\"March\"\u001b[0m\u001b[1;33m,\u001b[0m\u001b[1;34m\"April\"\u001b[0m\u001b[1;33m,\u001b[0m\u001b[1;34m\"May\"\u001b[0m\u001b[1;33m,\u001b[0m\u001b[1;34m\"June\"\u001b[0m\u001b[1;33m,\u001b[0m\u001b[1;34m\"July\"\u001b[0m\u001b[1;33m]\u001b[0m\u001b[1;33m\u001b[0m\u001b[1;33m\u001b[0m\u001b[0m\n\u001b[0;32m      3\u001b[0m \u001b[1;32mdel\u001b[0m \u001b[0mMonths\u001b[0m\u001b[1;33m\u001b[0m\u001b[1;33m\u001b[0m\u001b[0m\n\u001b[1;32m----> 4\u001b[1;33m \u001b[0mprint\u001b[0m\u001b[1;33m(\u001b[0m\u001b[0mMonths\u001b[0m\u001b[1;33m)\u001b[0m\u001b[1;33m\u001b[0m\u001b[1;33m\u001b[0m\u001b[0m\n\u001b[0m",
      "\u001b[1;31mNameError\u001b[0m: name 'Months' is not defined"
     ]
    }
   ],
   "source": [
    "# delete entire list\n",
    "Months = [\"January\",\"February\",\"March\",\"April\",\"May\",\"June\",\"July\"]\n",
    "del Months\n",
    "print(Months)"
   ]
  },
  {
   "cell_type": "code",
   "execution_count": 32,
   "metadata": {},
   "outputs": [
    {
     "ename": "SyntaxError",
     "evalue": "can't delete literal (<ipython-input-32-5c51c1b0f893>, line 3)",
     "output_type": "error",
     "traceback": [
      "\u001b[1;36m  File \u001b[1;32m\"<ipython-input-32-5c51c1b0f893>\"\u001b[1;36m, line \u001b[1;32m3\u001b[0m\n\u001b[1;33m    del \"February\"\u001b[0m\n\u001b[1;37m       ^\u001b[0m\n\u001b[1;31mSyntaxError\u001b[0m\u001b[1;31m:\u001b[0m can't delete literal\n"
     ]
    }
   ],
   "source": [
    "# If we specify list element directly using del keyword \n",
    "# then it will give an error\n",
    "Months = [\"January\",\"February\",\"March\",\"April\",\"May\",\"June\",\"July\"]\n",
    "del \"February\"\n",
    "print(Months)"
   ]
  },
  {
   "cell_type": "code",
   "execution_count": 33,
   "metadata": {},
   "outputs": [
    {
     "ename": "TypeError",
     "evalue": "list indices must be integers or slices, not str",
     "output_type": "error",
     "traceback": [
      "\u001b[1;31m---------------------------------------------------------------------------\u001b[0m",
      "\u001b[1;31mTypeError\u001b[0m                                 Traceback (most recent call last)",
      "\u001b[1;32m<ipython-input-33-1b2d9f3f2914>\u001b[0m in \u001b[0;36m<module>\u001b[1;34m\u001b[0m\n\u001b[0;32m      1\u001b[0m \u001b[1;31m# If you specify item instead of index to delete an element then also it will give an error\u001b[0m\u001b[1;33m\u001b[0m\u001b[1;33m\u001b[0m\u001b[1;33m\u001b[0m\u001b[0m\n\u001b[0;32m      2\u001b[0m \u001b[0mMonths\u001b[0m \u001b[1;33m=\u001b[0m \u001b[1;33m[\u001b[0m\u001b[1;34m\"January\"\u001b[0m\u001b[1;33m,\u001b[0m\u001b[1;34m\"February\"\u001b[0m\u001b[1;33m,\u001b[0m\u001b[1;34m\"March\"\u001b[0m\u001b[1;33m,\u001b[0m\u001b[1;34m\"April\"\u001b[0m\u001b[1;33m,\u001b[0m\u001b[1;34m\"May\"\u001b[0m\u001b[1;33m,\u001b[0m\u001b[1;34m\"June\"\u001b[0m\u001b[1;33m,\u001b[0m\u001b[1;34m\"July\"\u001b[0m\u001b[1;33m]\u001b[0m\u001b[1;33m\u001b[0m\u001b[1;33m\u001b[0m\u001b[0m\n\u001b[1;32m----> 3\u001b[1;33m \u001b[1;32mdel\u001b[0m \u001b[0mMonths\u001b[0m\u001b[1;33m[\u001b[0m\u001b[1;34m\"February\"\u001b[0m\u001b[1;33m]\u001b[0m\u001b[1;33m\u001b[0m\u001b[1;33m\u001b[0m\u001b[0m\n\u001b[0m\u001b[0;32m      4\u001b[0m \u001b[0mprint\u001b[0m\u001b[1;33m(\u001b[0m\u001b[0mMonths\u001b[0m\u001b[1;33m)\u001b[0m\u001b[1;33m\u001b[0m\u001b[1;33m\u001b[0m\u001b[0m\n",
      "\u001b[1;31mTypeError\u001b[0m: list indices must be integers or slices, not str"
     ]
    }
   ],
   "source": [
    "# If you specify item instead of index to delete an element \n",
    "# then also it will give an error\n",
    "Months = [\"January\",\"February\",\"March\",\"April\",\"May\",\"June\",\"July\"]\n",
    "del Months[\"February\"] # YOU CAN ONLY USE INDEX HERE, NOT ITEM\n",
    "print(Months)"
   ]
  },
  {
   "cell_type": "markdown",
   "metadata": {},
   "source": [
    "### Clear the List:\n",
    "- The clear() method empties the list.\n",
    "- The list still remains, but it has no content."
   ]
  },
  {
   "cell_type": "code",
   "execution_count": 18,
   "metadata": {},
   "outputs": [
    {
     "name": "stdout",
     "output_type": "stream",
     "text": [
      "[]\n"
     ]
    }
   ],
   "source": [
    "Months = [\"January\",\"February\",\"March\",\"April\",\"May\",\"June\",\"July\"]\n",
    "Months.clear()\n",
    "print(Months)"
   ]
  },
  {
   "cell_type": "markdown",
   "metadata": {},
   "source": [
    "### The difference between del and clear()\n",
    "- del is used to remove list completely from the memory and if you are going to print it, it will give an error\n",
    "- clear() method is used to remove all the elements from the list, but the list still exists, so if you print the list then it will print an empty list.\n",
    "- Using del keyword you can delete a perticular element also, by specifying the index of element, but in case of clear() you can not remove a perticular element, all elements can be removed."
   ]
  },
  {
   "cell_type": "markdown",
   "metadata": {},
   "source": [
    "#### If you want to remove more than one item in a list at a time, then you can not use remove() and pop() methods, but you can use del keyword to remove more items at a time in the form of range\n",
    "- We can delete one value, a range of values and entire list using del keyword."
   ]
  },
  {
   "cell_type": "code",
   "execution_count": 21,
   "metadata": {},
   "outputs": [
    {
     "name": "stdout",
     "output_type": "stream",
     "text": [
      "['January', 'April', 'May', 'June', 'July']\n"
     ]
    }
   ],
   "source": [
    "Months = [\"January\",\"February\",\"March\",\"April\",\"May\",\"June\",\"July\"]\n",
    "del Months[1:3]\n",
    "print(Months)"
   ]
  },
  {
   "cell_type": "markdown",
   "metadata": {},
   "source": [
    "### Sorting list Alphanumerically\n",
    "- List objects have a sort() method that will sort the list alphanumerically, ascending, by default\n",
    "- By default the sort() method is case sensitive, resulting in all capital letters being sorted before lower case letters.\n",
    "- In case of capital and small letters, first preference is given to capital letters and then to small letters"
   ]
  },
  {
   "cell_type": "code",
   "execution_count": 22,
   "metadata": {},
   "outputs": [
    {
     "name": "stdout",
     "output_type": "stream",
     "text": [
      "['April', 'February', 'January', 'July', 'June', 'March', 'May']\n"
     ]
    }
   ],
   "source": [
    "# This will sort in ascending order according to the capital letters.\n",
    "Months = [\"January\",\"February\",\"March\",\"April\",\"May\",\"June\",\"July\"]\n",
    "Months.sort()\n",
    "print(Months)"
   ]
  },
  {
   "cell_type": "code",
   "execution_count": 23,
   "metadata": {},
   "outputs": [
    {
     "name": "stdout",
     "output_type": "stream",
     "text": [
      "['January', 'July', 'March', 'May', 'april', 'february', 'june']\n"
     ]
    }
   ],
   "source": [
    "# First preference is given to capital letters in ascending order\n",
    "# and then given to small letters in ascending order\n",
    "Months = [\"January\",\"february\",\"March\",\"april\",\"May\",\"june\",\"July\"]\n",
    "Months.sort()\n",
    "print(Months)"
   ]
  },
  {
   "cell_type": "code",
   "execution_count": 34,
   "metadata": {},
   "outputs": [
    {
     "name": "stdout",
     "output_type": "stream",
     "text": [
      "[23, 50, 65, 82, 100]\n"
     ]
    },
    {
     "data": {
      "text/plain": [
       "[23, 50, 65, 82, 100]"
      ]
     },
     "execution_count": 34,
     "metadata": {},
     "output_type": "execute_result"
    }
   ],
   "source": [
    "# If you taken integers then it will sort it in ascending order.\n",
    "Numbers = [100,50,65,82,23]\n",
    "Numbers.sort()\n",
    "print(Numbers)\n",
    "Numbers"
   ]
  },
  {
   "cell_type": "code",
   "execution_count": 35,
   "metadata": {},
   "outputs": [
    {
     "name": "stdout",
     "output_type": "stream",
     "text": [
      "[25.5, 25.8, 65, 65.3, 100]\n"
     ]
    }
   ],
   "source": [
    "# If you taken float then it will sort it in ascending order.\n",
    "Numbers = [100,25.8,65.3,25.5,65]\n",
    "Numbers.sort()\n",
    "print(Numbers)"
   ]
  },
  {
   "cell_type": "markdown",
   "metadata": {},
   "source": [
    "### Sorting of values of mixed data types\n",
    "- As we know that, list is going to allow multiple format data types like string, float, int, bool, etc. But in case of sorting it is not possible to sort the values of different data types.\n",
    "- In case of sorting we are comparing elements, but we can not compare elements of different data types, so it will give an error if we are going to sort the list containing elements of different data types.\n",
    "- EX: Comparison between int and str, or float and str, or any other is not possible and comparison operator fails to compare it so obviously it will give an error."
   ]
  },
  {
   "cell_type": "code",
   "execution_count": 24,
   "metadata": {},
   "outputs": [
    {
     "ename": "TypeError",
     "evalue": "'<' not supported between instances of 'int' and 'str'",
     "output_type": "error",
     "traceback": [
      "\u001b[1;31m---------------------------------------------------------------------------\u001b[0m",
      "\u001b[1;31mTypeError\u001b[0m                                 Traceback (most recent call last)",
      "\u001b[1;32m<ipython-input-24-e0a422a025b9>\u001b[0m in \u001b[0;36m<module>\u001b[1;34m\u001b[0m\n\u001b[0;32m      1\u001b[0m \u001b[0mMonths\u001b[0m \u001b[1;33m=\u001b[0m \u001b[1;33m[\u001b[0m\u001b[1;34m\"Jan\"\u001b[0m\u001b[1;33m,\u001b[0m\u001b[1;36m9\u001b[0m\u001b[1;33m,\u001b[0m\u001b[1;34m\"March\"\u001b[0m\u001b[1;33m,\u001b[0m\u001b[1;34m\"April\"\u001b[0m\u001b[1;33m,\u001b[0m\u001b[1;34m\"May\"\u001b[0m\u001b[1;33m,\u001b[0m\u001b[1;36m78\u001b[0m\u001b[1;33m,\u001b[0m\u001b[1;36m46\u001b[0m\u001b[1;33m]\u001b[0m\u001b[1;33m\u001b[0m\u001b[1;33m\u001b[0m\u001b[0m\n\u001b[1;32m----> 2\u001b[1;33m \u001b[0mMonths\u001b[0m\u001b[1;33m.\u001b[0m\u001b[0msort\u001b[0m\u001b[1;33m(\u001b[0m\u001b[1;33m)\u001b[0m\u001b[1;33m\u001b[0m\u001b[1;33m\u001b[0m\u001b[0m\n\u001b[0m\u001b[0;32m      3\u001b[0m \u001b[0mprint\u001b[0m\u001b[1;33m(\u001b[0m\u001b[0mMonths\u001b[0m\u001b[1;33m)\u001b[0m\u001b[1;33m\u001b[0m\u001b[1;33m\u001b[0m\u001b[0m\n",
      "\u001b[1;31mTypeError\u001b[0m: '<' not supported between instances of 'int' and 'str'"
     ]
    }
   ],
   "source": [
    "# It will give an error because we can not compare a string with integer\n",
    "Months = [\"Jan\",9,\"March\",\"April\",\"May\",78,46]\n",
    "Months.sort()\n",
    "print(Months)"
   ]
  },
  {
   "cell_type": "code",
   "execution_count": 25,
   "metadata": {},
   "outputs": [
    {
     "name": "stdout",
     "output_type": "stream",
     "text": [
      "['46', '78', '9', 'April', 'Jan', 'March', 'May']\n"
     ]
    }
   ],
   "source": [
    "# To run the above code, we have to take integers in the form of string\n",
    "Months = [\"Jan\",\"9\",\"March\",\"April\",\"May\",\"78\",\"46\"]\n",
    "Months.sort()\n",
    "print(Months)"
   ]
  },
  {
   "cell_type": "code",
   "execution_count": 36,
   "metadata": {},
   "outputs": [
    {
     "name": "stdout",
     "output_type": "stream",
     "text": [
      "['68.3', '68.5', '70', '78', '90.5', 'Jan', 'March']\n"
     ]
    }
   ],
   "source": [
    "# If we have float numbers then also it will sort it in ascending order \n",
    "# and consider it as numbers while comparing\n",
    "Months = [\"Jan\",\"90.5\",\"March\",\"70\",\"68.5\",\"78\",\"68.3\"]\n",
    "Months.sort()\n",
    "print(Months)"
   ]
  },
  {
   "cell_type": "markdown",
   "metadata": {},
   "source": [
    "#### If we have numbers present in a string format in a list, then first preference is given to numbers, second preference is given to capital letters and third preference is given to small letters."
   ]
  },
  {
   "cell_type": "markdown",
   "metadata": {},
   "source": [
    "### Sorting list in decending order\n",
    "- For sorting list in decending order, you just have to put reverse=True in sort() method.\n",
    "- Sorting of list in decending order is exact opposite of sorting of list in ascending order.\n",
    "\n",
    "#### Ascending order preferences\n",
    "- Numbers\n",
    "- Capital Letters\n",
    "- Small Letters\n",
    "\n",
    "#### Descending order preferences\n",
    "- Small Letters\n",
    "- Capital Letters\n",
    "- Numbers"
   ]
  },
  {
   "cell_type": "code",
   "execution_count": 28,
   "metadata": {},
   "outputs": [
    {
     "name": "stdout",
     "output_type": "stream",
     "text": [
      "['May', 'March', 'June', 'July', 'January', 'February', 'April']\n"
     ]
    }
   ],
   "source": [
    "# Sorting of list in descending order containing only capital letters\n",
    "Months = [\"January\",\"February\",\"March\",\"April\",\"May\",\"June\",\"July\"]\n",
    "Months.sort(reverse=True)\n",
    "print(Months)"
   ]
  },
  {
   "cell_type": "code",
   "execution_count": 29,
   "metadata": {},
   "outputs": [
    {
     "name": "stdout",
     "output_type": "stream",
     "text": [
      "['june', 'february', 'april', 'May', 'March', 'July', 'January']\n"
     ]
    }
   ],
   "source": [
    "# Sorting of list in descending order containing both capital and small letters\n",
    "Months = [\"January\",\"february\",\"March\",\"april\",\"May\",\"june\",\"July\"]\n",
    "Months.sort(reverse=True)\n",
    "print(Months)"
   ]
  },
  {
   "cell_type": "code",
   "execution_count": 30,
   "metadata": {},
   "outputs": [
    {
     "name": "stdout",
     "output_type": "stream",
     "text": [
      "[100, 82, 65, 50, 23]\n"
     ]
    }
   ],
   "source": [
    "# Sorting of list in decending order containing only numbers\n",
    "Numbers = [100,50,65,82,23]\n",
    "Numbers.sort(reverse=True)\n",
    "print(Numbers)"
   ]
  },
  {
   "cell_type": "code",
   "execution_count": 31,
   "metadata": {},
   "outputs": [
    {
     "name": "stdout",
     "output_type": "stream",
     "text": [
      "['May', 'March', 'Jan', 'April', '9', '78', '46']\n"
     ]
    }
   ],
   "source": [
    "# Sorting of list in descending order containing numbers, \n",
    "# capital letters and small letters\n",
    "Months = [\"Jan\",\"9\",\"March\",\"April\",\"May\",\"78\",\"46\"]\n",
    "Months.sort(reverse=True)\n",
    "print(Months)"
   ]
  },
  {
   "cell_type": "markdown",
   "metadata": {},
   "source": [
    "### Copy a list\n",
    "- You can not copy a list simply by typing list2 = list1, because: list2 will only be reference to list1, and changes made in list1 will automatically also be made in list2\n",
    "- There are ways to make a copy, one way is to use the built-in list method copy()."
   ]
  },
  {
   "cell_type": "code",
   "execution_count": 37,
   "metadata": {},
   "outputs": [
    {
     "name": "stdout",
     "output_type": "stream",
     "text": [
      "['January', 'February', 'March', 'April', 'May', 'June', 'July']\n"
     ]
    }
   ],
   "source": [
    "# Copy one list to another by using built in copy method in list\n",
    "Months = [\"January\",\"February\",\"March\",\"April\",\"May\",\"June\",\"July\"]\n",
    "Months1 = Months.copy()\n",
    "print(Months1)"
   ]
  },
  {
   "cell_type": "markdown",
   "metadata": {},
   "source": [
    "- Another way to make a copy is to use the built-in method list()."
   ]
  },
  {
   "cell_type": "code",
   "execution_count": 38,
   "metadata": {},
   "outputs": [
    {
     "name": "stdout",
     "output_type": "stream",
     "text": [
      "['January', 'February', 'March', 'April', 'May', 'June', 'July']\n"
     ]
    }
   ],
   "source": [
    "# If you want to create another list using previous list then you can use this\n",
    "Months = [\"January\",\"February\",\"March\",\"April\",\"May\",\"June\",\"July\"]\n",
    "Month1 = list(Months)\n",
    "print(Month1)"
   ]
  },
  {
   "cell_type": "code",
   "execution_count": 39,
   "metadata": {},
   "outputs": [
    {
     "name": "stdout",
     "output_type": "stream",
     "text": [
      "('January', 'February', 'March', 'April', 'May', 'June', 'July')\n"
     ]
    }
   ],
   "source": [
    "# If you want to create a tuple from existing list, then you can use this\n",
    "Months = [\"January\",\"February\",\"March\",\"April\",\"May\",\"June\",\"July\"]\n",
    "Month1 = tuple(Months)\n",
    "print(Month1)"
   ]
  },
  {
   "cell_type": "code",
   "execution_count": 42,
   "metadata": {},
   "outputs": [
    {
     "name": "stdout",
     "output_type": "stream",
     "text": [
      "['January', 'February', 'March', 'April', 'May', 'June', 'July']\n",
      "******* AFTER UPDATING FIRST LIST *********\n",
      "['January', 'March', 'April', 'May', 'June', 'July']\n",
      "['January', 'February', 'March', 'April', 'May', 'June', 'July']\n"
     ]
    }
   ],
   "source": [
    "# You can also copy one list to another by directly assigning to it.\n",
    "Months = [\"January\",\"February\",\"March\",\"April\",\"May\",\"June\",\"July\"]\n",
    "Month1 = Months\n",
    "print(Months1)\n",
    "print(\"******* AFTER UPDATING FIRST LIST *********\")\n",
    "Months.remove(\"February\")\n",
    "print(Months)\n",
    "print(Months1)"
   ]
  },
  {
   "cell_type": "markdown",
   "metadata": {},
   "source": [
    "### Join two Lists\n",
    "- There are several ways to join, or concatinate, two or more lists in Python.\n",
    "- One of the easiest ways are by using the + operator\n",
    "- In general + operator is used for addition but in case of lists, + operator is used for concatination.\n",
    "- For lists + operator is used for concatination of lists and for variables, + operator is used for addition of values\n",
    "- Example of it is as follows"
   ]
  },
  {
   "cell_type": "code",
   "execution_count": 44,
   "metadata": {},
   "outputs": [
    {
     "name": "stdout",
     "output_type": "stream",
     "text": [
      "[1, 2, 3, 'a', 'b', 'c']\n",
      "['a', 'b', 'c', 1, 2, 3]\n"
     ]
    }
   ],
   "source": [
    "# Here list1 and list2 are lists, \n",
    "# therefore list3 is also a list which is made by concatinating list1 and list2\n",
    "list1 = [\"a\",\"b\",\"c\"]\n",
    "list2 = [1,2,3]\n",
    "list3 = list2 + list1 # HERE CONCATINATION OF LISTS TAKES PLACE\n",
    "print(list3)\n",
    "list3 = list1 + list2\n",
    "print(list3)"
   ]
  },
  {
   "cell_type": "code",
   "execution_count": 45,
   "metadata": {},
   "outputs": [
    {
     "name": "stdout",
     "output_type": "stream",
     "text": [
      "12\n"
     ]
    }
   ],
   "source": [
    "# Here list1 and list2 are variables \n",
    "# so list3 is also a variable which is addition of list1 and list2\n",
    "list1 = 7\n",
    "list2 = 5\n",
    "list3 = list1 + list2 # HERE ADDITION OF VARIABLES TAKES PLACE\n",
    "print(list3)"
   ]
  },
  {
   "cell_type": "markdown",
   "metadata": {},
   "source": [
    "### Joining list using for loop and append()\n",
    "\n",
    "#### Another way to join two lists is by appending all the items from list2 into list1, one by one."
   ]
  },
  {
   "cell_type": "code",
   "execution_count": 47,
   "metadata": {},
   "outputs": [
    {
     "name": "stdout",
     "output_type": "stream",
     "text": [
      "['a', 'b', 'c', 1, 2, 3]\n"
     ]
    }
   ],
   "source": [
    "list1 = [\"a\",\"b\",\"c\"]\n",
    "list2 = [1,2,3]\n",
    "for x in list2:\n",
    "    list1.append(x)\n",
    "print(list1)"
   ]
  },
  {
   "cell_type": "markdown",
   "metadata": {},
   "source": [
    "### Joining list using extend()\n",
    "\n",
    "#### Or you can use extend method, whose purpose is to add elements from one list to another list."
   ]
  },
  {
   "cell_type": "code",
   "execution_count": 48,
   "metadata": {},
   "outputs": [
    {
     "name": "stdout",
     "output_type": "stream",
     "text": [
      "['a', 'b', 'c', 1, 2, 3]\n"
     ]
    }
   ],
   "source": [
    "list1 = [\"a\",\"b\",\"c\"]\n",
    "list2 = [1,2,3]\n",
    "list1.extend(list2)\n",
    "print(list1)"
   ]
  },
  {
   "attachments": {
    "Screenshot%20%28881%29.png": {
     "image/png": "[encoded data removed]"
    }
   },
   "cell_type": "markdown",
   "metadata": {},
   "source": [
    "![Screenshot%20%28881%29.png](attachment:Screenshot%20%28881%29.png)"
   ]
  },
  {
   "cell_type": "markdown",
   "metadata": {},
   "source": [
    "### Split Method in list\n",
    "- Whenever we are taking input from the user and we want it in the form of list then we are using split() method in it.\n",
    "- split() method is used to separate the string by spaces and convert it in the form of list\n",
    "- It is also used for taking list input from user.\n",
    "- Input() function will work for list, because it will convert every element of list in string format automatically but if you put int(input()) then it will give an error.\n",
    "\n",
    "**In any case kernel will give the output in the form of single quotes only, it will not give in double quotes**"
   ]
  },
  {
   "cell_type": "code",
   "execution_count": 1,
   "metadata": {},
   "outputs": [
    {
     "name": "stdout",
     "output_type": "stream",
     "text": [
      "Please enter name, email and phone number: Hulk pooja@gmail.com 9373090057\n",
      "['Hulk', 'pooja@gmail.com', '9373090057']\n"
     ]
    }
   ],
   "source": [
    "# Code for splitting user input and converting it to list.\n",
    "# If you want, all the elements of list in string format \n",
    "# then you can use the below code\n",
    "a = input(\"Please enter name, email and phone number: \")\n",
    "a_list = a.split()\n",
    "print(a_list)"
   ]
  },
  {
   "cell_type": "code",
   "execution_count": 2,
   "metadata": {},
   "outputs": [
    {
     "name": "stdout",
     "output_type": "stream",
     "text": [
      "Please enter the numbers: 23 45 56.7 12 34 90.0\n"
     ]
    },
    {
     "ename": "ValueError",
     "evalue": "invalid literal for int() with base 10: '23 45 56.7 12 34 90.0'",
     "output_type": "error",
     "traceback": [
      "\u001b[1;31m---------------------------------------------------------------------------\u001b[0m",
      "\u001b[1;31mValueError\u001b[0m                                Traceback (most recent call last)",
      "\u001b[1;32m<ipython-input-2-551d6902ac4f>\u001b[0m in \u001b[0;36m<module>\u001b[1;34m\u001b[0m\n\u001b[0;32m      1\u001b[0m \u001b[1;31m# If you want all the elements of list in integer format, then use the following code\u001b[0m\u001b[1;33m\u001b[0m\u001b[1;33m\u001b[0m\u001b[1;33m\u001b[0m\u001b[0m\n\u001b[1;32m----> 2\u001b[1;33m \u001b[0ma\u001b[0m \u001b[1;33m=\u001b[0m \u001b[0mint\u001b[0m\u001b[1;33m(\u001b[0m\u001b[0minput\u001b[0m\u001b[1;33m(\u001b[0m\u001b[1;34m\"Please enter the numbers: \"\u001b[0m\u001b[1;33m)\u001b[0m\u001b[1;33m)\u001b[0m\u001b[1;33m\u001b[0m\u001b[1;33m\u001b[0m\u001b[0m\n\u001b[0m\u001b[0;32m      3\u001b[0m \u001b[0ma_list\u001b[0m \u001b[1;33m=\u001b[0m \u001b[0ma\u001b[0m\u001b[1;33m.\u001b[0m\u001b[0msplit\u001b[0m\u001b[1;33m(\u001b[0m\u001b[1;33m)\u001b[0m\u001b[1;33m\u001b[0m\u001b[1;33m\u001b[0m\u001b[0m\n\u001b[0;32m      4\u001b[0m \u001b[0mprint\u001b[0m\u001b[1;33m(\u001b[0m\u001b[0ma_list\u001b[0m\u001b[1;33m)\u001b[0m\u001b[1;33m\u001b[0m\u001b[1;33m\u001b[0m\u001b[0m\n\u001b[0;32m      5\u001b[0m \u001b[0mprint\u001b[0m\u001b[1;33m(\u001b[0m\u001b[0mtype\u001b[0m\u001b[1;33m(\u001b[0m\u001b[0ma_list\u001b[0m\u001b[1;33m)\u001b[0m\u001b[1;33m)\u001b[0m\u001b[1;33m\u001b[0m\u001b[1;33m\u001b[0m\u001b[0m\n",
      "\u001b[1;31mValueError\u001b[0m: invalid literal for int() with base 10: '23 45 56.7 12 34 90.0'"
     ]
    }
   ],
   "source": [
    "# If you want all the elements of list in integer format, \n",
    "# then use the following code\n",
    "a = int(input(\"Please enter the numbers: \"))\n",
    "a_list = a.split()\n",
    "print(a_list)\n",
    "print(type(a_list))"
   ]
  },
  {
   "cell_type": "code",
   "execution_count": 19,
   "metadata": {},
   "outputs": [
    {
     "name": "stdout",
     "output_type": "stream",
     "text": [
      "Please enter the numbers: \n",
      "12 34 45 78 90\n"
     ]
    },
    {
     "ename": "ValueError",
     "evalue": "invalid literal for int() with base 10: '12 34 45 78 90'",
     "output_type": "error",
     "traceback": [
      "\u001b[1;31m---------------------------------------------------------------------------\u001b[0m",
      "\u001b[1;31mValueError\u001b[0m                                Traceback (most recent call last)",
      "\u001b[1;32m<ipython-input-19-a6d4b9ebefc7>\u001b[0m in \u001b[0;36m<module>\u001b[1;34m\u001b[0m\n\u001b[0;32m      1\u001b[0m \u001b[0mprint\u001b[0m\u001b[1;33m(\u001b[0m\u001b[1;34m\"Please enter the numbers: \"\u001b[0m\u001b[1;33m)\u001b[0m\u001b[1;33m\u001b[0m\u001b[1;33m\u001b[0m\u001b[0m\n\u001b[1;32m----> 2\u001b[1;33m \u001b[0ma\u001b[0m \u001b[1;33m=\u001b[0m \u001b[0mint\u001b[0m\u001b[1;33m(\u001b[0m\u001b[0minput\u001b[0m\u001b[1;33m(\u001b[0m\u001b[1;34m\"\"\u001b[0m\u001b[1;33m)\u001b[0m\u001b[1;33m)\u001b[0m\u001b[1;33m\u001b[0m\u001b[1;33m\u001b[0m\u001b[0m\n\u001b[0m\u001b[0;32m      3\u001b[0m \u001b[0ma\u001b[0m \u001b[1;33m=\u001b[0m \u001b[0ma\u001b[0m\u001b[1;33m.\u001b[0m\u001b[0msplit\u001b[0m\u001b[1;33m(\u001b[0m\u001b[1;33m)\u001b[0m\u001b[1;33m\u001b[0m\u001b[1;33m\u001b[0m\u001b[0m\n\u001b[0;32m      4\u001b[0m \u001b[0mprint\u001b[0m\u001b[1;33m(\u001b[0m\u001b[0ma\u001b[0m\u001b[1;33m)\u001b[0m\u001b[1;33m\u001b[0m\u001b[1;33m\u001b[0m\u001b[0m\n\u001b[0;32m      5\u001b[0m \u001b[0mprint\u001b[0m\u001b[1;33m(\u001b[0m\u001b[0mtype\u001b[0m\u001b[1;33m(\u001b[0m\u001b[0ma\u001b[0m\u001b[1;33m)\u001b[0m\u001b[1;33m)\u001b[0m\u001b[1;33m\u001b[0m\u001b[1;33m\u001b[0m\u001b[0m\n",
      "\u001b[1;31mValueError\u001b[0m: invalid literal for int() with base 10: '12 34 45 78 90'"
     ]
    }
   ],
   "source": [
    "print(\"Please enter the numbers: \")\n",
    "a = int(input(\"\"))\n",
    "a = a.split()\n",
    "print(a)\n",
    "print(type(a))"
   ]
  },
  {
   "cell_type": "code",
   "execution_count": 5,
   "metadata": {},
   "outputs": [
    {
     "name": "stdout",
     "output_type": "stream",
     "text": [
      "Please enter the numbers: 23 45 56.7 12 34 90.0\n",
      "['23', '45', '56.7', '12', '34', '90.0']\n",
      "<class 'list'>\n"
     ]
    }
   ],
   "source": [
    "# If you want all the elements of list in integer format, \n",
    "# then use the following code\n",
    "a = input(\"Please enter the numbers: \")\n",
    "a_list = a.split()\n",
    "print(a_list)\n",
    "print(type(a_list))"
   ]
  },
  {
   "cell_type": "markdown",
   "metadata": {},
   "source": [
    "### Count() Method\n",
    "- As we all know that, list is allowing duplicate elements. So with the help of count method we can find out the number of occurances of perticular element in a list, we just have to mention that element in count() function.\n",
    "- Example is as follows:"
   ]
  },
  {
   "cell_type": "code",
   "execution_count": 10,
   "metadata": {},
   "outputs": [
    {
     "name": "stdout",
     "output_type": "stream",
     "text": [
      "March Count : 5\n",
      "July Count : 1\n",
      "Python Count : 0\n"
     ]
    }
   ],
   "source": [
    "Months = [\"January\",\"March\",\"February\",\"March\",\"April\",\"March\",\"May\",\"March\",\n",
    "          \"June\",\"March\",\"July\"]\n",
    "print(\"March Count : \" + str(Months.count(\"March\")))\n",
    "print(\"July Count : \" + str(Months.count(\"July\")))\n",
    "print(\"Python Count : \" + str(Months.count(\"Python\")))"
   ]
  },
  {
   "cell_type": "markdown",
   "metadata": {},
   "source": [
    "### Nesting Lists:\n",
    "- A great feature of Python data structures is that they support **nesting**.\n",
    "- This means we can have data structures within data structures.\n",
    "- For Example: A list inside a list."
   ]
  },
  {
   "cell_type": "code",
   "execution_count": 19,
   "metadata": {},
   "outputs": [
    {
     "name": "stdout",
     "output_type": "stream",
     "text": [
      "[[1, 2, 3], [4, 5, 6], [7, 8, 9]]\n"
     ]
    }
   ],
   "source": [
    "# Let's make three lists\n",
    "l1 = [1,2,3]\n",
    "l2 = [4,5,6]\n",
    "l3 = [7,8,9]\n",
    "\n",
    "# Make a list of lists to form a matrix\n",
    "matrix = [l1,l2,l3]\n",
    "\n",
    "# Show matrix\n",
    "print(matrix)\n",
    "# matrix[0] ==> [1,2,3]\n",
    "# matrix[1] ==> [4,5,6]\n",
    "# matrix[2] ==> [7,8,9]\n",
    "# matrix[0][0] = 1, martix[0][1] = 2, matrix[0][2] = 3\n",
    "# matrix[1][0] = 4, martix[1][1] = 5, matrix[1][2] = 6\n",
    "# matrix[2][0] = 7, martix[2][1] = 8, matrix[2][2] = 9"
   ]
  },
  {
   "cell_type": "markdown",
   "metadata": {},
   "source": [
    "- We can again use indexing to grab elements, but now there are two levels for the index. The items in the matrix object, and then items inside that list!"
   ]
  },
  {
   "cell_type": "code",
   "execution_count": 18,
   "metadata": {},
   "outputs": [
    {
     "name": "stdout",
     "output_type": "stream",
     "text": [
      "6\n"
     ]
    }
   ],
   "source": [
    "# If you want to grab 6 then\n",
    "# Grab first the item in matrix object i.e. position of list\n",
    "# And then grab the index of that item i.e. item in list\n",
    "print(matrix[1][2])"
   ]
  },
  {
   "attachments": {
    "Screenshot%20%28883%29.png": {
     "image/png": "[encoded data removed]"
    }
   },
   "cell_type": "markdown",
   "metadata": {},
   "source": [
    "### Difference between Lists & Tuples:\n",
    "- The key difference between the tuples and lists is that while the **tuples are immutable objects** the **lists are mutable.** This means that tuples cannot be changed while the lists can be modified.\n",
    "- Mutable means we can make changes in the values of list.\n",
    "- For lists we use [] brackets & for tuples we use ().\n",
    "- More functions are associated with lists than tuples.\n",
    "![Screenshot%20%28883%29.png](attachment:Screenshot%20%28883%29.png)"
   ]
  },
  {
   "cell_type": "markdown",
   "metadata": {},
   "source": [
    "## List comprehension\n",
    "#### List = [expression for item in iterable (if condition)]\n",
    "- Here **if** condition is optional.\n",
    "- List comprehension is performing some operations on list and creating new list from it."
   ]
  },
  {
   "cell_type": "code",
   "execution_count": 1,
   "metadata": {},
   "outputs": [
    {
     "data": {
      "text/plain": [
       "[6, 7]"
      ]
     },
     "execution_count": 1,
     "metadata": {},
     "output_type": "execute_result"
    }
   ],
   "source": [
    "a = [4,6,7,3,2]\n",
    "b = [x for x in a if x>5]\n",
    "b"
   ]
  },
  {
   "cell_type": "code",
   "execution_count": 2,
   "metadata": {},
   "outputs": [
    {
     "data": {
      "text/plain": [
       "[6, 7]"
      ]
     },
     "execution_count": 2,
     "metadata": {},
     "output_type": "execute_result"
    }
   ],
   "source": [
    "# The equivalent for loop is:\n",
    "b = []\n",
    "for x in a:\n",
    "    if x>5:\n",
    "        b.append(x)\n",
    "b"
   ]
  },
  {
   "cell_type": "code",
   "execution_count": 3,
   "metadata": {},
   "outputs": [
    {
     "data": {
      "text/plain": [
       "[16, 36, 49, 9, 4]"
      ]
     },
     "execution_count": 3,
     "metadata": {},
     "output_type": "execute_result"
    }
   ],
   "source": [
    "# if condition is optional\n",
    "a = [4,6,7,3,2]\n",
    "b = [x**2 for x in a]\n",
    "b"
   ]
  },
  {
   "cell_type": "code",
   "execution_count": 5,
   "metadata": {},
   "outputs": [
    {
     "data": {
      "text/plain": [
       "['apple', 'banana', 'mango']"
      ]
     },
     "execution_count": 5,
     "metadata": {},
     "output_type": "execute_result"
    }
   ],
   "source": [
    "b =[]\n",
    "fruits = [\"apple\",\"banana\",\"cherry\",\"kiwi\",\"mango\"]\n",
    "for x in fruits:\n",
    "    if \"a\" in x:\n",
    "        b.append(x)\n",
    "b"
   ]
  },
  {
   "cell_type": "code",
   "execution_count": 6,
   "metadata": {},
   "outputs": [
    {
     "data": {
      "text/plain": [
       "['apple', 'banana', 'mango']"
      ]
     },
     "execution_count": 6,
     "metadata": {},
     "output_type": "execute_result"
    }
   ],
   "source": [
    "b =[]\n",
    "fruits = [\"apple\",\"banana\",\"cherry\",\"kiwi\",\"mango\"]\n",
    "b = [x for x in fruits if \"a\" in x]\n",
    "b"
   ]
  },
  {
   "cell_type": "code",
   "execution_count": 8,
   "metadata": {},
   "outputs": [
    {
     "data": {
      "text/plain": [
       "[0, 1, 2, 3, 4, 5, 6, 7, 8, 9]"
      ]
     },
     "execution_count": 8,
     "metadata": {},
     "output_type": "execute_result"
    }
   ],
   "source": [
    "# Simplest method to create list from range of objects\n",
    "nums = [x for x in range(10)]\n",
    "nums"
   ]
  },
  {
   "cell_type": "code",
   "execution_count": 9,
   "metadata": {},
   "outputs": [
    {
     "data": {
      "text/plain": [
       "['APPLE', 'BANANA', 'CHERRY', 'KIWI', 'MANGO']"
      ]
     },
     "execution_count": 9,
     "metadata": {},
     "output_type": "execute_result"
    }
   ],
   "source": [
    "fruits = [\"apple\",\"banana\",\"cherry\",\"kiwi\",\"mango\"]\n",
    "up = [x.upper() for x in fruits]\n",
    "up"
   ]
  },
  {
   "cell_type": "code",
   "execution_count": 10,
   "metadata": {},
   "outputs": [
    {
     "data": {
      "text/plain": [
       "['Hello', 'Hello', 'Hello', 'Hello', 'Hello']"
      ]
     },
     "execution_count": 10,
     "metadata": {},
     "output_type": "execute_result"
    }
   ],
   "source": [
    "# We are not performing any operation on the object in list\n",
    "fruits = [\"apple\",\"banana\",\"cherry\",\"kiwi\",\"mango\"]\n",
    "newlist = [\"Hello\" for x in fruits]\n",
    "newlist"
   ]
  },
  {
   "cell_type": "code",
   "execution_count": 11,
   "metadata": {},
   "outputs": [
    {
     "data": {
      "text/plain": [
       "['apple', 'orange', 'cherry', 'kiwi', 'mango']"
      ]
     },
     "execution_count": 11,
     "metadata": {},
     "output_type": "execute_result"
    }
   ],
   "source": [
    "# if else in list comprehension\n",
    "newlist = [x if x!='banana' else 'orange' for x in fruits]\n",
    "newlist"
   ]
  },
  {
   "cell_type": "code",
   "execution_count": 16,
   "metadata": {},
   "outputs": [
    {
     "name": "stdout",
     "output_type": "stream",
     "text": [
      " th rckt cm bck frm mrs\n"
     ]
    }
   ],
   "source": [
    "sentence = \" the rocket came back from mars\"\n",
    "vowels = [i for i in sentence if i not in \"aeiou\"]\n",
    "sentence = \"\".join(vowels)\n",
    "print(sentence)"
   ]
  },
  {
   "cell_type": "code",
   "execution_count": 17,
   "metadata": {},
   "outputs": [
    {
     "data": {
      "text/plain": [
       "['Ch', 'cb']"
      ]
     },
     "execution_count": 17,
     "metadata": {},
     "output_type": "execute_result"
    }
   ],
   "source": [
    "names_list = ['Ch','Dh','Eh','cb','Tb','Td']\n",
    "new_names = [name for name in names_list if name.lower().startswith('c')]\n",
    "new_names"
   ]
  },
  {
   "cell_type": "code",
   "execution_count": 18,
   "metadata": {},
   "outputs": [
    {
     "name": "stdout",
     "output_type": "stream",
     "text": [
      "[3, 6, 9]\n"
     ]
    }
   ],
   "source": [
    "vals = [[1,2,3],[4,5,6],[8,9,7]]\n",
    "vals_max = [max(x) for x in vals]\n",
    "print(vals_max)"
   ]
  },
  {
   "cell_type": "code",
   "execution_count": 21,
   "metadata": {},
   "outputs": [
    {
     "data": {
      "text/plain": [
       "['Chb', 'Tdb']"
      ]
     },
     "execution_count": 21,
     "metadata": {},
     "output_type": "execute_result"
    }
   ],
   "source": [
    "names_list = ['Ch','Dh','Eh','cb','Tb','Td','Chb','Tdb']\n",
    "new_names = [name for name in names_list if name.lower().endswith('b') and len(name) > 2]\n",
    "new_names"
   ]
  },
  {
   "cell_type": "code",
   "execution_count": 22,
   "metadata": {},
   "outputs": [
    {
     "data": {
      "text/plain": [
       "[1, 2, 3, 4, 5, 2, 3, 2, 6]"
      ]
     },
     "execution_count": 22,
     "metadata": {},
     "output_type": "execute_result"
    }
   ],
   "source": [
    "# Nested for loop in list comprehension\n",
    "vals = [[1,2,3],[4,5,2],[3,2,6]]\n",
    "vals_exp = [y for x in vals for y in x]\n",
    "vals_exp"
   ]
  },
  {
   "attachments": {
    "Screenshot%20%281210%29.png": {
     "image/png": "[encoded data removed]"
    }
   },
   "cell_type": "markdown",
   "metadata": {},
   "source": [
    "**The syntax not seem very intuitive. It will be clear when compared with the equivalent for loop**\n",
    "![Screenshot%20%281210%29.png](attachment:Screenshot%20%281210%29.png)"
   ]
  },
  {
   "cell_type": "markdown",
   "metadata": {},
   "source": [
    "### When not to use list comprehension:\n",
    "- List comprehension loads the entire output list into memory. This is acceptable or even desirable for small or medium- sized lists because it makes the operation faster.\n",
    "- However, when we are working with large lists (e.g. 1 million elements), list comprehension should be avoided. It may cause your computer to crash due to the extreme amount of memory requirement."
   ]
  },
  {
   "cell_type": "markdown",
   "metadata": {},
   "source": [
    "#### Taking input from user and directly converting it to list\n",
    "- If we are converting user input directly to list, then it is not possible, it will split according to character by character.\n",
    "- To convert it to list, we have to pass input to eval function and then to list function."
   ]
  },
  {
   "cell_type": "code",
   "execution_count": 1,
   "metadata": {},
   "outputs": [
    {
     "name": "stdout",
     "output_type": "stream",
     "text": [
      "Enter your list: 10,20,30,40\n",
      "<class 'list'>\n",
      "['1', '0', ',', '2', '0', ',', '3', '0', ',', '4', '0']\n"
     ]
    }
   ],
   "source": [
    "# It will convert character by character to list\n",
    "l1 = list(input(\"Enter your list: \"))\n",
    "print(type(l1))\n",
    "print(l1)"
   ]
  },
  {
   "cell_type": "code",
   "execution_count": 3,
   "metadata": {},
   "outputs": [
    {
     "name": "stdout",
     "output_type": "stream",
     "text": [
      "Enter your list: 10,20,30,40\n",
      "<class 'tuple'>\n",
      "(10, 20, 30, 40)\n",
      "<class 'list'>\n",
      "[10, 20, 30, 40]\n"
     ]
    }
   ],
   "source": [
    "# It will convert character by character to list\n",
    "t1 = eval(input(\"Enter your list: \"))\n",
    "print(type(t1))\n",
    "print(t1)\n",
    "l1 = list(t1)\n",
    "print(type(l1))\n",
    "print(l1)"
   ]
  },
  {
   "cell_type": "code",
   "execution_count": null,
   "metadata": {},
   "outputs": [],
   "source": []
  }
 ],
 "metadata": {
  "kernelspec": {
   "display_name": "Python 3",
   "language": "python",
   "name": "python3"
  },
  "language_info": {
   "codemirror_mode": {
    "name": "ipython",
    "version": 3
   },
   "file_extension": ".py",
   "mimetype": "text/x-python",
   "name": "python",
   "nbconvert_exporter": "python",
   "pygments_lexer": "ipython3",
   "version": "3.7.16"
  }
 },
 "nbformat": 4,
 "nbformat_minor": 4
}
