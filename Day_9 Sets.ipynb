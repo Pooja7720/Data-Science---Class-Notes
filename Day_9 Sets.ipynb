{
 "cells": [
  {
   "cell_type": "markdown",
   "metadata": {},
   "source": [
    "# Sets\n",
    "\n",
    "- Set is a collection which is unordered, unchangable, unindexed and do not allow duplicates.\n",
    "- Set items are unchangable, but you can remove items and add new items means we can not update set but can add or remove items. Means we can add or remove items in set but can not update the existing items in set.\n",
    "- Sets are unordered, so you can not be sure in which order the items will appear.\n",
    "- Sets are written with curly brackets.\n",
    "- In sets, in the sequence we are giving input, output is completely different.\n",
    "- The main difference between set and tuple is that, in set we can add or remove items but in case of tuple, once it's created we can not do anything on it.\n",
    "- If we want to represent a group of unique values as a single entity then we should go for set.\n",
    "- Insertion order is not allowed. But we can sort the elements.\n",
    "- Indexing and slicing is not allowed for the set.\n",
    "- Set objects are mutable i.e. once we creates set object we can perform any changes in that object based on our requirement.\n",
    "\n",
    "## Set Items \n",
    "\n",
    "### Unordered :\n",
    "- Unordered means that the items in a set do not have a defined order.Set items can appear in a different order every time you use them, and cannot be referred to by index or key.\n",
    "\n",
    "### Unchangeable: \n",
    "- Set items are unchangeable, meaning that we cannot change the items after the set has been created.Once a set is created, you cannot change its items, but you can remove items and add new items.\n",
    "\n",
    "### Duplicates Not Allowed: \n",
    "- Sets cannot have two items with the same value. Duplicate values will be ignored\n",
    "\n",
    "### Heterogeneous:\n",
    "- Sets are heterogeneous, means allows items of different data types.\n",
    "\n",
    "- Example of sets is as follows:"
   ]
  },
  {
   "cell_type": "code",
   "execution_count": 1,
   "metadata": {},
   "outputs": [
    {
     "data": {
      "text/plain": [
       "list"
      ]
     },
     "execution_count": 1,
     "metadata": {},
     "output_type": "execute_result"
    }
   ],
   "source": [
    "x = []\n",
    "type(x)"
   ]
  },
  {
   "cell_type": "markdown",
   "metadata": {},
   "source": [
    "**Note: While creating empty set we have to take special care**\n",
    "- Compulsory we should use set() function.\n",
    "- `s = {}` --> It is treated as dictionary but not empty set."
   ]
  },
  {
   "cell_type": "code",
   "execution_count": 2,
   "metadata": {},
   "outputs": [
    {
     "data": {
      "text/plain": [
       "dict"
      ]
     },
     "execution_count": 2,
     "metadata": {},
     "output_type": "execute_result"
    }
   ],
   "source": [
    "x = {}\n",
    "type(x)"
   ]
  },
  {
   "cell_type": "code",
   "execution_count": 3,
   "metadata": {},
   "outputs": [
    {
     "data": {
      "text/plain": [
       "set"
      ]
     },
     "execution_count": 3,
     "metadata": {},
     "output_type": "execute_result"
    }
   ],
   "source": [
    "x = set()\n",
    "type(x)"
   ]
  },
  {
   "cell_type": "markdown",
   "metadata": {},
   "source": [
    "#### Creation of Set Objects:\n",
    "**By representing elements within curly braces and with comma separation**"
   ]
  },
  {
   "cell_type": "code",
   "execution_count": 1,
   "metadata": {},
   "outputs": [
    {
     "name": "stdout",
     "output_type": "stream",
     "text": [
      "{40, 10, 20, 30}\n",
      "<class 'set'>\n"
     ]
    }
   ],
   "source": [
    "s = {10,10,20,20,30,30,40,40}\n",
    "print(s)\n",
    "print(type(s))"
   ]
  },
  {
   "cell_type": "code",
   "execution_count": 1,
   "metadata": {
    "scrolled": false
   },
   "outputs": [
    {
     "name": "stdout",
     "output_type": "stream",
     "text": [
      "{'May', 'March', 'April', 'June', 'July', 'Jan', 'Feb'}\n",
      "<class 'set'>\n"
     ]
    }
   ],
   "source": [
    "Months = {\"Jan\",\"Feb\",\"March\",\"April\",\"May\",\"June\",\"July\"}\n",
    "print(Months)\n",
    "print(type(Months)) # Print in unordered fasion"
   ]
  },
  {
   "cell_type": "markdown",
   "metadata": {},
   "source": [
    "**We can create set objects by using set() function**\n",
    "- We can cast a list with multiple repeat elements to a set to get the unique elements."
   ]
  },
  {
   "cell_type": "code",
   "execution_count": 2,
   "metadata": {},
   "outputs": [
    {
     "name": "stdout",
     "output_type": "stream",
     "text": [
      "{40, 10, 20, 30}\n"
     ]
    }
   ],
   "source": [
    "l = [10,20,30,10,20,10,40]\n",
    "s = set(l)\n",
    "print(s)"
   ]
  },
  {
   "cell_type": "markdown",
   "metadata": {},
   "source": [
    "**One application of set**\n",
    "- Set is only concerned with unique elements!\n",
    "- We can cast a list with multiple repeat elements to a set to get the unique elements.\n",
    "- Sets are used where we want to use unique data and no duplicates are allowed."
   ]
  },
  {
   "cell_type": "code",
   "execution_count": 4,
   "metadata": {},
   "outputs": [
    {
     "name": "stdout",
     "output_type": "stream",
     "text": [
      "List: [1, 1, 3, 2, 3, 4, 5, 6, 1, 1, 5]\n",
      "Set: {1, 2, 3, 4, 5, 6}\n"
     ]
    }
   ],
   "source": [
    "# Create a llist with repeats\n",
    "list1 = [1,1,3,2,3,4,5,6,1,1,5]\n",
    "s1 = set(list1)\n",
    "print(\"List:\",list1)\n",
    "print(\"Set:\",s1)"
   ]
  },
  {
   "cell_type": "markdown",
   "metadata": {},
   "source": [
    "### Data types in set\n",
    "- SET items can be of any data types.\n",
    "- A set can contain different data types."
   ]
  },
  {
   "cell_type": "code",
   "execution_count": 2,
   "metadata": {},
   "outputs": [
    {
     "name": "stdout",
     "output_type": "stream",
     "text": [
      "Printing sets ::::\n",
      "Set1 :  {'Banana', 'Cherry', 'Apple'}\n",
      "Set2 :  {1, 67, 3, 12, 45, 89}\n",
      "Set3 :  {False, True}\n",
      "Data types ::::\n",
      "<class 'set'>\n",
      "<class 'set'>\n",
      "<class 'set'>\n"
     ]
    }
   ],
   "source": [
    "# Set items can be of any data type\n",
    "set1 = {\"Apple\",\"Banana\",\"Cherry\"}\n",
    "set2 = {1,3,45,67,89,12}\n",
    "set3 = {True,False,True}\n",
    "\n",
    "print(\"Printing sets ::::\")\n",
    "print(\"Set1 : \",set1)\n",
    "print(\"Set2 : \",set2)\n",
    "print(\"Set3 : \",set3)\n",
    "\n",
    "print(\"Data types ::::\")\n",
    "print(type(set1))\n",
    "print(type(set2))\n",
    "print(type(set3))"
   ]
  },
  {
   "cell_type": "code",
   "execution_count": 4,
   "metadata": {},
   "outputs": [
    {
     "name": "stdout",
     "output_type": "stream",
     "text": [
      "{True, 'March', 67.89, 'April', 12, 78, 'feb', 56, 'Jan'}\n"
     ]
    }
   ],
   "source": [
    "# Different data types in sets\n",
    "Months = {\"Jan\",12,\"feb\",67.89,\"March\",56,\"April\",True,78}\n",
    "print(Months) # Will print in unordered manner"
   ]
  },
  {
   "cell_type": "markdown",
   "metadata": {},
   "source": [
    "### Length of set\n",
    "- To determine how many items a set has, use the len() function.\n",
    "- len() function gives us length of set, that is total number of items in a set."
   ]
  },
  {
   "cell_type": "code",
   "execution_count": 5,
   "metadata": {},
   "outputs": [
    {
     "name": "stdout",
     "output_type": "stream",
     "text": [
      "7\n"
     ]
    }
   ],
   "source": [
    "Months = {\"Jan\",\"Feb\",\"March\",\"April\",\"May\",\"June\",\"July\"}\n",
    "print(len(Months))"
   ]
  },
  {
   "cell_type": "markdown",
   "metadata": {},
   "source": [
    "### Conversion of set to a tuple:\n",
    "- We can convert set to a tuple using tuple() function"
   ]
  },
  {
   "cell_type": "code",
   "execution_count": 7,
   "metadata": {},
   "outputs": [
    {
     "name": "stdout",
     "output_type": "stream",
     "text": [
      "Tuple :  ('May', 'March', 'April', 'June', 'July', 'Jan', 'Feb')\n",
      "Type of Months_Tuple :  <class 'tuple'>\n"
     ]
    }
   ],
   "source": [
    "Months = {\"Jan\",\"Feb\",\"March\",\"April\",\"May\",\"June\",\"July\"}\n",
    "Months_Tuple = tuple(Months) # Conversion of sets to a tuple\n",
    "print(\"Tuple : \",Months_Tuple)\n",
    "print(\"Type of Months_Tuple : \",type(Months_Tuple))"
   ]
  },
  {
   "cell_type": "markdown",
   "metadata": {},
   "source": [
    "### Conversion of set to a list\n",
    "- We can convert set to a list using list() function"
   ]
  },
  {
   "cell_type": "code",
   "execution_count": 10,
   "metadata": {},
   "outputs": [
    {
     "name": "stdout",
     "output_type": "stream",
     "text": [
      "List :  ['May', 'March', 'April', 'June', 'July', 'Jan', 'Feb']\n",
      "Type of Months_List :  <class 'list'>\n"
     ]
    }
   ],
   "source": [
    "Months = {\"Jan\",\"Feb\",\"March\",\"April\",\"May\",\"June\",\"July\"}\n",
    "Months_List = list(Months) # Conversion of sets to a list\n",
    "print(\"List : \",Months_List)\n",
    "print(\"Type of Months_List : \",type(Months_List))"
   ]
  },
  {
   "cell_type": "markdown",
   "metadata": {},
   "source": [
    "### Indexing in sets\n",
    "- As we know that sets are unindexed, so we can not access items in sets directly but we can convert sets to list or tuple and then access items in it directly by indexing.\n",
    "- We convert set to tuple or list, because list or tuple are indexed and there order is not going to change. And hence we are going to access the elements in tuples or sets by indexing"
   ]
  },
  {
   "cell_type": "code",
   "execution_count": 11,
   "metadata": {},
   "outputs": [
    {
     "name": "stdout",
     "output_type": "stream",
     "text": [
      "List :  ['May', 'March', 'April', 'June', 'July', 'Jan', 'Feb']\n"
     ]
    },
    {
     "data": {
      "text/plain": [
       "'June'"
      ]
     },
     "execution_count": 11,
     "metadata": {},
     "output_type": "execute_result"
    }
   ],
   "source": [
    "Months = {\"Jan\",\"Feb\",\"March\",\"April\",\"May\",\"June\",\"July\"}\n",
    "Months_List = list(Months) # Conversion of sets to a list\n",
    "print(\"List : \",Months_List)\n",
    "Months_List[3]"
   ]
  },
  {
   "cell_type": "markdown",
   "metadata": {},
   "source": [
    "### set() function\n",
    "- If you have a list or tuple and if you want to convert it to a set or in unordered format then set() funtion is used"
   ]
  },
  {
   "cell_type": "code",
   "execution_count": 16,
   "metadata": {},
   "outputs": [
    {
     "name": "stdout",
     "output_type": "stream",
     "text": [
      "Tuple :  ('Jan', 'Feb', 'March', 'April', 'May', 'June', 'July')\n",
      "Type :  <class 'tuple'>\n",
      "------------------------\n",
      "Set :  {'May', 'March', 'April', 'June', 'July', 'Jan', 'Feb'}\n",
      "Type :  <class 'set'>\n"
     ]
    }
   ],
   "source": [
    "# Conversion of tuple to set\n",
    "Months = (\"Jan\",\"Feb\",\"March\",\"April\",\"May\",\"June\",\"July\")\n",
    "Months_set = set(Months)\n",
    "print(\"Tuple : \",Months)\n",
    "print(\"Type : \",type(Months))\n",
    "print(\"------------------------\")\n",
    "print(\"Set : \",Months_set)\n",
    "print(\"Type : \",type(Months_set))"
   ]
  },
  {
   "cell_type": "code",
   "execution_count": 15,
   "metadata": {},
   "outputs": [
    {
     "name": "stdout",
     "output_type": "stream",
     "text": [
      "List :  ['Jan', 'Feb', 'March', 'April', 'May', 'June', 'July']\n",
      "Type :  <class 'list'>\n",
      "------------------------\n",
      "Set :  {'May', 'March', 'April', 'June', 'July', 'Jan', 'Feb'}\n",
      "Type :  <class 'set'>\n"
     ]
    }
   ],
   "source": [
    "# Conversion of list to set\n",
    "Months = [\"Jan\",\"Feb\",\"March\",\"April\",\"May\",\"June\",\"July\"]\n",
    "Months_set = set(Months)\n",
    "print(\"List : \",Months)\n",
    "print(\"Type : \",type(Months))\n",
    "print(\"------------------------\")\n",
    "print(\"Set : \",Months_set)\n",
    "print(\"Type : \",type(Months_set))"
   ]
  },
  {
   "cell_type": "markdown",
   "metadata": {},
   "source": [
    "#### list()\n",
    "- A method to convert tuple or set to list\n",
    "\n",
    "#### tuple()\n",
    "- A method to convert list or set to tuple\n",
    "\n",
    "#### set()\n",
    "- A method to convert list or tuple to set\n",
    "\n",
    "- The above methods are only used for sets and not for dictionaries."
   ]
  },
  {
   "cell_type": "markdown",
   "metadata": {},
   "source": [
    "#### Why duplicates are not allowed in sets, and allowed in lists or tuple\n",
    "- In case of list or tuple, they are indexed so the index of duplicate items are different and as they are accessed by using index, so duplicates are allowed. But in case of sets, there are no indexes so no duplicate members are allowed.\n",
    "- In case of list and tuples, they are ordered, so everything we are doing on it is depend on index and hence duplicates are allowed, but in case of sets, everything is depend on value because it is unordered and hence we are not allowed to use duplicate members in sets.\n",
    "- If we are using duplicate values in sets then it will not give an error but it will print only one value and duplicates are not going to be printed.\n",
    "\n",
    "#### Accessing set values in ordered format\n",
    "- Accessing tuple values are possible, but changing tuple values are not possible.\n",
    "- To access set values in ordered format, we convert set to tuple or list."
   ]
  },
  {
   "cell_type": "code",
   "execution_count": 1,
   "metadata": {},
   "outputs": [
    {
     "data": {
      "text/plain": [
       "{'April', 'Feb', 'Jan', 'July', 'June', 'March', 'May'}"
      ]
     },
     "execution_count": 1,
     "metadata": {},
     "output_type": "execute_result"
    }
   ],
   "source": [
    "# Set having duplicate values in it\n",
    "Months = {\"Jan\",\"July\",\"Feb\",\"July\",\"March\",\"April\",\"July\",\"May\",\"June\",\"July\"}\n",
    "Months\n",
    "# Here It will not give error, instead July is printed only once"
   ]
  },
  {
   "cell_type": "markdown",
   "metadata": {},
   "source": [
    "### Accessing Set Items\n",
    "- You **cannot** access items in a set by referring to an index or a key. Because sets are unordered.\n",
    "- But you can loop through the set items using a for loop, or ask if a specified value is present in a set, by using the **in** keyword.\n",
    "- We can not use positive or negative indexing, or positive or negative slicing for accessing an element in set, it will give an error.\n",
    "- Verification is possible, iteration is possible but direct accessing of element using indexing is not possible in case of sets.\n",
    "- In sets, whatever method we are using, output will be always in unordered manner, there is no fix sequence of output.\n",
    "- **Set items won't support indexing and slicing**\n",
    "- There are 3 methods to access the elements of sets that are\n",
    "    - Using **in** keyword\n",
    "    - Using For loop\n",
    "    - Using if-else statements"
   ]
  },
  {
   "cell_type": "code",
   "execution_count": 4,
   "metadata": {},
   "outputs": [
    {
     "name": "stdout",
     "output_type": "stream",
     "text": [
      "June\n",
      "March\n",
      "May\n",
      "April\n",
      "July\n",
      "Jan\n",
      "Feb\n"
     ]
    }
   ],
   "source": [
    "# Accessing set items using for loop\n",
    "# Iterating the set values\n",
    "Months = {\"Jan\",\"July\",\"Feb\",\"July\",\"March\",\"April\",\"July\",\"May\",\"June\",\"July\"}\n",
    "for item in Months:\n",
    "    print(item)\n",
    "    "
   ]
  },
  {
   "cell_type": "code",
   "execution_count": 5,
   "metadata": {},
   "outputs": [
    {
     "ename": "TypeError",
     "evalue": "'set' object is not subscriptable",
     "output_type": "error",
     "traceback": [
      "\u001b[1;31m---------------------------------------------------------------------------\u001b[0m",
      "\u001b[1;31mTypeError\u001b[0m                                 Traceback (most recent call last)",
      "\u001b[1;32m<ipython-input-5-a24f476390a6>\u001b[0m in \u001b[0;36m<module>\u001b[1;34m\u001b[0m\n\u001b[0;32m      1\u001b[0m \u001b[1;31m# Accessing set items using index\u001b[0m\u001b[1;33m\u001b[0m\u001b[1;33m\u001b[0m\u001b[1;33m\u001b[0m\u001b[0m\n\u001b[0;32m      2\u001b[0m \u001b[0mMonths\u001b[0m \u001b[1;33m=\u001b[0m \u001b[1;33m{\u001b[0m\u001b[1;34m\"Jan\"\u001b[0m\u001b[1;33m,\u001b[0m\u001b[1;34m\"July\"\u001b[0m\u001b[1;33m,\u001b[0m\u001b[1;34m\"Feb\"\u001b[0m\u001b[1;33m,\u001b[0m\u001b[1;34m\"July\"\u001b[0m\u001b[1;33m,\u001b[0m\u001b[1;34m\"March\"\u001b[0m\u001b[1;33m,\u001b[0m\u001b[1;34m\"April\"\u001b[0m\u001b[1;33m,\u001b[0m\u001b[1;34m\"July\"\u001b[0m\u001b[1;33m,\u001b[0m\u001b[1;34m\"May\"\u001b[0m\u001b[1;33m,\u001b[0m\u001b[1;34m\"June\"\u001b[0m\u001b[1;33m,\u001b[0m\u001b[1;34m\"July\"\u001b[0m\u001b[1;33m}\u001b[0m\u001b[1;33m\u001b[0m\u001b[1;33m\u001b[0m\u001b[0m\n\u001b[1;32m----> 3\u001b[1;33m \u001b[0mMonths\u001b[0m\u001b[1;33m[\u001b[0m\u001b[1;36m3\u001b[0m\u001b[1;33m]\u001b[0m\u001b[1;33m\u001b[0m\u001b[1;33m\u001b[0m\u001b[0m\n\u001b[0m",
      "\u001b[1;31mTypeError\u001b[0m: 'set' object is not subscriptable"
     ]
    }
   ],
   "source": [
    "# Accessing set items using index\n",
    "Months = {\"Jan\",\"July\",\"Feb\",\"July\",\"March\",\"April\",\"July\",\"May\",\"June\",\"July\"}\n",
    "Months[3]"
   ]
  },
  {
   "cell_type": "code",
   "execution_count": 6,
   "metadata": {},
   "outputs": [
    {
     "ename": "TypeError",
     "evalue": "'set' object is not subscriptable",
     "output_type": "error",
     "traceback": [
      "\u001b[1;31m---------------------------------------------------------------------------\u001b[0m",
      "\u001b[1;31mTypeError\u001b[0m                                 Traceback (most recent call last)",
      "\u001b[1;32m<ipython-input-6-de61ecab16af>\u001b[0m in \u001b[0;36m<module>\u001b[1;34m\u001b[0m\n\u001b[0;32m      1\u001b[0m \u001b[1;31m# Accessing set items using slicing\u001b[0m\u001b[1;33m\u001b[0m\u001b[1;33m\u001b[0m\u001b[1;33m\u001b[0m\u001b[0m\n\u001b[0;32m      2\u001b[0m \u001b[0mMonths\u001b[0m \u001b[1;33m=\u001b[0m \u001b[1;33m{\u001b[0m\u001b[1;34m\"Jan\"\u001b[0m\u001b[1;33m,\u001b[0m\u001b[1;34m\"July\"\u001b[0m\u001b[1;33m,\u001b[0m\u001b[1;34m\"Feb\"\u001b[0m\u001b[1;33m,\u001b[0m\u001b[1;34m\"July\"\u001b[0m\u001b[1;33m,\u001b[0m\u001b[1;34m\"March\"\u001b[0m\u001b[1;33m,\u001b[0m\u001b[1;34m\"April\"\u001b[0m\u001b[1;33m,\u001b[0m\u001b[1;34m\"July\"\u001b[0m\u001b[1;33m,\u001b[0m\u001b[1;34m\"May\"\u001b[0m\u001b[1;33m,\u001b[0m\u001b[1;34m\"June\"\u001b[0m\u001b[1;33m,\u001b[0m\u001b[1;34m\"July\"\u001b[0m\u001b[1;33m}\u001b[0m\u001b[1;33m\u001b[0m\u001b[1;33m\u001b[0m\u001b[0m\n\u001b[1;32m----> 3\u001b[1;33m \u001b[0mMonths\u001b[0m\u001b[1;33m[\u001b[0m\u001b[1;33m:\u001b[0m\u001b[1;36m3\u001b[0m\u001b[1;33m]\u001b[0m\u001b[1;33m\u001b[0m\u001b[1;33m\u001b[0m\u001b[0m\n\u001b[0m",
      "\u001b[1;31mTypeError\u001b[0m: 'set' object is not subscriptable"
     ]
    }
   ],
   "source": [
    "# Accessing set items using slicing\n",
    "Months = {\"Jan\",\"July\",\"Feb\",\"July\",\"March\",\"April\",\"July\",\"May\",\"June\",\"July\"}\n",
    "Months[:3]"
   ]
  },
  {
   "cell_type": "markdown",
   "metadata": {},
   "source": [
    "### Checking element is present in set or not\n",
    "- By using **in** keyword we are checking the condition that perticular element is present in set or not.\n",
    "- We can also use if else statements for checking element is present or not"
   ]
  },
  {
   "cell_type": "code",
   "execution_count": 21,
   "metadata": {},
   "outputs": [
    {
     "name": "stdout",
     "output_type": "stream",
     "text": [
      "True\n"
     ]
    }
   ],
   "source": [
    "# Checking element is present in set or not\n",
    "Months = {\"Jan\",\"Feb\",\"March\",\"April\",\"May\",\"June\",\"July\"}\n",
    "print(\"April\" in Months)\n",
    "# Here April is present in Months and hence it returns true"
   ]
  },
  {
   "cell_type": "code",
   "execution_count": 22,
   "metadata": {},
   "outputs": [
    {
     "name": "stdout",
     "output_type": "stream",
     "text": [
      "April is present\n"
     ]
    }
   ],
   "source": [
    "# Using if else also we can check it\n",
    "Months = {\"Jan\",\"Feb\",\"March\",\"April\",\"May\",\"June\",\"July\"}\n",
    "if \"April\" in Months:\n",
    "    print(\"April is present\")\n",
    "else:\n",
    "    print(\"April is not present\")"
   ]
  },
  {
   "cell_type": "code",
   "execution_count": 23,
   "metadata": {},
   "outputs": [
    {
     "ename": "NameError",
     "evalue": "name 'April' is not defined",
     "output_type": "error",
     "traceback": [
      "\u001b[1;31m---------------------------------------------------------------------------\u001b[0m",
      "\u001b[1;31mNameError\u001b[0m                                 Traceback (most recent call last)",
      "\u001b[1;32m<ipython-input-23-91735a1bc9b1>\u001b[0m in \u001b[0;36m<module>\u001b[1;34m\u001b[0m\n\u001b[0;32m      1\u001b[0m \u001b[0mMonths\u001b[0m \u001b[1;33m=\u001b[0m \u001b[1;33m{\u001b[0m\u001b[1;34m\"Jan\"\u001b[0m\u001b[1;33m,\u001b[0m\u001b[1;34m\"Feb\"\u001b[0m\u001b[1;33m,\u001b[0m\u001b[1;34m\"March\"\u001b[0m\u001b[1;33m,\u001b[0m\u001b[1;34m\"April\"\u001b[0m\u001b[1;33m,\u001b[0m\u001b[1;34m\"May\"\u001b[0m\u001b[1;33m,\u001b[0m\u001b[1;34m\"June\"\u001b[0m\u001b[1;33m,\u001b[0m\u001b[1;34m\"July\"\u001b[0m\u001b[1;33m}\u001b[0m\u001b[1;33m\u001b[0m\u001b[1;33m\u001b[0m\u001b[0m\n\u001b[1;32m----> 2\u001b[1;33m \u001b[0mprint\u001b[0m\u001b[1;33m(\u001b[0m\u001b[0mApril\u001b[0m \u001b[1;32min\u001b[0m \u001b[0mMonths\u001b[0m\u001b[1;33m)\u001b[0m\u001b[1;33m\u001b[0m\u001b[1;33m\u001b[0m\u001b[0m\n\u001b[0m\u001b[0;32m      3\u001b[0m \u001b[1;31m# Why it is giving error\u001b[0m\u001b[1;33m\u001b[0m\u001b[1;33m\u001b[0m\u001b[1;33m\u001b[0m\u001b[0m\n\u001b[0;32m      4\u001b[0m \u001b[1;31m# Because we are looking for a string so we have to put quotes for it\u001b[0m\u001b[1;33m\u001b[0m\u001b[1;33m\u001b[0m\u001b[1;33m\u001b[0m\u001b[0m\n\u001b[0;32m      5\u001b[0m \u001b[1;31m# Here in this case, it will treat April as variable\u001b[0m\u001b[1;33m\u001b[0m\u001b[1;33m\u001b[0m\u001b[1;33m\u001b[0m\u001b[0m\n",
      "\u001b[1;31mNameError\u001b[0m: name 'April' is not defined"
     ]
    }
   ],
   "source": [
    "Months = {\"Jan\",\"Feb\",\"March\",\"April\",\"May\",\"June\",\"July\"}\n",
    "print(April in Months)\n",
    "# Why it is giving error\n",
    "# Because we are looking for a string so we have to put quotes for it\n",
    "# Here in this case, it will treat April as variable\n",
    "# But we want string not a variable"
   ]
  },
  {
   "cell_type": "markdown",
   "metadata": {},
   "source": [
    " ### Using len() function on set having duplicate values\n",
    " - If we are using duplicate values in a set and calculating length of that set, then it will return length without considering duplicate values."
   ]
  },
  {
   "cell_type": "code",
   "execution_count": 20,
   "metadata": {},
   "outputs": [
    {
     "name": "stdout",
     "output_type": "stream",
     "text": [
      "7\n"
     ]
    }
   ],
   "source": [
    "Months = {\"Jan\",\"July\",\"Feb\",\"July\",\"March\",\"April\",\"July\",\"May\",\"June\",\"July\"}\n",
    "print(len(Months))"
   ]
  },
  {
   "cell_type": "markdown",
   "metadata": {},
   "source": [
    "### Adding Items\n",
    "- Once a set is created, you cannot change its items, but you can add new items.\n",
    "- To add one item to a set use the add() method.\n",
    "- add() method will going to add a value in set at any position.\n",
    "- Position of value going to added is not fix.\n",
    "- In add() method, at a time we only use one variable, otherwise it will give an error\n",
    "- We can not use insert(), append(), extend() functions on sets, otherwise it will give an error"
   ]
  },
  {
   "cell_type": "code",
   "execution_count": 24,
   "metadata": {},
   "outputs": [
    {
     "name": "stdout",
     "output_type": "stream",
     "text": [
      "{'Dec', 'June', 'March', 'May', 'April', 'July', 'Jan', 'Feb'}\n"
     ]
    }
   ],
   "source": [
    "# Using add function for adding values in a set\n",
    "Months = {\"Jan\",\"Feb\",\"March\",\"April\",\"May\",\"June\",\"July\"}\n",
    "Months.add(\"Dec\")\n",
    "print(Months)"
   ]
  },
  {
   "cell_type": "code",
   "execution_count": 25,
   "metadata": {},
   "outputs": [
    {
     "ename": "TypeError",
     "evalue": "add() takes exactly one argument (2 given)",
     "output_type": "error",
     "traceback": [
      "\u001b[1;31m---------------------------------------------------------------------------\u001b[0m",
      "\u001b[1;31mTypeError\u001b[0m                                 Traceback (most recent call last)",
      "\u001b[1;32m<ipython-input-25-2fcc82b15854>\u001b[0m in \u001b[0;36m<module>\u001b[1;34m\u001b[0m\n\u001b[0;32m      1\u001b[0m \u001b[0mMonths\u001b[0m \u001b[1;33m=\u001b[0m \u001b[1;33m{\u001b[0m\u001b[1;34m\"Jan\"\u001b[0m\u001b[1;33m,\u001b[0m\u001b[1;34m\"Feb\"\u001b[0m\u001b[1;33m,\u001b[0m\u001b[1;34m\"March\"\u001b[0m\u001b[1;33m,\u001b[0m\u001b[1;34m\"April\"\u001b[0m\u001b[1;33m,\u001b[0m\u001b[1;34m\"May\"\u001b[0m\u001b[1;33m,\u001b[0m\u001b[1;34m\"June\"\u001b[0m\u001b[1;33m,\u001b[0m\u001b[1;34m\"July\"\u001b[0m\u001b[1;33m}\u001b[0m\u001b[1;33m\u001b[0m\u001b[1;33m\u001b[0m\u001b[0m\n\u001b[1;32m----> 2\u001b[1;33m \u001b[0mMonths\u001b[0m\u001b[1;33m.\u001b[0m\u001b[0madd\u001b[0m\u001b[1;33m(\u001b[0m\u001b[1;34m\"Dec\"\u001b[0m\u001b[1;33m,\u001b[0m\u001b[1;34m\"Aug\"\u001b[0m\u001b[1;33m)\u001b[0m\u001b[1;33m\u001b[0m\u001b[1;33m\u001b[0m\u001b[0m\n\u001b[0m\u001b[0;32m      3\u001b[0m \u001b[0mprint\u001b[0m\u001b[1;33m(\u001b[0m\u001b[0mMonths\u001b[0m\u001b[1;33m)\u001b[0m\u001b[1;33m\u001b[0m\u001b[1;33m\u001b[0m\u001b[0m\n",
      "\u001b[1;31mTypeError\u001b[0m: add() takes exactly one argument (2 given)"
     ]
    }
   ],
   "source": [
    "# Using add method and passing more than one value in it\n",
    "Months = {\"Jan\",\"Feb\",\"March\",\"April\",\"May\",\"June\",\"July\"}\n",
    "Months.add(\"Dec\",\"Aug\")\n",
    "print(Months)"
   ]
  },
  {
   "cell_type": "code",
   "execution_count": 26,
   "metadata": {},
   "outputs": [
    {
     "ename": "AttributeError",
     "evalue": "'set' object has no attribute 'append'",
     "output_type": "error",
     "traceback": [
      "\u001b[1;31m---------------------------------------------------------------------------\u001b[0m",
      "\u001b[1;31mAttributeError\u001b[0m                            Traceback (most recent call last)",
      "\u001b[1;32m<ipython-input-26-782e4b432ae1>\u001b[0m in \u001b[0;36m<module>\u001b[1;34m\u001b[0m\n\u001b[0;32m      1\u001b[0m \u001b[1;31m# Using list or tuple methods on sets\u001b[0m\u001b[1;33m\u001b[0m\u001b[1;33m\u001b[0m\u001b[1;33m\u001b[0m\u001b[0m\n\u001b[0;32m      2\u001b[0m \u001b[0mMonths\u001b[0m \u001b[1;33m=\u001b[0m \u001b[1;33m{\u001b[0m\u001b[1;34m\"Jan\"\u001b[0m\u001b[1;33m,\u001b[0m\u001b[1;34m\"Feb\"\u001b[0m\u001b[1;33m,\u001b[0m\u001b[1;34m\"March\"\u001b[0m\u001b[1;33m,\u001b[0m\u001b[1;34m\"April\"\u001b[0m\u001b[1;33m,\u001b[0m\u001b[1;34m\"May\"\u001b[0m\u001b[1;33m,\u001b[0m\u001b[1;34m\"June\"\u001b[0m\u001b[1;33m,\u001b[0m\u001b[1;34m\"July\"\u001b[0m\u001b[1;33m}\u001b[0m\u001b[1;33m\u001b[0m\u001b[1;33m\u001b[0m\u001b[0m\n\u001b[1;32m----> 3\u001b[1;33m \u001b[0mMonths\u001b[0m\u001b[1;33m.\u001b[0m\u001b[0mappend\u001b[0m\u001b[1;33m(\u001b[0m\u001b[1;34m\"Dec\"\u001b[0m\u001b[1;33m)\u001b[0m\u001b[1;33m\u001b[0m\u001b[1;33m\u001b[0m\u001b[0m\n\u001b[0m\u001b[0;32m      4\u001b[0m \u001b[0mprint\u001b[0m\u001b[1;33m(\u001b[0m\u001b[0mMonths\u001b[0m\u001b[1;33m)\u001b[0m\u001b[1;33m\u001b[0m\u001b[1;33m\u001b[0m\u001b[0m\n",
      "\u001b[1;31mAttributeError\u001b[0m: 'set' object has no attribute 'append'"
     ]
    }
   ],
   "source": [
    "# Using list or tuple methods on sets\n",
    "# Using append method on set\n",
    "Months = {\"Jan\",\"Feb\",\"March\",\"April\",\"May\",\"June\",\"July\"}\n",
    "Months.append(\"Dec\")\n",
    "print(Months)"
   ]
  },
  {
   "cell_type": "markdown",
   "metadata": {},
   "source": [
    "### Adding multiple values in a set at a time\n",
    "- The main disadvantage of add() method is that we can not add multiple values at a single time.\n",
    "- To overcome this drawback, we use update() method on sets, by using it we can add a set to other set.\n",
    "- To add items from another set into the current set, use the update() method.\n",
    "- Month2.update(Month1) means we are updating values in Month2, here we are adding values in Month2\n",
    "- Month1.update(Month) means we are updating values in Month1, here we are adding values in Month1, **update method is used on Month1 set.**\n",
    "- Insertion order is not preserved while adding values to the set."
   ]
  },
  {
   "cell_type": "code",
   "execution_count": 28,
   "metadata": {},
   "outputs": [
    {
     "name": "stdout",
     "output_type": "stream",
     "text": [
      "{'Nov', 'Dec', 'June', 'March', 'May', 'April', 'July', 'Oct', 'Jan', 'Sept', 'Aug', 'Feb'}\n"
     ]
    }
   ],
   "source": [
    "# Adding set to a set\n",
    "Months = {\"Jan\",\"Feb\",\"March\",\"April\",\"May\",\"June\",\"July\"}\n",
    "Months1 = {\"Aug\",\"Sept\",\"Oct\",\"Nov\",\"Dec\"}\n",
    "Months.update(Months1) # We are adding values in Month set.\n",
    "print(Months)"
   ]
  },
  {
   "cell_type": "markdown",
   "metadata": {},
   "source": [
    "### Adding other iterables\n",
    "- The object in the update() method does not have to be a set, it can be any iterable object (tuples, lists, dictionaries etc.).\n",
    "- Means we can add tuples or lists to set using update method, but vise versa is not possible."
   ]
  },
  {
   "cell_type": "code",
   "execution_count": 29,
   "metadata": {},
   "outputs": [
    {
     "name": "stdout",
     "output_type": "stream",
     "text": [
      "{'Nov', 'Dec', 'June', 'March', 'May', 'April', 'July', 'Oct', 'Jan', 'Sept', 'Aug', 'Feb'}\n"
     ]
    }
   ],
   "source": [
    "# Adding a list to a set\n",
    "Months = {\"Jan\",\"Feb\",\"March\",\"April\",\"May\",\"June\",\"July\"}\n",
    "Months1 = [\"Aug\",\"Sept\",\"Oct\",\"Nov\",\"Dec\"]\n",
    "Months.update(Months1) # We are adding values in Month set.\n",
    "print(Months)"
   ]
  },
  {
   "cell_type": "code",
   "execution_count": 30,
   "metadata": {},
   "outputs": [
    {
     "name": "stdout",
     "output_type": "stream",
     "text": [
      "{'Nov', 'Dec', 'June', 'March', 'May', 'April', 'July', 'Oct', 'Jan', 'Sept', 'Aug', 'Feb'}\n"
     ]
    }
   ],
   "source": [
    "# Adding tuple to a set\n",
    "Months = {\"Jan\",\"Feb\",\"March\",\"April\",\"May\",\"June\",\"July\"}\n",
    "Months1 = (\"Aug\",\"Sept\",\"Oct\",\"Nov\",\"Dec\")\n",
    "Months.update(Months1) # We are adding values in Month set.\n",
    "print(Months)"
   ]
  },
  {
   "cell_type": "markdown",
   "metadata": {},
   "source": [
    "- We can not use update() method on list or tuple, because there is no such method present for it, if we use then it will give an error.\n",
    "- **We can use insert(), append(), extend() methods for lists or tuples but not for sets**\n",
    "- **We can use add(), update() methods for sets but not for lists or tuples.**"
   ]
  },
  {
   "cell_type": "code",
   "execution_count": 33,
   "metadata": {},
   "outputs": [
    {
     "ename": "AttributeError",
     "evalue": "'list' object has no attribute 'update'",
     "output_type": "error",
     "traceback": [
      "\u001b[1;31m---------------------------------------------------------------------------\u001b[0m",
      "\u001b[1;31mAttributeError\u001b[0m                            Traceback (most recent call last)",
      "\u001b[1;32m<ipython-input-33-0d62f4b2facd>\u001b[0m in \u001b[0;36m<module>\u001b[1;34m\u001b[0m\n\u001b[0;32m      1\u001b[0m \u001b[0mMonths\u001b[0m \u001b[1;33m=\u001b[0m \u001b[1;33m{\u001b[0m\u001b[1;34m\"Jan\"\u001b[0m\u001b[1;33m,\u001b[0m\u001b[1;34m\"Feb\"\u001b[0m\u001b[1;33m,\u001b[0m\u001b[1;34m\"March\"\u001b[0m\u001b[1;33m,\u001b[0m\u001b[1;34m\"April\"\u001b[0m\u001b[1;33m,\u001b[0m\u001b[1;34m\"May\"\u001b[0m\u001b[1;33m,\u001b[0m\u001b[1;34m\"June\"\u001b[0m\u001b[1;33m,\u001b[0m\u001b[1;34m\"July\"\u001b[0m\u001b[1;33m}\u001b[0m\u001b[1;33m\u001b[0m\u001b[1;33m\u001b[0m\u001b[0m\n\u001b[0;32m      2\u001b[0m \u001b[0mMonths_List\u001b[0m \u001b[1;33m=\u001b[0m \u001b[1;33m[\u001b[0m\u001b[1;34m\"Aug\"\u001b[0m\u001b[1;33m,\u001b[0m\u001b[1;34m\"Sept\"\u001b[0m\u001b[1;33m,\u001b[0m\u001b[1;34m\"Oct\"\u001b[0m\u001b[1;33m,\u001b[0m\u001b[1;34m\"Nov\"\u001b[0m\u001b[1;33m,\u001b[0m\u001b[1;34m\"Dec\"\u001b[0m\u001b[1;33m]\u001b[0m\u001b[1;33m\u001b[0m\u001b[1;33m\u001b[0m\u001b[0m\n\u001b[1;32m----> 3\u001b[1;33m \u001b[0mMonths_List\u001b[0m\u001b[1;33m.\u001b[0m\u001b[0mupdate\u001b[0m\u001b[1;33m(\u001b[0m\u001b[0mMonths\u001b[0m\u001b[1;33m)\u001b[0m \u001b[1;31m# We are adding values in Month set.\u001b[0m\u001b[1;33m\u001b[0m\u001b[1;33m\u001b[0m\u001b[0m\n\u001b[0m\u001b[0;32m      4\u001b[0m \u001b[0mprint\u001b[0m\u001b[1;33m(\u001b[0m\u001b[0mMonths_List\u001b[0m\u001b[1;33m)\u001b[0m\u001b[1;33m\u001b[0m\u001b[1;33m\u001b[0m\u001b[0m\n",
      "\u001b[1;31mAttributeError\u001b[0m: 'list' object has no attribute 'update'"
     ]
    }
   ],
   "source": [
    "# We can not use update method on list or tuple\n",
    "Months = {\"Jan\",\"Feb\",\"March\",\"April\",\"May\",\"June\",\"July\"}\n",
    "Months_List = [\"Aug\",\"Sept\",\"Oct\",\"Nov\",\"Dec\"]\n",
    "Months_List.update(Months) # We are adding values in list.\n",
    "print(Months_List)"
   ]
  },
  {
   "cell_type": "markdown",
   "metadata": {},
   "source": [
    "### Remove Item\n",
    "- To remove an item in a set, use the remove(), or the discard() method.\n",
    "    - remove() method\n",
    "    - discard() method\n",
    "    - pop() method\n",
    "- The main disadvantage of remove() and discard() methods is that, you can delete only one item at a time.\n",
    "- If you want to remove random value, then use pop() method and if you want to remove a specific value then use remove() or discard() method."
   ]
  },
  {
   "cell_type": "markdown",
   "metadata": {},
   "source": [
    "### Remove()"
   ]
  },
  {
   "cell_type": "code",
   "execution_count": 34,
   "metadata": {},
   "outputs": [
    {
     "name": "stdout",
     "output_type": "stream",
     "text": [
      "{'June', 'March', 'May', 'April', 'July', 'Jan'}\n"
     ]
    }
   ],
   "source": [
    "# REMOVE METHOD\n",
    "Months = {\"Jan\",\"Feb\",\"March\",\"April\",\"May\",\"June\",\"July\"}\n",
    "Months.remove(\"Feb\")\n",
    "print(Months)"
   ]
  },
  {
   "cell_type": "markdown",
   "metadata": {},
   "source": [
    "### Discard()"
   ]
  },
  {
   "cell_type": "code",
   "execution_count": 35,
   "metadata": {
    "scrolled": true
   },
   "outputs": [
    {
     "name": "stdout",
     "output_type": "stream",
     "text": [
      "{'June', 'March', 'April', 'July', 'Jan', 'Feb'}\n"
     ]
    }
   ],
   "source": [
    "# DISCARD METHOD\n",
    "Months = {\"Jan\",\"Feb\",\"March\",\"April\",\"May\",\"June\",\"July\"}\n",
    "Months.discard(\"May\")\n",
    "print(Months)"
   ]
  },
  {
   "cell_type": "markdown",
   "metadata": {},
   "source": [
    "**The main difference between discard and remove methods is that, remove() method gives error if you specified the element which is not present in the set and discard() method do not give the error if the specified element is not present in the set.**"
   ]
  },
  {
   "cell_type": "code",
   "execution_count": 4,
   "metadata": {},
   "outputs": [
    {
     "ename": "KeyError",
     "evalue": "50",
     "output_type": "error",
     "traceback": [
      "\u001b[1;31m---------------------------------------------------------------------------\u001b[0m",
      "\u001b[1;31mKeyError\u001b[0m                                  Traceback (most recent call last)",
      "\u001b[1;32m<ipython-input-4-e7c8974ebf1c>\u001b[0m in \u001b[0;36m<module>\u001b[1;34m\u001b[0m\n\u001b[0;32m      1\u001b[0m \u001b[0ms\u001b[0m \u001b[1;33m=\u001b[0m \u001b[1;33m{\u001b[0m\u001b[1;36m10\u001b[0m\u001b[1;33m,\u001b[0m\u001b[1;36m20\u001b[0m\u001b[1;33m,\u001b[0m\u001b[1;36m30\u001b[0m\u001b[1;33m,\u001b[0m\u001b[1;36m40\u001b[0m\u001b[1;33m}\u001b[0m\u001b[1;33m\u001b[0m\u001b[1;33m\u001b[0m\u001b[0m\n\u001b[1;32m----> 2\u001b[1;33m \u001b[0ms\u001b[0m\u001b[1;33m.\u001b[0m\u001b[0mremove\u001b[0m\u001b[1;33m(\u001b[0m\u001b[1;36m50\u001b[0m\u001b[1;33m)\u001b[0m\u001b[1;33m\u001b[0m\u001b[1;33m\u001b[0m\u001b[0m\n\u001b[0m\u001b[0;32m      3\u001b[0m \u001b[0mprint\u001b[0m\u001b[1;33m(\u001b[0m\u001b[0ms\u001b[0m\u001b[1;33m)\u001b[0m\u001b[1;33m\u001b[0m\u001b[1;33m\u001b[0m\u001b[0m\n",
      "\u001b[1;31mKeyError\u001b[0m: 50"
     ]
    }
   ],
   "source": [
    "# Removing element which is not present in set\n",
    "s = {10,20,30,40}\n",
    "s.remove(50)\n",
    "print(s)"
   ]
  },
  {
   "cell_type": "code",
   "execution_count": 5,
   "metadata": {},
   "outputs": [
    {
     "name": "stdout",
     "output_type": "stream",
     "text": [
      "{40, 10, 20, 30}\n"
     ]
    }
   ],
   "source": [
    "# Discarding element which is not present in set\n",
    "s = {10,20,30,40}\n",
    "s.discard(50)\n",
    "print(s)"
   ]
  },
  {
   "cell_type": "markdown",
   "metadata": {},
   "source": [
    "### Pop()\n",
    "- You can also use the pop() method to remove a random item. Remember that sets are unordered, so you will not know what item that gets removed.\n",
    "- The return value of the pop() method is the removed item.\n",
    "- It will remove `some random element` from set."
   ]
  },
  {
   "cell_type": "code",
   "execution_count": 39,
   "metadata": {},
   "outputs": [
    {
     "name": "stdout",
     "output_type": "stream",
     "text": [
      "{'March', 'May', 'April', 'July', 'Jan', 'Feb'}\n",
      "Popped item is :  June\n"
     ]
    }
   ],
   "source": [
    "# POP METHOD\n",
    "Months = {\"Jan\",\"Feb\",\"March\",\"April\",\"May\",\"June\",\"July\"}\n",
    "popped = Months.pop()\n",
    "print(Months)\n",
    "print(\"Popped item is : \",popped)"
   ]
  },
  {
   "cell_type": "markdown",
   "metadata": {},
   "source": [
    "### Clear method\n",
    "- The clear() method empties the set, but the set exists in memory in the form of empty set."
   ]
  },
  {
   "cell_type": "code",
   "execution_count": 40,
   "metadata": {
    "scrolled": true
   },
   "outputs": [
    {
     "name": "stdout",
     "output_type": "stream",
     "text": [
      "Before clearing the set :  {'June', 'March', 'May', 'April', 'July', 'Jan', 'Feb'}\n",
      "After clearing the set :  set()\n"
     ]
    }
   ],
   "source": [
    "Months = {\"Jan\",\"Feb\",\"March\",\"April\",\"May\",\"June\",\"July\"}\n",
    "print(\"Before clearing the set : \",Months)\n",
    "Months.clear()\n",
    "print(\"After clearing the set : \",Months)"
   ]
  },
  {
   "cell_type": "markdown",
   "metadata": {},
   "source": [
    "### Delete set\n",
    "- The **del** keyword will delete the set completely. Means that set will be removed from memory completely"
   ]
  },
  {
   "cell_type": "code",
   "execution_count": 41,
   "metadata": {
    "scrolled": true
   },
   "outputs": [
    {
     "ename": "NameError",
     "evalue": "name 'Months' is not defined",
     "output_type": "error",
     "traceback": [
      "\u001b[1;31m---------------------------------------------------------------------------\u001b[0m",
      "\u001b[1;31mNameError\u001b[0m                                 Traceback (most recent call last)",
      "\u001b[1;32m<ipython-input-41-e281ef01a51b>\u001b[0m in \u001b[0;36m<module>\u001b[1;34m\u001b[0m\n\u001b[0;32m      1\u001b[0m \u001b[0mMonths\u001b[0m \u001b[1;33m=\u001b[0m \u001b[1;33m{\u001b[0m\u001b[1;34m\"Jan\"\u001b[0m\u001b[1;33m,\u001b[0m\u001b[1;34m\"Feb\"\u001b[0m\u001b[1;33m,\u001b[0m\u001b[1;34m\"March\"\u001b[0m\u001b[1;33m,\u001b[0m\u001b[1;34m\"April\"\u001b[0m\u001b[1;33m,\u001b[0m\u001b[1;34m\"May\"\u001b[0m\u001b[1;33m,\u001b[0m\u001b[1;34m\"June\"\u001b[0m\u001b[1;33m,\u001b[0m\u001b[1;34m\"July\"\u001b[0m\u001b[1;33m}\u001b[0m\u001b[1;33m\u001b[0m\u001b[1;33m\u001b[0m\u001b[0m\n\u001b[0;32m      2\u001b[0m \u001b[1;32mdel\u001b[0m \u001b[0mMonths\u001b[0m\u001b[1;33m\u001b[0m\u001b[1;33m\u001b[0m\u001b[0m\n\u001b[1;32m----> 3\u001b[1;33m \u001b[0mprint\u001b[0m\u001b[1;33m(\u001b[0m\u001b[0mMonths\u001b[0m\u001b[1;33m)\u001b[0m\u001b[1;33m\u001b[0m\u001b[1;33m\u001b[0m\u001b[0m\n\u001b[0m",
      "\u001b[1;31mNameError\u001b[0m: name 'Months' is not defined"
     ]
    }
   ],
   "source": [
    "Months = {\"Jan\",\"Feb\",\"March\",\"April\",\"May\",\"June\",\"July\"}\n",
    "del Months\n",
    "print(Months) # Gives error because it's deleted"
   ]
  },
  {
   "cell_type": "markdown",
   "metadata": {},
   "source": [
    "### Copy():\n",
    "- Returns copy of the set.\n",
    "- It is cloned object."
   ]
  },
  {
   "cell_type": "code",
   "execution_count": 3,
   "metadata": {},
   "outputs": [
    {
     "name": "stdout",
     "output_type": "stream",
     "text": [
      "{10, 20, 30}\n",
      "{10, 20, 30}\n",
      "1575223629640\n",
      "1575223630088\n"
     ]
    }
   ],
   "source": [
    "s = {10,20,30}\n",
    "s1 = s.copy()\n",
    "print(s)\n",
    "print(s1)\n",
    "print(id(s))\n",
    "print(id(s1))"
   ]
  },
  {
   "cell_type": "markdown",
   "metadata": {},
   "source": [
    "## Algebric operations on sets\n",
    "- In Mathematics, what we have seen in sets, those functions are also used here on sets.\n",
    "- There are several ways to join two or more sets in Python.\n",
    "\n",
    "### union() Method:\n",
    "- You can use the union() method that returns a new set containing all items from both sets, or the update() method that inserts all the items from one set into another.\n",
    "- We use union for combining two sets.\n",
    "- union() method is also used for combination of set or tuple, set or list\n",
    "- **Both union() and update() will exclude any duplicate items.**\n",
    "- Both union and update methods are only used on sets\n",
    "- **Syntax:** `x.union(y)` or `x|y`\n",
    "- `x|y` works only when both x and y are sets, otherwise it will give you an error.\n",
    "- To make union of set with other data type like list, tuple, etc then you have to use `union()` function not `x|y`"
   ]
  },
  {
   "cell_type": "code",
   "execution_count": 7,
   "metadata": {},
   "outputs": [
    {
     "name": "stdout",
     "output_type": "stream",
     "text": [
      "{40, 10, 50, 20, 60, 30}\n"
     ]
    }
   ],
   "source": [
    "# | operator is used only when both the variables are sets.\n",
    "s1 = {10,20,30,40}\n",
    "s2 = {10,30,50,60,40,20}\n",
    "s = s1 | s2\n",
    "print(s)"
   ]
  },
  {
   "cell_type": "code",
   "execution_count": 8,
   "metadata": {
    "scrolled": true
   },
   "outputs": [
    {
     "name": "stdout",
     "output_type": "stream",
     "text": [
      "{40, 10, 50, 20, 60, 30}\n"
     ]
    }
   ],
   "source": [
    "s = {10,20,30,40}\n",
    "l = [10,30,50,60,40,20]\n",
    "s1 = s.union(l)\n",
    "print(s1)"
   ]
  },
  {
   "cell_type": "code",
   "execution_count": 42,
   "metadata": {},
   "outputs": [
    {
     "name": "stdout",
     "output_type": "stream",
     "text": [
      "Set Months1 :  {'June', 'March', 'May', 'April', 'July', 'Jan', 'Feb'}\n",
      "Set Months2 :  {'Nov', 'Dec', 'Oct', 'Sept', 'Aug'}\n",
      "Year :  {'Nov', 'Dec', 'June', 'March', 'May', 'July', 'April', 'Oct', 'Jan', 'Sept', 'Aug', 'Feb'}\n"
     ]
    }
   ],
   "source": [
    "# Union of two sets\n",
    "Months1 = {\"Jan\",\"Feb\",\"March\",\"April\",\"May\",\"June\",\"July\"}\n",
    "Months2 = {\"Aug\",\"Sept\",\"Oct\",\"Nov\",\"Dec\"}\n",
    "Year = Months1.union(Months2)\n",
    "print(\"Set Months1 : \",Months1)\n",
    "print(\"Set Months2 : \",Months2)\n",
    "print(\"Year : \",Year)"
   ]
  },
  {
   "cell_type": "code",
   "execution_count": 43,
   "metadata": {},
   "outputs": [
    {
     "name": "stdout",
     "output_type": "stream",
     "text": [
      "Set Months1 :  {'June', 'March', 'May', 'April', 'July', 'Jan', 'Feb'}\n",
      "Set Months2 :  ('Aug', 'Sept', 'Oct', 'Nov', 'Dec')\n",
      "Year :  {'Dec', 'June', 'May', 'April', 'Oct', 'Sept', 'Aug', 'Feb', 'Nov', 'March', 'July', 'Jan'}\n"
     ]
    }
   ],
   "source": [
    "# Union of set and tuple\n",
    "Months1 = {\"Jan\",\"Feb\",\"March\",\"April\",\"May\",\"June\",\"July\"} #SET\n",
    "Months2 = (\"Aug\",\"Sept\",\"Oct\",\"Nov\",\"Dec\") # TUPLE\n",
    "Year = Months1.union(Months2)\n",
    "print(\"Set Months1 : \",Months1)\n",
    "print(\"Set Months2 : \",Months2)\n",
    "print(\"Year : \",Year)"
   ]
  },
  {
   "cell_type": "code",
   "execution_count": 44,
   "metadata": {},
   "outputs": [
    {
     "name": "stdout",
     "output_type": "stream",
     "text": [
      "Set Months1 :  {'June', 'March', 'May', 'April', 'July', 'Jan', 'Feb'}\n",
      "Set Months2 :  ['Aug', 'Sept', 'Oct', 'Nov', 'Dec']\n",
      "Year :  {'Dec', 'June', 'May', 'April', 'Oct', 'Sept', 'Aug', 'Feb', 'Nov', 'March', 'July', 'Jan'}\n"
     ]
    }
   ],
   "source": [
    "# Union of set and list\n",
    "Months1 = {\"Jan\",\"Feb\",\"March\",\"April\",\"May\",\"June\",\"July\"} # SET\n",
    "Months2 = [\"Aug\",\"Sept\",\"Oct\",\"Nov\",\"Dec\"] # LIST\n",
    "Year = Months1.union(Months2)\n",
    "print(\"Set Months1 : \",Months1)\n",
    "print(\"Set Months2 : \",Months2)\n",
    "print(\"Year : \",Year)"
   ]
  },
  {
   "cell_type": "markdown",
   "metadata": {},
   "source": [
    "### Difference() Method\n",
    "- The difference between the two sets in Python is equal to the difference between the number of elements in two sets. \n",
    "- The function difference() returns a set that is the difference between two sets.\n",
    "- This difference() method removes the common elements from both the sets and gives the result of set from which we are substracting elements.\n",
    "- We are not doing any substraction here, we are just removing common elements.\n",
    "- Using this difference() method, there will be no change in original sets, new sets are generated.\n",
    "- A - B is denoted as : `A.difference(B)`\n",
    "- B - A is denoted as : `B.difference(A)`"
   ]
  },
  {
   "cell_type": "code",
   "execution_count": 47,
   "metadata": {},
   "outputs": [
    {
     "name": "stdout",
     "output_type": "stream",
     "text": [
      "A - B :  {10, 20}\n",
      "B - A :  {100, 60}\n"
     ]
    }
   ],
   "source": [
    "A = {10,20,30,40,80}\n",
    "B = {100,30,80,40,60}\n",
    "print(\"A - B : \",A.difference(B))  # A - B\n",
    "print(\"B - A : \",B.difference(A))  # B - A"
   ]
  },
  {
   "cell_type": "code",
   "execution_count": 50,
   "metadata": {},
   "outputs": [
    {
     "name": "stdout",
     "output_type": "stream",
     "text": [
      "A - B :  {10, 20}\n",
      "B - A :  {100, 60}\n",
      "{40, 10, 80, 20, 30}\n",
      "{100, 40, 80, 60, 30}\n"
     ]
    }
   ],
   "source": [
    "A = {10,20,30,40,80}\n",
    "B = {100,30,80,40,60}\n",
    "print(\"A - B : \",A - B)  # A - B\n",
    "print(\"B - A : \",B - A)  # B - A\n",
    "print(A)\n",
    "print(B) \n",
    "# THERE WILL BE NO CHANGES IN PARENT ELEMENT."
   ]
  },
  {
   "cell_type": "markdown",
   "metadata": {},
   "source": [
    "### Difference_update() Method\n",
    "- In order to make changes in original set, we have `difference_update()` method.\n",
    "- Difference between `difference()` method and `difference_update()` method is that, new set is created in `difference()` method and same set is updated in `difference_update()` method.\n",
    "- The `difference_update()` method helps in an in-place way of differentiating the set.\n",
    "- The `difference_update()` updates the existing caller set."
   ]
  },
  {
   "cell_type": "code",
   "execution_count": 51,
   "metadata": {},
   "outputs": [
    {
     "name": "stdout",
     "output_type": "stream",
     "text": [
      "A - B :  None\n",
      "A :  {10, 20}\n",
      "B :  {100, 40, 80, 60, 30}\n"
     ]
    }
   ],
   "source": [
    "A = {10,20,30,40,80}\n",
    "B = {100,30,80,40,60}\n",
    "print(\"A - B : \",A.difference_update(B)) # PERFORMS A - B AND UPDATES A TO A - B\n",
    "print(\"A : \",A)\n",
    "print(\"B : \",B)"
   ]
  },
  {
   "cell_type": "code",
   "execution_count": 52,
   "metadata": {},
   "outputs": [
    {
     "name": "stdout",
     "output_type": "stream",
     "text": [
      "B - A :  None\n",
      "A :  {40, 10, 80, 20, 30}\n",
      "B :  {100, 60}\n"
     ]
    }
   ],
   "source": [
    "A = {10,20,30,40,80}\n",
    "B = {100,30,80,40,60}\n",
    "print(\"B - A : \",B.difference_update(A)) # PERFORMS B - A AND UPDATES B TO B - A\n",
    "print(\"A : \",A)\n",
    "print(\"B : \",B)"
   ]
  },
  {
   "cell_type": "markdown",
   "metadata": {},
   "source": [
    "### frozenset()\n",
    "- Frozenset is a set in which we can not do changes or do any updations in it.\n",
    "- Python frozenset() Method creates an immutable Set object from an iterable. It is a built-in Python function."
   ]
  },
  {
   "cell_type": "code",
   "execution_count": 53,
   "metadata": {},
   "outputs": [
    {
     "name": "stdout",
     "output_type": "stream",
     "text": [
      "A :  {40, 10, 80, 20, 30}\n",
      "B :  frozenset({80, 20, 40, 10, 30})\n"
     ]
    }
   ],
   "source": [
    "A = {10,20,30,40,80}\n",
    "B = frozenset(A)\n",
    "print(\"A : \",A)\n",
    "print(\"B : \",B)"
   ]
  },
  {
   "cell_type": "code",
   "execution_count": 54,
   "metadata": {},
   "outputs": [
    {
     "ename": "AttributeError",
     "evalue": "'frozenset' object has no attribute 'add'",
     "output_type": "error",
     "traceback": [
      "\u001b[1;31m---------------------------------------------------------------------------\u001b[0m",
      "\u001b[1;31mAttributeError\u001b[0m                            Traceback (most recent call last)",
      "\u001b[1;32m<ipython-input-54-0e57a3f0a2c9>\u001b[0m in \u001b[0;36m<module>\u001b[1;34m\u001b[0m\n\u001b[0;32m      1\u001b[0m \u001b[1;31m# Trying to update frozenset\u001b[0m\u001b[1;33m\u001b[0m\u001b[1;33m\u001b[0m\u001b[1;33m\u001b[0m\u001b[0m\n\u001b[1;32m----> 2\u001b[1;33m \u001b[0mB\u001b[0m\u001b[1;33m.\u001b[0m\u001b[0madd\u001b[0m\u001b[1;33m(\u001b[0m\u001b[1;36m90\u001b[0m\u001b[1;33m)\u001b[0m\u001b[1;33m\u001b[0m\u001b[1;33m\u001b[0m\u001b[0m\n\u001b[0m",
      "\u001b[1;31mAttributeError\u001b[0m: 'frozenset' object has no attribute 'add'"
     ]
    }
   ],
   "source": [
    "# Trying to update frozenset\n",
    "B.add(90)"
   ]
  },
  {
   "cell_type": "code",
   "execution_count": 55,
   "metadata": {},
   "outputs": [
    {
     "ename": "AttributeError",
     "evalue": "'frozenset' object has no attribute 'remove'",
     "output_type": "error",
     "traceback": [
      "\u001b[1;31m---------------------------------------------------------------------------\u001b[0m",
      "\u001b[1;31mAttributeError\u001b[0m                            Traceback (most recent call last)",
      "\u001b[1;32m<ipython-input-55-cfd3a6b215e2>\u001b[0m in \u001b[0;36m<module>\u001b[1;34m\u001b[0m\n\u001b[1;32m----> 1\u001b[1;33m \u001b[0mB\u001b[0m\u001b[1;33m.\u001b[0m\u001b[0mremove\u001b[0m\u001b[1;33m(\u001b[0m\u001b[1;36m80\u001b[0m\u001b[1;33m)\u001b[0m\u001b[1;33m\u001b[0m\u001b[1;33m\u001b[0m\u001b[0m\n\u001b[0m",
      "\u001b[1;31mAttributeError\u001b[0m: 'frozenset' object has no attribute 'remove'"
     ]
    }
   ],
   "source": [
    "B.remove(80)"
   ]
  },
  {
   "cell_type": "markdown",
   "metadata": {},
   "source": [
    "### Intersection() Method\n",
    "- The intersection of two given sets is the largest set, which contains all the elements that are common to both sets. \n",
    "- The intersection of two given sets A and B is a set which consists of all the elements which are common to both A and B.\n",
    "- There are two methods to do intersection of sets :\n",
    "    - Use intersection() method\n",
    "    - Use & sign"
   ]
  },
  {
   "cell_type": "code",
   "execution_count": 58,
   "metadata": {},
   "outputs": [
    {
     "name": "stdout",
     "output_type": "stream",
     "text": [
      "A intersection B :  {40, 80, 30}\n",
      "A :  {40, 10, 80, 20, 30}\n",
      "B :  {100, 40, 80, 60, 30}\n"
     ]
    }
   ],
   "source": [
    "# Intersection of two sets using intersection() method\n",
    "A = {10,20,30,40,80}\n",
    "B = {100,30,80,40,60}\n",
    "print(\"A intersection B : \",A.intersection(B)) # PRINTS COMMON ELEMENTS IN A & B\n",
    "print(\"A : \",A)\n",
    "print(\"B : \",B)"
   ]
  },
  {
   "cell_type": "code",
   "execution_count": 60,
   "metadata": {},
   "outputs": [
    {
     "name": "stdout",
     "output_type": "stream",
     "text": [
      "A & B :  {40, 80, 30}\n",
      "A :  {40, 10, 80, 20, 30}\n",
      "B :  {100, 40, 80, 60, 30}\n"
     ]
    }
   ],
   "source": [
    "# Intersection of two sets using & sign\n",
    "A = {10,20,30,40,80}\n",
    "B = {100,30,80,40,60}\n",
    "print(\"A & B : \",A & B) # PRINTS COMMON ELEMENTS IN A & B\n",
    "print(\"A : \",A)\n",
    "print(\"B : \",B)"
   ]
  },
  {
   "cell_type": "markdown",
   "metadata": {},
   "source": [
    "### Symmetric_difference() Method\n",
    "- In case of difference, what we have seen that, it will return the uncommon elements of set from which we are substracting\n",
    "- In case of symmetric difference, it is returning the uncommon elements from both the sets after removing common elements.\n",
    "- `symmetric_difference()` is an opposite to the Python Set `intersection()` method.\n",
    "- In simpler words, it will returns the elements present in either set1 or set2 but not in both."
   ]
  },
  {
   "cell_type": "code",
   "execution_count": 63,
   "metadata": {},
   "outputs": [
    {
     "name": "stdout",
     "output_type": "stream",
     "text": [
      "(set1 - set2) & (set2 - set1) :  {2, 5, 7, 8}\n",
      "(set2 - set3) & (set3 - set2) :  {0, 1, 4, 6, 7, 8, 12}\n",
      "(set1 - set3) & (set3 - set1) :  {0, 1, 2, 4, 5, 6, 12}\n"
     ]
    }
   ],
   "source": [
    "set1 = {2, 4, 5, 6}\n",
    "set2 = {4, 6, 7, 8}\n",
    "set3 = {1, 0, 12}\n",
    "print(\"(set1 - set2) & (set2 - set1) : \", set1.symmetric_difference(set2))\n",
    "print(\"(set2 - set3) & (set3 - set2) : \", set2.symmetric_difference(set3))\n",
    "print(\"(set1 - set3) & (set3 - set1) : \",set1.symmetric_difference(set3))\n",
    "# set1.symmetric_difference(set2) == set2.symmetric_difference(set1)"
   ]
  },
  {
   "cell_type": "markdown",
   "metadata": {},
   "source": [
    "### isdisjoint() method\n",
    "- Python set `isdisjoint()` function check whether the two sets are disjoint or not, if it is disjoint then it returns True otherwise it will return False. \n",
    "- Two sets are said to be disjoint when their intersection is null. Means nothing is common in them. \n",
    "- **Whenever we are using \"is\" keyword, output will always be in the form of boolean**"
   ]
  },
  {
   "cell_type": "code",
   "execution_count": 64,
   "metadata": {},
   "outputs": [
    {
     "name": "stdout",
     "output_type": "stream",
     "text": [
      "set1 and set2 are disjoint or not?  True\n",
      "set1 and set3 are disjoint or not?  False\n"
     ]
    }
   ],
   "source": [
    "set1 = {2, 4, 5, 6}\n",
    "set2 = {7, 8, 9, 10}\n",
    "set3 = {1, 2}\n",
    "print(\"set1 and set2 are disjoint or not? \",set1.isdisjoint(set2))\n",
    "print(\"set1 and set3 are disjoint or not? \",set1.isdisjoint(set3))\n",
    "# There is nothing common in set1 and set2 and hence they are disjoint.\n",
    "# There is 1 common element in set1 and set3 and hence they are not disjoint."
   ]
  },
  {
   "cell_type": "markdown",
   "metadata": {},
   "source": [
    "### issubset() method\n",
    "- Python set `issubset()` method returns True if **all** elements of a set A are present in another set B which is passed as an argument, and returns False if all elements are not present in Python."
   ]
  },
  {
   "cell_type": "code",
   "execution_count": 65,
   "metadata": {},
   "outputs": [
    {
     "name": "stdout",
     "output_type": "stream",
     "text": [
      "True\n"
     ]
    }
   ],
   "source": [
    "s1 = {1,2,3,4,5}\n",
    "s2 = {4,5}\n",
    "print(s2.issubset(s1))\n",
    "# Checks weather s2 is subset of s1 or not"
   ]
  },
  {
   "cell_type": "markdown",
   "metadata": {},
   "source": [
    "### issuperset() Method()\n",
    "- Python set `issuperset()` method returns True if all elements of a set A occupies set B which is passed as an argument and returns false if all elements of B are not present in A. \n",
    "- This means if A is a superset of B then it returns true; else False"
   ]
  },
  {
   "cell_type": "code",
   "execution_count": 67,
   "metadata": {},
   "outputs": [
    {
     "name": "stdout",
     "output_type": "stream",
     "text": [
      "A is superset of B or not?  False\n",
      "B is superset of A or not?  True\n"
     ]
    }
   ],
   "source": [
    "A = {4, 1, 3, 5}\n",
    "B = {6, 0, 4, 1, 5, 0, 3, 5}\n",
    "print(\"A is superset of B or not? \",A.issuperset(B))\n",
    "print(\"B is superset of A or not? \",B.issuperset(A))"
   ]
  },
  {
   "cell_type": "markdown",
   "metadata": {},
   "source": [
    "### Union Method()\n",
    "- Python set `Union()` Method returns a new set which contains all the items from the original set.\n",
    "- Union of two given sets is the set which contains all the elements of both the sets. The union of two given sets A and B is a set which consists of all the elements of A and all the elements of B such that no element is repeated.\n",
    "- There are two ways to take union of sets:\n",
    "    - Using `union()` method\n",
    "    - Using | Operator\n",
    "- Duplicate values are not considered in union."
   ]
  },
  {
   "cell_type": "code",
   "execution_count": 68,
   "metadata": {},
   "outputs": [
    {
     "name": "stdout",
     "output_type": "stream",
     "text": [
      "set1 U set2 :  {2, 4, 5, 6, 7, 8}\n",
      "set1 :  {2, 4, 5, 6}\n",
      "set2 {8, 4, 6, 7}\n"
     ]
    }
   ],
   "source": [
    "set1 = {2,4,5,6}\n",
    "set2 = {4,6,7,8}\n",
    "print(\"set1 U set2 : \",set1.union(set2))\n",
    "print(\"set1 : \",set1)\n",
    "print(\"set2\",set2)"
   ]
  },
  {
   "cell_type": "code",
   "execution_count": 69,
   "metadata": {},
   "outputs": [
    {
     "name": "stdout",
     "output_type": "stream",
     "text": [
      "set1 | set2 :  {2, 4, 5, 6, 7, 8}\n",
      "set1 : {2, 4, 5, 6}\n",
      "set2 :  {8, 4, 6, 7}\n"
     ]
    }
   ],
   "source": [
    "set1 = {2,4,5,6}\n",
    "set2 = {4,6,7,8}\n",
    "print(\"set1 | set2 : \",set1 | set2)\n",
    "print(\"set1 :\",set1)\n",
    "print(\"set2 : \",set2)"
   ]
  },
  {
   "attachments": {
    "Screenshot%20%28887%29.png": {
     "image/png": "[encoded data removed]"
    }
   },
   "cell_type": "markdown",
   "metadata": {},
   "source": [
    "![Screenshot%20%28887%29.png](attachment:Screenshot%20%28887%29.png)"
   ]
  },
  {
   "cell_type": "markdown",
   "metadata": {},
   "source": [
    "### Set Comprehension:\n",
    "- Set comprehension is possible."
   ]
  },
  {
   "cell_type": "code",
   "execution_count": 9,
   "metadata": {},
   "outputs": [
    {
     "name": "stdout",
     "output_type": "stream",
     "text": [
      "{0, 1, 4, 9, 16}\n"
     ]
    }
   ],
   "source": [
    "s = {x*x for x in range(5)}\n",
    "print(s)"
   ]
  },
  {
   "cell_type": "code",
   "execution_count": 10,
   "metadata": {},
   "outputs": [
    {
     "name": "stdout",
     "output_type": "stream",
     "text": [
      "{16, 256, 64, 4}\n"
     ]
    }
   ],
   "source": [
    "s = {2**x for x in range(2,10,2)}\n",
    "print(s)"
   ]
  },
  {
   "cell_type": "code",
   "execution_count": null,
   "metadata": {},
   "outputs": [],
   "source": []
  }
 ],
 "metadata": {
  "kernelspec": {
   "display_name": "Python 3",
   "language": "python",
   "name": "python3"
  },
  "language_info": {
   "codemirror_mode": {
    "name": "ipython",
    "version": 3
   },
   "file_extension": ".py",
   "mimetype": "text/x-python",
   "name": "python",
   "nbconvert_exporter": "python",
   "pygments_lexer": "ipython3",
   "version": "3.7.16"
  }
 },
 "nbformat": 4,
 "nbformat_minor": 4
}
