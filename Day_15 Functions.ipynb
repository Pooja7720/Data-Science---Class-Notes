{
 "cells": [
  {
   "cell_type": "markdown",
   "metadata": {},
   "source": [
    "# Python Functions\n",
    "- A function is a collection of related assertions that performs a mathematical, analytical, or evaluative operation.\n",
    "- Sometimes we have to design our own function to perform some operation. \n",
    "- Python functions are simple to define and essential to intermediate-level programming.\n",
    "- The exact criteria hold to function names as they do to variable names.\n",
    "- The goal is to group up certain often performed actions and define a function. Rather than rewriting the same code block over and over for varied input variables, we may call the function and repurpose the code included within it with different variables.\n",
    "- If a group of statements is repeatedly required then it is not recommended to write these statements everytime seperately.\n",
    "- We have to define these statements as a single unit and we can call that unit any number of times based on our requirement without rewritting. This unit is nothing but function.\n",
    "- Python supports two types of functions, user-defined and built in functions.\n",
    "\n",
    "- **Note: In other languages functions are known as methods, procedures, subroutines, etc.**\n",
    "\n",
    "### 1. Built in Functions:\n",
    "- The functions which are coming along with Python software automatically, are called built in functions or pre defined functions.\n",
    "- Eg: `id()`, `type()`, `input()`, `eval()`\n",
    "\n",
    "### 2. User Defined Functions:\n",
    "- The functions which are developed by programmer explicitly according to business requirements, are called user defined functions.\n",
    "\n",
    "## Benefits of using Function:\n",
    "1. Larger code can be break up into pieces (Code modularity)\n",
    "2. Works on the philosophy of write once use forever! (Code Reusability)\n",
    "3. Code is organized and coherent (Code Readability)\n",
    "\n",
    "## Advantages of Functions in Python\n",
    "- By including functions, we can prevent repeating the same code of block repeatedly in a program.\n",
    "- Python functions, once defined, can be called many times and from anywhere in a program.\n",
    "- If our Python program is large, it can be separated into numerous functions which is simple to track.\n",
    "- The key accomplishment of Python functions is we can return as many outputs as we want with different arguments.\n",
    "\n",
    "## Syntax of Python Function"
   ]
  },
  {
   "cell_type": "code",
   "execution_count": 1,
   "metadata": {},
   "outputs": [],
   "source": [
    "# Here def -> is for defining a function\n",
    "def name_of_function( parameters ):\n",
    "    \"\"\"This is a docstring\"\"\"\n",
    "    #code block"
   ]
  },
  {
   "cell_type": "markdown",
   "metadata": {},
   "source": [
    "- The beginning of a function header is indicated by a keyword called def\n",
    "- name_of_function is the function's name that we can use to separate it from others. We will use this name to call the function later in the program. The same criteria apply to naming functions as to naming variables in Python.\n",
    "- We pass arguments to the defined function using parameters. They are optional, though.\n",
    "- The function header is terminated by a colon(:).\n",
    "- We can use a documentation string called docstring in the short form to explain the purpose of the function. Kernel is not going to execute the doc string \n",
    "- The body of the function is made up of several valid python statements. The indentation depth of the whole code block must be the same (Usually the 4 spaces).\n",
    "- We can use a return expression to return a value from a defined function.\n",
    "- def is a keyword we are using to define a function.\n",
    "\n",
    "**Note: While creating functions, we can use 2 keywords**\n",
    "1. `def` (Manditory)\n",
    "2. `return` (Optional)"
   ]
  },
  {
   "cell_type": "code",
   "execution_count": 2,
   "metadata": {
    "scrolled": true
   },
   "outputs": [
    {
     "name": "stdout",
     "output_type": "stream",
     "text": [
      "Enter the number to calculate it's square : 3\n",
      "The square of 3 is :  9\n"
     ]
    }
   ],
   "source": [
    "def squares(num):\n",
    "    \"\"\"This function computes the square of the number.\"\"\"\n",
    "    return num**2\n",
    "\n",
    "val = int(input(\"Enter the number to calculate it's square : \"))\n",
    "ans = squares(val) # Passing arguments to function by calling it\n",
    "print(\"The square of\",val,\"is : \",ans)"
   ]
  },
  {
   "cell_type": "code",
   "execution_count": 3,
   "metadata": {},
   "outputs": [
    {
     "name": "stdout",
     "output_type": "stream",
     "text": [
      "Enter the number to calculate it's square : 3\n",
      "The square of 3 is :  9\n"
     ]
    }
   ],
   "source": [
    "def squares(num):\n",
    "    \"\"\"This function computes the square of the number.\"\"\"\n",
    "    return num**2\n",
    "\n",
    "val = int(input(\"Enter the number to calculate it's square : \"))\n",
    "#ans = squares(val) # Passing arguments to function by calling it\n",
    "print(\"The square of\",val,\"is : \",squares(val))\n",
    "# We are calling function directly in print statement\n",
    "# You can also pass direct function without storing it in variable"
   ]
  },
  {
   "cell_type": "code",
   "execution_count": 4,
   "metadata": {},
   "outputs": [
    {
     "name": "stdout",
     "output_type": "stream",
     "text": [
      "Enter the number to calculate it's square : 3\n"
     ]
    }
   ],
   "source": [
    "# If you haven't called the function then it will never gonna execute\n",
    "def squares(num):\n",
    "    \"\"\"This function computes the square of the number.\"\"\"\n",
    "    return num**2\n",
    "\n",
    "val = int(input(\"Enter the number to calculate it's square : \"))\n",
    "#ans = squares(val) # Passing arguments to function by calling it\n",
    "#print(\"The square of\",val,\"is : \",ans)"
   ]
  },
  {
   "cell_type": "markdown",
   "metadata": {},
   "source": [
    "- It is not necessary to firstly create the function and then call the function, you can call a function before defining the function.\n",
    "- Once a function is defined, you can call it from anywhere in the program."
   ]
  },
  {
   "cell_type": "code",
   "execution_count": 5,
   "metadata": {},
   "outputs": [
    {
     "name": "stdout",
     "output_type": "stream",
     "text": [
      "The square of 3 is :  4489\n"
     ]
    }
   ],
   "source": [
    "# Here we first defined the function and then called the function.\n",
    "def squares(num):\n",
    "    \"\"\"This function computes the square of the number.\"\"\"\n",
    "    return num**2\n",
    "\n",
    "print(\"The square of\",val,\"is : \",squares(67))"
   ]
  },
  {
   "cell_type": "code",
   "execution_count": 6,
   "metadata": {},
   "outputs": [
    {
     "name": "stdout",
     "output_type": "stream",
     "text": [
      "The square of 3 is :  4489\n"
     ]
    }
   ],
   "source": [
    "# Here the function call is done before the function defination\n",
    "# Here we first called the function and then defined the function.\n",
    "print(\"The square of\",val,\"is : \",squares(67))\n",
    "def squares(num):\n",
    "    \"\"\"This function computes the square of the number.\"\"\"\n",
    "    return num**2"
   ]
  },
  {
   "cell_type": "code",
   "execution_count": 7,
   "metadata": {},
   "outputs": [
    {
     "name": "stdout",
     "output_type": "stream",
     "text": [
      "Enter the number to calculate it's square : 4\n",
      "The square of 4 is :  4\n"
     ]
    }
   ],
   "source": [
    "# We haven't done any function call in this example\n",
    "def squares(num):\n",
    "    \"\"\"This function computes the square of the number.\"\"\"\n",
    "    return num**2\n",
    "\n",
    "val = int(input(\"Enter the number to calculate it's square : \"))\n",
    "#ans = squares(val) # Passing arguments to function by calling it\n",
    "print(\"The square of\",val,\"is : \",val)"
   ]
  },
  {
   "cell_type": "markdown",
   "metadata": {},
   "source": [
    "## Calling a Function\n",
    "- A function is defined by using the def keyword and giving it a name, specifying the arguments that must be passed to the function, and structuring the code block.\n",
    "- If say we have defined a function, wrote a block of code in it, in order that function to gets executed we have to call the function. unless and until we don't call it, it won't be get executed.\n",
    "- After a function's fundamental frameword is complete, we can call it from anywhere in the program. The following is an example of how to use the a_function function."
   ]
  },
  {
   "cell_type": "code",
   "execution_count": 10,
   "metadata": {},
   "outputs": [
    {
     "name": "stdout",
     "output_type": "stream",
     "text": [
      "Length of the string Functions is :  5\n",
      "Length of the string Functions is :  4\n"
     ]
    }
   ],
   "source": [
    "# Defining a funcion\n",
    "# We can also use another function in return statement of one.\n",
    "def a_function(string): # This is user defined function\n",
    "    \"\"\"This returns the lenth of the string\"\"\"\n",
    "    return(len(string)) # Here we used in built function\n",
    "\n",
    "# Calling a function we defined\n",
    "print(\"Length of the string Functions is : \",a_function(\"Hello\"))\n",
    "print(\"Length of the string Functions is : \",a_function(\"Guys\"))"
   ]
  },
  {
   "cell_type": "markdown",
   "metadata": {},
   "source": [
    "- A function can be called at any point of the program.\n",
    "- We can call a function a number of times, there is no limit."
   ]
  },
  {
   "cell_type": "markdown",
   "metadata": {},
   "source": [
    "- If you forget parenthesis (), it will simply display the fact that say_hello is a function."
   ]
  },
  {
   "cell_type": "code",
   "execution_count": 2,
   "metadata": {
    "scrolled": true
   },
   "outputs": [
    {
     "data": {
      "text/plain": [
       "<function __main__.say_hello()>"
      ]
     },
     "execution_count": 2,
     "metadata": {},
     "output_type": "execute_result"
    }
   ],
   "source": [
    "def say_hello():\n",
    "    print(\"Hello\")\n",
    "\n",
    "say_hello"
   ]
  },
  {
   "cell_type": "markdown",
   "metadata": {},
   "source": [
    "- **Note:** __ main __ is the name of the environment where top-level code is run. \"Top-level code\" is the first user specified Python module that starts running. It's \"top-level\" because it imports all other modules that the program needs. Sometimes \"top-level code\" is called an entry point to the application."
   ]
  },
  {
   "cell_type": "markdown",
   "metadata": {},
   "source": [
    "**If we want to access document string of any function, then we have to press shift + tab to get it**\n",
    "\n",
    "### Parameters\n",
    "- Parameters are inputs to the function. If a function contains parameters, then at the time of calling, compulsory we should provide values otherwise, we will get error."
   ]
  },
  {
   "cell_type": "markdown",
   "metadata": {},
   "source": [
    "**Q. Write a function to take name of the student as input and print wish message by name**"
   ]
  },
  {
   "cell_type": "code",
   "execution_count": 3,
   "metadata": {
    "scrolled": true
   },
   "outputs": [
    {
     "name": "stdout",
     "output_type": "stream",
     "text": [
      "Enter your name: Joe\n",
      "Hello Joe!\n",
      "Have a good day!\n"
     ]
    }
   ],
   "source": [
    "def greet(name):\n",
    "    print(f\"Hello {name}!\\nHave a good day!\")\n",
    "\n",
    "name = input(\"Enter your name: \")\n",
    "greet(name)"
   ]
  },
  {
   "cell_type": "code",
   "execution_count": 4,
   "metadata": {},
   "outputs": [
    {
     "ename": "TypeError",
     "evalue": "greet() missing 1 required positional argument: 'name'",
     "output_type": "error",
     "traceback": [
      "\u001b[1;31m---------------------------------------------------------------------------\u001b[0m",
      "\u001b[1;31mTypeError\u001b[0m                                 Traceback (most recent call last)",
      "\u001b[1;32m<ipython-input-4-db845682bfe7>\u001b[0m in \u001b[0;36m<module>\u001b[1;34m\u001b[0m\n\u001b[1;32m----> 1\u001b[1;33m \u001b[0mgreet\u001b[0m\u001b[1;33m(\u001b[0m\u001b[1;33m)\u001b[0m\u001b[1;33m\u001b[0m\u001b[1;33m\u001b[0m\u001b[0m\n\u001b[0m",
      "\u001b[1;31mTypeError\u001b[0m: greet() missing 1 required positional argument: 'name'"
     ]
    }
   ],
   "source": [
    "# You have to pass parameters to this function\n",
    "greet()"
   ]
  },
  {
   "cell_type": "markdown",
   "metadata": {},
   "source": [
    "**Q. Write a function to check weather the given number is even or odd?**"
   ]
  },
  {
   "cell_type": "code",
   "execution_count": 6,
   "metadata": {},
   "outputs": [
    {
     "name": "stdout",
     "output_type": "stream",
     "text": [
      "Enter the number67\n",
      "Odd\n"
     ]
    }
   ],
   "source": [
    "def is_even(num):\n",
    "    \"\"\"\n",
    "    BELOW IS THE DOC STRING\n",
    "    This function tells if a given number is odd or even\n",
    "    Input - Any valid Integer\n",
    "    Output - Odd/Even\n",
    "    Created By - Pooja\n",
    "    \"\"\"\n",
    "    if num%2 == 0:\n",
    "        print(\"Even\")\n",
    "    else:\n",
    "        print(\"Odd\")\n",
    "\n",
    "number = int(input(\"Enter the number\"))\n",
    "is_even(number)"
   ]
  },
  {
   "cell_type": "markdown",
   "metadata": {},
   "source": [
    "**If we want to retrieve the document string of any function, then we can access it by using the following approach**"
   ]
  },
  {
   "cell_type": "code",
   "execution_count": 7,
   "metadata": {},
   "outputs": [
    {
     "name": "stdout",
     "output_type": "stream",
     "text": [
      "\n",
      "    BELOW IS THE DOC STRING\n",
      "    This function tells if a given number is odd or even\n",
      "    Input - Any valid Integer\n",
      "    Output - Odd/Even\n",
      "    Created By - Pooja\n",
      "    \n"
     ]
    }
   ],
   "source": [
    "print(is_even.__doc__)"
   ]
  },
  {
   "cell_type": "markdown",
   "metadata": {},
   "source": [
    "#### What is the difference between `return` and `print`?\n",
    "- The return keyword allows you to actually save the result of the output of a function as a variable.\n",
    "- The print() function simply displays the output to you, but doesn't save it for future use."
   ]
  },
  {
   "cell_type": "code",
   "execution_count": 8,
   "metadata": {},
   "outputs": [],
   "source": [
    "def print_sum(a,b):\n",
    "    print(a+b)"
   ]
  },
  {
   "cell_type": "code",
   "execution_count": 9,
   "metadata": {},
   "outputs": [],
   "source": [
    "def return_sum(a,b):\n",
    "    return(a+b)"
   ]
  },
  {
   "cell_type": "code",
   "execution_count": 10,
   "metadata": {},
   "outputs": [
    {
     "name": "stdout",
     "output_type": "stream",
     "text": [
      "15\n"
     ]
    }
   ],
   "source": [
    "print_sum(10,5) # Printing only"
   ]
  },
  {
   "cell_type": "code",
   "execution_count": 11,
   "metadata": {
    "scrolled": true
   },
   "outputs": [
    {
     "data": {
      "text/plain": [
       "15"
      ]
     },
     "execution_count": 11,
     "metadata": {},
     "output_type": "execute_result"
    }
   ],
   "source": [
    "return_sum(10,5) # Outputs the value"
   ]
  },
  {
   "cell_type": "markdown",
   "metadata": {},
   "source": [
    "**What happens if we actually want to save this result for later use?**\n",
    "- **Note:** When a function does not return anything, actually `it returns None` as output of function."
   ]
  },
  {
   "cell_type": "code",
   "execution_count": 12,
   "metadata": {},
   "outputs": [
    {
     "name": "stdout",
     "output_type": "stream",
     "text": [
      "15\n",
      "None\n"
     ]
    }
   ],
   "source": [
    "my_result = print_sum(10,5)\n",
    "print(my_result)"
   ]
  },
  {
   "cell_type": "code",
   "execution_count": 13,
   "metadata": {},
   "outputs": [
    {
     "name": "stdout",
     "output_type": "stream",
     "text": [
      "15\n"
     ]
    }
   ],
   "source": [
    "my_result = return_sum(10,5)\n",
    "print(my_result)"
   ]
  },
  {
   "cell_type": "code",
   "execution_count": null,
   "metadata": {},
   "outputs": [],
   "source": []
  },
  {
   "cell_type": "markdown",
   "metadata": {},
   "source": [
    "### Using list with functions"
   ]
  },
  {
   "cell_type": "code",
   "execution_count": 11,
   "metadata": {},
   "outputs": [
    {
     "name": "stdout",
     "output_type": "stream",
     "text": [
      "['A', 'B', 'C']\n",
      "['E', 'D']\n"
     ]
    }
   ],
   "source": [
    "def set_list(list):\n",
    "    list = [\"A\",\"B\",\"C\"]\n",
    "    return list\n",
    "\n",
    "def add(list):\n",
    "    list.append(\"D\")\n",
    "    return list\n",
    "\n",
    "my_list = [\"E\"]\n",
    "print(set_list(my_list))\n",
    "print(add(my_list))"
   ]
  },
  {
   "cell_type": "code",
   "execution_count": 25,
   "metadata": {},
   "outputs": [
    {
     "name": "stdout",
     "output_type": "stream",
     "text": [
      "['E', 'D']\n",
      "['A', 'B', 'C']\n"
     ]
    }
   ],
   "source": [
    "def set_list(list):\n",
    "    list = [\"A\",\"B\",\"C\"]\n",
    "    return list\n",
    "\n",
    "def add(list):\n",
    "    list.append(\"D\")\n",
    "    return list\n",
    "\n",
    "my_list = [\"E\"]\n",
    "print(add(my_list))\n",
    "print(set_list(my_list))"
   ]
  },
  {
   "cell_type": "code",
   "execution_count": 13,
   "metadata": {},
   "outputs": [
    {
     "name": "stdout",
     "output_type": "stream",
     "text": [
      "[]\n",
      "['D']\n"
     ]
    }
   ],
   "source": [
    "def set_list(list):\n",
    "    list.remove(\"E\")\n",
    "    return list\n",
    "\n",
    "def add(list):\n",
    "    list.append(\"D\")\n",
    "    return list\n",
    "\n",
    "my_list = [\"E\"]\n",
    "print(set_list(my_list))\n",
    "print(add(my_list))"
   ]
  },
  {
   "cell_type": "code",
   "execution_count": 24,
   "metadata": {},
   "outputs": [
    {
     "name": "stdout",
     "output_type": "stream",
     "text": [
      "['E', 'D']\n",
      "['D']\n"
     ]
    }
   ],
   "source": [
    "def set_list(list):\n",
    "    list.remove(\"E\")\n",
    "    return list\n",
    "\n",
    "def add(list):\n",
    "    list.append(\"D\")\n",
    "    return list\n",
    "\n",
    "my_list = [\"E\"]\n",
    "# add is called first\n",
    "print(add(my_list))\n",
    "print(set_list(my_list))"
   ]
  },
  {
   "cell_type": "code",
   "execution_count": 14,
   "metadata": {},
   "outputs": [
    {
     "ename": "ValueError",
     "evalue": "list.remove(x): x not in list",
     "output_type": "error",
     "traceback": [
      "\u001b[1;31m---------------------------------------------------------------------------\u001b[0m",
      "\u001b[1;31mValueError\u001b[0m                                Traceback (most recent call last)",
      "\u001b[1;32m<ipython-input-14-bc36c5086132>\u001b[0m in \u001b[0;36m<module>\u001b[1;34m\u001b[0m\n\u001b[0;32m     10\u001b[0m \u001b[0mmy_list\u001b[0m \u001b[1;33m=\u001b[0m \u001b[1;33m[\u001b[0m\u001b[1;34m\"E\"\u001b[0m\u001b[1;33m]\u001b[0m\u001b[1;33m\u001b[0m\u001b[1;33m\u001b[0m\u001b[0m\n\u001b[0;32m     11\u001b[0m \u001b[1;33m\u001b[0m\u001b[0m\n\u001b[1;32m---> 12\u001b[1;33m \u001b[0mprint\u001b[0m\u001b[1;33m(\u001b[0m\u001b[0mset_list\u001b[0m\u001b[1;33m(\u001b[0m\u001b[0mmy_list\u001b[0m\u001b[1;33m)\u001b[0m\u001b[1;33m)\u001b[0m\u001b[1;33m\u001b[0m\u001b[1;33m\u001b[0m\u001b[0m\n\u001b[0m\u001b[0;32m     13\u001b[0m \u001b[0mprint\u001b[0m\u001b[1;33m(\u001b[0m\u001b[0madd\u001b[0m\u001b[1;33m(\u001b[0m\u001b[0mmy_list\u001b[0m\u001b[1;33m)\u001b[0m\u001b[1;33m)\u001b[0m\u001b[1;33m\u001b[0m\u001b[1;33m\u001b[0m\u001b[0m\n",
      "\u001b[1;32m<ipython-input-14-bc36c5086132>\u001b[0m in \u001b[0;36mset_list\u001b[1;34m(list)\u001b[0m\n\u001b[0;32m      1\u001b[0m \u001b[1;31m# Removing an item which is not present in a list\u001b[0m\u001b[1;33m\u001b[0m\u001b[1;33m\u001b[0m\u001b[1;33m\u001b[0m\u001b[0m\n\u001b[0;32m      2\u001b[0m \u001b[1;32mdef\u001b[0m \u001b[0mset_list\u001b[0m\u001b[1;33m(\u001b[0m\u001b[0mlist\u001b[0m\u001b[1;33m)\u001b[0m\u001b[1;33m:\u001b[0m\u001b[1;33m\u001b[0m\u001b[1;33m\u001b[0m\u001b[0m\n\u001b[1;32m----> 3\u001b[1;33m     \u001b[0mlist\u001b[0m\u001b[1;33m.\u001b[0m\u001b[0mremove\u001b[0m\u001b[1;33m(\u001b[0m\u001b[1;34m\"A\"\u001b[0m\u001b[1;33m)\u001b[0m\u001b[1;33m\u001b[0m\u001b[1;33m\u001b[0m\u001b[0m\n\u001b[0m\u001b[0;32m      4\u001b[0m     \u001b[1;32mreturn\u001b[0m \u001b[0mlist\u001b[0m\u001b[1;33m\u001b[0m\u001b[1;33m\u001b[0m\u001b[0m\n\u001b[0;32m      5\u001b[0m \u001b[1;33m\u001b[0m\u001b[0m\n",
      "\u001b[1;31mValueError\u001b[0m: list.remove(x): x not in list"
     ]
    }
   ],
   "source": [
    "# Removing an item which is not present in a list\n",
    "def set_list(list):\n",
    "    list.remove(\"A\")\n",
    "    return list\n",
    "\n",
    "def add(list):\n",
    "    list.append(\"D\")\n",
    "    return list\n",
    "my_list = [\"E\"]\n",
    "print(set_list(my_list))\n",
    "print(add(my_list))"
   ]
  },
  {
   "cell_type": "markdown",
   "metadata": {},
   "source": [
    "### Program to square every number of a list"
   ]
  },
  {
   "cell_type": "code",
   "execution_count": 21,
   "metadata": {},
   "outputs": [
    {
     "name": "stdout",
     "output_type": "stream",
     "text": [
      "Thr list is :  [1, 2, 3, 4, 5]\n",
      "The square of items in list is :  [1, 4, 9, 16, 25]\n"
     ]
    }
   ],
   "source": [
    "# Defining the function\n",
    "def square(my_list):\n",
    "    \"\"\"Finding square of items in the list\"\"\"\n",
    "    squares=[]\n",
    "    for i in my_list:\n",
    "        squares.append(i**2)\n",
    "    return squares\n",
    "\n",
    "list_ = [1,2,3,4,5]\n",
    "print(\"Thr list is : \",list_)\n",
    "# Calling the function\n",
    "print(\"The square of items in list is : \",square(list_))"
   ]
  },
  {
   "cell_type": "code",
   "execution_count": 23,
   "metadata": {},
   "outputs": [
    {
     "name": "stdout",
     "output_type": "stream",
     "text": [
      "The square of items in list is :  [1, 4, 9, 16, 25]\n",
      "The square of items in list is :  [2025, 2704, 169]\n",
      "The square of items in list is :  [36, 49, 64]\n"
     ]
    }
   ],
   "source": [
    "# Defining the function\n",
    "def square(my_list):\n",
    "    \"\"\"Finding square of items in the list\"\"\"\n",
    "    squares=[]\n",
    "    for i in my_list:\n",
    "        squares.append(i**2)\n",
    "    return squares\n",
    "\n",
    "list1 = [1,2,3,4,5]\n",
    "list2 = [45,52,13]\n",
    "list3 = [6,7,8]\n",
    "\n",
    "# Calling the function\n",
    "print(\"The square of items in list is : \",square(list1))\n",
    "print(\"The square of items in list is : \",square(list2))\n",
    "print(\"The square of items in list is : \",square(list3))"
   ]
  },
  {
   "cell_type": "markdown",
   "metadata": {},
   "source": [
    "## Function Arguments\n",
    "- Default Arguments\n",
    "- Keyword Arguments\n",
    "- Required Arguments\n",
    "- Variable-length Arguments\n",
    "\n",
    "Externally we are passing values to the parameters, those values are called as arguments\n",
    "\n",
    "### Default Arguments :\n",
    "- A default argument is a kind of parameter that takes as input a default value if no value is supplied for the argument when the function is called.\n",
    "- There is no meaning of using default argument if you are passing exact number of arguments which matches with parameters. \n",
    "- If value is passed for the default argument then that default value will be overwritten.\n",
    "- We have to specify default arguments from right to left, if we specify from left to right then it will give an error.\n",
    "- In case of parameters and default arguments, the first priority is given to parameters, and if no parameters then only for default arguments.\n",
    "- If parameters are passed and that variable have default value then that default value is overwritten.\n",
    "- Sometimes we can provide default values for our positional arguments.\n",
    "- If we are not passing any name then only default value will be considered."
   ]
  },
  {
   "cell_type": "code",
   "execution_count": 19,
   "metadata": {},
   "outputs": [
    {
     "name": "stdout",
     "output_type": "stream",
     "text": [
      "Welcome Guest\n",
      "Welcome Pooja\n"
     ]
    }
   ],
   "source": [
    "def greet(msg, name=\"Guest\"):\n",
    "    print(msg,name)\n",
    "\n",
    "greet(\"Welcome\")\n",
    "greet(\"Welcome\",\"Pooja\")"
   ]
  },
  {
   "cell_type": "code",
   "execution_count": 27,
   "metadata": {
    "scrolled": true
   },
   "outputs": [
    {
     "name": "stdout",
     "output_type": "stream",
     "text": [
      "PASSING ONLY ONE ARGUMENT\n",
      "Num1 is :  100\n",
      "Num2 is :  40\n",
      "\n",
      "PASSING TWO ARGUMENTS\n",
      "Num1 is :  90\n",
      "Num2 is :  20\n"
     ]
    }
   ],
   "source": [
    "# Python code to demonstrate the use of default arguments\n",
    "\n",
    "# Defining a function\n",
    "def function(num1,num2=40):\n",
    "    print(\"Num1 is : \",num1)\n",
    "    print(\"Num2 is : \",num2)\n",
    "\n",
    "# Calling a function and passing only one argument\n",
    "print(\"PASSING ONLY ONE ARGUMENT\")\n",
    "function(100) # Uses second argument as a default\n",
    "print(\"\")\n",
    "\n",
    "# Calling a function and passing two arguments\n",
    "print(\"PASSING TWO ARGUMENTS\")\n",
    "function(90,20) # 40 will be overwritten by 20"
   ]
  },
  {
   "cell_type": "markdown",
   "metadata": {},
   "source": [
    "**After default argument, we should not take non default arguments**"
   ]
  },
  {
   "cell_type": "code",
   "execution_count": 20,
   "metadata": {
    "scrolled": true
   },
   "outputs": [
    {
     "ename": "SyntaxError",
     "evalue": "non-default argument follows default argument (<ipython-input-20-9ed5e4bb0a46>, line 1)",
     "output_type": "error",
     "traceback": [
      "\u001b[1;36m  File \u001b[1;32m\"<ipython-input-20-9ed5e4bb0a46>\"\u001b[1;36m, line \u001b[1;32m1\u001b[0m\n\u001b[1;33m    def greet(name = \"Guest\",msg):\u001b[0m\n\u001b[1;37m             ^\u001b[0m\n\u001b[1;31mSyntaxError\u001b[0m\u001b[1;31m:\u001b[0m non-default argument follows default argument\n"
     ]
    }
   ],
   "source": [
    "def greet(name = \"Guest\",msg):\n",
    "    print(name,msg)\n",
    "    \n",
    "greet(\"Welcome\")\n",
    "greet(\"Welcome\",\"Pooja\")"
   ]
  },
  {
   "cell_type": "code",
   "execution_count": 21,
   "metadata": {},
   "outputs": [
    {
     "name": "stdout",
     "output_type": "stream",
     "text": [
      "Welcome Welcome\n",
      "Welcome Pooja\n"
     ]
    }
   ],
   "source": [
    "def greet(name = \"Guest\",msg=\"Welcome\"):\n",
    "    print(name,msg)\n",
    "    \n",
    "greet(\"Welcome\")\n",
    "greet(\"Welcome\",\"Pooja\")"
   ]
  },
  {
   "cell_type": "markdown",
   "metadata": {},
   "source": [
    "### Both the arguments are default\n",
    "- If both the argument are default and if you are passing one or two arguments, then it will take passed arguments and if no arguments are passed then it will take default values.\n",
    "- If no argument is passed to the function and all the variables have default values then it will take all default values."
   ]
  },
  {
   "cell_type": "code",
   "execution_count": 1,
   "metadata": {},
   "outputs": [
    {
     "name": "stdout",
     "output_type": "stream",
     "text": [
      "PASSING NO ARGUMENT\n",
      "Num1 is :  15\n",
      "Num2 is :  40\n",
      "\n",
      "PASSING ONLY ONE ARGUMENT\n",
      "Num1 is :  100\n",
      "Num2 is :  40\n",
      "\n",
      "PASSING TWO ARGUMENTS\n",
      "Num1 is :  90\n",
      "Num2 is :  20\n"
     ]
    }
   ],
   "source": [
    "# Python code to demonstrate the use of default arguments\n",
    "# Defining a function\n",
    "def function(num1=15,num2=40):\n",
    "    print(\"Num1 is : \",num1)\n",
    "    print(\"Num2 is : \",num2)\n",
    "\n",
    "# Calling a function and passing no value to it\n",
    "print(\"PASSING NO ARGUMENT\")\n",
    "function() # It will take both default values\n",
    "print(\"\")\n",
    "    \n",
    "# Calling a function and passing only one argument\n",
    "print(\"PASSING ONLY ONE ARGUMENT\")\n",
    "function(100) # 15 will be overwritten by 100\n",
    "print(\"\")\n",
    "\n",
    "# Calling a function and passing two arguments\n",
    "print(\"PASSING TWO ARGUMENTS\")\n",
    "function(90,20) # 40 will be overwritten by 20"
   ]
  },
  {
   "cell_type": "code",
   "execution_count": 28,
   "metadata": {},
   "outputs": [
    {
     "ename": "SyntaxError",
     "evalue": "non-default argument follows default argument (<ipython-input-28-69e4a72d24dc>, line 4)",
     "output_type": "error",
     "traceback": [
      "\u001b[1;36m  File \u001b[1;32m\"<ipython-input-28-69e4a72d24dc>\"\u001b[1;36m, line \u001b[1;32m4\u001b[0m\n\u001b[1;33m    def function(num1=40,num2):\u001b[0m\n\u001b[1;37m                ^\u001b[0m\n\u001b[1;31mSyntaxError\u001b[0m\u001b[1;31m:\u001b[0m non-default argument follows default argument\n"
     ]
    }
   ],
   "source": [
    "# Python code to demonstrate the use of default arguments\n",
    "\n",
    "# Defining a function\n",
    "def function(num1=40,num2): # must be from right to left\n",
    "    print(\"Num1 is : \",num1)\n",
    "    print(\"Num2 is : \",num2)\n",
    "\n",
    "# Calling a function and passing only one argument\n",
    "print(\"PASSING ONLY ONE ARGUMENT\")\n",
    "function(100) # It will give an error\n",
    "print(\"\")\n",
    "\n",
    "# Calling a function and passing two arguments\n",
    "print(\"PASSING TWO ARGUMENTS\")\n",
    "function(90,20) "
   ]
  },
  {
   "cell_type": "markdown",
   "metadata": {},
   "source": [
    "#### If you have 2 parameters, arguments should be 2 only"
   ]
  },
  {
   "cell_type": "code",
   "execution_count": 29,
   "metadata": {
    "scrolled": true
   },
   "outputs": [
    {
     "name": "stdout",
     "output_type": "stream",
     "text": [
      "PASSING ONLY ONE ARGUMENT\n",
      "Num1 is :  100\n",
      "Num2 is :  40\n",
      "\n",
      "PASSING TWO ARGUMENTS\n"
     ]
    },
    {
     "ename": "TypeError",
     "evalue": "function() takes from 1 to 2 positional arguments but 3 were given",
     "output_type": "error",
     "traceback": [
      "\u001b[1;31m---------------------------------------------------------------------------\u001b[0m",
      "\u001b[1;31mTypeError\u001b[0m                                 Traceback (most recent call last)",
      "\u001b[1;32m<ipython-input-29-c3f4a2475a0a>\u001b[0m in \u001b[0;36m<module>\u001b[1;34m\u001b[0m\n\u001b[0;32m     13\u001b[0m \u001b[1;31m# Calling a function and passing two arguments\u001b[0m\u001b[1;33m\u001b[0m\u001b[1;33m\u001b[0m\u001b[1;33m\u001b[0m\u001b[0m\n\u001b[0;32m     14\u001b[0m \u001b[0mprint\u001b[0m\u001b[1;33m(\u001b[0m\u001b[1;34m\"PASSING TWO ARGUMENTS\"\u001b[0m\u001b[1;33m)\u001b[0m\u001b[1;33m\u001b[0m\u001b[1;33m\u001b[0m\u001b[0m\n\u001b[1;32m---> 15\u001b[1;33m \u001b[0mfunction\u001b[0m\u001b[1;33m(\u001b[0m\u001b[1;36m90\u001b[0m\u001b[1;33m,\u001b[0m\u001b[1;36m20\u001b[0m\u001b[1;33m,\u001b[0m\u001b[1;36m50\u001b[0m\u001b[1;33m)\u001b[0m \u001b[1;31m# 40 will be overwritten by 20\u001b[0m\u001b[1;33m\u001b[0m\u001b[1;33m\u001b[0m\u001b[0m\n\u001b[0m",
      "\u001b[1;31mTypeError\u001b[0m: function() takes from 1 to 2 positional arguments but 3 were given"
     ]
    }
   ],
   "source": [
    "# Python code to demonstrate the use of default arguments\n",
    "\n",
    "# Defining a function\n",
    "def function(num1,num2=40):\n",
    "    print(\"Num1 is : \",num1)\n",
    "    print(\"Num2 is : \",num2)\n",
    "\n",
    "# Calling a function and passing only one argument\n",
    "print(\"PASSING ONLY ONE ARGUMENT\")\n",
    "function(100) # Uses second argument as a default\n",
    "print(\"\")\n",
    "\n",
    "# Calling a function and passing two arguments\n",
    "print(\"PASSING TWO ARGUMENTS\")\n",
    "function(90,20,50) # Here it will give an error"
   ]
  },
  {
   "cell_type": "markdown",
   "metadata": {},
   "source": [
    "#### If we are not using default argument and haven't passed parameters"
   ]
  },
  {
   "cell_type": "code",
   "execution_count": 30,
   "metadata": {},
   "outputs": [
    {
     "name": "stdout",
     "output_type": "stream",
     "text": [
      "PASSING ONLY ONE ARGUMENT\n"
     ]
    },
    {
     "ename": "TypeError",
     "evalue": "function() missing 1 required positional argument: 'num2'",
     "output_type": "error",
     "traceback": [
      "\u001b[1;31m---------------------------------------------------------------------------\u001b[0m",
      "\u001b[1;31mTypeError\u001b[0m                                 Traceback (most recent call last)",
      "\u001b[1;32m<ipython-input-30-c663efccbd69>\u001b[0m in \u001b[0;36m<module>\u001b[1;34m\u001b[0m\n\u001b[0;32m      8\u001b[0m \u001b[1;31m# Calling a function and passing only one argument\u001b[0m\u001b[1;33m\u001b[0m\u001b[1;33m\u001b[0m\u001b[1;33m\u001b[0m\u001b[0m\n\u001b[0;32m      9\u001b[0m \u001b[0mprint\u001b[0m\u001b[1;33m(\u001b[0m\u001b[1;34m\"PASSING ONLY ONE ARGUMENT\"\u001b[0m\u001b[1;33m)\u001b[0m\u001b[1;33m\u001b[0m\u001b[1;33m\u001b[0m\u001b[0m\n\u001b[1;32m---> 10\u001b[1;33m \u001b[0mfunction\u001b[0m\u001b[1;33m(\u001b[0m\u001b[1;36m100\u001b[0m\u001b[1;33m)\u001b[0m \u001b[1;31m# Here it will give an error\u001b[0m\u001b[1;33m\u001b[0m\u001b[1;33m\u001b[0m\u001b[0m\n\u001b[0m\u001b[0;32m     11\u001b[0m \u001b[0mprint\u001b[0m\u001b[1;33m(\u001b[0m\u001b[1;34m\"\"\u001b[0m\u001b[1;33m)\u001b[0m\u001b[1;33m\u001b[0m\u001b[1;33m\u001b[0m\u001b[0m\n\u001b[0;32m     12\u001b[0m \u001b[1;33m\u001b[0m\u001b[0m\n",
      "\u001b[1;31mTypeError\u001b[0m: function() missing 1 required positional argument: 'num2'"
     ]
    }
   ],
   "source": [
    "# Python code to demonstrate the use of default arguments\n",
    "\n",
    "# Defining a function\n",
    "def function(num1,num2):\n",
    "    print(\"Num1 is : \",num1)\n",
    "    print(\"Num2 is : \",num2)\n",
    "\n",
    "# Calling a function and passing only one argument\n",
    "print(\"PASSING ONLY ONE ARGUMENT\")\n",
    "function(100) # Here it will give an error\n",
    "print(\"\")\n",
    "\n",
    "# Calling a function and passing two arguments\n",
    "print(\"PASSING TWO ARGUMENTS\")\n",
    "function(90,20) # There will be no error as parameters == arguments"
   ]
  },
  {
   "cell_type": "markdown",
   "metadata": {},
   "source": [
    "### Keyword Arguments\n",
    "- The arguments in a function called are connected to keyword arguments. If we provide keyword arguments while calling a function, the user uses the parameter label to identify which parameters value it is.\n",
    "- Since the python interpreter will connect the keywords given to link the values with it's parameters, we can omit some arguments or arrange them out of order.\n",
    "- Parameter name and argument name must be same.\n",
    "- If you have so many parameters in your function then it is hard to remember order of all parameters, then you can simply pass arguments by their names rathre remembering their order.\n",
    "- Here the **order of arguments is not important** but **number of arguments must be matched**."
   ]
  },
  {
   "cell_type": "code",
   "execution_count": 2,
   "metadata": {
    "scrolled": true
   },
   "outputs": [
    {
     "name": "stdout",
     "output_type": "stream",
     "text": [
      "PASSING VALUES WITHOUT KEYWORD ARGUMENT\n",
      "Num1 is :  100\n",
      "Num2 is :  200\n",
      "\n",
      "PASSING VALUES WITH KEYWORD ARGUMENTS\n",
      "Num1 is :  20\n",
      "Num2 is :  90\n"
     ]
    }
   ],
   "source": [
    "# Python code to demonstrate the use of keyword arguments\n",
    "\n",
    "# Defining a function\n",
    "def function(num1,num2):\n",
    "    print(\"Num1 is : \",num1)\n",
    "    print(\"Num2 is : \",num2)\n",
    "\n",
    "# Calling a function without using keyword argument\n",
    "print(\"PASSING VALUES WITHOUT KEYWORD ARGUMENT\")\n",
    "function(100,200) \n",
    "print(\"\")\n",
    "\n",
    "# Calling a function by using keyword argument\n",
    "print(\"PASSING VALUES WITH KEYWORD ARGUMENTS\")\n",
    "function(num2 = 90,num1 = 20) # These names are keywords"
   ]
  },
  {
   "cell_type": "code",
   "execution_count": 14,
   "metadata": {
    "scrolled": false
   },
   "outputs": [
    {
     "data": {
      "text/plain": [
       "8"
      ]
     },
     "execution_count": 14,
     "metadata": {},
     "output_type": "execute_result"
    }
   ],
   "source": [
    "pow(2,3)"
   ]
  },
  {
   "cell_type": "code",
   "execution_count": 15,
   "metadata": {
    "scrolled": true
   },
   "outputs": [
    {
     "ename": "TypeError",
     "evalue": "pow() takes no keyword arguments",
     "output_type": "error",
     "traceback": [
      "\u001b[1;31m---------------------------------------------------------------------------\u001b[0m",
      "\u001b[1;31mTypeError\u001b[0m                                 Traceback (most recent call last)",
      "\u001b[1;32m<ipython-input-15-ffafea711eeb>\u001b[0m in \u001b[0;36m<module>\u001b[1;34m\u001b[0m\n\u001b[1;32m----> 1\u001b[1;33m \u001b[0mpow\u001b[0m\u001b[1;33m(\u001b[0m\u001b[0my\u001b[0m \u001b[1;33m=\u001b[0m \u001b[1;36m3\u001b[0m\u001b[1;33m,\u001b[0m \u001b[0mx\u001b[0m \u001b[1;33m=\u001b[0m \u001b[1;36m2\u001b[0m\u001b[1;33m)\u001b[0m\u001b[1;33m\u001b[0m\u001b[1;33m\u001b[0m\u001b[0m\n\u001b[0m",
      "\u001b[1;31mTypeError\u001b[0m: pow() takes no keyword arguments"
     ]
    }
   ],
   "source": [
    "pow(y=3, x=2)"
   ]
  },
  {
   "cell_type": "code",
   "execution_count": 16,
   "metadata": {
    "scrolled": true
   },
   "outputs": [
    {
     "data": {
      "text/plain": [
       "8"
      ]
     },
     "execution_count": 16,
     "metadata": {},
     "output_type": "execute_result"
    }
   ],
   "source": [
    "def power(x,y):\n",
    "    return x**y\n",
    "\n",
    "power(y=3,x=2)"
   ]
  },
  {
   "cell_type": "markdown",
   "metadata": {},
   "source": [
    "**Note:**\n",
    "- We can use both required and keyword arguments simultaneously. But first we have to take positional arguments and then keyword arguments, otherwise we will get syntax error."
   ]
  },
  {
   "cell_type": "code",
   "execution_count": 17,
   "metadata": {},
   "outputs": [
    {
     "data": {
      "text/plain": [
       "8"
      ]
     },
     "execution_count": 17,
     "metadata": {},
     "output_type": "execute_result"
    }
   ],
   "source": [
    "power(2,y=3)"
   ]
  },
  {
   "cell_type": "code",
   "execution_count": 18,
   "metadata": {},
   "outputs": [
    {
     "ename": "SyntaxError",
     "evalue": "positional argument follows keyword argument (<ipython-input-18-cfaa4f79e32d>, line 1)",
     "output_type": "error",
     "traceback": [
      "\u001b[1;36m  File \u001b[1;32m\"<ipython-input-18-cfaa4f79e32d>\"\u001b[1;36m, line \u001b[1;32m1\u001b[0m\n\u001b[1;33m    power(x = 2,3)\u001b[0m\n\u001b[1;37m               ^\u001b[0m\n\u001b[1;31mSyntaxError\u001b[0m\u001b[1;31m:\u001b[0m positional argument follows keyword argument\n"
     ]
    }
   ],
   "source": [
    "power(x = 2,3)"
   ]
  },
  {
   "cell_type": "markdown",
   "metadata": {},
   "source": [
    "### Required Arguments\n",
    "- These are also called as **positional arguments**.\n",
    "- These are the arguments passed to function in **correct positional order**.\n",
    "- The number of arguments and position of arguments must be changed. If we change the order then result may be changed.\n",
    "- The arguments given to a function while calling in a pre-defined positional sequence are required arguments. The count of required arguments in the method call must be equal to the count of arguments provided while defining the function.\n",
    "- We must send two arguments to the function funtion() in the correct order, or it will return a syntax error.\n",
    "- This tells that number of parameters must match to the total number of arguments.\n",
    "- Required arguments are **Number of parameters = Number of arguments**"
   ]
  },
  {
   "cell_type": "code",
   "execution_count": 3,
   "metadata": {},
   "outputs": [
    {
     "name": "stdout",
     "output_type": "stream",
     "text": [
      "Num1 is :  100\n",
      "Num2 is :  40\n"
     ]
    },
    {
     "ename": "TypeError",
     "evalue": "function() missing 1 required positional argument: 'num2'",
     "output_type": "error",
     "traceback": [
      "\u001b[1;31m---------------------------------------------------------------------------\u001b[0m",
      "\u001b[1;31mTypeError\u001b[0m                                 Traceback (most recent call last)",
      "\u001b[1;32m<ipython-input-3-fba00f7e0bf6>\u001b[0m in \u001b[0;36m<module>\u001b[1;34m\u001b[0m\n\u001b[0;32m      8\u001b[0m \u001b[0mfunction\u001b[0m\u001b[1;33m(\u001b[0m\u001b[1;36m100\u001b[0m\u001b[1;33m,\u001b[0m\u001b[1;36m40\u001b[0m\u001b[1;33m)\u001b[0m \u001b[1;31m# This satisfies required arguments\u001b[0m\u001b[1;33m\u001b[0m\u001b[1;33m\u001b[0m\u001b[0m\n\u001b[0;32m      9\u001b[0m \u001b[1;33m\u001b[0m\u001b[0m\n\u001b[1;32m---> 10\u001b[1;33m \u001b[0mfunction\u001b[0m\u001b[1;33m(\u001b[0m\u001b[1;36m30\u001b[0m\u001b[1;33m)\u001b[0m \u001b[1;31m# This will give an error\u001b[0m\u001b[1;33m\u001b[0m\u001b[1;33m\u001b[0m\u001b[0m\n\u001b[0m",
      "\u001b[1;31mTypeError\u001b[0m: function() missing 1 required positional argument: 'num2'"
     ]
    }
   ],
   "source": [
    "# Python code to demonstrate the use of required arguments\n",
    "\n",
    "# Defining a function\n",
    "def function(num1,num2):\n",
    "    print(\"Num1 is : \",num1)\n",
    "    print(\"Num2 is : \",num2) \n",
    "\n",
    "function(100,40) # This satisfies required arguments\n",
    "\n",
    "function(30) # This will give an error"
   ]
  },
  {
   "cell_type": "code",
   "execution_count": 4,
   "metadata": {},
   "outputs": [
    {
     "name": "stdout",
     "output_type": "stream",
     "text": [
      "Num1 is :  100\n",
      "Num2 is :  40\n"
     ]
    },
    {
     "ename": "TypeError",
     "evalue": "function() takes 2 positional arguments but 3 were given",
     "output_type": "error",
     "traceback": [
      "\u001b[1;31m---------------------------------------------------------------------------\u001b[0m",
      "\u001b[1;31mTypeError\u001b[0m                                 Traceback (most recent call last)",
      "\u001b[1;32m<ipython-input-4-b50f05eaf1d4>\u001b[0m in \u001b[0;36m<module>\u001b[1;34m\u001b[0m\n\u001b[0;32m      8\u001b[0m \u001b[0mfunction\u001b[0m\u001b[1;33m(\u001b[0m\u001b[1;36m100\u001b[0m\u001b[1;33m,\u001b[0m\u001b[1;36m40\u001b[0m\u001b[1;33m)\u001b[0m \u001b[1;31m# This satisfies required arguments\u001b[0m\u001b[1;33m\u001b[0m\u001b[1;33m\u001b[0m\u001b[0m\n\u001b[0;32m      9\u001b[0m \u001b[1;33m\u001b[0m\u001b[0m\n\u001b[1;32m---> 10\u001b[1;33m \u001b[0mfunction\u001b[0m\u001b[1;33m(\u001b[0m\u001b[1;36m30\u001b[0m\u001b[1;33m,\u001b[0m\u001b[1;36m50\u001b[0m\u001b[1;33m,\u001b[0m\u001b[1;36m90\u001b[0m\u001b[1;33m)\u001b[0m \u001b[1;31m# This will give an error\u001b[0m\u001b[1;33m\u001b[0m\u001b[1;33m\u001b[0m\u001b[0m\n\u001b[0m",
      "\u001b[1;31mTypeError\u001b[0m: function() takes 2 positional arguments but 3 were given"
     ]
    }
   ],
   "source": [
    "# Python code to demonstrate the use of required arguments\n",
    "\n",
    "# Defining a function\n",
    "def function(num1,num2):\n",
    "    print(\"Num1 is : \",num1)\n",
    "    print(\"Num2 is : \",num2) \n",
    "\n",
    "function(100,40) # This satisfies required arguments\n",
    "\n",
    "function(30,50,90) # This will give an error"
   ]
  },
  {
   "cell_type": "markdown",
   "metadata": {},
   "source": [
    "### Variable-length Arguments\n",
    "- We can use special characters in Python functions to pass as many arguments as we want in a function. There are two types of characters that we can use for this purpose:\n",
    "    - *args : These are Non-Keyword Arguments\n",
    "    - ** kwargs : These are Keyword Arguments\n",
    "    - Here only * and ** are manditory, args and kwargs are not at all manditory.\n",
    "- What we have seen in keyword arguments is, the names are keywords, In the same way if we want to pass keywords to the argument in case of variable-length arguments, we use **\n",
    "- ** denotes the keyword argument in variable-length argument.\n",
    "- If I have to pass like num1=20, num2=40 means I want to pass in keyword like fasion then we can use these **\n",
    "- ** is used for storing value in a key-value pair.\n",
    "- '*' is used to store single value, so * is sufficient for that.\n",
    "- **By default the output of single starred variable is in the form of tuple**\n",
    "- **By default the output of double starred variable (* *) variable is in the form of dictionary**"
   ]
  },
  {
   "cell_type": "code",
   "execution_count": 5,
   "metadata": {
    "scrolled": true
   },
   "outputs": [
    {
     "name": "stdout",
     "output_type": "stream",
     "text": [
      "num1 is :  (10, 25, 78)\n",
      "num1 is :  (17, 78, 96, 48, 56, 47)\n",
      "num1 is :  (12,)\n"
     ]
    }
   ],
   "source": [
    "# Python code to demonstrate the use of variable-length arguments\n",
    "\n",
    "# Defining a function\n",
    "def function(*num1):\n",
    "    print(\"num1 is : \",num1)\n",
    "\n",
    "function(10,25,78)\n",
    "function(17,78,96,48,56,47)\n",
    "function(12) # In order to not make it a string, it will give ,"
   ]
  },
  {
   "cell_type": "code",
   "execution_count": 22,
   "metadata": {},
   "outputs": [
    {
     "name": "stdout",
     "output_type": "stream",
     "text": [
      "Sum: 0\n",
      "Sum: 10\n",
      "Sum: 30\n"
     ]
    }
   ],
   "source": [
    "# Calculating sum of numbers\n",
    "def sums(*num):\n",
    "    total = 0\n",
    "    for val in num:\n",
    "        total+=val\n",
    "    print(\"Sum:\",total)\n",
    "\n",
    "sums()\n",
    "sums(10)\n",
    "sums(10,20)"
   ]
  },
  {
   "cell_type": "markdown",
   "metadata": {},
   "source": [
    "#### If we are passing multiple arguments with keywords to single starred variable then it will give an error"
   ]
  },
  {
   "cell_type": "code",
   "execution_count": 37,
   "metadata": {
    "scrolled": false
   },
   "outputs": [
    {
     "ename": "TypeError",
     "evalue": "function() got an unexpected keyword argument 'num1'",
     "output_type": "error",
     "traceback": [
      "\u001b[1;31m---------------------------------------------------------------------------\u001b[0m",
      "\u001b[1;31mTypeError\u001b[0m                                 Traceback (most recent call last)",
      "\u001b[1;32m<ipython-input-37-d8e7fe033991>\u001b[0m in \u001b[0;36m<module>\u001b[1;34m\u001b[0m\n\u001b[0;32m      5\u001b[0m     \u001b[0mprint\u001b[0m\u001b[1;33m(\u001b[0m\u001b[1;34m\"Num1 is : \"\u001b[0m\u001b[1;33m,\u001b[0m\u001b[0mnum1\u001b[0m\u001b[1;33m)\u001b[0m\u001b[1;33m\u001b[0m\u001b[1;33m\u001b[0m\u001b[0m\n\u001b[0;32m      6\u001b[0m \u001b[1;33m\u001b[0m\u001b[0m\n\u001b[1;32m----> 7\u001b[1;33m \u001b[0mfunction\u001b[0m\u001b[1;33m(\u001b[0m\u001b[0mnum1\u001b[0m \u001b[1;33m=\u001b[0m \u001b[1;36m10\u001b[0m\u001b[1;33m,\u001b[0m \u001b[0mnum2\u001b[0m \u001b[1;33m=\u001b[0m \u001b[1;36m25\u001b[0m\u001b[1;33m,\u001b[0m \u001b[0mnum3\u001b[0m \u001b[1;33m=\u001b[0m \u001b[1;36m78\u001b[0m\u001b[1;33m)\u001b[0m\u001b[1;33m\u001b[0m\u001b[1;33m\u001b[0m\u001b[0m\n\u001b[0m",
      "\u001b[1;31mTypeError\u001b[0m: function() got an unexpected keyword argument 'num1'"
     ]
    }
   ],
   "source": [
    "# Python code to demonstrate the use of variable-length arguments\n",
    "\n",
    "# Defining a function\n",
    "def function(*num1):\n",
    "    print(\"Num1 is : \",num1)\n",
    "\n",
    "function(num1 = 10, num2 = 25, num3 = 78)"
   ]
  },
  {
   "cell_type": "markdown",
   "metadata": {},
   "source": [
    "#### So we have to give the ** for accessing the values in the form of keyword arguments"
   ]
  },
  {
   "cell_type": "code",
   "execution_count": 38,
   "metadata": {},
   "outputs": [
    {
     "name": "stdout",
     "output_type": "stream",
     "text": [
      "Num1 is :  {'num1': 10, 'num2': 25, 'num3': 78}\n"
     ]
    }
   ],
   "source": [
    "# Python code to demonstrate the use of variable-length arguments\n",
    "\n",
    "# Defining a function\n",
    "def function(**num1):\n",
    "    print(\"Num1 is : \",num1)\n",
    "\n",
    "function(num1 = 10, num2 = 25, num3 = 78)\n",
    "# Output is in the form of dictionary"
   ]
  },
  {
   "cell_type": "code",
   "execution_count": 6,
   "metadata": {
    "scrolled": true
   },
   "outputs": [
    {
     "name": "stdout",
     "output_type": "stream",
     "text": [
      "['Python', 'Functions', 'Tutorial', 'Data', 'Science', 12, 45]\n",
      "[['First', 'Python'], ['Second', 'Tutorial'], ['Third', 'Tutorial']]\n"
     ]
    }
   ],
   "source": [
    "# Python code to demonstrate the use of variable-length arguments\n",
    "\n",
    "# Defining a function\n",
    "def function(*args_list):\n",
    "    ans = list(args_list)\n",
    "    #for item in args_list:\n",
    "     #   ans.append(item)\n",
    "    return ans\n",
    "\n",
    "# Passing args arguments\n",
    "print(function(\"Python\",\"Functions\",\"Tutorial\",\"Data\",\"Science\",12,45))\n",
    "\n",
    "# Defining a function\n",
    "def function(**kwargs_list):\n",
    "    ans = []\n",
    "    for key,value in kwargs_list.items():\n",
    "        ans.append([key,value])\n",
    "        # Here we are converting dictionary to the list\n",
    "    return ans\n",
    "\n",
    "# Passing kwargs arguments\n",
    "print(function(First=\"Python\",Second=\"Tutorial\",Third=\"Tutorial\"))"
   ]
  },
  {
   "cell_type": "markdown",
   "metadata": {},
   "source": [
    "**We can mix variable length arguments with positional arguments.**\n",
    "- But positional arguments must be before variable-length arguments, otherwise it will throw an error."
   ]
  },
  {
   "cell_type": "code",
   "execution_count": 24,
   "metadata": {},
   "outputs": [
    {
     "name": "stdout",
     "output_type": "stream",
     "text": [
      "10\n",
      "()\n",
      "10\n",
      "(20, 30, 40)\n"
     ]
    }
   ],
   "source": [
    "# Here we have to pass minimum one value to the function\n",
    "# Otherwise it will throw an error\n",
    "def vals(n1,*s):\n",
    "    print(n1)\n",
    "    print(s)\n",
    "\n",
    "vals(10)\n",
    "vals(10,20,30,40)"
   ]
  },
  {
   "cell_type": "code",
   "execution_count": 25,
   "metadata": {
    "scrolled": true
   },
   "outputs": [
    {
     "ename": "TypeError",
     "evalue": "vals() missing 1 required positional argument: 'n1'",
     "output_type": "error",
     "traceback": [
      "\u001b[1;31m---------------------------------------------------------------------------\u001b[0m",
      "\u001b[1;31mTypeError\u001b[0m                                 Traceback (most recent call last)",
      "\u001b[1;32m<ipython-input-25-af061c5ec992>\u001b[0m in \u001b[0;36m<module>\u001b[1;34m\u001b[0m\n\u001b[1;32m----> 1\u001b[1;33m \u001b[0mvals\u001b[0m\u001b[1;33m(\u001b[0m\u001b[1;33m)\u001b[0m\u001b[1;33m\u001b[0m\u001b[1;33m\u001b[0m\u001b[0m\n\u001b[0m",
      "\u001b[1;31mTypeError\u001b[0m: vals() missing 1 required positional argument: 'n1'"
     ]
    }
   ],
   "source": [
    "vals()"
   ]
  },
  {
   "cell_type": "markdown",
   "metadata": {},
   "source": [
    "**What happens if we define variable-length arguments before positional arguments?**"
   ]
  },
  {
   "cell_type": "code",
   "execution_count": 26,
   "metadata": {},
   "outputs": [
    {
     "ename": "TypeError",
     "evalue": "vals() missing 1 required keyword-only argument: 'n1'",
     "output_type": "error",
     "traceback": [
      "\u001b[1;31m---------------------------------------------------------------------------\u001b[0m",
      "\u001b[1;31mTypeError\u001b[0m                                 Traceback (most recent call last)",
      "\u001b[1;32m<ipython-input-26-d1401f3defda>\u001b[0m in \u001b[0;36m<module>\u001b[1;34m\u001b[0m\n\u001b[0;32m      3\u001b[0m     \u001b[0mprint\u001b[0m\u001b[1;33m(\u001b[0m\u001b[0ms\u001b[0m\u001b[1;33m)\u001b[0m\u001b[1;33m\u001b[0m\u001b[1;33m\u001b[0m\u001b[0m\n\u001b[0;32m      4\u001b[0m \u001b[1;33m\u001b[0m\u001b[0m\n\u001b[1;32m----> 5\u001b[1;33m \u001b[0mvals\u001b[0m\u001b[1;33m(\u001b[0m\u001b[1;36m10\u001b[0m\u001b[1;33m)\u001b[0m\u001b[1;33m\u001b[0m\u001b[1;33m\u001b[0m\u001b[0m\n\u001b[0m\u001b[0;32m      6\u001b[0m \u001b[0mvals\u001b[0m\u001b[1;33m(\u001b[0m\u001b[1;36m10\u001b[0m\u001b[1;33m,\u001b[0m\u001b[1;36m20\u001b[0m\u001b[1;33m,\u001b[0m\u001b[1;36m30\u001b[0m\u001b[1;33m,\u001b[0m\u001b[1;36m40\u001b[0m\u001b[1;33m)\u001b[0m\u001b[1;33m\u001b[0m\u001b[1;33m\u001b[0m\u001b[0m\n",
      "\u001b[1;31mTypeError\u001b[0m: vals() missing 1 required keyword-only argument: 'n1'"
     ]
    }
   ],
   "source": [
    "def vals(*s,n1):\n",
    "    print(n1)\n",
    "    print(s)\n",
    "\n",
    "vals(10)\n",
    "vals(10,20,30,40)"
   ]
  },
  {
   "cell_type": "markdown",
   "metadata": {},
   "source": [
    "## Return Statement\n",
    "- We write a return statement in a function to leave a function and give the calculated value when a defined function is called.\n",
    "- **return** < expression to be returned as output >\n",
    "- An argument, a statement, or a value can be used in the return statement, which is given as output when a specific task or function is completed. If we do not write a return statement, then **None** object is returned by a defined function.\n",
    "- return statement is not manditory, we can have a function without return statement.\n",
    "- in c, c++, java we are using NULL keyword in order to signify that no value, so in python we do not have NULL, here we are using None\n",
    "- If we don't want to use return statement in a function, then we have to do all the operations and display in that function so no need to use return."
   ]
  },
  {
   "cell_type": "code",
   "execution_count": 8,
   "metadata": {},
   "outputs": [
    {
     "name": "stdout",
     "output_type": "stream",
     "text": [
      "With return statement\n",
      "900\n",
      "\n",
      "Without return statement\n",
      "None\n"
     ]
    }
   ],
   "source": [
    "# Python code to demonstrate the use of return statements\n",
    "\n",
    "# Defining a function with return statement\n",
    "def square(num):\n",
    "    return num**2\n",
    "\n",
    "# Calling a function and passing arguments\n",
    "print(\"With return statement\")\n",
    "print(square(30))\n",
    "print(\"\")\n",
    "\n",
    "# Defining a function without return statement\n",
    "def square(num):\n",
    "    num**2\n",
    "    \n",
    "# Calling a function and passing arguments\n",
    "print(\"Without return statement\")\n",
    "print(square(50)) # Will print None"
   ]
  },
  {
   "cell_type": "code",
   "execution_count": 9,
   "metadata": {},
   "outputs": [
    {
     "name": "stdout",
     "output_type": "stream",
     "text": [
      "The average of 3 and 4 is :  3.5\n"
     ]
    }
   ],
   "source": [
    "# Code without using return statement\n",
    "def avg_number(x,y):\n",
    "    print(\"The average of\",x,\"and\",y,\"is : \",(x+y)/2)\n",
    "\n",
    "avg_number(3,4)"
   ]
  },
  {
   "cell_type": "code",
   "execution_count": 10,
   "metadata": {},
   "outputs": [
    {
     "name": "stdout",
     "output_type": "stream",
     "text": [
      "The average of numbers :  3.5\n",
      "The average of numbers :  5.0\n"
     ]
    }
   ],
   "source": [
    "# Applying *args on the above function\n",
    "def avg_number(*args):\n",
    "    sum = 0\n",
    "    for i in args:\n",
    "        sum+=i\n",
    "    print(\"The average of numbers : \",sum/2)\n",
    "avg_number(3,4)\n",
    "avg_number(1,2,3,4)"
   ]
  },
  {
   "cell_type": "code",
   "execution_count": 17,
   "metadata": {},
   "outputs": [
    {
     "name": "stdout",
     "output_type": "stream",
     "text": [
      "Average of numbers :  3.5\n",
      "Average of numbers :  5.0\n"
     ]
    }
   ],
   "source": [
    "# Using python built in function and *args\n",
    "def avg_number(*args):\n",
    "    print(\"Average of numbers : \",sum(args)/2)\n",
    "avg_number(3,4)\n",
    "avg_number(1,2,3,4)"
   ]
  },
  {
   "cell_type": "code",
   "execution_count": 13,
   "metadata": {
    "scrolled": false
   },
   "outputs": [
    {
     "name": "stdout",
     "output_type": "stream",
     "text": [
      "The average of numbers :  3.5\n",
      "The average of numbers :  5.0\n"
     ]
    }
   ],
   "source": [
    "# Applying **kwargs on the above function\n",
    "def avg_number(**kwargs):\n",
    "    sum=0\n",
    "    for key,value in kwargs.items():\n",
    "        sum+=value\n",
    "    print(\"The average of numbers : \",sum/2)\n",
    "avg_number(a1=3, a2=4)\n",
    "avg_number(x1=1, x2=2, x3=3, x4=4)"
   ]
  },
  {
   "cell_type": "code",
   "execution_count": 21,
   "metadata": {},
   "outputs": [
    {
     "name": "stdout",
     "output_type": "stream",
     "text": [
      "The average of numbers :  3.5\n",
      "The average of numbers :  5.0\n"
     ]
    }
   ],
   "source": [
    "# Applying **kwargs on the above function\n",
    "def avg_number(**kwargs):\n",
    "    sum=0\n",
    "    for value in kwargs.values():\n",
    "        sum+=value\n",
    "    print(\"The average of numbers : \",sum/2)\n",
    "avg_number(a1=3, a2=4)\n",
    "avg_number(x1=1, x2=2, x3=3, x4=4)"
   ]
  },
  {
   "cell_type": "code",
   "execution_count": 15,
   "metadata": {},
   "outputs": [
    {
     "name": "stdout",
     "output_type": "stream",
     "text": [
      "The average of numbers :  3.5\n",
      "The average of numbers :  5.0\n"
     ]
    }
   ],
   "source": [
    "# using python built in function and **kwargs\n",
    "def avg_number(**kwargs):\n",
    "    \n",
    "    print(\"The average of numbers : \",sum(kwargs.values())/2)\n",
    "avg_number(a1=3, a2=4)\n",
    "avg_number(x1=1, x2=2, x3=3, x4=4)"
   ]
  },
  {
   "cell_type": "markdown",
   "metadata": {},
   "source": [
    "## Pass Statement \n",
    "- Function definitions can not be empty, but if you for some reason have a function definition with no content, put in the pass statement to avoid getting an error.\n",
    "- This keyword is used when we go for writing a program but we are not sure about the logic.\n",
    "- This is used when we want to define a function, but we don't know internally which code of blocks should be written. But we don't want that function to affect the whole code.\n",
    "- This statement is used when you don't want an error when no code is written in a body of function.\n",
    "- Pass is used for ignoring a perticular function.\n",
    "- Pass statement is something where we will be defining the function but we do not know what the function is going to interpret.\n",
    "- Suppose you have to give code to a client, and if it contains some arithematic operation but it's not clear but you want that code to run without any error then use pass statement.\n",
    "- by using pass keyword, it will bypass that function."
   ]
  },
  {
   "cell_type": "code",
   "execution_count": 20,
   "metadata": {},
   "outputs": [
    {
     "ename": "IndentationError",
     "evalue": "expected an indented block (<ipython-input-20-ef790503187c>, line 4)",
     "output_type": "error",
     "traceback": [
      "\u001b[1;36m  File \u001b[1;32m\"<ipython-input-20-ef790503187c>\"\u001b[1;36m, line \u001b[1;32m4\u001b[0m\n\u001b[1;33m    def square(num):\u001b[0m\n\u001b[1;37m      ^\u001b[0m\n\u001b[1;31mIndentationError\u001b[0m\u001b[1;31m:\u001b[0m expected an indented block\n"
     ]
    }
   ],
   "source": [
    "# Here it will give an error of indentation\n",
    "# CODE HAVING NO PASS STATEMENT\n",
    "def cube(num):\n",
    "    # We don't know the logic here\n",
    "    \n",
    "def square(num):\n",
    "    print(\"The square of number is : \",num**2)\n",
    "\n",
    "val = int(input(\"Enter the number : \"))\n",
    "square(val)"
   ]
  },
  {
   "cell_type": "code",
   "execution_count": 19,
   "metadata": {},
   "outputs": [
    {
     "name": "stdout",
     "output_type": "stream",
     "text": [
      "Enter the number : 3\n",
      "The square of number is :  9\n",
      "The square of number is :  None\n"
     ]
    }
   ],
   "source": [
    "# If we use pass, then it will simply pass that function\n",
    "# And will give no error\n",
    "def cube(num):\n",
    "    # We don't know the logic here\n",
    "    pass\n",
    "def square(num):\n",
    "    print(\"The square of number is : \",num**2)\n",
    "\n",
    "val = int(input(\"Enter the number : \"))\n",
    "print(\"The square of number is : \",square(val))\n"
   ]
  },
  {
   "cell_type": "markdown",
   "metadata": {},
   "source": [
    "## Recursive Functions\n",
    "- In Python it is possible for a function to call itself. These types of construct are termed as recursive functions.\n",
    "- Recurring or recursion is getting repeated over again and again. \n",
    "- If we are not putting any condition in a return then it will indicate that, stop the recursion.\n",
    "- Why we call it as recursive function, because it is calling itself again and again\n",
    "- Questions asked in recursion are, what will be the output after 4th recursion or 5th recursion.\n",
    "\n",
    "**The main advantages of recursive functions are:**\n",
    "1. We can reduce length of the code and improves readability.\n",
    "2. We can solve complex problems very easily."
   ]
  },
  {
   "cell_type": "markdown",
   "metadata": {},
   "source": [
    "**`Python Function` to find factorial of given number `with recursion`**"
   ]
  },
  {
   "cell_type": "code",
   "execution_count": 2,
   "metadata": {
    "scrolled": false
   },
   "outputs": [
    {
     "name": "stdout",
     "output_type": "stream",
     "text": [
      "Enter a number to find out factorial: 4\n",
      "The factorial of 4 is 24\n"
     ]
    }
   ],
   "source": [
    "# For factorial we do reverse multiplication\n",
    "def factorial(x):\n",
    "    \"\"\"This is a recursive function\n",
    "    to find the factorial of an integer\"\"\"\n",
    "    if x == 1:\n",
    "        return 1\n",
    "    else:\n",
    "        return(x*factorial(x-1))\n",
    "\n",
    "num = int(input(\"Enter a number to find out factorial: \"))\n",
    "ans = factorial(num)\n",
    "print(\"The factorial of\",num,\"is\",ans)"
   ]
  },
  {
   "cell_type": "markdown",
   "metadata": {},
   "source": [
    "**`Python Function` to find factorial of given number `without recursion`**"
   ]
  },
  {
   "cell_type": "code",
   "execution_count": 25,
   "metadata": {},
   "outputs": [
    {
     "name": "stdout",
     "output_type": "stream",
     "text": [
      "Enter the number: 4\n",
      "The factorial of 4 is 24\n"
     ]
    }
   ],
   "source": [
    "def fact(n):\n",
    "    if n ==0:\n",
    "        result = 1\n",
    "    result = 1\n",
    "    while n>=1:\n",
    "        result*=n\n",
    "        n = n-1\n",
    "    return result\n",
    "\n",
    "val = int(input(\"Enter the number: \"))\n",
    "res = fact(val)\n",
    "print(f\"The factorial of {val} is {res}\")"
   ]
  },
  {
   "cell_type": "markdown",
   "metadata": {},
   "source": [
    "factorial(3)\n",
    "\n",
    "3 * factorial(2)\n",
    "\n",
    "3 * 2 * factorial(1)\n",
    "\n",
    "3 * 2 * 1\n",
    "\n",
    "6"
   ]
  },
  {
   "cell_type": "code",
   "execution_count": 2,
   "metadata": {},
   "outputs": [
    {
     "data": {
      "text/plain": [
       "24"
      ]
     },
     "execution_count": 2,
     "metadata": {},
     "output_type": "execute_result"
    }
   ],
   "source": [
    "# Finding factorial direcly by using math library\n",
    "import math\n",
    "math.factorial(4)"
   ]
  },
  {
   "cell_type": "code",
   "execution_count": 3,
   "metadata": {},
   "outputs": [
    {
     "name": "stdout",
     "output_type": "stream",
     "text": [
      "Enter the number for countdown : 6\n",
      "6\n",
      "5\n",
      "4\n",
      "3\n",
      "2\n",
      "1\n",
      "0\n"
     ]
    }
   ],
   "source": [
    "def countdown(n):\n",
    "    print(n)\n",
    "    if n==0:\n",
    "        return\n",
    "    else:\n",
    "        countdown(n-1)\n",
    "val = int(input(\"Enter the number for countdown : \"))\n",
    "countdown(val)"
   ]
  },
  {
   "cell_type": "code",
   "execution_count": 5,
   "metadata": {},
   "outputs": [
    {
     "name": "stdout",
     "output_type": "stream",
     "text": [
      "Enter the number : 8\n",
      "8\n",
      "6\n",
      "4\n",
      "2\n",
      "0\n"
     ]
    }
   ],
   "source": [
    "# Printing values by step size of 2\n",
    "def countdown(n):\n",
    "    print(n)\n",
    "    if n <=1:\n",
    "        return\n",
    "    else:\n",
    "        countdown(n-2)\n",
    "val = int(input(\"Enter the number : \"))\n",
    "countdown(val)"
   ]
  },
  {
   "cell_type": "markdown",
   "metadata": {},
   "source": [
    "#### Write a program to create a recursive function to calculate the sum of numbers"
   ]
  },
  {
   "cell_type": "code",
   "execution_count": 7,
   "metadata": {},
   "outputs": [
    {
     "name": "stdout",
     "output_type": "stream",
     "text": [
      "Enter the number : 10\n",
      "The addition of 10 to 0 is : 55\n"
     ]
    }
   ],
   "source": [
    "def addition(num):\n",
    "    if num > 0:\n",
    "        return(num+addition(num-1))\n",
    "    else:\n",
    "        return 0\n",
    "\n",
    "val = int(input(\"Enter the number : \"))\n",
    "print(\"The addition of\",val,\"to 0 is :\",addition(val))"
   ]
  },
  {
   "cell_type": "markdown",
   "metadata": {},
   "source": [
    "### Q. Python program to print fibonacci series"
   ]
  },
  {
   "cell_type": "code",
   "execution_count": 10,
   "metadata": {},
   "outputs": [
    {
     "name": "stdout",
     "output_type": "stream",
     "text": [
      "Enter the number : 12\n",
      "0\n",
      "1\n",
      "1\n",
      "2\n",
      "3\n",
      "5\n",
      "8\n",
      "13\n",
      "21\n",
      "34\n",
      "55\n",
      "89\n"
     ]
    }
   ],
   "source": [
    "def fibonacci(num):\n",
    "    if num == 0:\n",
    "        return 0\n",
    "    elif num == 1:\n",
    "        return 1\n",
    "    else:\n",
    "        return fibonacci(num-1)+fibonacci(num-2)\n",
    "\n",
    "val = int(input(\"Enter the number : \"))\n",
    "for i in range(0,val):\n",
    "    print(fibonacci(i))"
   ]
  },
  {
   "cell_type": "markdown",
   "metadata": {},
   "source": [
    "#### Q.  Printing number of vowels in a string"
   ]
  },
  {
   "cell_type": "code",
   "execution_count": 13,
   "metadata": {},
   "outputs": [
    {
     "name": "stdout",
     "output_type": "stream",
     "text": [
      "Enter the string to count vowels : Are you there?\n",
      "Number of vowels in Are you there? are : 6\n"
     ]
    }
   ],
   "source": [
    "# Python program to count vowels in a string\n",
    "\n",
    "def count_vowels(string):\n",
    "    vowels = 0\n",
    "    for i in string:\n",
    "        if i in \"AEIOUaeiou\":\n",
    "            vowels+=1\n",
    "    return vowels\n",
    "    \n",
    "string = input(\"Enter the string to count vowels : \")\n",
    "print(\"Number of vowels in\",string,\"are :\",count_vowels(string))"
   ]
  },
  {
   "cell_type": "markdown",
   "metadata": {},
   "source": [
    "#### Q. Write a python program to check the letter/string entered by the user is/has vowels or consonents"
   ]
  },
  {
   "cell_type": "code",
   "execution_count": 15,
   "metadata": {},
   "outputs": [
    {
     "name": "stdout",
     "output_type": "stream",
     "text": [
      "Enter the string : ggg fff ss tt\n",
      "The string contains only consonents\n"
     ]
    }
   ],
   "source": [
    "def vowels_consonents(string):\n",
    "    flag = 0\n",
    "    for i in string:\n",
    "        if i in \"AEIOUaeiou\":\n",
    "            flag = 1\n",
    "            break\n",
    "    return flag\n",
    "string = input(\"Enter the string : \")\n",
    "\n",
    "if(vowels_consonents(string)):\n",
    "    print(\"The string contains vowels\")\n",
    "else:\n",
    "    print(\"The string contains only consonents\")"
   ]
  },
  {
   "cell_type": "markdown",
   "metadata": {},
   "source": [
    "### Case Switch\n",
    "- It is a part of string\n",
    "- It is changing lower string to the upper string or from upper string to lower string"
   ]
  },
  {
   "cell_type": "code",
   "execution_count": 16,
   "metadata": {},
   "outputs": [
    {
     "name": "stdout",
     "output_type": "stream",
     "text": [
      "Enter the string : HEllo EvERYOne\n",
      "In lower case :  hello everyone\n"
     ]
    }
   ],
   "source": [
    "# Python program to convert uppercase to lower case\n",
    "\n",
    "#Take Input\n",
    "string = input(\"Enter the string : \")\n",
    "\n",
    "# lower() function to convert uppercase to lowercase\n",
    "print(\"In lower case : \",string.lower())"
   ]
  },
  {
   "cell_type": "code",
   "execution_count": 17,
   "metadata": {},
   "outputs": [
    {
     "name": "stdout",
     "output_type": "stream",
     "text": [
      "Enter the string : Hello everyone\n",
      "In upper case :  HELLO EVERYONE\n"
     ]
    }
   ],
   "source": [
    "# Python program to convert lower case to upper case\n",
    "\n",
    "#Take Input\n",
    "string = input(\"Enter the string : \")\n",
    "\n",
    "# upper() function to convert uppercase to lowercase\n",
    "print(\"In upper case : \",string.upper())"
   ]
  },
  {
   "cell_type": "markdown",
   "metadata": {},
   "source": [
    "#### If you don't want the above error then there are two methods\n",
    "- Without parameters :\n",
    "    - Finding area of a square without passing parameters to the function is possible if the variable used in function is equal to the variable outside the function.\n",
    "    - First is if you don't want to pass parameters then the variable name in function must matches with the variable name where we took input\n",
    "- With parameters :\n",
    "    - Second is pass the parameter so that value will be overwritten"
   ]
  },
  {
   "cell_type": "code",
   "execution_count": 18,
   "metadata": {},
   "outputs": [
    {
     "name": "stdout",
     "output_type": "stream",
     "text": [
      "Enter the sides of the square : 6\n",
      "Area of square is :  36\n"
     ]
    }
   ],
   "source": [
    "# This is possible because variable names are same\n",
    "# Without parameter\n",
    "def area():\n",
    "    return s**2\n",
    "\n",
    "s = int(input(\"Enter the sides of the square : \"))\n",
    "print(\"Area of square is : \",area())"
   ]
  },
  {
   "cell_type": "code",
   "execution_count": 20,
   "metadata": {},
   "outputs": [
    {
     "name": "stdout",
     "output_type": "stream",
     "text": [
      "Enter the sides of the square : 12\n",
      "Area of square is :  144\n"
     ]
    }
   ],
   "source": [
    "# With parameter\n",
    "def area(a):\n",
    "    return a**2\n",
    "\n",
    "s = int(input(\"Enter the sides of the square : \"))\n",
    "print(\"Area of square is : \",area(s))\n"
   ]
  },
  {
   "cell_type": "code",
   "execution_count": 19,
   "metadata": {
    "scrolled": true
   },
   "outputs": [
    {
     "name": "stdout",
     "output_type": "stream",
     "text": [
      "Enter the sides of the square : 12\n"
     ]
    },
    {
     "ename": "NameError",
     "evalue": "name 'a' is not defined",
     "output_type": "error",
     "traceback": [
      "\u001b[1;31m---------------------------------------------------------------------------\u001b[0m",
      "\u001b[1;31mNameError\u001b[0m                                 Traceback (most recent call last)",
      "\u001b[1;32m<ipython-input-19-1f5545f719ab>\u001b[0m in \u001b[0;36m<module>\u001b[1;34m\u001b[0m\n\u001b[0;32m      4\u001b[0m \u001b[1;33m\u001b[0m\u001b[0m\n\u001b[0;32m      5\u001b[0m \u001b[0ms\u001b[0m \u001b[1;33m=\u001b[0m \u001b[0mint\u001b[0m\u001b[1;33m(\u001b[0m\u001b[0minput\u001b[0m\u001b[1;33m(\u001b[0m\u001b[1;34m\"Enter the sides of the square : \"\u001b[0m\u001b[1;33m)\u001b[0m\u001b[1;33m)\u001b[0m\u001b[1;33m\u001b[0m\u001b[1;33m\u001b[0m\u001b[0m\n\u001b[1;32m----> 6\u001b[1;33m \u001b[0mprint\u001b[0m\u001b[1;33m(\u001b[0m\u001b[1;34m\"Area of square is : \"\u001b[0m\u001b[1;33m,\u001b[0m\u001b[0marea\u001b[0m\u001b[1;33m(\u001b[0m\u001b[1;33m)\u001b[0m\u001b[1;33m)\u001b[0m\u001b[1;33m\u001b[0m\u001b[1;33m\u001b[0m\u001b[0m\n\u001b[0m",
      "\u001b[1;32m<ipython-input-19-1f5545f719ab>\u001b[0m in \u001b[0;36marea\u001b[1;34m()\u001b[0m\n\u001b[0;32m      1\u001b[0m \u001b[1;31m# Without parameter\u001b[0m\u001b[1;33m\u001b[0m\u001b[1;33m\u001b[0m\u001b[1;33m\u001b[0m\u001b[0m\n\u001b[0;32m      2\u001b[0m \u001b[1;32mdef\u001b[0m \u001b[0marea\u001b[0m\u001b[1;33m(\u001b[0m\u001b[1;33m)\u001b[0m\u001b[1;33m:\u001b[0m\u001b[1;33m\u001b[0m\u001b[1;33m\u001b[0m\u001b[0m\n\u001b[1;32m----> 3\u001b[1;33m     \u001b[1;32mreturn\u001b[0m \u001b[0ma\u001b[0m\u001b[1;33m**\u001b[0m\u001b[1;36m2\u001b[0m\u001b[1;33m\u001b[0m\u001b[1;33m\u001b[0m\u001b[0m\n\u001b[0m\u001b[0;32m      4\u001b[0m \u001b[1;33m\u001b[0m\u001b[0m\n\u001b[0;32m      5\u001b[0m \u001b[0ms\u001b[0m \u001b[1;33m=\u001b[0m \u001b[0mint\u001b[0m\u001b[1;33m(\u001b[0m\u001b[0minput\u001b[0m\u001b[1;33m(\u001b[0m\u001b[1;34m\"Enter the sides of the square : \"\u001b[0m\u001b[1;33m)\u001b[0m\u001b[1;33m)\u001b[0m\u001b[1;33m\u001b[0m\u001b[1;33m\u001b[0m\u001b[0m\n",
      "\u001b[1;31mNameError\u001b[0m: name 'a' is not defined"
     ]
    }
   ],
   "source": [
    "# Here both the variables are treated as different\n",
    "# Without parameter\n",
    "def area():\n",
    "    return a**2\n",
    "\n",
    "s = int(input(\"Enter the sides of the square : \"))\n",
    "print(\"Area of square is : \",area())\n"
   ]
  },
  {
   "cell_type": "code",
   "execution_count": 21,
   "metadata": {},
   "outputs": [
    {
     "name": "stdout",
     "output_type": "stream",
     "text": [
      "Enter the length of rectangle : 10\n",
      "Enter the width of rectangle : 20\n",
      "Area of rectangle is :  200\n"
     ]
    }
   ],
   "source": [
    "# Find out area of rectangle using function without parameters\n",
    "def area_rect():\n",
    "    return l*b\n",
    "\n",
    "l = int(input(\"Enter the length of rectangle : \"))\n",
    "b = int(input(\"Enter the width of rectangle : \"))\n",
    "print(\"Area of rectangle is : \",area_rect())"
   ]
  },
  {
   "cell_type": "code",
   "execution_count": 22,
   "metadata": {},
   "outputs": [
    {
     "name": "stdout",
     "output_type": "stream",
     "text": [
      "1 X Bread\n",
      "2 X Milk\n",
      "1 X Chocolate\n",
      "1 X Butter\n",
      "4 X Coffee\n"
     ]
    }
   ],
   "source": [
    "# create a function to see list in proper order\n",
    "shopping_list = {\n",
    "    \"Bread\" : 1,\n",
    "    \"Milk\" : 2,\n",
    "    \"Chocolate\" : 1,\n",
    "    \"Butter\" : 1,\n",
    "    \"Coffee\" : 4\n",
    "}\n",
    "\n",
    "def show_list():\n",
    "    for i,n in shopping_list.items():\n",
    "        print(n,\"X\",i)\n",
    "        \n",
    "show_list()"
   ]
  },
  {
   "cell_type": "markdown",
   "metadata": {},
   "source": [
    "## Lambda function\n",
    "- Above are all the user defined functions and we have seen how to use user defined functions.\n",
    "- A lambda function is a small anonymous function.\n",
    "- A lambda function can take any number of arguments, but can only have one expression.\n",
    "- Use lambda functions when an anonymous function is required a short period of time.\n",
    "- Lambda function is a one linear function\n",
    "- In one line, we are giving all the things, that are definition, expression and arguments.\n",
    "- You can have n number of parameters, but have only one expression.\n",
    "- After the defination of lambda, there should be the expression only, you can not put variable in it.\n",
    "- lamda is also called as one line expression function.\n",
    "- Lambda function must be in one line only, if you are using it in multiple lines then it will throw an error.\n",
    "- Sometimes we can declare a function without any name, such type of nameless functions are called anonymous functions or lambda functions.\n",
    "- The main purpose of anonymous function is just for instant use (i.e. for one time usage)\n",
    "- **Syntax:** `lambda argument_list: expression`\n",
    "\n",
    "### Advantages\n",
    "- Good for simple logical operations that are easy to understand. This makes the code more readable too.\n",
    "- Good when you want a function that you will use just one time.\n",
    "\n",
    "### Disadvantages\n",
    "- They can only perform one expression. It's not possible to have multiple independent operations in one lambda function.\n",
    "- Bad for operations that would span more than one line in a normal def function (For example nested conditional operations). If you need a minute or two to understand the code, use a named function instead.\n",
    "- Bad because you can't write a doc-string to explain all the inputs, operations, and outputs as you would in a normal def function.\n",
    "\n",
    "#### Note:\n",
    "- Lambda Function internally returns expression value and we are not required to write return statement explicitly.\n",
    "- Sometimes we can pass function as argument to another function. In such cases lambda functions are best choice.\n",
    "- We can use lambda functions very commnly with `filter(), map()` and `reduce()` functions, because these functions expect function as argument."
   ]
  },
  {
   "attachments": {
    "Screenshot%20%281224%29.png": {
     "image/png": "[encoded data removed]"
    }
   },
   "cell_type": "markdown",
   "metadata": {},
   "source": [
    "### Normal Function:\n",
    "- We can define by using `def` keyword.\n",
    "![Screenshot%20%281224%29.png](attachment:Screenshot%20%281224%29.png)"
   ]
  },
  {
   "attachments": {
    "Screenshot%20%281225%29.png": {
     "image/png": "[encoded data removed]"
    }
   },
   "cell_type": "markdown",
   "metadata": {},
   "source": [
    "### Lambda Function:\n",
    "- We can define by using `lambda` keyword.\n",
    "![Screenshot%20%281225%29.png](attachment:Screenshot%20%281225%29.png)"
   ]
  },
  {
   "cell_type": "markdown",
   "metadata": {},
   "source": [
    "**Q. Lambda function to find square of given number**"
   ]
  },
  {
   "cell_type": "code",
   "execution_count": 26,
   "metadata": {},
   "outputs": [
    {
     "name": "stdout",
     "output_type": "stream",
     "text": [
      "Enter the number to find square: 4\n",
      "The square of 4 is 16\n"
     ]
    }
   ],
   "source": [
    "squareIt = lambda n:n*n\n",
    "\n",
    "val = int(input(\"Enter the number to find square: \"))\n",
    "print(f\"The square of {val} is {squareIt(val)}\")"
   ]
  },
  {
   "cell_type": "markdown",
   "metadata": {},
   "source": [
    "**Q. Lambda function to find sum of 2 given numbers**"
   ]
  },
  {
   "cell_type": "code",
   "execution_count": 28,
   "metadata": {},
   "outputs": [
    {
     "name": "stdout",
     "output_type": "stream",
     "text": [
      "Enter the first number to find sum: 10\n",
      "Enter the second number to find sum: 20\n",
      "The sum of 10 and 20 is 30\n"
     ]
    }
   ],
   "source": [
    "sumIt = lambda a,b:a+b\n",
    "\n",
    "val1 = int(input(\"Enter the first number to find sum: \"))\n",
    "val2 = int(input(\"Enter the second number to find sum: \"))\n",
    "print(f\"The sum of {val1} and {val2} is {sumIt(val1,val2)}\")"
   ]
  },
  {
   "cell_type": "markdown",
   "metadata": {},
   "source": [
    "### IIFE Execution:\n",
    "#### Immediately invoked function expression or IIFE. Function is created and then immediately executed\n",
    "- In IIFE we do not have provision to take input from user like normal execution.\n",
    "- Below are the examples of IIFE execution."
   ]
  },
  {
   "cell_type": "code",
   "execution_count": 23,
   "metadata": {},
   "outputs": [
    {
     "data": {
      "text/plain": [
       "24"
      ]
     },
     "execution_count": 23,
     "metadata": {},
     "output_type": "execute_result"
    }
   ],
   "source": [
    "(lambda x : x*2)(12)"
   ]
  },
  {
   "cell_type": "code",
   "execution_count": 24,
   "metadata": {},
   "outputs": [
    {
     "ename": "TypeError",
     "evalue": "<lambda>() takes 1 positional argument but 2 were given",
     "output_type": "error",
     "traceback": [
      "\u001b[1;31m---------------------------------------------------------------------------\u001b[0m",
      "\u001b[1;31mTypeError\u001b[0m                                 Traceback (most recent call last)",
      "\u001b[1;32m<ipython-input-24-c531b98833db>\u001b[0m in \u001b[0;36m<module>\u001b[1;34m\u001b[0m\n\u001b[0;32m      1\u001b[0m \u001b[1;31m# One parameter, one argument only\u001b[0m\u001b[1;33m\u001b[0m\u001b[1;33m\u001b[0m\u001b[1;33m\u001b[0m\u001b[0m\n\u001b[1;32m----> 2\u001b[1;33m \u001b[1;33m(\u001b[0m\u001b[1;32mlambda\u001b[0m \u001b[0mx\u001b[0m \u001b[1;33m:\u001b[0m \u001b[0mx\u001b[0m\u001b[1;33m*\u001b[0m\u001b[1;36m2\u001b[0m\u001b[1;33m)\u001b[0m\u001b[1;33m(\u001b[0m\u001b[1;36m12\u001b[0m\u001b[1;33m,\u001b[0m\u001b[1;36m2\u001b[0m\u001b[1;33m)\u001b[0m\u001b[1;33m\u001b[0m\u001b[1;33m\u001b[0m\u001b[0m\n\u001b[0m",
      "\u001b[1;31mTypeError\u001b[0m: <lambda>() takes 1 positional argument but 2 were given"
     ]
    }
   ],
   "source": [
    "# One parameter, one argument only\n",
    "(lambda x : x*2)(12,2)"
   ]
  },
  {
   "cell_type": "code",
   "execution_count": 25,
   "metadata": {},
   "outputs": [
    {
     "ename": "NameError",
     "evalue": "name 'y' is not defined",
     "output_type": "error",
     "traceback": [
      "\u001b[1;31m---------------------------------------------------------------------------\u001b[0m",
      "\u001b[1;31mNameError\u001b[0m                                 Traceback (most recent call last)",
      "\u001b[1;32m<ipython-input-25-3ecdbb25487c>\u001b[0m in \u001b[0;36m<module>\u001b[1;34m\u001b[0m\n\u001b[1;32m----> 1\u001b[1;33m \u001b[1;33m(\u001b[0m\u001b[1;32mlambda\u001b[0m \u001b[0mx\u001b[0m\u001b[1;33m,\u001b[0m\u001b[0my\u001b[0m \u001b[1;33m:\u001b[0m \u001b[0mx\u001b[0m\u001b[1;33m*\u001b[0m\u001b[1;36m2\u001b[0m\u001b[1;33m,\u001b[0m\u001b[0my\u001b[0m\u001b[1;33m*\u001b[0m\u001b[1;36m2\u001b[0m\u001b[1;33m)\u001b[0m\u001b[1;33m(\u001b[0m\u001b[1;36m12\u001b[0m\u001b[1;33m,\u001b[0m\u001b[1;36m2\u001b[0m\u001b[1;33m)\u001b[0m\u001b[1;33m\u001b[0m\u001b[1;33m\u001b[0m\u001b[0m\n\u001b[0m",
      "\u001b[1;31mNameError\u001b[0m: name 'y' is not defined"
     ]
    }
   ],
   "source": [
    "# Lambda function can have only one expression\n",
    "(lambda x,y : x*2,y*2)(12,2)"
   ]
  },
  {
   "cell_type": "code",
   "execution_count": 26,
   "metadata": {},
   "outputs": [
    {
     "data": {
      "text/plain": [
       "24"
      ]
     },
     "execution_count": 26,
     "metadata": {},
     "output_type": "execute_result"
    }
   ],
   "source": [
    "# Using two parameters, and one expression\n",
    "(lambda x,y : x*y)(12,2)"
   ]
  },
  {
   "cell_type": "code",
   "execution_count": 27,
   "metadata": {},
   "outputs": [
    {
     "ename": "TypeError",
     "evalue": "<lambda>() missing 1 required positional argument: 'y'",
     "output_type": "error",
     "traceback": [
      "\u001b[1;31m---------------------------------------------------------------------------\u001b[0m",
      "\u001b[1;31mTypeError\u001b[0m                                 Traceback (most recent call last)",
      "\u001b[1;32m<ipython-input-27-bdf3c8c15e70>\u001b[0m in \u001b[0;36m<module>\u001b[1;34m\u001b[0m\n\u001b[0;32m      1\u001b[0m \u001b[1;31m# It will give an error\u001b[0m\u001b[1;33m\u001b[0m\u001b[1;33m\u001b[0m\u001b[1;33m\u001b[0m\u001b[0m\n\u001b[0;32m      2\u001b[0m \u001b[1;31m# Because there are 2 parameters and we have passed only 1 argument\u001b[0m\u001b[1;33m\u001b[0m\u001b[1;33m\u001b[0m\u001b[1;33m\u001b[0m\u001b[0m\n\u001b[1;32m----> 3\u001b[1;33m \u001b[1;33m(\u001b[0m\u001b[1;32mlambda\u001b[0m \u001b[0mx\u001b[0m\u001b[1;33m,\u001b[0m\u001b[0my\u001b[0m \u001b[1;33m:\u001b[0m \u001b[0mx\u001b[0m\u001b[1;33m*\u001b[0m\u001b[0my\u001b[0m\u001b[1;33m)\u001b[0m\u001b[1;33m(\u001b[0m\u001b[1;36m12\u001b[0m\u001b[1;33m)\u001b[0m\u001b[1;33m\u001b[0m\u001b[1;33m\u001b[0m\u001b[0m\n\u001b[0m",
      "\u001b[1;31mTypeError\u001b[0m: <lambda>() missing 1 required positional argument: 'y'"
     ]
    }
   ],
   "source": [
    "# It will give an error\n",
    "# Because there are 2 parameters and we have passed only 1 argument \n",
    "(lambda x,y : x*y)(12)"
   ]
  },
  {
   "cell_type": "code",
   "execution_count": 28,
   "metadata": {},
   "outputs": [
    {
     "data": {
      "text/plain": [
       "52"
      ]
     },
     "execution_count": 28,
     "metadata": {},
     "output_type": "execute_result"
    }
   ],
   "source": [
    "# If you are using parameter and not using in expression, still you have to pass argument\n",
    "(lambda x,y,z : x*y*2+7-z)(12,2,3)"
   ]
  },
  {
   "cell_type": "markdown",
   "metadata": {},
   "source": [
    "### Normal execution passing name to lambda"
   ]
  },
  {
   "cell_type": "code",
   "execution_count": 29,
   "metadata": {},
   "outputs": [
    {
     "name": "stdout",
     "output_type": "stream",
     "text": [
      "120\n"
     ]
    }
   ],
   "source": [
    "# Normal execution of lambda function\n",
    "b = lambda a : a*6\n",
    "print(b(20))"
   ]
  },
  {
   "cell_type": "code",
   "execution_count": 31,
   "metadata": {},
   "outputs": [
    {
     "name": "stdout",
     "output_type": "stream",
     "text": [
      "Enter the value :12\n"
     ]
    },
    {
     "data": {
      "text/plain": [
       "72"
      ]
     },
     "execution_count": 31,
     "metadata": {},
     "output_type": "execute_result"
    }
   ],
   "source": [
    "b = lambda a : a*6\n",
    "val = int(input(\"Enter the value :\"))\n",
    "b(val)"
   ]
  },
  {
   "cell_type": "markdown",
   "metadata": {},
   "source": [
    "### Difference between lambda function and UDF(User defined function)\n",
    "- There is only one expression in lambda and there are n number of exceptions in UDF.\n",
    "- For lambda function we are using **lambda** keyword and for UDF we are using **def** keyword\n",
    "- We can not call the lambda function multiple number of times, but we can call UDF infinite number of times.\n",
    "- Lambda function is defined for very short period of time and used only for that period of time only, but UDF is used for infinite number of times.\n",
    "- We are using return keyword in UDEF, in Lambda there is no need of return keyword."
   ]
  },
  {
   "cell_type": "code",
   "execution_count": 32,
   "metadata": {},
   "outputs": [
    {
     "name": "stdout",
     "output_type": "stream",
     "text": [
      "Enter the value to find out reciprocal : 6\n",
      "Using UDF :  0.16666666666666666\n",
      "Using Lambda Function :  0.16666666666666666\n"
     ]
    }
   ],
   "source": [
    "# Python code to show the reciprocal of the given number\n",
    "# to highlight the difference between UDF and lambda function.\n",
    "\n",
    "# UDF definition\n",
    "def reciprocal(num):\n",
    "    return 1/num\n",
    "\n",
    "# lambda function definition\n",
    "lambda_reciprocal = lambda num : 1/num\n",
    "\n",
    "# Taking input from user\n",
    "val = int(input(\"Enter the value to find out reciprocal : \"))\n",
    "\n",
    "# Using the function defined by def keyword\n",
    "print(\"Using UDF : \",reciprocal(val))\n",
    "\n",
    "# Using the function defined by lambda keyword\n",
    "print(\"Using Lambda Function : \",lambda_reciprocal(val))"
   ]
  },
  {
   "cell_type": "code",
   "execution_count": 37,
   "metadata": {},
   "outputs": [
    {
     "data": {
      "text/plain": [
       "<filter at 0x1a54adbc848>"
      ]
     },
     "execution_count": 37,
     "metadata": {},
     "output_type": "execute_result"
    }
   ],
   "source": [
    "list_1 = [1,2,3,4,5,6,7,8,9]\n",
    "(filter(lambda x : x%2==0,list_1))"
   ]
  },
  {
   "cell_type": "code",
   "execution_count": 38,
   "metadata": {},
   "outputs": [
    {
     "data": {
      "text/plain": [
       "[2, 4, 6, 8]"
      ]
     },
     "execution_count": 38,
     "metadata": {},
     "output_type": "execute_result"
    }
   ],
   "source": [
    "# Output in the form of list\n",
    "list_1 = [1,2,3,4,5,6,7,8,9]\n",
    "list(filter(lambda x : x%2==0,list_1))"
   ]
  },
  {
   "cell_type": "code",
   "execution_count": 39,
   "metadata": {},
   "outputs": [
    {
     "data": {
      "text/plain": [
       "(2, 4, 6, 8)"
      ]
     },
     "execution_count": 39,
     "metadata": {},
     "output_type": "execute_result"
    }
   ],
   "source": [
    "# Output in the form of tuple\n",
    "list_1 = [1,2,3,4,5,6,7,8,9]\n",
    "tuple(filter(lambda x : x%2==0,list_1))"
   ]
  },
  {
   "cell_type": "code",
   "execution_count": 40,
   "metadata": {},
   "outputs": [
    {
     "name": "stdout",
     "output_type": "stream",
     "text": [
      "[55, 75, 13, 63]\n"
     ]
    }
   ],
   "source": [
    "# Code to find odd numbers from the list\n",
    "list_1 = [34,12,64,55,75,13,63]\n",
    "list_odd = list(filter(lambda x : x%2!=0,list_1))\n",
    "print(list_odd)"
   ]
  },
  {
   "cell_type": "code",
   "execution_count": 44,
   "metadata": {},
   "outputs": [
    {
     "name": "stdout",
     "output_type": "stream",
     "text": [
      "[1, 2, 3, 4, 5, 6, 7]\n"
     ]
    }
   ],
   "source": [
    "# Squaring elements in list and printing it\n",
    "list_1 = [1,2,3,4,5,6,7]\n",
    "squares_list = list(filter(lambda x:x**2,list_1))\n",
    "print(squares_list)"
   ]
  },
  {
   "cell_type": "markdown",
   "metadata": {},
   "source": [
    "#### Squares upto 10\n"
   ]
  },
  {
   "cell_type": "code",
   "execution_count": 46,
   "metadata": {},
   "outputs": [
    {
     "name": "stdout",
     "output_type": "stream",
     "text": [
      "[<function <listcomp>.<lambda> at 0x000001A54ADAB438>, <function <listcomp>.<lambda> at 0x000001A54ADAB8B8>, <function <listcomp>.<lambda> at 0x000001A54ADAB4C8>, <function <listcomp>.<lambda> at 0x000001A54ADAB798>, <function <listcomp>.<lambda> at 0x000001A54ADAB708>, <function <listcomp>.<lambda> at 0x000001A54ADAB3A8>, <function <listcomp>.<lambda> at 0x000001A54ADABA68>, <function <listcomp>.<lambda> at 0x000001A54ADABAF8>, <function <listcomp>.<lambda> at 0x000001A54ADABB88>, <function <listcomp>.<lambda> at 0x000001A54ADABC18>, <function <listcomp>.<lambda> at 0x000001A54ADABCA8>]\n"
     ]
    }
   ],
   "source": [
    "# It is displaying the memory locations only\n",
    "squares = [lambda num = num : num**2 for num in range(0,11)]\n",
    "print(squares)"
   ]
  },
  {
   "cell_type": "code",
   "execution_count": 50,
   "metadata": {},
   "outputs": [
    {
     "name": "stdout",
     "output_type": "stream",
     "text": [
      "0 1 4 9 16 25 36 49 64 81 100 "
     ]
    }
   ],
   "source": [
    "squares = [lambda num = a : num**2 for a in range(0,11)]\n",
    "\n",
    "for square in squares:\n",
    "    print(square(),end=\" \")"
   ]
  },
  {
   "cell_type": "markdown",
   "metadata": {},
   "source": [
    "### Lambda with if-else\n",
    "lambda <**arguments**> : <**statement1**> if <**condition**> else <**statement2**>"
   ]
  },
  {
   "cell_type": "code",
   "execution_count": 52,
   "metadata": {},
   "outputs": [
    {
     "name": "stdout",
     "output_type": "stream",
     "text": [
      "10 is smaller than 20\n"
     ]
    }
   ],
   "source": [
    "test = lambda x,y:print(x,\"is smaller than\",y) if x<y else print(x,\"is greater than\",y)\n",
    "test(10,20)"
   ]
  },
  {
   "cell_type": "code",
   "execution_count": 56,
   "metadata": {},
   "outputs": [
    {
     "name": "stdout",
     "output_type": "stream",
     "text": [
      "10 is smaller than 24\n"
     ]
    }
   ],
   "source": [
    "(lambda x,y:print(x,\"is smaller than\",y) if x<y else print(x,\"is greater than\",y))(10,24)"
   ]
  },
  {
   "cell_type": "code",
   "execution_count": 57,
   "metadata": {},
   "outputs": [
    {
     "data": {
      "text/plain": [
       "<function __main__.<lambda>(x, y)>"
      ]
     },
     "execution_count": 57,
     "metadata": {},
     "output_type": "execute_result"
    }
   ],
   "source": [
    "lambda x,y:print(x,\"is smaller than\",y) if x<y else print(x,\"is greater than\",y)\n",
    "# If we are not using round brackets () over lambda then it will return like this"
   ]
  },
  {
   "cell_type": "code",
   "execution_count": 59,
   "metadata": {},
   "outputs": [
    {
     "ename": "SyntaxError",
     "evalue": "invalid syntax (<ipython-input-59-aab52e8b0838>, line 1)",
     "output_type": "error",
     "traceback": [
      "\u001b[1;36m  File \u001b[1;32m\"<ipython-input-59-aab52e8b0838>\"\u001b[1;36m, line \u001b[1;32m1\u001b[0m\n\u001b[1;33m    test = lambda x,y:print(x,\"is smaller than\",y) if x<y elif(x==y) print(x,\"is equal to\",y) else print(x,\"is greater than\",y)\u001b[0m\n\u001b[1;37m                                                             ^\u001b[0m\n\u001b[1;31mSyntaxError\u001b[0m\u001b[1;31m:\u001b[0m invalid syntax\n"
     ]
    }
   ],
   "source": [
    "test = lambda x,y:print(x,\"is smaller than\",y) if x<y print(x,\"is equal to\",y) \n",
    "elif(x == y) else print(x,\"is greater than\",y)\n",
    "test(10,20)"
   ]
  },
  {
   "cell_type": "code",
   "execution_count": 60,
   "metadata": {},
   "outputs": [
    {
     "name": "stdout",
     "output_type": "stream",
     "text": [
      "10 is smaller than 20\n"
     ]
    }
   ],
   "source": [
    "test=lambda x,y : print(x,\"is smaller than\",y) if x<y else print(x,\"is equal to\",y) if(x == y) \n",
    "else print(x,\"is greater than\",y)\n",
    "test(10,20)"
   ]
  },
  {
   "cell_type": "markdown",
   "metadata": {},
   "source": [
    "### filter() function:\n",
    "- We can use filter() function to filter values from the given sequence based on some condition.\n",
    "- Where function argument is responsible to perform conditional check sequence can be list, tuple or string\n",
    "- **Syntax**\n",
    "    - `filter(function,sequence)`"
   ]
  },
  {
   "cell_type": "markdown",
   "metadata": {},
   "source": [
    "#### Program to filter only even numbers from the list by using filter() function."
   ]
  },
  {
   "cell_type": "markdown",
   "metadata": {},
   "source": [
    "**1. Without using lambda function**"
   ]
  },
  {
   "cell_type": "code",
   "execution_count": 29,
   "metadata": {},
   "outputs": [],
   "source": [
    "def isEven(x):\n",
    "    if x%2==0:\n",
    "        return True\n",
    "    else:\n",
    "        return False"
   ]
  },
  {
   "cell_type": "code",
   "execution_count": 30,
   "metadata": {},
   "outputs": [
    {
     "name": "stdout",
     "output_type": "stream",
     "text": [
      "[0, 10, 20, 30]\n"
     ]
    }
   ],
   "source": [
    "l = [0,5,10,15,20,25,30]\n",
    "l1 = list(filter(isEven,l))\n",
    "print(l1)"
   ]
  },
  {
   "cell_type": "markdown",
   "metadata": {},
   "source": [
    "**2. With lambda function**"
   ]
  },
  {
   "cell_type": "code",
   "execution_count": 33,
   "metadata": {},
   "outputs": [
    {
     "name": "stdout",
     "output_type": "stream",
     "text": [
      "[0, 10, 20, 30]\n"
     ]
    }
   ],
   "source": [
    "isEven = lambda x:x%2==0 \n",
    "l = [0,5,10,15,20,25,30]\n",
    "l1 = list(filter(isEven,l))\n",
    "print(l1)  "
   ]
  },
  {
   "cell_type": "markdown",
   "metadata": {},
   "source": [
    "#### map() function:\n",
    "- For every element present in the given sequence, apply some functionality and generate new element with the required modification. For this requirement we should go for map() function.\n",
    "- Ex: For every element present in the list perform double and generate new list of doubles.\n",
    "- The function can be applied on each element of sequence and generates new sequence.\n",
    "- **Syntax:**\n",
    "    - `map(function,sequence)`"
   ]
  },
  {
   "cell_type": "markdown",
   "metadata": {},
   "source": [
    "**1. Without lambda**"
   ]
  },
  {
   "cell_type": "code",
   "execution_count": 34,
   "metadata": {},
   "outputs": [
    {
     "name": "stdout",
     "output_type": "stream",
     "text": [
      "[2, 4, 6, 8, 10]\n"
     ]
    }
   ],
   "source": [
    "def doubleIt(x):\n",
    "    return 2*x\n",
    "\n",
    "l = [1,2,3,4,5]\n",
    "l1 = list(map(doubleIt,l))\n",
    "print(l1)"
   ]
  },
  {
   "cell_type": "markdown",
   "metadata": {},
   "source": [
    "**2. With lambda**"
   ]
  },
  {
   "cell_type": "code",
   "execution_count": 35,
   "metadata": {},
   "outputs": [
    {
     "name": "stdout",
     "output_type": "stream",
     "text": [
      "[2, 4, 6, 8, 10]\n"
     ]
    }
   ],
   "source": [
    "l = [1,2,3,4,5]\n",
    "l1 = list(map(lambda x:x*2,l))\n",
    "print(l1)"
   ]
  },
  {
   "cell_type": "markdown",
   "metadata": {},
   "source": [
    "- We can apply map() function on multiple lists also. But make sure all list should have same length.\n",
    "- **Syntax: `map(lambda x,y:x*y,l1,l2)`**\n",
    "- x is from l1 and y is from l2."
   ]
  },
  {
   "cell_type": "markdown",
   "metadata": {},
   "source": [
    "**Eg 2: To find square of given numbers**"
   ]
  },
  {
   "cell_type": "code",
   "execution_count": 37,
   "metadata": {},
   "outputs": [
    {
     "name": "stdout",
     "output_type": "stream",
     "text": [
      "[1, 4, 9, 16, 25]\n"
     ]
    }
   ],
   "source": [
    "l = [1,2,3,4,5]\n",
    "l1 = list(map(lambda x:x*x,l))\n",
    "print(l1)"
   ]
  },
  {
   "cell_type": "code",
   "execution_count": 38,
   "metadata": {},
   "outputs": [
    {
     "name": "stdout",
     "output_type": "stream",
     "text": [
      "[2, 6, 12, 20, 30]\n"
     ]
    }
   ],
   "source": [
    "# No. of items in both the lists must be same\n",
    "l1 = [1,2,3,4,5]\n",
    "l2 = [2,3,4,5,6]\n",
    "l3 = list(map(lambda x,y:x*y,l1,l2))\n",
    "print(l3)"
   ]
  },
  {
   "cell_type": "markdown",
   "metadata": {},
   "source": [
    "#### reduce() function:\n",
    "- reduce() function reduces sequence of elements into a single element by applying the specified function.\n",
    "- reduce() function present in functools module and hence we should write import statement.\n",
    "- **Syntax:**\n",
    "    - `reduce(function,sequence)`"
   ]
  },
  {
   "cell_type": "code",
   "execution_count": 39,
   "metadata": {},
   "outputs": [
    {
     "name": "stdout",
     "output_type": "stream",
     "text": [
      "150\n"
     ]
    }
   ],
   "source": [
    "from functools import *\n",
    "l = [10,20,30,40,50]\n",
    "result = reduce(lambda x,y:x+y,l)\n",
    "print(result)"
   ]
  },
  {
   "cell_type": "markdown",
   "metadata": {},
   "source": [
    "**Note:**\n",
    "- In Python everything is treated as object.\n",
    "- Even functions also internally treated as objects only."
   ]
  },
  {
   "cell_type": "markdown",
   "metadata": {},
   "source": [
    "### Code to print the third-largest number of the given list using the lambda function"
   ]
  },
  {
   "cell_type": "code",
   "execution_count": 71,
   "metadata": {},
   "outputs": [
    {
     "name": "stdout",
     "output_type": "stream",
     "text": [
      "[3, 5, 6, 8]\n"
     ]
    }
   ],
   "source": [
    "my_list=[3,5,8,6]\n",
    "print(sorted(my_list))"
   ]
  },
  {
   "cell_type": "code",
   "execution_count": 78,
   "metadata": {},
   "outputs": [
    {
     "name": "stdout",
     "output_type": "stream",
     "text": [
      "[[1, 2, 4, 12, 5], [3, 5, 8, 6], [23, 54, 12, 87]]\n"
     ]
    }
   ],
   "source": [
    "# Here sorting is done by first value of each list\n",
    "my_list = [ [3,5,8,6], [23,54,12,87], [1,2,4,12,5] ]\n",
    "print(sorted(my_list))"
   ]
  },
  {
   "cell_type": "code",
   "execution_count": 80,
   "metadata": {},
   "outputs": [
    {
     "name": "stdout",
     "output_type": "stream",
     "text": [
      "[[1, 2, 4, 12, 5], [1, 5, 8, 6], [23, 54, 12, 87]]\n"
     ]
    }
   ],
   "source": [
    "# Here sorting is done by second value for the lists having same first value\n",
    "my_list = [ [1,5,8,6], [23,54,12,87], [1,2,4,12,5] ]\n",
    "print(sorted(my_list))"
   ]
  },
  {
   "cell_type": "code",
   "execution_count": 76,
   "metadata": {},
   "outputs": [
    {
     "name": "stdout",
     "output_type": "stream",
     "text": [
      "[[1, 2, 4, 12, 5], [3, 5, 8, 6], [23, 54, 12, 87]]\n",
      "[<function <listcomp>.<lambda> at 0x000001A54ADABF78>, <function <listcomp>.<lambda> at 0x000001A54AE953A8>, <function <listcomp>.<lambda> at 0x000001A54AE95318>]\n",
      "[3, 5, 6, 8]\n",
      "[12, 23, 54, 87]\n",
      "[1, 2, 4, 5, 12]\n"
     ]
    },
    {
     "ename": "TypeError",
     "evalue": "object of type 'function' has no len()",
     "output_type": "error",
     "traceback": [
      "\u001b[1;31m---------------------------------------------------------------------------\u001b[0m",
      "\u001b[1;31mTypeError\u001b[0m                                 Traceback (most recent call last)",
      "\u001b[1;32m<ipython-input-76-91b196547e11>\u001b[0m in \u001b[0;36m<module>\u001b[1;34m\u001b[0m\n\u001b[0;32m     13\u001b[0m \u001b[0mthird_largest\u001b[0m \u001b[1;33m=\u001b[0m \u001b[1;32mlambda\u001b[0m \u001b[0mlist_\u001b[0m\u001b[1;33m:\u001b[0m \u001b[1;33m[\u001b[0m\u001b[0ml\u001b[0m\u001b[1;33m[\u001b[0m\u001b[0mlen\u001b[0m\u001b[1;33m(\u001b[0m\u001b[0ml\u001b[0m\u001b[1;33m)\u001b[0m\u001b[1;33m-\u001b[0m\u001b[1;36m3\u001b[0m\u001b[1;33m]\u001b[0m \u001b[1;32mfor\u001b[0m \u001b[0ml\u001b[0m \u001b[1;32min\u001b[0m \u001b[0mlist\u001b[0m\u001b[1;33m(\u001b[0m\u001b[0mlist_\u001b[0m\u001b[1;33m)\u001b[0m\u001b[1;33m]\u001b[0m\u001b[1;33m\u001b[0m\u001b[1;33m\u001b[0m\u001b[0m\n\u001b[0;32m     14\u001b[0m \u001b[1;33m\u001b[0m\u001b[0m\n\u001b[1;32m---> 15\u001b[1;33m \u001b[0mthird_largest\u001b[0m\u001b[1;33m(\u001b[0m\u001b[0msorted_list\u001b[0m\u001b[1;33m)\u001b[0m\u001b[1;33m\u001b[0m\u001b[1;33m\u001b[0m\u001b[0m\n\u001b[0m",
      "\u001b[1;32m<ipython-input-76-91b196547e11>\u001b[0m in \u001b[0;36m<lambda>\u001b[1;34m(list_)\u001b[0m\n\u001b[0;32m     11\u001b[0m \u001b[1;33m\u001b[0m\u001b[0m\n\u001b[0;32m     12\u001b[0m \u001b[1;31m# Code for printing the third largest number from the list\u001b[0m\u001b[1;33m\u001b[0m\u001b[1;33m\u001b[0m\u001b[1;33m\u001b[0m\u001b[0m\n\u001b[1;32m---> 13\u001b[1;33m \u001b[0mthird_largest\u001b[0m \u001b[1;33m=\u001b[0m \u001b[1;32mlambda\u001b[0m \u001b[0mlist_\u001b[0m\u001b[1;33m:\u001b[0m \u001b[1;33m[\u001b[0m\u001b[0ml\u001b[0m\u001b[1;33m[\u001b[0m\u001b[0mlen\u001b[0m\u001b[1;33m(\u001b[0m\u001b[0ml\u001b[0m\u001b[1;33m)\u001b[0m\u001b[1;33m-\u001b[0m\u001b[1;36m3\u001b[0m\u001b[1;33m]\u001b[0m \u001b[1;32mfor\u001b[0m \u001b[0ml\u001b[0m \u001b[1;32min\u001b[0m \u001b[0mlist\u001b[0m\u001b[1;33m(\u001b[0m\u001b[0mlist_\u001b[0m\u001b[1;33m)\u001b[0m\u001b[1;33m]\u001b[0m\u001b[1;33m\u001b[0m\u001b[1;33m\u001b[0m\u001b[0m\n\u001b[0m\u001b[0;32m     14\u001b[0m \u001b[1;33m\u001b[0m\u001b[0m\n\u001b[0;32m     15\u001b[0m \u001b[0mthird_largest\u001b[0m\u001b[1;33m(\u001b[0m\u001b[0msorted_list\u001b[0m\u001b[1;33m)\u001b[0m\u001b[1;33m\u001b[0m\u001b[1;33m\u001b[0m\u001b[0m\n",
      "\u001b[1;32m<ipython-input-76-91b196547e11>\u001b[0m in \u001b[0;36m<listcomp>\u001b[1;34m(.0)\u001b[0m\n\u001b[0;32m     11\u001b[0m \u001b[1;33m\u001b[0m\u001b[0m\n\u001b[0;32m     12\u001b[0m \u001b[1;31m# Code for printing the third largest number from the list\u001b[0m\u001b[1;33m\u001b[0m\u001b[1;33m\u001b[0m\u001b[1;33m\u001b[0m\u001b[0m\n\u001b[1;32m---> 13\u001b[1;33m \u001b[0mthird_largest\u001b[0m \u001b[1;33m=\u001b[0m \u001b[1;32mlambda\u001b[0m \u001b[0mlist_\u001b[0m\u001b[1;33m:\u001b[0m \u001b[1;33m[\u001b[0m\u001b[0ml\u001b[0m\u001b[1;33m[\u001b[0m\u001b[0mlen\u001b[0m\u001b[1;33m(\u001b[0m\u001b[0ml\u001b[0m\u001b[1;33m)\u001b[0m\u001b[1;33m-\u001b[0m\u001b[1;36m3\u001b[0m\u001b[1;33m]\u001b[0m \u001b[1;32mfor\u001b[0m \u001b[0ml\u001b[0m \u001b[1;32min\u001b[0m \u001b[0mlist\u001b[0m\u001b[1;33m(\u001b[0m\u001b[0mlist_\u001b[0m\u001b[1;33m)\u001b[0m\u001b[1;33m]\u001b[0m\u001b[1;33m\u001b[0m\u001b[1;33m\u001b[0m\u001b[0m\n\u001b[0m\u001b[0;32m     14\u001b[0m \u001b[1;33m\u001b[0m\u001b[0m\n\u001b[0;32m     15\u001b[0m \u001b[0mthird_largest\u001b[0m\u001b[1;33m(\u001b[0m\u001b[0msorted_list\u001b[0m\u001b[1;33m)\u001b[0m\u001b[1;33m\u001b[0m\u001b[1;33m\u001b[0m\u001b[0m\n",
      "\u001b[1;31mTypeError\u001b[0m: object of type 'function' has no len()"
     ]
    }
   ],
   "source": [
    "my_list = [ [3,5,8,6], [23,54,12,87], [1,2,4,12,5] ]\n",
    "print(sorted(my_list)) # Sorting is done by using first number in every list\n",
    "\n",
    "# Sorting every sublist of the above list\n",
    "sorted_list = [lambda num=n : sorted(num) for n in my_list]\n",
    "print(sorted_list)\n",
    "\n",
    "# Printing sorted sub lists\n",
    "for list1 in sorted_list:\n",
    "    print(list1())\n",
    "\n",
    "# Code for printing the third largest number from the list\n",
    "third_largest = lambda list_: [l[len(l)-3] for l in list(list_)]\n",
    "\n",
    "third_largest(sorted_list)"
   ]
  },
  {
   "cell_type": "code",
   "execution_count": 77,
   "metadata": {},
   "outputs": [
    {
     "name": "stdout",
     "output_type": "stream",
     "text": [
      "[[1, 2, 4, 12, 5], [3, 5, 8, 6], [23, 54, 12, 87]]\n",
      "<function <lambda> at 0x000001A54AE87EE8>\n",
      "[5, 23, 4]\n"
     ]
    }
   ],
   "source": [
    "my_list = [ [3,5,8,6], [23,54,12,87], [1,2,4,12,5] ]\n",
    "print(sorted(my_list)) # Sorting is done by using first number in every list\n",
    "\n",
    "# Sorting every sublist of the above list\n",
    "sort_list = lambda num : (sorted(n) for n in num)\n",
    "print(sort_list)\n",
    "\n",
    "# Code for printing the third largest number from the list\n",
    "third_largest = lambda num, func : [l[len(l) - 3] for l in func(num)]\n",
    "result = third_largest(my_list,sort_list)\n",
    "print(result)"
   ]
  },
  {
   "cell_type": "markdown",
   "metadata": {},
   "source": [
    "### Function Aliasing:\n",
    "- For the existing function we can give another name, which is nothing but function aliasing.\n",
    "- We have seen that if\n",
    "    - x = 10 and y = 10, both are referring to same object and hence they both are pointing to same object, likewise function aliasing."
   ]
  },
  {
   "attachments": {
    "Function%20aliasing%20example.png": {
     "image/png": "[encoded data removed]"
    }
   },
   "cell_type": "markdown",
   "metadata": {},
   "source": [
    "![Function%20aliasing%20example.png](attachment:Function%20aliasing%20example.png)"
   ]
  },
  {
   "cell_type": "code",
   "execution_count": 4,
   "metadata": {},
   "outputs": [],
   "source": [
    "def greet(name):\n",
    "    print(\"Good Morning\",name)"
   ]
  },
  {
   "cell_type": "code",
   "execution_count": 2,
   "metadata": {},
   "outputs": [
    {
     "name": "stdout",
     "output_type": "stream",
     "text": [
      "2291049284520\n",
      "2291049284520\n"
     ]
    }
   ],
   "source": [
    "greeting = greet\n",
    "print(id(greeting))\n",
    "print(id(greet))"
   ]
  },
  {
   "cell_type": "code",
   "execution_count": 6,
   "metadata": {},
   "outputs": [
    {
     "name": "stdout",
     "output_type": "stream",
     "text": [
      "Good Morning Jon\n",
      "Good Morning Jerry\n"
     ]
    }
   ],
   "source": [
    "greet(\"Jon\")\n",
    "greeting(\"Jerry\")"
   ]
  },
  {
   "cell_type": "markdown",
   "metadata": {},
   "source": [
    "**If we delete one name still we can access the function by using alias name**"
   ]
  },
  {
   "cell_type": "code",
   "execution_count": 7,
   "metadata": {},
   "outputs": [
    {
     "name": "stdout",
     "output_type": "stream",
     "text": [
      "Good Morning Joe\n"
     ]
    }
   ],
   "source": [
    "del greet\n",
    "greeting(\"Joe\")"
   ]
  },
  {
   "cell_type": "markdown",
   "metadata": {},
   "source": [
    "### Nested Functions:\n",
    "- We can declare a function inside another function, such type of functions are called Nested functions.\n",
    "- We can not call inner function outside the outer function body, otherwise it will throw an error."
   ]
  },
  {
   "cell_type": "code",
   "execution_count": 8,
   "metadata": {},
   "outputs": [
    {
     "name": "stdout",
     "output_type": "stream",
     "text": [
      "Outer function started!\n",
      "Inner function started!\n"
     ]
    }
   ],
   "source": [
    "def outer():\n",
    "    print(\"Outer function started!\")\n",
    "    \n",
    "    def inner():\n",
    "        print(\"Inner function started!\")\n",
    "    \n",
    "    inner()\n",
    "outer()"
   ]
  },
  {
   "cell_type": "code",
   "execution_count": 9,
   "metadata": {},
   "outputs": [
    {
     "name": "stdout",
     "output_type": "stream",
     "text": [
      "Outer function started!\n",
      "Inner function started!\n"
     ]
    },
    {
     "ename": "NameError",
     "evalue": "name 'inner' is not defined",
     "output_type": "error",
     "traceback": [
      "\u001b[1;31m---------------------------------------------------------------------------\u001b[0m",
      "\u001b[1;31mNameError\u001b[0m                                 Traceback (most recent call last)",
      "\u001b[1;32m<ipython-input-9-d573f863b852>\u001b[0m in \u001b[0;36m<module>\u001b[1;34m\u001b[0m\n\u001b[0;32m      7\u001b[0m     \u001b[0minner\u001b[0m\u001b[1;33m(\u001b[0m\u001b[1;33m)\u001b[0m\u001b[1;33m\u001b[0m\u001b[1;33m\u001b[0m\u001b[0m\n\u001b[0;32m      8\u001b[0m \u001b[0mouter\u001b[0m\u001b[1;33m(\u001b[0m\u001b[1;33m)\u001b[0m\u001b[1;33m\u001b[0m\u001b[1;33m\u001b[0m\u001b[0m\n\u001b[1;32m----> 9\u001b[1;33m \u001b[0minner\u001b[0m\u001b[1;33m(\u001b[0m\u001b[1;33m)\u001b[0m\u001b[1;33m\u001b[0m\u001b[1;33m\u001b[0m\u001b[0m\n\u001b[0m",
      "\u001b[1;31mNameError\u001b[0m: name 'inner' is not defined"
     ]
    }
   ],
   "source": [
    "# Can't call inner function outside the outer function body.\n",
    "def outer():\n",
    "    print(\"Outer function started!\")\n",
    "    \n",
    "    def inner():\n",
    "        print(\"Inner function started!\")\n",
    "    \n",
    "    inner()\n",
    "outer()\n",
    "inner()"
   ]
  },
  {
   "cell_type": "markdown",
   "metadata": {},
   "source": [
    "#### EXAMPLE: Functions as arguments\n",
    "- If we call function in a print() and haven't returned anything from the function, then it will print **None** as well"
   ]
  },
  {
   "cell_type": "code",
   "execution_count": 10,
   "metadata": {},
   "outputs": [],
   "source": [
    "def func_a():\n",
    "    print(\"Inside func_a\")\n",
    "\n",
    "def func_b(num):\n",
    "    print(\"Inside func_b\")\n",
    "    return num"
   ]
  },
  {
   "cell_type": "code",
   "execution_count": 11,
   "metadata": {},
   "outputs": [
    {
     "name": "stdout",
     "output_type": "stream",
     "text": [
      "<function func_a at 0x000002156D38AD38>\n"
     ]
    }
   ],
   "source": [
    "print(func_a)"
   ]
  },
  {
   "cell_type": "code",
   "execution_count": 12,
   "metadata": {},
   "outputs": [
    {
     "name": "stdout",
     "output_type": "stream",
     "text": [
      "Inside func_a\n",
      "None\n"
     ]
    }
   ],
   "source": [
    "print(func_a())"
   ]
  },
  {
   "cell_type": "code",
   "execution_count": 13,
   "metadata": {},
   "outputs": [
    {
     "name": "stdout",
     "output_type": "stream",
     "text": [
      "Inside func_b\n",
      "8\n"
     ]
    }
   ],
   "source": [
    "print(5+func_b(3))"
   ]
  },
  {
   "cell_type": "markdown",
   "metadata": {},
   "source": [
    "#### Calling one function and passing another function to it.\n",
    "- If we want to call a function and we want to pass another function to it, then we have to change the **return** value of that function."
   ]
  },
  {
   "cell_type": "code",
   "execution_count": 14,
   "metadata": {},
   "outputs": [],
   "source": [
    "def func_a():\n",
    "    print(\"Inside func_a\")\n",
    "\n",
    "# In return, it calls func_a()\n",
    "def func_c(z):\n",
    "    print(\"Inside func_c\")\n",
    "    return z()   # Returning some function"
   ]
  },
  {
   "cell_type": "code",
   "execution_count": 15,
   "metadata": {},
   "outputs": [
    {
     "name": "stdout",
     "output_type": "stream",
     "text": [
      "Inside func_c\n",
      "Inside func_a\n",
      "None\n"
     ]
    }
   ],
   "source": [
    "print(func_c(func_a))"
   ]
  },
  {
   "cell_type": "code",
   "execution_count": 16,
   "metadata": {},
   "outputs": [
    {
     "name": "stdout",
     "output_type": "stream",
     "text": [
      "7\n"
     ]
    }
   ],
   "source": [
    "def f():\n",
    "    def x(a,b):\n",
    "        return a+b\n",
    "    return x\n",
    "\n",
    "val = f()(3,4) # Passing values to nested function inside f()\n",
    "print(val)"
   ]
  },
  {
   "cell_type": "code",
   "execution_count": 17,
   "metadata": {},
   "outputs": [
    {
     "name": "stdout",
     "output_type": "stream",
     "text": [
      "7\n"
     ]
    }
   ],
   "source": [
    "def f():\n",
    "    def x(a,b):\n",
    "        return a+b\n",
    "    def y(a,b):\n",
    "        return a-b # It will not execute this function.\n",
    "    # By default, it will run first function while calling like this method.\n",
    "    return x\n",
    "\n",
    "val = f()(3,4) # Passing values to nested function inside f()\n",
    "print(val)"
   ]
  },
  {
   "cell_type": "code",
   "execution_count": 18,
   "metadata": {},
   "outputs": [
    {
     "data": {
      "text/plain": [
       "[1, 2, 3, 4, 9]"
      ]
     },
     "execution_count": 18,
     "metadata": {},
     "output_type": "execute_result"
    }
   ],
   "source": [
    "def func(x):\n",
    "    return x**2\n",
    "\n",
    "l = [1,2,3,4,func(3)]\n",
    "l"
   ]
  },
  {
   "cell_type": "code",
   "execution_count": 19,
   "metadata": {},
   "outputs": [
    {
     "data": {
      "text/plain": [
       "[1, 2, 3, 4, <function __main__.func(x)>]"
      ]
     },
     "execution_count": 19,
     "metadata": {},
     "output_type": "execute_result"
    }
   ],
   "source": [
    "x = func\n",
    "l = [1,2,3,4,x]\n",
    "l"
   ]
  },
  {
   "cell_type": "code",
   "execution_count": 20,
   "metadata": {},
   "outputs": [
    {
     "data": {
      "text/plain": [
       "9"
      ]
     },
     "execution_count": 20,
     "metadata": {},
     "output_type": "execute_result"
    }
   ],
   "source": [
    "l[-1](3)"
   ]
  },
  {
   "cell_type": "markdown",
   "metadata": {},
   "source": [
    "#### Check your knowledge"
   ]
  },
  {
   "cell_type": "code",
   "execution_count": 21,
   "metadata": {},
   "outputs": [
    {
     "name": "stdout",
     "output_type": "stream",
     "text": [
      "2\n",
      "5\n"
     ]
    }
   ],
   "source": [
    "def f(y):\n",
    "    x = 1\n",
    "    x+=1\n",
    "    print(x)\n",
    "x = 5\n",
    "f(x)\n",
    "print(x)"
   ]
  },
  {
   "cell_type": "code",
   "execution_count": 22,
   "metadata": {},
   "outputs": [
    {
     "name": "stdout",
     "output_type": "stream",
     "text": [
      "5\n",
      "6\n",
      "5\n"
     ]
    }
   ],
   "source": [
    "def g(y):\n",
    "    print(x)\n",
    "    print(x+1)\n",
    "x = 5\n",
    "g(x)\n",
    "print(x)"
   ]
  },
  {
   "cell_type": "code",
   "execution_count": 23,
   "metadata": {},
   "outputs": [
    {
     "ename": "UnboundLocalError",
     "evalue": "local variable 'x' referenced before assignment",
     "output_type": "error",
     "traceback": [
      "\u001b[1;31m---------------------------------------------------------------------------\u001b[0m",
      "\u001b[1;31mUnboundLocalError\u001b[0m                         Traceback (most recent call last)",
      "\u001b[1;32m<ipython-input-23-e8ec39983143>\u001b[0m in \u001b[0;36m<module>\u001b[1;34m\u001b[0m\n\u001b[0;32m      4\u001b[0m \u001b[1;33m\u001b[0m\u001b[0m\n\u001b[0;32m      5\u001b[0m \u001b[0mx\u001b[0m \u001b[1;33m=\u001b[0m \u001b[1;36m5\u001b[0m\u001b[1;33m\u001b[0m\u001b[1;33m\u001b[0m\u001b[0m\n\u001b[1;32m----> 6\u001b[1;33m \u001b[0mh\u001b[0m\u001b[1;33m(\u001b[0m\u001b[0mx\u001b[0m\u001b[1;33m)\u001b[0m\u001b[1;33m\u001b[0m\u001b[1;33m\u001b[0m\u001b[0m\n\u001b[0m\u001b[0;32m      7\u001b[0m \u001b[0mprint\u001b[0m\u001b[1;33m(\u001b[0m\u001b[0mx\u001b[0m\u001b[1;33m)\u001b[0m\u001b[1;33m\u001b[0m\u001b[1;33m\u001b[0m\u001b[0m\n",
      "\u001b[1;32m<ipython-input-23-e8ec39983143>\u001b[0m in \u001b[0;36mh\u001b[1;34m(y)\u001b[0m\n\u001b[0;32m      1\u001b[0m \u001b[1;32mdef\u001b[0m \u001b[0mh\u001b[0m\u001b[1;33m(\u001b[0m\u001b[0my\u001b[0m\u001b[1;33m)\u001b[0m\u001b[1;33m:\u001b[0m\u001b[1;33m\u001b[0m\u001b[1;33m\u001b[0m\u001b[0m\n\u001b[0;32m      2\u001b[0m     \u001b[1;32mpass\u001b[0m\u001b[1;33m\u001b[0m\u001b[1;33m\u001b[0m\u001b[0m\n\u001b[1;32m----> 3\u001b[1;33m     \u001b[0mx\u001b[0m\u001b[1;33m+=\u001b[0m\u001b[1;36m1\u001b[0m\u001b[1;33m\u001b[0m\u001b[1;33m\u001b[0m\u001b[0m\n\u001b[0m\u001b[0;32m      4\u001b[0m \u001b[1;33m\u001b[0m\u001b[0m\n\u001b[0;32m      5\u001b[0m \u001b[0mx\u001b[0m \u001b[1;33m=\u001b[0m \u001b[1;36m5\u001b[0m\u001b[1;33m\u001b[0m\u001b[1;33m\u001b[0m\u001b[0m\n",
      "\u001b[1;31mUnboundLocalError\u001b[0m: local variable 'x' referenced before assignment"
     ]
    }
   ],
   "source": [
    "def h(y):\n",
    "    pass\n",
    "    x+=1\n",
    "    \n",
    "x = 5\n",
    "h(x)\n",
    "print(x)"
   ]
  },
  {
   "cell_type": "code",
   "execution_count": null,
   "metadata": {},
   "outputs": [],
   "source": [
    "def squareIt(n):\n",
    "    return n*n"
   ]
  },
  {
   "cell_type": "code",
   "execution_count": null,
   "metadata": {},
   "outputs": [],
   "source": [
    "lambda n:n*n"
   ]
  },
  {
   "cell_type": "markdown",
   "metadata": {},
   "source": [
    "### Shallow Copy & Deep Copy function"
   ]
  },
  {
   "cell_type": "code",
   "execution_count": 1,
   "metadata": {},
   "outputs": [],
   "source": [
    "list1 = [100,750,456,235,678,945,675,155]"
   ]
  },
  {
   "cell_type": "markdown",
   "metadata": {},
   "source": [
    "#### Shallow Copy\n",
    "- When we have nested lists, shallow copy doesn't work well, basically change in a list will also change the original or copied list."
   ]
  },
  {
   "cell_type": "code",
   "execution_count": 2,
   "metadata": {},
   "outputs": [
    {
     "data": {
      "text/plain": [
       "(1817730387592, 1817730395080)"
      ]
     },
     "execution_count": 2,
     "metadata": {},
     "output_type": "execute_result"
    }
   ],
   "source": [
    "copied_list = list1.copy()\n",
    "\n",
    "copied_list\n",
    "id(list1),id(copied_list)"
   ]
  },
  {
   "cell_type": "code",
   "execution_count": 3,
   "metadata": {},
   "outputs": [
    {
     "data": {
      "text/plain": [
       "[200, 750, 456, 235, 678, 945, 675, 155]"
      ]
     },
     "execution_count": 3,
     "metadata": {},
     "output_type": "execute_result"
    }
   ],
   "source": [
    "copied_list[0] = 200\n",
    "copied_list"
   ]
  },
  {
   "cell_type": "code",
   "execution_count": 4,
   "metadata": {},
   "outputs": [
    {
     "data": {
      "text/plain": [
       "[100, 750, 456, 235, 678, 945, 675, 155]"
      ]
     },
     "execution_count": 4,
     "metadata": {},
     "output_type": "execute_result"
    }
   ],
   "source": [
    "list1"
   ]
  },
  {
   "cell_type": "code",
   "execution_count": 5,
   "metadata": {},
   "outputs": [
    {
     "name": "stdout",
     "output_type": "stream",
     "text": [
      "[1000, 750, 456, 235, 678, 945, 675, 155]\n",
      "[200, 750, 456, 235, 678, 945, 675, 155]\n"
     ]
    }
   ],
   "source": [
    "list1[0] = 1000\n",
    "print(list1)\n",
    "print(copied_list)"
   ]
  },
  {
   "cell_type": "code",
   "execution_count": 6,
   "metadata": {
    "scrolled": true
   },
   "outputs": [
    {
     "data": {
      "text/plain": [
       "[[2, 3], [3, 4], [5, 6]]"
      ]
     },
     "execution_count": 6,
     "metadata": {},
     "output_type": "execute_result"
    }
   ],
   "source": [
    "# Shallow copy doesn't work on nested list\n",
    "list1 = [[2,3],[3,4],[5,6]]\n",
    "dummy_copy = list1.copy()\n",
    "dummy_copy"
   ]
  },
  {
   "cell_type": "markdown",
   "metadata": {},
   "source": [
    "- If we made changes in list then it will affect dummy list as well, so copy() function will not work with nested lists.\n",
    "- If we change any of the list then it will reflect other list as well. This says that there is some link in these original and copied list. So to avoid this, we have to use deep copy.\n",
    "- Example is as follows."
   ]
  },
  {
   "cell_type": "code",
   "execution_count": 7,
   "metadata": {},
   "outputs": [
    {
     "name": "stdout",
     "output_type": "stream",
     "text": [
      "[[100, 3], [3, 4], [5, 6]]\n",
      "[[100, 3], [3, 4], [5, 6]]\n"
     ]
    }
   ],
   "source": [
    "list1[0][0] = 100\n",
    "print(list1)\n",
    "print(dummy_copy)"
   ]
  },
  {
   "cell_type": "code",
   "execution_count": 9,
   "metadata": {},
   "outputs": [
    {
     "name": "stdout",
     "output_type": "stream",
     "text": [
      "[[500, 3], [3, 4], [5, 6]]\n",
      "[[500, 3], [3, 4], [5, 6]]\n"
     ]
    }
   ],
   "source": [
    "# It will change original list as well\n",
    "dummy_copy[0][0] = 500\n",
    "print(list1)\n",
    "print(dummy_copy)"
   ]
  },
  {
   "cell_type": "markdown",
   "metadata": {},
   "source": [
    "#### Deep Copy\n",
    "- Deep copy works well on nested lists\n",
    "- It will treat original list and copied list as two different lists.\n",
    "- If we change the original list then it will not affect the copied list and vice versa."
   ]
  },
  {
   "cell_type": "code",
   "execution_count": 10,
   "metadata": {},
   "outputs": [],
   "source": [
    "from copy import deepcopy, copy"
   ]
  },
  {
   "cell_type": "code",
   "execution_count": 11,
   "metadata": {},
   "outputs": [
    {
     "name": "stdout",
     "output_type": "stream",
     "text": [
      "[[2, 3], [3, 4], [5, 6]]\n"
     ]
    },
    {
     "data": {
      "text/plain": [
       "(1817730715400, 1817730364360)"
      ]
     },
     "execution_count": 11,
     "metadata": {},
     "output_type": "execute_result"
    }
   ],
   "source": [
    "list1 = [[2,3],[3,4],[5,6]]\n",
    "dummy_copy = deepcopy(list1)\n",
    "print(dummy_copy)\n",
    "id(list1),id(dummy_copy)"
   ]
  },
  {
   "cell_type": "code",
   "execution_count": 12,
   "metadata": {},
   "outputs": [
    {
     "name": "stdout",
     "output_type": "stream",
     "text": [
      "[[100, 3], [3, 4], [5, 6]]\n",
      "[[2, 3], [3, 4], [5, 6]]\n"
     ]
    }
   ],
   "source": [
    "# It will not change dummy list\n",
    "list1[0][0] = 100\n",
    "print(list1)\n",
    "print(dummy_copy)"
   ]
  },
  {
   "cell_type": "markdown",
   "metadata": {},
   "source": [
    "### Enumerate Function\n",
    "- Enumerate method adds a counter to an iterable and returns it in a form of enumerating object.\n",
    "- This enumerated object can then be used directly for loops or converated into a list of tuples using the `list()` method.\n",
    "- **Syntax:** `enumerate(iterable,start=0)`"
   ]
  },
  {
   "cell_type": "code",
   "execution_count": 13,
   "metadata": {},
   "outputs": [
    {
     "name": "stdout",
     "output_type": "stream",
     "text": [
      "<enumerate object at 0x000001A7393B1868>\n",
      "<class 'enumerate'>\n"
     ]
    }
   ],
   "source": [
    "l1 = [\"eat\",\"sleep\",\"repeat\"]\n",
    "x = enumerate(l1)\n",
    "print(x)\n",
    "print(type(x))"
   ]
  },
  {
   "cell_type": "code",
   "execution_count": 17,
   "metadata": {},
   "outputs": [
    {
     "name": "stdout",
     "output_type": "stream",
     "text": [
      "0 eat\n",
      "1 sleep\n",
      "2 repeat\n"
     ]
    }
   ],
   "source": [
    "for count,val in x:\n",
    "    print(count,val)"
   ]
  },
  {
   "cell_type": "code",
   "execution_count": 18,
   "metadata": {},
   "outputs": [
    {
     "name": "stdout",
     "output_type": "stream",
     "text": [
      "100 eat\n",
      "101 sleep\n",
      "102 repeat\n"
     ]
    }
   ],
   "source": [
    "for count,val in enumerate(l1,start=100):\n",
    "    print(count,val)"
   ]
  },
  {
   "cell_type": "code",
   "execution_count": 19,
   "metadata": {},
   "outputs": [
    {
     "name": "stdout",
     "output_type": "stream",
     "text": [
      "(0, 'P')\n",
      "(1, 'y')\n",
      "(2, 't')\n",
      "(3, 'h')\n",
      "(4, 'o')\n",
      "(5, 'n')\n"
     ]
    }
   ],
   "source": [
    "for item in enumerate('Python'):\n",
    "    print(item)"
   ]
  },
  {
   "cell_type": "code",
   "execution_count": null,
   "metadata": {},
   "outputs": [],
   "source": []
  }
 ],
 "metadata": {
  "kernelspec": {
   "display_name": "Python 3",
   "language": "python",
   "name": "python3"
  },
  "language_info": {
   "codemirror_mode": {
    "name": "ipython",
    "version": 3
   },
   "file_extension": ".py",
   "mimetype": "text/x-python",
   "name": "python",
   "nbconvert_exporter": "python",
   "pygments_lexer": "ipython3",
   "version": "3.7.16"
  }
 },
 "nbformat": 4,
 "nbformat_minor": 4
}
