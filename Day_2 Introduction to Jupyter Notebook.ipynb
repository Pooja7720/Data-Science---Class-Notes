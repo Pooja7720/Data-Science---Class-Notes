{
 "cells": [
  {
   "cell_type": "markdown",
   "metadata": {},
   "source": [
    "## Some important shortcuts \n",
    "- a -> Add cell above selected cell\n",
    "- b -> Add cell below selected cell\n",
    "- dd -> Delete selected cell\n",
    "- z -> Restore deleted cell\n",
    "- ctrl + p -> To save file as PDF\n",
    "- ctrl + enter -> To run the current cell (Only run)\n",
    "- shift + enter -> To run the current cell and select the next cell\n",
    "- If you are in cell an typing mode is on then press esc to come out of cell and then press h -> for seeing keyboard shortcuts\n",
    "- Close &hault is used to close all files."
   ]
  },
  {
   "cell_type": "code",
   "execution_count": 6,
   "metadata": {},
   "outputs": [
    {
     "name": "stdout",
     "output_type": "stream",
     "text": [
      "Average value is :  3.0\n",
      "15\n",
      "5\n"
     ]
    }
   ],
   "source": [
    "def avg_number(*x):\n",
    "    sum_val=0\n",
    "    count = len(x)\n",
    "    for val in x:\n",
    "        sum_val+=val\n",
    "    print(\"Average value is : \",sum_val/count)\n",
    "    print(sum_val)\n",
    "    print(count)\n",
    "avg_number(1,2,3,4,5)"
   ]
  },
  {
   "cell_type": "code",
   "execution_count": null,
   "metadata": {},
   "outputs": [],
   "source": []
  }
 ],
 "metadata": {
  "kernelspec": {
   "display_name": "Python 3",
   "language": "python",
   "name": "python3"
  },
  "language_info": {
   "codemirror_mode": {
    "name": "ipython",
    "version": 3
   },
   "file_extension": ".py",
   "mimetype": "text/x-python",
   "name": "python",
   "nbconvert_exporter": "python",
   "pygments_lexer": "ipython3",
   "version": "3.7.6"
  }
 },
 "nbformat": 4,
 "nbformat_minor": 4
}
