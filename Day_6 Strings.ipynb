{
 "cells": [
  {
   "cell_type": "markdown",
   "metadata": {},
   "source": [
    "## Strings in Python\n",
    "- Strings in python are surrounded by either single quotation marks, or double quoation marks.\n",
    "- 'hi' is the same as \"hi\".\n",
    "- Display a string --> print() function\n",
    "- print(\"Hi\")\n",
    "  print('Hi')"
   ]
  },
  {
   "cell_type": "markdown",
   "metadata": {},
   "source": [
    "## Assigning string to a Variable\n",
    "Ex : a = \"Hi\"\n",
    "     print(a)"
   ]
  },
  {
   "cell_type": "markdown",
   "metadata": {},
   "source": [
    "## Multiple line Strings\n",
    "- You can assign a multiline string to a variable by using three quotes.\n",
    "\n",
    "Eg: a = \"\"\"Hello I am pooja!\n",
    "\n",
    "How are you?\n",
    "\n",
    "It's very cool to learn data science!\n",
    "\n",
    "see yaa\"\"\"\n",
    "\n",
    "print(a)\n",
    "\n",
    "##### OR\n",
    "\n",
    "Eg: a = '''Hello I am pooja!\n",
    "\n",
    "How are you?\n",
    "\n",
    "It's very cool to learn data science!\n",
    "\n",
    "see yaa'''\n",
    "\n",
    "print(a)"
   ]
  },
  {
   "cell_type": "code",
   "execution_count": 15,
   "metadata": {
    "scrolled": true
   },
   "outputs": [
    {
     "name": "stdout",
     "output_type": "stream",
     "text": [
      "Hello I am pooja!\n",
      "How are you?\n",
      "It's very cool to learn data science!\n",
      "see yaa\n"
     ]
    }
   ],
   "source": [
    "a = \"\"\"Hello I am pooja!\n",
    "How are you?\n",
    "It's very cool to learn data science!\n",
    "see yaa\"\"\"\n",
    "\n",
    "print(a)"
   ]
  },
  {
   "cell_type": "markdown",
   "metadata": {},
   "source": [
    "#####  Triple double quotes and triple single quotes are used for multiline comments also, but if you assign a variable to it then it will work as a multiline string."
   ]
  },
  {
   "cell_type": "markdown",
   "metadata": {},
   "source": [
    "### String Length\n",
    "- len(str) returns length of the string\n",
    "- Eg: b = \"Hi, Python! Whats up\"\n",
    "- A = len(b)"
   ]
  },
  {
   "cell_type": "code",
   "execution_count": 32,
   "metadata": {},
   "outputs": [
    {
     "data": {
      "text/plain": [
       "20"
      ]
     },
     "execution_count": 32,
     "metadata": {},
     "output_type": "execute_result"
    }
   ],
   "source": [
    "b = \"Hi, Python! Whats up\"\n",
    "a = len(b)\n",
    "a"
   ]
  },
  {
   "cell_type": "markdown",
   "metadata": {},
   "source": [
    "### String Slicing\n",
    "- Slice syntax -> returns range of characters\n",
    "- Specify the start index and the end index, separated by a colon, to return a part of the string.\n",
    "- Remember first character has index 0\n",
    "- In case of slicing, indexes must be from left to right, if you take index from right to left then it will print nothing. It means starting index must be lesser thn the ending index, operations are performed in left to right manner."
   ]
  },
  {
   "cell_type": "code",
   "execution_count": 11,
   "metadata": {},
   "outputs": [
    {
     "name": "stdout",
     "output_type": "stream",
     "text": [
      ",Py\n"
     ]
    }
   ],
   "source": [
    "b = \"Hi,Python!\"\n",
    "print(b[2:5])"
   ]
  },
  {
   "cell_type": "markdown",
   "metadata": {},
   "source": [
    "- Slice from the start:"
   ]
  },
  {
   "cell_type": "code",
   "execution_count": 12,
   "metadata": {},
   "outputs": [
    {
     "name": "stdout",
     "output_type": "stream",
     "text": [
      "Hi,Py\n"
     ]
    }
   ],
   "source": [
    "b = \"Hi,Python!\"\n",
    "print(b[:5])"
   ]
  },
  {
   "cell_type": "markdown",
   "metadata": {},
   "source": [
    "- slice to the end:"
   ]
  },
  {
   "cell_type": "code",
   "execution_count": 15,
   "metadata": {},
   "outputs": [
    {
     "name": "stdout",
     "output_type": "stream",
     "text": [
      ",Python!\n"
     ]
    }
   ],
   "source": [
    "b = \"Hi,Python!\"\n",
    "print(b[2:])"
   ]
  },
  {
   "cell_type": "code",
   "execution_count": 1,
   "metadata": {},
   "outputs": [
    {
     "name": "stdout",
     "output_type": "stream",
     "text": [
      "Hel\n"
     ]
    }
   ],
   "source": [
    "a = \"Hello\" # H=0,-5 , e=1,-4 , l=2,-3 , l=3,-2 , o=4,-1\n",
    "print(a[:-2]) #print(a[-5:-2]) Both are same"
   ]
  },
  {
   "cell_type": "code",
   "execution_count": 5,
   "metadata": {},
   "outputs": [
    {
     "name": "stdout",
     "output_type": "stream",
     "text": [
      "tasc\n",
      "science\n",
      "Data\n"
     ]
    }
   ],
   "source": [
    "a2 = \"Datascience\" # D=-11, a=-10, t=-9, a=-8, s=-7, c=-6, i=-5, e=-4, n=-3, c=-2, e=-1\n",
    "# print tasc\n",
    "print(a2[-9:-5])\n",
    "# print science\n",
    "print(a2[-7:])\n",
    "# print Data\n",
    "print(a2[:-7])"
   ]
  },
  {
   "cell_type": "code",
   "execution_count": 7,
   "metadata": {},
   "outputs": [
    {
     "name": "stdout",
     "output_type": "stream",
     "text": [
      "conda\n",
      "conda\n"
     ]
    }
   ],
   "source": [
    "fff = \"Anaconda\"\n",
    "#  POSITIVE INDEXING                             NEGATIVE INDEXING\n",
    "# A=0, n=1, a=2, c=3, o=4, n=5, d=6, a=7         A=-8, n-7, a=-6, c=-5, o=-4, n=-3, d=-2, a=-1\n",
    "\n",
    "# print conda using positive slicing\n",
    "print(fff[3:]) # or print(fff[3:8])\n",
    "#print conda using negative slicing\n",
    "print(fff[-5:])"
   ]
  },
  {
   "cell_type": "markdown",
   "metadata": {},
   "source": [
    "### Negative Indexing\n",
    "- Use negative indexes to start the slice from the end of the string.\n",
    "- Negative index starts from -1 from the end"
   ]
  },
  {
   "cell_type": "code",
   "execution_count": 14,
   "metadata": {},
   "outputs": [
    {
     "name": "stdout",
     "output_type": "stream",
     "text": [
      "orl\n"
     ]
    }
   ],
   "source": [
    "b = \"Hello, World!\"\n",
    "print(b[-5:-2])"
   ]
  },
  {
   "cell_type": "markdown",
   "metadata": {},
   "source": [
    "### Modify Strings\n",
    "- These below functions are only applicable for strings and not for integer, float and any other data type.\n",
    "- upper() and lower() functions are used only for string of characters, for other strings there will be no effect\n",
    "- upper() and lower() functions are used, when we want to filter data and want all the characters in same case.\n",
    "\n",
    "#### 1. Upper case:\n",
    "- Entire string is getting converted into upper case"
   ]
  },
  {
   "cell_type": "code",
   "execution_count": 16,
   "metadata": {},
   "outputs": [
    {
     "name": "stdout",
     "output_type": "stream",
     "text": [
      "HI,PYTHON!\n"
     ]
    }
   ],
   "source": [
    "a = \"Hi,Python!\"\n",
    "print(a.upper())"
   ]
  },
  {
   "cell_type": "markdown",
   "metadata": {},
   "source": [
    "#### 2. Lower Case:\n",
    "- Entire string is getting converted into lower case"
   ]
  },
  {
   "cell_type": "code",
   "execution_count": 17,
   "metadata": {},
   "outputs": [
    {
     "name": "stdout",
     "output_type": "stream",
     "text": [
      "hi,python!\n"
     ]
    }
   ],
   "source": [
    "a = \"Hi,Python!\"\n",
    "print(a.lower())"
   ]
  },
  {
   "cell_type": "markdown",
   "metadata": {},
   "source": [
    "#### 3. Remove Whitespace:\n",
    "- strip() function is used for removing the white spaces at the start and the end of string\n",
    "- This function is not used to strip the spaces within the string\n",
    "- strip() function is used to nullyfy the spaces at the start or at the end. Which is used for data cleaning."
   ]
  },
  {
   "cell_type": "code",
   "execution_count": 21,
   "metadata": {},
   "outputs": [
    {
     "name": "stdout",
     "output_type": "stream",
     "text": [
      "Hi,Python!\n"
     ]
    }
   ],
   "source": [
    "a = \"      Hi,Python!      \" # Remove white spaces outside the string, not within the string\n",
    "print(a.strip())"
   ]
  },
  {
   "cell_type": "markdown",
   "metadata": {},
   "source": [
    "#### 4. Replace string:\n",
    "- If you want to replace any element within a string with another element then replace() function is used\n",
    "- You can also replace a word in a string\n",
    "- Two values are need to be added in a replace function, otherwise it will throw an error"
   ]
  },
  {
   "cell_type": "code",
   "execution_count": 22,
   "metadata": {
    "scrolled": false
   },
   "outputs": [
    {
     "name": "stdout",
     "output_type": "stream",
     "text": [
      "Ji,Python!\n"
     ]
    }
   ],
   "source": [
    "a = \"Hi,Python!\"\n",
    "print(a.replace(\"H\",\"J\")) # Here H is replaced by J"
   ]
  },
  {
   "cell_type": "code",
   "execution_count": 13,
   "metadata": {},
   "outputs": [
    {
     "ename": "TypeError",
     "evalue": "replace() takes at least 2 arguments (1 given)",
     "output_type": "error",
     "traceback": [
      "\u001b[1;31m---------------------------------------------------------------------------\u001b[0m",
      "\u001b[1;31mTypeError\u001b[0m                                 Traceback (most recent call last)",
      "\u001b[1;32m<ipython-input-13-8ff0129e79f1>\u001b[0m in \u001b[0;36m<module>\u001b[1;34m\u001b[0m\n\u001b[0;32m      1\u001b[0m \u001b[0ma\u001b[0m \u001b[1;33m=\u001b[0m \u001b[1;34m\"Hi,Python!\"\u001b[0m\u001b[1;33m\u001b[0m\u001b[1;33m\u001b[0m\u001b[0m\n\u001b[1;32m----> 2\u001b[1;33m \u001b[0mprint\u001b[0m\u001b[1;33m(\u001b[0m\u001b[0ma\u001b[0m\u001b[1;33m.\u001b[0m\u001b[0mreplace\u001b[0m\u001b[1;33m(\u001b[0m\u001b[1;34m\"H\"\u001b[0m\u001b[1;33m)\u001b[0m\u001b[1;33m)\u001b[0m\u001b[1;33m\u001b[0m\u001b[1;33m\u001b[0m\u001b[0m\n\u001b[0m",
      "\u001b[1;31mTypeError\u001b[0m: replace() takes at least 2 arguments (1 given)"
     ]
    }
   ],
   "source": [
    "a = \"Hi,Python!\"\n",
    "print(a.replace(\"H\")) # Two values are must"
   ]
  },
  {
   "cell_type": "code",
   "execution_count": 14,
   "metadata": {},
   "outputs": [
    {
     "ename": "TypeError",
     "evalue": "'str' object cannot be interpreted as an integer",
     "output_type": "error",
     "traceback": [
      "\u001b[1;31m---------------------------------------------------------------------------\u001b[0m",
      "\u001b[1;31mTypeError\u001b[0m                                 Traceback (most recent call last)",
      "\u001b[1;32m<ipython-input-14-a784cf8c0e63>\u001b[0m in \u001b[0;36m<module>\u001b[1;34m\u001b[0m\n\u001b[0;32m      1\u001b[0m \u001b[0ma\u001b[0m \u001b[1;33m=\u001b[0m \u001b[1;34m\"Hi,Python!\"\u001b[0m\u001b[1;33m\u001b[0m\u001b[1;33m\u001b[0m\u001b[0m\n\u001b[1;32m----> 2\u001b[1;33m \u001b[0mprint\u001b[0m\u001b[1;33m(\u001b[0m\u001b[0ma\u001b[0m\u001b[1;33m.\u001b[0m\u001b[0mreplace\u001b[0m\u001b[1;33m(\u001b[0m\u001b[1;34m\"H\"\u001b[0m\u001b[1;33m,\u001b[0m\u001b[1;34m\"J\"\u001b[0m\u001b[1;33m,\u001b[0m\u001b[1;34m\"K\"\u001b[0m\u001b[1;33m)\u001b[0m\u001b[1;33m)\u001b[0m \u001b[1;31m# Only two values there, not more than that\u001b[0m\u001b[1;33m\u001b[0m\u001b[1;33m\u001b[0m\u001b[0m\n\u001b[0m",
      "\u001b[1;31mTypeError\u001b[0m: 'str' object cannot be interpreted as an integer"
     ]
    }
   ],
   "source": [
    "a = \"Hi,Python!\"\n",
    "print(a.replace(\"H\",\"J\",\"K\")) # Only two values there, not more than that"
   ]
  },
  {
   "cell_type": "code",
   "execution_count": 12,
   "metadata": {},
   "outputs": [
    {
     "name": "stdout",
     "output_type": "stream",
     "text": [
      "Hi,Javascript!\n"
     ]
    }
   ],
   "source": [
    "a = \"Hi,Python!\"\n",
    "print(a.replace(\"Python\",\"Javascript\"))"
   ]
  },
  {
   "cell_type": "markdown",
   "metadata": {},
   "source": [
    "#### 5. Split string:\n",
    "- Used for converting string to list\n",
    "- Main purpose is to split the string\n",
    "- You must have to use () for split, because split is a function and if you use without () then it will do nothing.\n",
    "- Split function differentiates elements from one another using spaces\n",
    "- The output of split() function is a list"
   ]
  },
  {
   "cell_type": "code",
   "execution_count": 10,
   "metadata": {},
   "outputs": [
    {
     "name": "stdout",
     "output_type": "stream",
     "text": [
      "['Hi,Python!']\n",
      "['This', 'is', 'a', 'string', 'topic']\n"
     ]
    }
   ],
   "source": [
    "a = \"Hi,Python!\"\n",
    "print(a.split())\n",
    "b = \"This is a string topic\"\n",
    "print(b.split())"
   ]
  },
  {
   "cell_type": "markdown",
   "metadata": {},
   "source": [
    "### String Concatination\n",
    "- Concatination is combining 2 or more string"
   ]
  },
  {
   "cell_type": "code",
   "execution_count": 9,
   "metadata": {},
   "outputs": [
    {
     "name": "stdout",
     "output_type": "stream",
     "text": [
      "HelloWorld!\n",
      "Hi,Python!This is a string topic\n"
     ]
    }
   ],
   "source": [
    "a = \"Hello\"\n",
    "b = \"World!\"\n",
    "c = a + b\n",
    "print(c)\n",
    "a1 = \"Hi,Python!\"\n",
    "b1 = \"This is a string topic\"\n",
    "print(a1+b1)"
   ]
  },
  {
   "cell_type": "markdown",
   "metadata": {},
   "source": [
    "### Format String\n",
    "- Format method -> Used for combining strings and numbers\n",
    "- The format() method takes the passed arguments, formats them, and places them in the string where the placeholders {} are:"
   ]
  },
  {
   "cell_type": "code",
   "execution_count": 26,
   "metadata": {},
   "outputs": [
    {
     "name": "stdout",
     "output_type": "stream",
     "text": [
      "My name is John, and I am 36\n"
     ]
    }
   ],
   "source": [
    "age = 36\n",
    "txt = \"My name is John, and I am {}\"\n",
    "print(txt.format(age))"
   ]
  },
  {
   "cell_type": "code",
   "execution_count": 29,
   "metadata": {},
   "outputs": [
    {
     "name": "stdout",
     "output_type": "stream",
     "text": [
      "I want 3 pieces of item 567 for 49.95 dollers\n"
     ]
    }
   ],
   "source": [
    "quantity = 3\n",
    "itemno = 567\n",
    "price = 49.95\n",
    "myorder = \"I want {} pieces of item {} for {} dollers\"\n",
    "print(myorder.format(quantity, itemno, price))"
   ]
  },
  {
   "cell_type": "code",
   "execution_count": 30,
   "metadata": {},
   "outputs": [
    {
     "name": "stdout",
     "output_type": "stream",
     "text": [
      "I want 49.95 pieces of item 3 for 567 dollers\n"
     ]
    }
   ],
   "source": [
    "quantity = 3\n",
    "itemno = 567\n",
    "price = 49.95\n",
    "myorder = \"I want {2} pieces of item {0} for {1} dollers\"\n",
    "print(myorder.format(quantity, itemno, price))"
   ]
  },
  {
   "cell_type": "markdown",
   "metadata": {},
   "source": [
    "### Escape character\n",
    "- Used for printing the string with double quotes.\n",
    "- Usually, Double or single quotes are not printed when we are printing a string, but if we want to print it, then we are using escape character \\ so that, quotes after \\ are printed."
   ]
  },
  {
   "cell_type": "code",
   "execution_count": 31,
   "metadata": {},
   "outputs": [
    {
     "name": "stdout",
     "output_type": "stream",
     "text": [
      "We are learning \"Data Science\" using \"Python\".\n"
     ]
    }
   ],
   "source": [
    "txt = \"We are learning \\\"Data Science\\\" using \\\"Python\\\".\"\n",
    "print(txt)"
   ]
  },
  {
   "cell_type": "code",
   "execution_count": 1,
   "metadata": {},
   "outputs": [
    {
     "name": "stdout",
     "output_type": "stream",
     "text": [
      "This is a string topic\n"
     ]
    }
   ],
   "source": [
    "a = \"This is a string topic\" # Anything we can write in a single quotes or double quotes is considered as a string\n",
    "print(a)"
   ]
  },
  {
   "cell_type": "code",
   "execution_count": 2,
   "metadata": {},
   "outputs": [
    {
     "data": {
      "text/plain": [
       "str"
      ]
     },
     "execution_count": 2,
     "metadata": {},
     "output_type": "execute_result"
    }
   ],
   "source": [
    "type(a) # type is a function with the help of which we can find out the data type of variable"
   ]
  },
  {
   "cell_type": "code",
   "execution_count": 3,
   "metadata": {},
   "outputs": [
    {
     "data": {
      "text/plain": [
       "22"
      ]
     },
     "execution_count": 3,
     "metadata": {},
     "output_type": "execute_result"
    }
   ],
   "source": [
    "len(a) \n",
    "# len function is going to return the length of string. Means it will tell us the number of characters present in the string.\n",
    "# len function is not only applicable to string but also applicable to other data types also."
   ]
  },
  {
   "cell_type": "markdown",
   "metadata": {},
   "source": [
    "### String indexing and slicing\n",
    "- There are two functions highly used in case of string that are length of string and indexing.\n",
    "- Length starts from 1 and Index starts from 0\n",
    "- Each and every character or element of the string along with the space have internally according to the kernel there are going to have values.\n",
    "- Indexes has to be implemented in square brackets only.\n",
    "- When we are doing indexing, starting position is included and the ending position is excluded\n",
    "- string[starting index, end index + 1] is called as string slicing"
   ]
  },
  {
   "cell_type": "code",
   "execution_count": 4,
   "metadata": {},
   "outputs": [
    {
     "name": "stdout",
     "output_type": "stream",
     "text": [
      "el\n"
     ]
    }
   ],
   "source": [
    "a = \"Hello\" # H=0, e=1, l=2, l=3, o=4  negative slicing H=-5, e=-4, l=-3, l=-2, o=-1\n",
    "print(a[1:3])\n"
   ]
  },
  {
   "cell_type": "code",
   "execution_count": 5,
   "metadata": {},
   "outputs": [
    {
     "name": "stdout",
     "output_type": "stream",
     "text": [
      "\n"
     ]
    }
   ],
   "source": [
    "print(a[2:1])"
   ]
  },
  {
   "cell_type": "code",
   "execution_count": 8,
   "metadata": {},
   "outputs": [
    {
     "name": "stdout",
     "output_type": "stream",
     "text": [
      "ll\n"
     ]
    }
   ],
   "source": [
    "print(a[2:-1])"
   ]
  },
  {
   "cell_type": "code",
   "execution_count": 9,
   "metadata": {},
   "outputs": [
    {
     "name": "stdout",
     "output_type": "stream",
     "text": [
      "example\n"
     ]
    }
   ],
   "source": [
    "#    0123456789\n",
    "b = \"This example is of string topic\"\n",
    "print(b[5:12]) # b[starting index : ending index + 1]"
   ]
  },
  {
   "cell_type": "markdown",
   "metadata": {},
   "source": [
    "### Taking input from user and spliting it\n",
    "- We can take input from user by using the input() function. You can give message which you want to show to the user."
   ]
  },
  {
   "cell_type": "code",
   "execution_count": 11,
   "metadata": {},
   "outputs": [
    {
     "name": "stdout",
     "output_type": "stream",
     "text": [
      "Please enter your string : Hi 234 we are learning interesting topic\n",
      "['Hi', '234', 'we', 'are', 'learning', 'interesting', 'topic']\n"
     ]
    }
   ],
   "source": [
    "h3 = input(\"Please enter your string : \")\n",
    "print(h3.split())"
   ]
  },
  {
   "cell_type": "code",
   "execution_count": null,
   "metadata": {},
   "outputs": [],
   "source": []
  }
 ],
 "metadata": {
  "kernelspec": {
   "display_name": "Python 3",
   "language": "python",
   "name": "python3"
  },
  "language_info": {
   "codemirror_mode": {
    "name": "ipython",
    "version": 3
   },
   "file_extension": ".py",
   "mimetype": "text/x-python",
   "name": "python",
   "nbconvert_exporter": "python",
   "pygments_lexer": "ipython3",
   "version": "3.7.6"
  }
 },
 "nbformat": 4,
 "nbformat_minor": 4
}
