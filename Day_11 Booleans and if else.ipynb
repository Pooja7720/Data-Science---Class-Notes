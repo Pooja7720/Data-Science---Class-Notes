{
 "cells": [
  {
   "cell_type": "markdown",
   "metadata": {},
   "source": [
    "# Booleans\n",
    "- You can evaluate any expression in python, and get one of two answers, True or False\n",
    "- When you compare two values, the expression is evaluated and Python returns the Boolean answer."
   ]
  },
  {
   "cell_type": "code",
   "execution_count": 1,
   "metadata": {},
   "outputs": [
    {
     "name": "stdout",
     "output_type": "stream",
     "text": [
      "False\n",
      "False\n",
      "True\n"
     ]
    }
   ],
   "source": [
    "print(12>19)\n",
    "print(22==51)\n",
    "print(8<9)"
   ]
  },
  {
   "cell_type": "code",
   "execution_count": 3,
   "metadata": {},
   "outputs": [
    {
     "name": "stdout",
     "output_type": "stream",
     "text": [
      "False\n"
     ]
    }
   ],
   "source": [
    "a = 7\n",
    "b = 5\n",
    "print(a<b)"
   ]
  },
  {
   "cell_type": "code",
   "execution_count": 4,
   "metadata": {},
   "outputs": [
    {
     "name": "stdout",
     "output_type": "stream",
     "text": [
      "True\n"
     ]
    }
   ],
   "source": [
    "print(a>b)"
   ]
  },
  {
   "cell_type": "code",
   "execution_count": 5,
   "metadata": {},
   "outputs": [
    {
     "name": "stdout",
     "output_type": "stream",
     "text": [
      "True\n"
     ]
    }
   ],
   "source": [
    "print(45==45)"
   ]
  },
  {
   "cell_type": "code",
   "execution_count": 6,
   "metadata": {},
   "outputs": [
    {
     "name": "stdout",
     "output_type": "stream",
     "text": [
      "False\n"
     ]
    }
   ],
   "source": [
    "print(45==34)"
   ]
  },
  {
   "cell_type": "markdown",
   "metadata": {},
   "source": [
    "#### Print a message based on weather the condition is True or False"
   ]
  },
  {
   "cell_type": "code",
   "execution_count": 2,
   "metadata": {},
   "outputs": [
    {
     "name": "stdout",
     "output_type": "stream",
     "text": [
      "a is greater than b\n"
     ]
    }
   ],
   "source": [
    "a = 265\n",
    "b = 48\n",
    "if b>a:\n",
    "    print(\"b is greater than a\")\n",
    "else:\n",
    "    print(\"a is greater than b\")"
   ]
  },
  {
   "cell_type": "markdown",
   "metadata": {},
   "source": [
    "## if-else\n",
    "- Python supports the usual logical conditions from mathematics:\n",
    "1. Equals: `a == b`\n",
    "2. Not Equals: `a != b`\n",
    "3. Less than: `a < b`\n",
    "4. Less than or equal to: `a <= b`\n",
    "5. Greater than: `a > b`\n",
    "6. Greater than or equal to: `a >= b`\n",
    "- These conditions can be used in several ways, most commonly in \"if statements\" and loops.\n",
    "- An \"if statement\" is written by using the if keyword.\n",
    "\n",
    "### if, elif, else Statements\n",
    "- `if Statement` in Python allows us to tell the computer to perform `alternative actions` based on a certain `set of conditions`.\n",
    "- Verbally, we can imagine we are telling the computer:\n",
    "  \"Hey if this case happens, perform some action, Else, if another case happens, perform some other action, Else none of the above cases happened, perform this action\" \n",
    "- else, elif are optional blocks.\n",
    "  \n",
    "#### Typical Syntax:\n",
    "`if case1:`\n",
    "    perform action1\n",
    "`if case2:`\n",
    "    perform action2\n",
    "\n",
    "`if case3:`\n",
    "    perform action3\n",
    "\n",
    "`if case4:`\n",
    "    perform action4"
   ]
  },
  {
   "cell_type": "code",
   "execution_count": 7,
   "metadata": {},
   "outputs": [
    {
     "name": "stdout",
     "output_type": "stream",
     "text": [
      "b is greater than a\n"
     ]
    }
   ],
   "source": [
    "# comparing numbers without else statement\n",
    "a = 78\n",
    "b = 5000\n",
    "if b>a:\n",
    "    print(\"b is greater than a\")"
   ]
  },
  {
   "cell_type": "code",
   "execution_count": 2,
   "metadata": {},
   "outputs": [
    {
     "name": "stdout",
     "output_type": "stream",
     "text": [
      "Hi\n"
     ]
    }
   ],
   "source": [
    "if 5+6==10:\n",
    "    print(\"Input expression is correct!\")\n",
    "print(\"Hi\")"
   ]
  },
  {
   "cell_type": "code",
   "execution_count": 1,
   "metadata": {},
   "outputs": [
    {
     "name": "stdout",
     "output_type": "stream",
     "text": [
      "Input expression is correct!\n"
     ]
    }
   ],
   "source": [
    "if True:\n",
    "    print(\"Input expression is correct!\")"
   ]
  },
  {
   "cell_type": "code",
   "execution_count": 3,
   "metadata": {},
   "outputs": [
    {
     "name": "stdout",
     "output_type": "stream",
     "text": [
      "Input expression is correct!\n"
     ]
    }
   ],
   "source": [
    "if '5'+'5'=='55':\n",
    "    print(\"Input expression is correct!\")"
   ]
  },
  {
   "cell_type": "code",
   "execution_count": 5,
   "metadata": {},
   "outputs": [
    {
     "name": "stdout",
     "output_type": "stream",
     "text": [
      "Input expression is incorrect!\n"
     ]
    }
   ],
   "source": [
    "if 5+5==55:\n",
    "    print(\"Input expression is correct!\")\n",
    "else:\n",
    "    print(\"Input expression is incorrect!\")\n"
   ]
  },
  {
   "cell_type": "code",
   "execution_count": 6,
   "metadata": {},
   "outputs": [
    {
     "name": "stdout",
     "output_type": "stream",
     "text": [
      "What's your name?Sandy\n",
      "Welcome Sandy Thank you for visiting again!\n"
     ]
    }
   ],
   "source": [
    "person = input(\"What's your name?\")\n",
    "if person==\"Pooja\" or person==\"Riya\" or person==\"Sandy\":\n",
    "    print(\"Welcome\",person,\"Thank you for visiting again!\")\n",
    "else:\n",
    "    print(\"Hi!\",person,\"Please sign up to aval resources!\")"
   ]
  },
  {
   "cell_type": "markdown",
   "metadata": {},
   "source": [
    "## Indentation\n",
    "- Python relies on indentation (whitespace at the beginning of a line) to define scope in the code. Other programming languages often use curly-brackets for this purpose."
   ]
  },
  {
   "cell_type": "code",
   "execution_count": 8,
   "metadata": {},
   "outputs": [
    {
     "ename": "IndentationError",
     "evalue": "expected an indented block (<ipython-input-8-110a488588bf>, line 4)",
     "output_type": "error",
     "traceback": [
      "\u001b[1;36m  File \u001b[1;32m\"<ipython-input-8-110a488588bf>\"\u001b[1;36m, line \u001b[1;32m4\u001b[0m\n\u001b[1;33m    print(\"b is greater than a\") # You will get an error\u001b[0m\n\u001b[1;37m        ^\u001b[0m\n\u001b[1;31mIndentationError\u001b[0m\u001b[1;31m:\u001b[0m expected an indented block\n"
     ]
    }
   ],
   "source": [
    "a = 33\n",
    "b = 200\n",
    "if b>a:\n",
    "print(\"b is greater than a\") # You will get an error"
   ]
  },
  {
   "cell_type": "markdown",
   "metadata": {},
   "source": [
    "## Elif\n",
    "- The elif keyword is pythons way of saying \"if the previous conditions were not true, then try this condition\".\n",
    "- We can also use multiple elif in code."
   ]
  },
  {
   "cell_type": "code",
   "execution_count": 9,
   "metadata": {},
   "outputs": [
    {
     "name": "stdout",
     "output_type": "stream",
     "text": [
      "a is equal to b\n"
     ]
    }
   ],
   "source": [
    "a = 33\n",
    "b = 33\n",
    "if a<b:\n",
    "    print(\"a is smaller than b\")\n",
    "elif a==b:\n",
    "    print(\"a is equal to b\")"
   ]
  },
  {
   "cell_type": "markdown",
   "metadata": {},
   "source": [
    "## Else\n",
    "- The else keyword catches anything which isn't caught by the preceding conditions.\n",
    "- else is always at the last of the block, any condition after else never gonna execute.\n",
    "- You can not put any condition in else block, if so it will give an error."
   ]
  },
  {
   "cell_type": "code",
   "execution_count": 10,
   "metadata": {},
   "outputs": [
    {
     "name": "stdout",
     "output_type": "stream",
     "text": [
      "a is greater than b\n"
     ]
    }
   ],
   "source": [
    "a = 200\n",
    "b = 33\n",
    "if a<b:\n",
    "    print(\"a is smaller than b\")\n",
    "elif a == b:\n",
    "    print(\"a is equal to b\")\n",
    "else:\n",
    "    print(\"a is greater than b\")"
   ]
  },
  {
   "cell_type": "markdown",
   "metadata": {},
   "source": [
    "## Else without Elif\n"
   ]
  },
  {
   "cell_type": "code",
   "execution_count": 18,
   "metadata": {},
   "outputs": [
    {
     "name": "stdout",
     "output_type": "stream",
     "text": [
      "b is not greater than a\n"
     ]
    }
   ],
   "source": [
    "a = 200\n",
    "b = 33\n",
    "if b > a:\n",
    "    print(\"b is greater than a\")\n",
    "else:\n",
    "    print(\"b is not greater than a\")"
   ]
  },
  {
   "cell_type": "markdown",
   "metadata": {},
   "source": [
    "## if not:\n",
    "- It gives output exactly opposite to the if statement.\n",
    "- It means that, it will print data inside the block if the condition is False."
   ]
  },
  {
   "cell_type": "code",
   "execution_count": 7,
   "metadata": {},
   "outputs": [
    {
     "name": "stdout",
     "output_type": "stream",
     "text": [
      "Enter the number:5\n",
      "The number is odd!\n"
     ]
    }
   ],
   "source": [
    "Num = int(input(\"Enter the number:\"))\n",
    "if not Num%2==0:\n",
    "    print(\"The number is odd!\")\n",
    "else:\n",
    "    print('The number is even!')"
   ]
  },
  {
   "cell_type": "markdown",
   "metadata": {},
   "source": [
    "## Elif after Else\n",
    "- else must be last, after else there is no condition, if so then it will give an error"
   ]
  },
  {
   "cell_type": "code",
   "execution_count": 19,
   "metadata": {},
   "outputs": [
    {
     "ename": "SyntaxError",
     "evalue": "invalid syntax (<ipython-input-19-a42b3c17917d>, line 5)",
     "output_type": "error",
     "traceback": [
      "\u001b[1;36m  File \u001b[1;32m\"<ipython-input-19-a42b3c17917d>\"\u001b[1;36m, line \u001b[1;32m5\u001b[0m\n\u001b[1;33m    else a == b:\u001b[0m\n\u001b[1;37m         ^\u001b[0m\n\u001b[1;31mSyntaxError\u001b[0m\u001b[1;31m:\u001b[0m invalid syntax\n"
     ]
    }
   ],
   "source": [
    "a = 200\n",
    "b = 33\n",
    "if a<b:\n",
    "    print(\"a is smaller than b\")\n",
    "else a == b:\n",
    "    print(\"a is equal to b\")\n",
    "elif a > b:\n",
    "    print(\"a is greater than b\")"
   ]
  },
  {
   "cell_type": "code",
   "execution_count": 8,
   "metadata": {},
   "outputs": [
    {
     "name": "stdout",
     "output_type": "stream",
     "text": [
      "False condition\n"
     ]
    }
   ],
   "source": [
    "condition=''\n",
    "if condition:\n",
    "    print(\"True condition\")\n",
    "else:\n",
    "    print(\"False condition\")"
   ]
  },
  {
   "cell_type": "code",
   "execution_count": 10,
   "metadata": {},
   "outputs": [
    {
     "name": "stdout",
     "output_type": "stream",
     "text": [
      "Enter number:\n"
     ]
    },
    {
     "ename": "SyntaxError",
     "evalue": "unexpected EOF while parsing (<string>, line 0)",
     "output_type": "error",
     "traceback": [
      "Traceback \u001b[1;36m(most recent call last)\u001b[0m:\n",
      "  File \u001b[0;32m\"C:\\Users\\Lenovo\\anaconda3\\lib\\site-packages\\IPython\\core\\interactiveshell.py\"\u001b[0m, line \u001b[0;32m3331\u001b[0m, in \u001b[0;35mrun_code\u001b[0m\n    exec(code_obj, self.user_global_ns, self.user_ns)\n",
      "\u001b[1;36m  File \u001b[1;32m\"<ipython-input-10-a0f3d7acd534>\"\u001b[1;36m, line \u001b[1;32m2\u001b[1;36m, in \u001b[1;35m<module>\u001b[1;36m\u001b[0m\n\u001b[1;33m    condition=eval(input(\"Enter number:\"))\u001b[0m\n",
      "\u001b[1;36m  File \u001b[1;32m\"<string>\"\u001b[1;36m, line \u001b[1;32munknown\u001b[0m\n\u001b[1;33m    \u001b[0m\n\u001b[1;37m    ^\u001b[0m\n\u001b[1;31mSyntaxError\u001b[0m\u001b[1;31m:\u001b[0m unexpected EOF while parsing\n"
     ]
    }
   ],
   "source": [
    "# Not adding input\n",
    "condition=eval(input(\"Enter number:\"))\n",
    "if condition:\n",
    "    print(\"True condition\")\n",
    "else:\n",
    "    print(\"False condition\")"
   ]
  },
  {
   "cell_type": "code",
   "execution_count": 11,
   "metadata": {},
   "outputs": [
    {
     "name": "stdout",
     "output_type": "stream",
     "text": [
      "False condition\n"
     ]
    }
   ],
   "source": [
    "condition = None\n",
    "if condition:\n",
    "    print(\"True condition\")\n",
    "else:\n",
    "    print(\"False condition\")"
   ]
  },
  {
   "cell_type": "markdown",
   "metadata": {},
   "source": [
    "**If we specify None, Flase or empty string then it will be treated as False, otherwise it will consider it as True.**"
   ]
  },
  {
   "cell_type": "markdown",
   "metadata": {},
   "source": [
    "## Nested if-else Statements:\n",
    "**Syntax:**\n",
    "- `if(condition):`\n",
    "    - #Statements to execute if condition is true\n",
    "    - `if(condition):`\n",
    "        - #Statements to execute if inner `if` is true\n",
    "    - `else:`\n",
    "        - #End of nested if\n",
    "- `else:`\n",
    "    - #End of if"
   ]
  },
  {
   "cell_type": "code",
   "execution_count": 1,
   "metadata": {},
   "outputs": [
    {
     "name": "stdout",
     "output_type": "stream",
     "text": [
      "Enter any number:-10\n",
      "-10 is a negative number\n"
     ]
    }
   ],
   "source": [
    "i = int(input(\"Enter any number:\"))\n",
    "if i>0:\n",
    "    if i<20:\n",
    "        print(i,\"is smaller than 20\")\n",
    "    elif i>20:\n",
    "        print(i,\"is larger than 20\")\n",
    "    else:\n",
    "        print(i,\"is equal to 20\")\n",
    "else:\n",
    "    print(i,\"is a negative number\")"
   ]
  },
  {
   "cell_type": "code",
   "execution_count": 3,
   "metadata": {},
   "outputs": [
    {
     "name": "stdout",
     "output_type": "stream",
     "text": [
      "Enter your age: 18\n",
      "Have you completed your graduation? y/ny\n",
      "Do you have license? y/nn\n",
      "You are 18 or older, welcome to adulthood!\n",
      "Congradulations with your graduation!\n",
      "You can't drive\n"
     ]
    }
   ],
   "source": [
    "def checkGraduation():\n",
    "    check = input(\"Have you completed your graduation? y/n\")\n",
    "    if check.lower() == 'y' or check.lower == 'yes':\n",
    "        return True\n",
    "    else:\n",
    "        return False\n",
    "    \n",
    "def checkLicense():\n",
    "    check = input(\"Do you have license? y/n\")\n",
    "    if check.lower() == 'y' or check.lower == 'yes':\n",
    "        return True\n",
    "    else:\n",
    "        return False\n",
    "    \n",
    "age = int(input(\"Enter your age: \"))\n",
    "\n",
    "if age >=18:\n",
    "    isGraduated = checkGraduation()\n",
    "\n",
    "    hasLicense = checkLicense()\n",
    "    \n",
    "    print(\"You are 18 or older, welcome to adulthood!\")\n",
    "    if isGraduated:\n",
    "        print(\"Congradulations with your graduation!\")\n",
    "    if hasLicense:\n",
    "        print(\"Happy Driving!\")\n",
    "    else:\n",
    "        print(\"You can't drive\")\n",
    "else:\n",
    "    print(\"Wait till you become 18\")"
   ]
  },
  {
   "cell_type": "code",
   "execution_count": null,
   "metadata": {},
   "outputs": [],
   "source": []
  }
 ],
 "metadata": {
  "kernelspec": {
   "display_name": "Python 3",
   "language": "python",
   "name": "python3"
  },
  "language_info": {
   "codemirror_mode": {
    "name": "ipython",
    "version": 3
   },
   "file_extension": ".py",
   "mimetype": "text/x-python",
   "name": "python",
   "nbconvert_exporter": "python",
   "pygments_lexer": "ipython3",
   "version": "3.7.16"
  }
 },
 "nbformat": 4,
 "nbformat_minor": 4
}
